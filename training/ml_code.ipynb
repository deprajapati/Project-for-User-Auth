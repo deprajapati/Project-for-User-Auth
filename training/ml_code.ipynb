{
 "cells": [
  {
   "cell_type": "code",
   "execution_count": 77,
   "metadata": {},
   "outputs": [],
   "source": [
    "import pandas as pd\n",
    "import seaborn as sns\n",
    "import matplotlib.pyplot as plt"
   ]
  },
  {
   "cell_type": "code",
   "execution_count": 78,
   "metadata": {},
   "outputs": [
    {
     "data": {
      "text/html": [
       "<div>\n",
       "<style scoped>\n",
       "    .dataframe tbody tr th:only-of-type {\n",
       "        vertical-align: middle;\n",
       "    }\n",
       "\n",
       "    .dataframe tbody tr th {\n",
       "        vertical-align: top;\n",
       "    }\n",
       "\n",
       "    .dataframe thead th {\n",
       "        text-align: right;\n",
       "    }\n",
       "</style>\n",
       "<table border=\"1\" class=\"dataframe\">\n",
       "  <thead>\n",
       "    <tr style=\"text-align: right;\">\n",
       "      <th></th>\n",
       "      <th>team</th>\n",
       "      <th>targeted_productivity</th>\n",
       "      <th>smv</th>\n",
       "      <th>wip</th>\n",
       "      <th>over_time</th>\n",
       "      <th>incentive</th>\n",
       "      <th>idle_time</th>\n",
       "      <th>idle_men</th>\n",
       "      <th>no_of_style_change</th>\n",
       "      <th>no_of_workers</th>\n",
       "      <th>...</th>\n",
       "      <th>department_finishing</th>\n",
       "      <th>department_finishing</th>\n",
       "      <th>department_sweing</th>\n",
       "      <th>day_Monday</th>\n",
       "      <th>day_Saturday</th>\n",
       "      <th>day_Sunday</th>\n",
       "      <th>day_Thursday</th>\n",
       "      <th>day_Tuesday</th>\n",
       "      <th>day_Wednesday</th>\n",
       "      <th>actual_productivity</th>\n",
       "    </tr>\n",
       "  </thead>\n",
       "  <tbody>\n",
       "    <tr>\n",
       "      <th>0</th>\n",
       "      <td>9</td>\n",
       "      <td>0.75</td>\n",
       "      <td>3.94</td>\n",
       "      <td>NaN</td>\n",
       "      <td>960</td>\n",
       "      <td>0</td>\n",
       "      <td>0.0</td>\n",
       "      <td>0</td>\n",
       "      <td>0</td>\n",
       "      <td>8.0</td>\n",
       "      <td>...</td>\n",
       "      <td>1</td>\n",
       "      <td>0</td>\n",
       "      <td>0</td>\n",
       "      <td>0</td>\n",
       "      <td>0</td>\n",
       "      <td>0</td>\n",
       "      <td>0</td>\n",
       "      <td>0</td>\n",
       "      <td>1</td>\n",
       "      <td>0.755167</td>\n",
       "    </tr>\n",
       "    <tr>\n",
       "      <th>1</th>\n",
       "      <td>7</td>\n",
       "      <td>0.65</td>\n",
       "      <td>30.10</td>\n",
       "      <td>909.0</td>\n",
       "      <td>7080</td>\n",
       "      <td>0</td>\n",
       "      <td>0.0</td>\n",
       "      <td>0</td>\n",
       "      <td>1</td>\n",
       "      <td>59.0</td>\n",
       "      <td>...</td>\n",
       "      <td>0</td>\n",
       "      <td>0</td>\n",
       "      <td>1</td>\n",
       "      <td>0</td>\n",
       "      <td>0</td>\n",
       "      <td>0</td>\n",
       "      <td>1</td>\n",
       "      <td>0</td>\n",
       "      <td>0</td>\n",
       "      <td>0.535678</td>\n",
       "    </tr>\n",
       "  </tbody>\n",
       "</table>\n",
       "<p>2 rows × 26 columns</p>\n",
       "</div>"
      ],
      "text/plain": [
       "   team  targeted_productivity    smv    wip  over_time  incentive  idle_time  \\\n",
       "0     9                   0.75   3.94    NaN        960          0        0.0   \n",
       "1     7                   0.65  30.10  909.0       7080          0        0.0   \n",
       "\n",
       "   idle_men  no_of_style_change  no_of_workers  ...  department_finishing  \\\n",
       "0         0                   0            8.0  ...                     1   \n",
       "1         0                   1           59.0  ...                     0   \n",
       "\n",
       "   department_finishing   department_sweing  day_Monday  day_Saturday  \\\n",
       "0                      0                  0           0             0   \n",
       "1                      0                  1           0             0   \n",
       "\n",
       "   day_Sunday  day_Thursday  day_Tuesday  day_Wednesday  actual_productivity  \n",
       "0           0             0            0              1             0.755167  \n",
       "1           0             1            0              0             0.535678  \n",
       "\n",
       "[2 rows x 26 columns]"
      ]
     },
     "execution_count": 78,
     "metadata": {},
     "output_type": "execute_result"
    }
   ],
   "source": [
    "df_train = pd.read_csv(r'train_dataset.csv')\n",
    "df_test = pd.read_csv(r'test_dataset.csv')\n",
    "\n",
    "df_train.head(2)"
   ]
  },
  {
   "cell_type": "code",
   "execution_count": 79,
   "metadata": {},
   "outputs": [
    {
     "data": {
      "text/html": [
       "<div>\n",
       "<style scoped>\n",
       "    .dataframe tbody tr th:only-of-type {\n",
       "        vertical-align: middle;\n",
       "    }\n",
       "\n",
       "    .dataframe tbody tr th {\n",
       "        vertical-align: top;\n",
       "    }\n",
       "\n",
       "    .dataframe thead th {\n",
       "        text-align: right;\n",
       "    }\n",
       "</style>\n",
       "<table border=\"1\" class=\"dataframe\">\n",
       "  <thead>\n",
       "    <tr style=\"text-align: right;\">\n",
       "      <th></th>\n",
       "      <th>team</th>\n",
       "      <th>targeted_productivity</th>\n",
       "      <th>smv</th>\n",
       "      <th>wip</th>\n",
       "      <th>over_time</th>\n",
       "      <th>incentive</th>\n",
       "      <th>idle_time</th>\n",
       "      <th>idle_men</th>\n",
       "      <th>no_of_style_change</th>\n",
       "      <th>no_of_workers</th>\n",
       "      <th>...</th>\n",
       "      <th>quarter_Quarter5</th>\n",
       "      <th>department_finishing</th>\n",
       "      <th>department_finishing</th>\n",
       "      <th>department_sweing</th>\n",
       "      <th>day_Monday</th>\n",
       "      <th>day_Saturday</th>\n",
       "      <th>day_Sunday</th>\n",
       "      <th>day_Thursday</th>\n",
       "      <th>day_Tuesday</th>\n",
       "      <th>day_Wednesday</th>\n",
       "    </tr>\n",
       "  </thead>\n",
       "  <tbody>\n",
       "    <tr>\n",
       "      <th>0</th>\n",
       "      <td>12</td>\n",
       "      <td>0.75</td>\n",
       "      <td>4.08</td>\n",
       "      <td>NaN</td>\n",
       "      <td>1080</td>\n",
       "      <td>0</td>\n",
       "      <td>0.0</td>\n",
       "      <td>0</td>\n",
       "      <td>0</td>\n",
       "      <td>9.0</td>\n",
       "      <td>...</td>\n",
       "      <td>1</td>\n",
       "      <td>0</td>\n",
       "      <td>1</td>\n",
       "      <td>0</td>\n",
       "      <td>0</td>\n",
       "      <td>1</td>\n",
       "      <td>0</td>\n",
       "      <td>0</td>\n",
       "      <td>0</td>\n",
       "      <td>0</td>\n",
       "    </tr>\n",
       "    <tr>\n",
       "      <th>1</th>\n",
       "      <td>4</td>\n",
       "      <td>0.75</td>\n",
       "      <td>4.15</td>\n",
       "      <td>NaN</td>\n",
       "      <td>2400</td>\n",
       "      <td>0</td>\n",
       "      <td>0.0</td>\n",
       "      <td>0</td>\n",
       "      <td>0</td>\n",
       "      <td>20.0</td>\n",
       "      <td>...</td>\n",
       "      <td>0</td>\n",
       "      <td>1</td>\n",
       "      <td>0</td>\n",
       "      <td>0</td>\n",
       "      <td>0</td>\n",
       "      <td>0</td>\n",
       "      <td>1</td>\n",
       "      <td>0</td>\n",
       "      <td>0</td>\n",
       "      <td>0</td>\n",
       "    </tr>\n",
       "  </tbody>\n",
       "</table>\n",
       "<p>2 rows × 25 columns</p>\n",
       "</div>"
      ],
      "text/plain": [
       "   team  targeted_productivity   smv  wip  over_time  incentive  idle_time  \\\n",
       "0    12                   0.75  4.08  NaN       1080          0        0.0   \n",
       "1     4                   0.75  4.15  NaN       2400          0        0.0   \n",
       "\n",
       "   idle_men  no_of_style_change  no_of_workers  ...  quarter_Quarter5  \\\n",
       "0         0                   0            9.0  ...                 1   \n",
       "1         0                   0           20.0  ...                 0   \n",
       "\n",
       "   department_finishing  department_finishing   department_sweing  day_Monday  \\\n",
       "0                     0                      1                  0           0   \n",
       "1                     1                      0                  0           0   \n",
       "\n",
       "   day_Saturday  day_Sunday  day_Thursday  day_Tuesday  day_Wednesday  \n",
       "0             1           0             0            0              0  \n",
       "1             0           1             0            0              0  \n",
       "\n",
       "[2 rows x 25 columns]"
      ]
     },
     "execution_count": 79,
     "metadata": {},
     "output_type": "execute_result"
    }
   ],
   "source": [
    "df_test.head(2)"
   ]
  },
  {
   "cell_type": "code",
   "execution_count": null,
   "metadata": {},
   "outputs": [],
   "source": []
  },
  {
   "attachments": {},
   "cell_type": "markdown",
   "metadata": {},
   "source": [
    "# find all categorical columns with numerical type in df_train"
   ]
  },
  {
   "cell_type": "code",
   "execution_count": 80,
   "metadata": {},
   "outputs": [
    {
     "data": {
      "text/plain": [
       "['quarter_Quarter1',\n",
       " 'quarter_Quarter2',\n",
       " 'quarter_Quarter3',\n",
       " 'quarter_Quarter4',\n",
       " 'quarter_Quarter5',\n",
       " 'department_finishing',\n",
       " 'department_finishing ',\n",
       " 'department_sweing',\n",
       " 'day_Monday',\n",
       " 'day_Saturday',\n",
       " 'day_Sunday',\n",
       " 'day_Thursday',\n",
       " 'day_Tuesday',\n",
       " 'day_Wednesday']"
      ]
     },
     "execution_count": 80,
     "metadata": {},
     "output_type": "execute_result"
    }
   ],
   "source": [
    "\n",
    "numerical_categorical_columns = []\n",
    "for col in df_train.columns:\n",
    "    if df_train[col].dtype != 'object' and len(df_train[col].unique()) < 3:\n",
    "        numerical_categorical_columns.append(col)\n",
    "numerical_categorical_columns"
   ]
  },
  {
   "cell_type": "code",
   "execution_count": 81,
   "metadata": {},
   "outputs": [
    {
     "name": "stdout",
     "output_type": "stream",
     "text": [
      "quarter_Quarter1 [1 0]\n",
      "quarter_Quarter2 [0 1]\n",
      "quarter_Quarter3 [0 1]\n",
      "quarter_Quarter4 [0 1]\n",
      "quarter_Quarter5 [0 1]\n",
      "department_finishing [1 0]\n",
      "department_finishing  [0 1]\n",
      "department_sweing [0 1]\n",
      "day_Monday [0 1]\n",
      "day_Saturday [0 1]\n",
      "day_Sunday [0 1]\n",
      "day_Thursday [0 1]\n",
      "day_Tuesday [0 1]\n",
      "day_Wednesday [1 0]\n"
     ]
    }
   ],
   "source": [
    "for col in numerical_categorical_columns:\n",
    "    print(col, df_train[col].unique())"
   ]
  },
  {
   "cell_type": "code",
   "execution_count": 82,
   "metadata": {},
   "outputs": [
    {
     "data": {
      "text/plain": [
       "quarter_Quarter1         int64\n",
       "quarter_Quarter2         int64\n",
       "quarter_Quarter3         int64\n",
       "quarter_Quarter4         int64\n",
       "quarter_Quarter5         int64\n",
       "department_finishing     int64\n",
       "department_finishing     int64\n",
       "department_sweing        int64\n",
       "day_Monday               int64\n",
       "day_Saturday             int64\n",
       "day_Sunday               int64\n",
       "day_Thursday             int64\n",
       "day_Tuesday              int64\n",
       "day_Wednesday            int64\n",
       "dtype: object"
      ]
     },
     "execution_count": 82,
     "metadata": {},
     "output_type": "execute_result"
    }
   ],
   "source": [
    "df_train[numerical_categorical_columns].dtypes"
   ]
  },
  {
   "cell_type": "code",
   "execution_count": 83,
   "metadata": {},
   "outputs": [
    {
     "name": "stdout",
     "output_type": "stream",
     "text": [
      "<class 'pandas.core.frame.DataFrame'>\n",
      "RangeIndex: 1017 entries, 0 to 1016\n",
      "Data columns (total 26 columns):\n",
      " #   Column                 Non-Null Count  Dtype  \n",
      "---  ------                 --------------  -----  \n",
      " 0   team                   1017 non-null   int64  \n",
      " 1   targeted_productivity  1017 non-null   float64\n",
      " 2   smv                    1017 non-null   float64\n",
      " 3   wip                    594 non-null    float64\n",
      " 4   over_time              1017 non-null   int64  \n",
      " 5   incentive              1017 non-null   int64  \n",
      " 6   idle_time              1017 non-null   float64\n",
      " 7   idle_men               1017 non-null   int64  \n",
      " 8   no_of_style_change     1017 non-null   int64  \n",
      " 9   no_of_workers          1017 non-null   float64\n",
      " 10  month                  1017 non-null   int64  \n",
      " 11  quarter_Quarter1       1017 non-null   int64  \n",
      " 12  quarter_Quarter2       1017 non-null   int64  \n",
      " 13  quarter_Quarter3       1017 non-null   int64  \n",
      " 14  quarter_Quarter4       1017 non-null   int64  \n",
      " 15  quarter_Quarter5       1017 non-null   int64  \n",
      " 16  department_finishing   1017 non-null   int64  \n",
      " 17  department_finishing   1017 non-null   int64  \n",
      " 18  department_sweing      1017 non-null   int64  \n",
      " 19  day_Monday             1017 non-null   int64  \n",
      " 20  day_Saturday           1017 non-null   int64  \n",
      " 21  day_Sunday             1017 non-null   int64  \n",
      " 22  day_Thursday           1017 non-null   int64  \n",
      " 23  day_Tuesday            1017 non-null   int64  \n",
      " 24  day_Wednesday          1017 non-null   int64  \n",
      " 25  actual_productivity    1017 non-null   float64\n",
      "dtypes: float64(6), int64(20)\n",
      "memory usage: 206.7 KB\n"
     ]
    }
   ],
   "source": [
    "# column selection\n",
    "df_train.info()"
   ]
  },
  {
   "attachments": {},
   "cell_type": "markdown",
   "metadata": {},
   "source": [
    "# imports"
   ]
  },
  {
   "cell_type": "code",
   "execution_count": 84,
   "metadata": {},
   "outputs": [],
   "source": [
    "from sklearn.preprocessing import MinMaxScaler, PolynomialFeatures\n",
    "from sklearn.impute import SimpleImputer\n",
    "from sklearn.pipeline import Pipeline\n",
    "# all regression algorithms\n",
    "from sklearn.linear_model import LinearRegression, Ridge, Lasso, ElasticNet\n",
    "from sklearn.tree import DecisionTreeRegressor\n",
    "from sklearn.ensemble import RandomForestRegressor, GradientBoostingRegressor, AdaBoostRegressor\n",
    "from sklearn.svm import SVR\n",
    "from sklearn.neighbors import KNeighborsRegressor\n",
    "\n",
    "# all metrics\n",
    "from sklearn.metrics import mean_squared_error, mean_absolute_error, r2_score\n",
    "\n",
    "# overfit and underfit check    \n",
    "from sklearn.model_selection import train_test_split, cross_val_score, GridSearchCV\n",
    "\n",
    "# decomposition\n",
    "from sklearn.decomposition import PCA\n",
    "\n",
    "# feature selection\n",
    "from sklearn.feature_selection import SelectKBest, chi2, f_regression"
   ]
  },
  {
   "cell_type": "code",
   "execution_count": 85,
   "metadata": {},
   "outputs": [
    {
     "name": "stdout",
     "output_type": "stream",
     "text": [
      "(1017, 10)\n"
     ]
    },
    {
     "data": {
      "text/plain": [
       "['team',\n",
       " 'targeted_productivity',\n",
       " 'smv',\n",
       " 'wip',\n",
       " 'idle_men',\n",
       " 'no_of_style_change',\n",
       " 'month',\n",
       " 'quarter_Quarter4',\n",
       " 'quarter_Quarter5',\n",
       " 'department_finishing ']"
      ]
     },
     "execution_count": 85,
     "metadata": {},
     "output_type": "execute_result"
    }
   ],
   "source": [
    "impute = SimpleImputer(strategy='mean')\n",
    "scaler = MinMaxScaler()\n",
    "features = SelectKBest(score_func=f_regression, k=10)\n",
    "X = df_train.drop('actual_productivity', axis=1)\n",
    "y = df_train['actual_productivity']\n",
    "\n",
    "Ximp = impute.fit_transform(X)\n",
    "Xsc = scaler.fit_transform(Ximp)\n",
    "Xfeat = features.fit_transform(Xsc, y)\n",
    "print(Xfeat.shape)\n",
    "# display selected features names\n",
    "X.columns[features.get_support()].tolist()"
   ]
  },
  {
   "attachments": {},
   "cell_type": "markdown",
   "metadata": {},
   "source": [
    "# visualize correlation"
   ]
  },
  {
   "cell_type": "code",
   "execution_count": 86,
   "metadata": {},
   "outputs": [
    {
     "data": {
      "image/png": "[encoded data removed]",
      "text/plain": [
       "<Figure size 2000x1000 with 2 Axes>"
      ]
     },
     "metadata": {},
     "output_type": "display_data"
    }
   ],
   "source": [
    "corr  = df_train.corr()\n",
    "plt.figure(figsize=(20,10))\n",
    "sns.heatmap(corr, annot=True, cmap='coolwarm')\n",
    "plt.show()"
   ]
  },
  {
   "attachments": {},
   "cell_type": "markdown",
   "metadata": {},
   "source": [
    "# display list of correlated columns"
   ]
  },
  {
   "cell_type": "code",
   "execution_count": 87,
   "metadata": {},
   "outputs": [
    {
     "data": {
      "application/vnd.plotly.v1+json": {
       "config": {
        "plotlyServerURL": "https://plot.ly"
       },
       "data": [
        {
         "alignmentgroup": "True",
         "hovertemplate": "x=%{x}<br>y=%{y}<extra></extra>",
         "legendgroup": "",
         "marker": {
          "color": "#636efa",
          "pattern": {
           "shape": ""
          }
         },
         "name": "",
         "offsetgroup": "",
         "orientation": "v",
         "showlegend": false,
         "textposition": "auto",
         "type": "bar",
         "x": [
          "team",
          "targeted_productivity",
          "smv",
          "wip",
          "over_time",
          "incentive",
          "idle_time",
          "idle_men",
          "no_of_style_change",
          "no_of_workers",
          "month",
          "quarter_Quarter1",
          "quarter_Quarter2",
          "quarter_Quarter3",
          "quarter_Quarter4",
          "quarter_Quarter5",
          "department_finishing",
          "department_finishing ",
          "department_sweing",
          "day_Monday",
          "day_Saturday",
          "day_Sunday",
          "day_Thursday",
          "day_Tuesday",
          "day_Wednesday",
          "actual_productivity"
         ],
         "xaxis": "x",
         "y": [
          -0.15570045099213226,
          0.40106878486242786,
          -0.12624307917870164,
          0.12966594498698814,
          -0.033711977131555076,
          0.07492614651304143,
          -0.05836453092794003,
          -0.18678901138470902,
          -0.217396128020008,
          -0.053273182207868565,
          -0.11367481039729942,
          0.08260787438866064,
          0.02018546832355005,
          -0.08674828205600234,
          -0.0898996279809324,
          0.11928358820485943,
          -0.04517336790334782,
          0.1438845035235246,
          -0.08303040183673115,
          -0.004185603232587721,
          0.04521160758544013,
          -0.02424281501492184,
          -0.02973008773231944,
          0.03530071344143894,
          -0.020522642870686843,
          0.9999999999999999
         ],
         "yaxis": "y"
        }
       ],
       "layout": {
        "barmode": "relative",
        "legend": {
         "tracegroupgap": 0
        },
        "margin": {
         "t": 60
        },
        "template": {
         "data": {
          "bar": [
           {
            "error_x": {
             "color": "#2a3f5f"
            },
            "error_y": {
             "color": "#2a3f5f"
            },
            "marker": {
             "line": {
              "color": "#E5ECF6",
              "width": 0.5
             },
             "pattern": {
              "fillmode": "overlay",
              "size": 10,
              "solidity": 0.2
             }
            },
            "type": "bar"
           }
          ],
          "barpolar": [
           {
            "marker": {
             "line": {
              "color": "#E5ECF6",
              "width": 0.5
             },
             "pattern": {
              "fillmode": "overlay",
              "size": 10,
              "solidity": 0.2
             }
            },
            "type": "barpolar"
           }
          ],
          "carpet": [
           {
            "aaxis": {
             "endlinecolor": "#2a3f5f",
             "gridcolor": "white",
             "linecolor": "white",
             "minorgridcolor": "white",
             "startlinecolor": "#2a3f5f"
            },
            "baxis": {
             "endlinecolor": "#2a3f5f",
             "gridcolor": "white",
             "linecolor": "white",
             "minorgridcolor": "white",
             "startlinecolor": "#2a3f5f"
            },
            "type": "carpet"
           }
          ],
          "choropleth": [
           {
            "colorbar": {
             "outlinewidth": 0,
             "ticks": ""
            },
            "type": "choropleth"
           }
          ],
          "contour": [
           {
            "colorbar": {
             "outlinewidth": 0,
             "ticks": ""
            },
            "colorscale": [
             [
              0,
              "#0d0887"
             ],
             [
              0.1111111111111111,
              "#46039f"
             ],
             [
              0.2222222222222222,
              "#7201a8"
             ],
             [
              0.3333333333333333,
              "#9c179e"
             ],
             [
              0.4444444444444444,
              "#bd3786"
             ],
             [
              0.5555555555555556,
              "#d8576b"
             ],
             [
              0.6666666666666666,
              "#ed7953"
             ],
             [
              0.7777777777777778,
              "#fb9f3a"
             ],
             [
              0.8888888888888888,
              "#fdca26"
             ],
             [
              1,
              "#f0f921"
             ]
            ],
            "type": "contour"
           }
          ],
          "contourcarpet": [
           {
            "colorbar": {
             "outlinewidth": 0,
             "ticks": ""
            },
            "type": "contourcarpet"
           }
          ],
          "heatmap": [
           {
            "colorbar": {
             "outlinewidth": 0,
             "ticks": ""
            },
            "colorscale": [
             [
              0,
              "#0d0887"
             ],
             [
              0.1111111111111111,
              "#46039f"
             ],
             [
              0.2222222222222222,
              "#7201a8"
             ],
             [
              0.3333333333333333,
              "#9c179e"
             ],
             [
              0.4444444444444444,
              "#bd3786"
             ],
             [
              0.5555555555555556,
              "#d8576b"
             ],
             [
              0.6666666666666666,
              "#ed7953"
             ],
             [
              0.7777777777777778,
              "#fb9f3a"
             ],
             [
              0.8888888888888888,
              "#fdca26"
             ],
             [
              1,
              "#f0f921"
             ]
            ],
            "type": "heatmap"
           }
          ],
          "heatmapgl": [
           {
            "colorbar": {
             "outlinewidth": 0,
             "ticks": ""
            },
            "colorscale": [
             [
              0,
              "#0d0887"
             ],
             [
              0.1111111111111111,
              "#46039f"
             ],
             [
              0.2222222222222222,
              "#7201a8"
             ],
             [
              0.3333333333333333,
              "#9c179e"
             ],
             [
              0.4444444444444444,
              "#bd3786"
             ],
             [
              0.5555555555555556,
              "#d8576b"
             ],
             [
              0.6666666666666666,
              "#ed7953"
             ],
             [
              0.7777777777777778,
              "#fb9f3a"
             ],
             [
              0.8888888888888888,
              "#fdca26"
             ],
             [
              1,
              "#f0f921"
             ]
            ],
            "type": "heatmapgl"
           }
          ],
          "histogram": [
           {
            "marker": {
             "pattern": {
              "fillmode": "overlay",
              "size": 10,
              "solidity": 0.2
             }
            },
            "type": "histogram"
           }
          ],
          "histogram2d": [
           {
            "colorbar": {
             "outlinewidth": 0,
             "ticks": ""
            },
            "colorscale": [
             [
              0,
              "#0d0887"
             ],
             [
              0.1111111111111111,
              "#46039f"
             ],
             [
              0.2222222222222222,
              "#7201a8"
             ],
             [
              0.3333333333333333,
              "#9c179e"
             ],
             [
              0.4444444444444444,
              "#bd3786"
             ],
             [
              0.5555555555555556,
              "#d8576b"
             ],
             [
              0.6666666666666666,
              "#ed7953"
             ],
             [
              0.7777777777777778,
              "#fb9f3a"
             ],
             [
              0.8888888888888888,
              "#fdca26"
             ],
             [
              1,
              "#f0f921"
             ]
            ],
            "type": "histogram2d"
           }
          ],
          "histogram2dcontour": [
           {
            "colorbar": {
             "outlinewidth": 0,
             "ticks": ""
            },
            "colorscale": [
             [
              0,
              "#0d0887"
             ],
             [
              0.1111111111111111,
              "#46039f"
             ],
             [
              0.2222222222222222,
              "#7201a8"
             ],
             [
              0.3333333333333333,
              "#9c179e"
             ],
             [
              0.4444444444444444,
              "#bd3786"
             ],
             [
              0.5555555555555556,
              "#d8576b"
             ],
             [
              0.6666666666666666,
              "#ed7953"
             ],
             [
              0.7777777777777778,
              "#fb9f3a"
             ],
             [
              0.8888888888888888,
              "#fdca26"
             ],
             [
              1,
              "#f0f921"
             ]
            ],
            "type": "histogram2dcontour"
           }
          ],
          "mesh3d": [
           {
            "colorbar": {
             "outlinewidth": 0,
             "ticks": ""
            },
            "type": "mesh3d"
           }
          ],
          "parcoords": [
           {
            "line": {
             "colorbar": {
              "outlinewidth": 0,
              "ticks": ""
             }
            },
            "type": "parcoords"
           }
          ],
          "pie": [
           {
            "automargin": true,
            "type": "pie"
           }
          ],
          "scatter": [
           {
            "fillpattern": {
             "fillmode": "overlay",
             "size": 10,
             "solidity": 0.2
            },
            "type": "scatter"
           }
          ],
          "scatter3d": [
           {
            "line": {
             "colorbar": {
              "outlinewidth": 0,
              "ticks": ""
             }
            },
            "marker": {
             "colorbar": {
              "outlinewidth": 0,
              "ticks": ""
             }
            },
            "type": "scatter3d"
           }
          ],
          "scattercarpet": [
           {
            "marker": {
             "colorbar": {
              "outlinewidth": 0,
              "ticks": ""
             }
            },
            "type": "scattercarpet"
           }
          ],
          "scattergeo": [
           {
            "marker": {
             "colorbar": {
              "outlinewidth": 0,
              "ticks": ""
             }
            },
            "type": "scattergeo"
           }
          ],
          "scattergl": [
           {
            "marker": {
             "colorbar": {
              "outlinewidth": 0,
              "ticks": ""
             }
            },
            "type": "scattergl"
           }
          ],
          "scattermapbox": [
           {
            "marker": {
             "colorbar": {
              "outlinewidth": 0,
              "ticks": ""
             }
            },
            "type": "scattermapbox"
           }
          ],
          "scatterpolar": [
           {
            "marker": {
             "colorbar": {
              "outlinewidth": 0,
              "ticks": ""
             }
            },
            "type": "scatterpolar"
           }
          ],
          "scatterpolargl": [
           {
            "marker": {
             "colorbar": {
              "outlinewidth": 0,
              "ticks": ""
             }
            },
            "type": "scatterpolargl"
           }
          ],
          "scatterternary": [
           {
            "marker": {
             "colorbar": {
              "outlinewidth": 0,
              "ticks": ""
             }
            },
            "type": "scatterternary"
           }
          ],
          "surface": [
           {
            "colorbar": {
             "outlinewidth": 0,
             "ticks": ""
            },
            "colorscale": [
             [
              0,
              "#0d0887"
             ],
             [
              0.1111111111111111,
              "#46039f"
             ],
             [
              0.2222222222222222,
              "#7201a8"
             ],
             [
              0.3333333333333333,
              "#9c179e"
             ],
             [
              0.4444444444444444,
              "#bd3786"
             ],
             [
              0.5555555555555556,
              "#d8576b"
             ],
             [
              0.6666666666666666,
              "#ed7953"
             ],
             [
              0.7777777777777778,
              "#fb9f3a"
             ],
             [
              0.8888888888888888,
              "#fdca26"
             ],
             [
              1,
              "#f0f921"
             ]
            ],
            "type": "surface"
           }
          ],
          "table": [
           {
            "cells": {
             "fill": {
              "color": "#EBF0F8"
             },
             "line": {
              "color": "white"
             }
            },
            "header": {
             "fill": {
              "color": "#C8D4E3"
             },
             "line": {
              "color": "white"
             }
            },
            "type": "table"
           }
          ]
         },
         "layout": {
          "annotationdefaults": {
           "arrowcolor": "#2a3f5f",
           "arrowhead": 0,
           "arrowwidth": 1
          },
          "autotypenumbers": "strict",
          "coloraxis": {
           "colorbar": {
            "outlinewidth": 0,
            "ticks": ""
           }
          },
          "colorscale": {
           "diverging": [
            [
             0,
             "#8e0152"
            ],
            [
             0.1,
             "#c51b7d"
            ],
            [
             0.2,
             "#de77ae"
            ],
            [
             0.3,
             "#f1b6da"
            ],
            [
             0.4,
             "#fde0ef"
            ],
            [
             0.5,
             "#f7f7f7"
            ],
            [
             0.6,
             "#e6f5d0"
            ],
            [
             0.7,
             "#b8e186"
            ],
            [
             0.8,
             "#7fbc41"
            ],
            [
             0.9,
             "#4d9221"
            ],
            [
             1,
             "#276419"
            ]
           ],
           "sequential": [
            [
             0,
             "#0d0887"
            ],
            [
             0.1111111111111111,
             "#46039f"
            ],
            [
             0.2222222222222222,
             "#7201a8"
            ],
            [
             0.3333333333333333,
             "#9c179e"
            ],
            [
             0.4444444444444444,
             "#bd3786"
            ],
            [
             0.5555555555555556,
             "#d8576b"
            ],
            [
             0.6666666666666666,
             "#ed7953"
            ],
            [
             0.7777777777777778,
             "#fb9f3a"
            ],
            [
             0.8888888888888888,
             "#fdca26"
            ],
            [
             1,
             "#f0f921"
            ]
           ],
           "sequentialminus": [
            [
             0,
             "#0d0887"
            ],
            [
             0.1111111111111111,
             "#46039f"
            ],
            [
             0.2222222222222222,
             "#7201a8"
            ],
            [
             0.3333333333333333,
             "#9c179e"
            ],
            [
             0.4444444444444444,
             "#bd3786"
            ],
            [
             0.5555555555555556,
             "#d8576b"
            ],
            [
             0.6666666666666666,
             "#ed7953"
            ],
            [
             0.7777777777777778,
             "#fb9f3a"
            ],
            [
             0.8888888888888888,
             "#fdca26"
            ],
            [
             1,
             "#f0f921"
            ]
           ]
          },
          "colorway": [
           "#636efa",
           "#EF553B",
           "#00cc96",
           "#ab63fa",
           "#FFA15A",
           "#19d3f3",
           "#FF6692",
           "#B6E880",
           "#FF97FF",
           "#FECB52"
          ],
          "font": {
           "color": "#2a3f5f"
          },
          "geo": {
           "bgcolor": "white",
           "lakecolor": "white",
           "landcolor": "#E5ECF6",
           "showlakes": true,
           "showland": true,
           "subunitcolor": "white"
          },
          "hoverlabel": {
           "align": "left"
          },
          "hovermode": "closest",
          "mapbox": {
           "style": "light"
          },
          "paper_bgcolor": "white",
          "plot_bgcolor": "#E5ECF6",
          "polar": {
           "angularaxis": {
            "gridcolor": "white",
            "linecolor": "white",
            "ticks": ""
           },
           "bgcolor": "#E5ECF6",
           "radialaxis": {
            "gridcolor": "white",
            "linecolor": "white",
            "ticks": ""
           }
          },
          "scene": {
           "xaxis": {
            "backgroundcolor": "#E5ECF6",
            "gridcolor": "white",
            "gridwidth": 2,
            "linecolor": "white",
            "showbackground": true,
            "ticks": "",
            "zerolinecolor": "white"
           },
           "yaxis": {
            "backgroundcolor": "#E5ECF6",
            "gridcolor": "white",
            "gridwidth": 2,
            "linecolor": "white",
            "showbackground": true,
            "ticks": "",
            "zerolinecolor": "white"
           },
           "zaxis": {
            "backgroundcolor": "#E5ECF6",
            "gridcolor": "white",
            "gridwidth": 2,
            "linecolor": "white",
            "showbackground": true,
            "ticks": "",
            "zerolinecolor": "white"
           }
          },
          "shapedefaults": {
           "line": {
            "color": "#2a3f5f"
           }
          },
          "ternary": {
           "aaxis": {
            "gridcolor": "white",
            "linecolor": "white",
            "ticks": ""
           },
           "baxis": {
            "gridcolor": "white",
            "linecolor": "white",
            "ticks": ""
           },
           "bgcolor": "#E5ECF6",
           "caxis": {
            "gridcolor": "white",
            "linecolor": "white",
            "ticks": ""
           }
          },
          "title": {
           "x": 0.05
          },
          "xaxis": {
           "automargin": true,
           "gridcolor": "white",
           "linecolor": "white",
           "ticks": "",
           "title": {
            "standoff": 15
           },
           "zerolinecolor": "white",
           "zerolinewidth": 2
          },
          "yaxis": {
           "automargin": true,
           "gridcolor": "white",
           "linecolor": "white",
           "ticks": "",
           "title": {
            "standoff": 15
           },
           "zerolinecolor": "white",
           "zerolinewidth": 2
          }
         }
        },
        "xaxis": {
         "anchor": "y",
         "domain": [
          0,
          1
         ],
         "title": {
          "text": "x"
         }
        },
        "yaxis": {
         "anchor": "x",
         "domain": [
          0,
          1
         ],
         "title": {
          "text": "y"
         }
        }
       }
      }
     },
     "metadata": {},
     "output_type": "display_data"
    },
    {
     "data": {
      "application/vnd.plotly.v1+json": {
       "config": {
        "plotlyServerURL": "https://plot.ly"
       },
       "data": [
        {
         "alignmentgroup": "True",
         "bingroup": "x",
         "hovertemplate": "actual_productivity=%{x}<br>count=%{y}<extra></extra>",
         "legendgroup": "",
         "marker": {
          "color": "#636efa",
          "pattern": {
           "shape": ""
          }
         },
         "name": "",
         "nbinsx": 100,
         "offsetgroup": "",
         "orientation": "v",
         "showlegend": false,
         "type": "histogram",
         "x": [
          0.755166667,
          0.5356779660000001,
          0.8208333329999999,
          0.581130952,
          0.7900032359999999,
          0.875390625,
          0.8002738290000001,
          0.9425,
          0.7999632179999999,
          0.8004019609999999,
          0.921703704,
          0.750473684,
          0.400332792,
          0.8004019609999999,
          0.7999632179999999,
          0.397743056,
          0.8004019609999999,
          0.681060606,
          0.7005884059999999,
          0.65024031,
          0.8005704920000001,
          0.258,
          0.85011396,
          1.033570076,
          0.800537143,
          1.000065789,
          0.606912879,
          0.800578947,
          0.850532143,
          0.8002467529999999,
          0.902222222,
          0.662255892,
          0.750545455,
          0.8002460109999999,
          0.7866,
          0.471108491,
          0.650596491,
          0.8001171029999999,
          0.846950758,
          0.671875,
          0.800149813,
          0.4078125,
          0.664875,
          1.000230409,
          0.483333333,
          0.8581439390000001,
          0.8002467529999999,
          0.902962963,
          0.8865,
          1.108125,
          0.5005673079999999,
          0.8133090279999999,
          0.7003620690000001,
          0.901262626,
          0.531666667,
          0.8174242420000001,
          0.750356125,
          0.821666667,
          0.800128721,
          0.7004241379999999,
          0.8003437659999999,
          0.742901235,
          0.70061442,
          0.850502311,
          0.700386207,
          0.800128721,
          0.900477825,
          0.657083333,
          0.850136766,
          0.750050847,
          0.850136766,
          0.929277778,
          0.60128,
          0.406354167,
          0.618361111,
          0.8003186440000001,
          0.749987124,
          0.939513889,
          1.000230409,
          0.600291767,
          0.440375,
          0.8004019609999999,
          0.500801724,
          0.800746552,
          0.812625,
          0.755208333,
          0.800030199,
          0.90047076,
          0.755166667,
          0.8004019609999999,
          0.495416667,
          0.505128205,
          0.75065101,
          0.750062751,
          0.7504372690000001,
          0.966781346,
          0.7506079999999999,
          0.7555555559999999,
          0.600099145,
          0.6074166670000001,
          0.915229167,
          0.861875,
          0.735984848,
          0.700069811,
          0.8755555559999999,
          0.75065101,
          0.8005704920000001,
          0.90014152,
          0.899,
          0.70043672,
          0.750031447,
          0.8002467529999999,
          0.800516667,
          0.758229167,
          0.700135088,
          0.936355556,
          0.966759259,
          0.912766667,
          0.8503451329999999,
          0.86037037,
          0.700058333,
          0.700614035,
          0.906666667,
          0.786631944,
          0.778222222,
          0.650148148,
          0.5503497079999999,
          0.603432184,
          0.522844828,
          0.609583333,
          0.7005089290000001,
          0.971866667,
          0.8035416670000001,
          0.850136766,
          0.650962281,
          0.598627451,
          0.799975862,
          0.800346445,
          0.500025069,
          0.805555556,
          0.376597222,
          0.726933333,
          0.350301724,
          0.9005562770000001,
          0.7879999999999999,
          0.91375,
          0.750395513,
          0.800076522,
          0.4470833329999999,
          0.6508348079999999,
          0.7505931029999999,
          0.7070459020000001,
          0.77815,
          0.957638889,
          0.4108333329999999,
          0.753097531,
          0.949981609,
          0.598792339,
          0.7002788459999999,
          0.910378788,
          0.800980392,
          0.5907407410000001,
          0.927541667,
          0.681060606,
          0.800612676,
          0.8383838379999999,
          0.850520588,
          0.630402924,
          0.590617284,
          0.637711864,
          0.504596491,
          0.549791667,
          0.2494166669999999,
          0.350301724,
          0.850136766,
          0.328131579,
          0.9008,
          0.937242424,
          0.929074074,
          0.80003139,
          0.2513992539999999,
          0.651007071,
          0.850502311,
          0.9002157159999999,
          0.722568627,
          0.750254867,
          0.712626263,
          0.75065101,
          0.750395513,
          0.639867424,
          0.690182815,
          0.676666667,
          0.75024303,
          0.8,
          0.5920833329999999,
          0.850312684,
          0.7975,
          0.638614379,
          0.4879199999999999,
          0.9456,
          0.271875,
          0.612517157,
          0.626822917,
          0.6645833329999999,
          0.902962963,
          0.800513307,
          0.850136766,
          0.879714482,
          0.6002298460000001,
          0.700618234,
          0.773333333,
          1.000457471,
          0.700888203,
          0.415172414,
          0.2565,
          0.890604167,
          0.960625,
          0.80007657,
          0.934607438,
          0.8004019609999999,
          0.611140537,
          0.800779018,
          0.5619791670000001,
          0.600436426,
          0.800181818,
          0.8003186440000001,
          0.750206897,
          0.6181818179999999,
          0.7211269570000001,
          1.000230409,
          0.664875,
          0.9918,
          0.70043672,
          0.800594466,
          0.750473684,
          0.800980392,
          1.001416667,
          0.8002378379999999,
          0.463194444,
          0.668087121,
          0.681060606,
          0.827186544,
          0.750371895,
          0.8001409690000001,
          0.629416667,
          0.779791667,
          0.83375,
          0.850252525,
          0.850502311,
          0.8009096090000001,
          0.2830544869999999,
          0.750068049,
          0.850610526,
          1.000344928,
          0.500801724,
          0.60059761,
          0.850502311,
          1.033155556,
          0.912766667,
          0.35063299,
          0.4108333329999999,
          0.39875,
          0.8527935609999999,
          0.658541667,
          0.4108333329999999,
          0.649662222,
          1.000230409,
          0.699965217,
          0.950185965,
          0.7921041670000001,
          0.700184577,
          0.460578704,
          0.999995238,
          0.971866667,
          0.705576584,
          0.705916667,
          0.477291667,
          0.900129762,
          0.8003027909999999,
          0.7505931029999999,
          1.059621212,
          0.800333333,
          0.793844697,
          0.715333333,
          0.350706422,
          0.864583333,
          0.726933333,
          0.628882576,
          0.800436542,
          0.8,
          0.75065101,
          0.800161172,
          0.921703704,
          0.850045,
          0.900833333,
          0.750406233,
          0.900147246,
          0.7715833329999999,
          0.8005660920000001,
          0.353259649,
          0.800034503,
          0.35020649,
          0.828295455,
          0.750050847,
          0.974621212,
          0.989,
          0.66237931,
          1.100483918,
          0.26369382,
          0.956270833,
          0.541517857,
          0.8915555559999999,
          0.441392,
          0.850136766,
          0.921604938,
          0.700206125,
          0.470769231,
          0.536901754,
          0.8616790120000001,
          0.625625,
          0.7967555559999999,
          0.8004019609999999,
          0.85695,
          0.9003211059999999,
          0.600224189,
          0.7500412009999999,
          0.82680303,
          0.800808642,
          0.750503571,
          0.800128721,
          0.868888889,
          0.891723485,
          0.7999828529999999,
          0.750395513,
          0.750395513,
          0.585315789,
          0.7006596490000001,
          0.601037091,
          0.625625,
          0.7002464909999999,
          0.7000637959999999,
          0.750770115,
          0.648106061,
          0.955151515,
          0.850136766,
          0.8004019609999999,
          0.700354545,
          0.902916667,
          0.7002111109999999,
          0.8174242420000001,
          0.4041449279999999,
          0.714410494,
          0.87,
          0.85007069,
          0.700422,
          0.800594466,
          0.689299242,
          0.750450658,
          0.970075758,
          0.850502311,
          0.560625,
          0.800125,
          0.850364583,
          0.700556897,
          0.837594697,
          0.6895,
          0.951420455,
          0.699965217,
          0.5046875,
          0.750212553,
          0.979527778,
          0.988636364,
          0.800473729,
          0.337973485,
          0.8004019609999999,
          0.710125,
          0.800415742,
          0.6253125,
          0.966759259,
          0.700516224,
          0.329545455,
          0.8002614859999999,
          0.755486111,
          0.800594466,
          0.283958333,
          0.971866667,
          0.800250962,
          0.980909091,
          0.700170388,
          0.8008888890000001,
          0.800489676,
          0.700170388,
          0.673083333,
          0.845458333,
          0.6225,
          0.650416734,
          0.7071111109999999,
          0.930416667,
          0.800162602,
          0.7506079999999999,
          0.750068049,
          0.750057359,
          0.34998951,
          0.7504259259999999,
          0.332359307,
          0.8003819440000001,
          0.466821212,
          0.7003620690000001,
          0.980984848,
          0.8004972459999999,
          0.850136766,
          0.8004019609999999,
          0.800024932,
          0.700134038,
          1.000018551,
          0.805909091,
          1.000602279,
          0.971866667,
          1.000230409,
          0.936496212,
          0.800534979,
          0.700603448,
          0.475718391,
          0.8643425929999999,
          0.75065101,
          0.80037492,
          0.802243319,
          0.978525641,
          0.902916667,
          0.750027778,
          0.700170388,
          0.8001441440000001,
          0.75075,
          0.549969429,
          0.8002467529999999,
          0.750068049,
          0.670075758,
          0.800128721,
          0.827147436,
          0.940625,
          0.936861111,
          0.950185965,
          0.750651724,
          0.650040783,
          1.000018551,
          0.850502311,
          0.697708333,
          0.7999632179999999,
          0.8010282129999999,
          0.8092361109999999,
          0.653431373,
          0.92885,
          1.000230409,
          0.332146465,
          0.850223776,
          0.850136766,
          0.961784512,
          0.6500440679999999,
          0.768847222,
          0.600125217,
          0.800034024,
          0.840533333,
          0.845833333,
          0.661837121,
          0.8960227270000001,
          0.900129762,
          0.58,
          0.800358775,
          0.8,
          0.448722222,
          1.000230409,
          0.805909091,
          0.750050847,
          0.60041361,
          0.636049383,
          0.8006843659999999,
          0.303574468,
          0.692045455,
          0.35003125,
          0.915766667,
          0.8,
          0.912037037,
          0.985,
          0.750356125,
          0.500547544,
          0.325,
          0.8001171029999999,
          0.890604167,
          0.683550607,
          0.750646667,
          0.622828125,
          0.700060345,
          0.750797009,
          0.700029771,
          0.950438596,
          0.8503620690000001,
          0.800393224,
          0.403242161,
          0.452012539,
          0.800947475,
          0.7005730990000001,
          0.75065101,
          0.688017677,
          0.8705808079999999,
          0.800071839,
          0.700095563,
          0.600528571,
          0.9008,
          0.271875,
          0.900135693,
          0.604166667,
          0.676666667,
          0.952020202,
          0.7502939390000001,
          0.750646667,
          0.8000235109999999,
          0.8300625,
          0.72830303,
          0.7501407409999999,
          0.971866667,
          0.7500983509999999,
          0.52118,
          0.2640625,
          0.977555556,
          0.75024303,
          0.24625,
          0.750395513,
          0.672140805,
          0.688557555,
          0.8000150090000001,
          0.999533333,
          0.582045455,
          0.7504278259999999,
          0.7004808309999999,
          0.560625,
          0.393548851,
          0.999995238,
          0.700079032,
          0.973796791,
          0.8001171029999999,
          0.966666667,
          0.864583333,
          0.6000287360000001,
          0.700422,
          0.800313433,
          0.750648148,
          0.50012336,
          0.700618234,
          0.7001647059999999,
          0.8001171029999999,
          0.812625,
          0.994270833,
          0.309333333,
          0.884,
          0.750395513,
          0.7504,
          0.800020563,
          0.8842613640000001,
          0.600710606,
          0.260978788,
          0.800312375,
          0.4509375,
          0.87115,
          0.302117347,
          0.90063244,
          0.759228395,
          0.687555556,
          0.850502311,
          0.857916667,
          0.7005135659999999,
          0.8004019609999999,
          0.753525,
          0.7999828529999999,
          0.8213541670000001,
          0.8211125,
          0.8003437659999999,
          0.667604167,
          0.60017284,
          0.93532197,
          1.000018551,
          0.782447917,
          0.80007657,
          0.272,
          0.350301724,
          0.8001919890000001,
          0.700614035,
          0.8004019609999999,
          0.8501818179999999,
          0.800309211,
          0.850502311,
          0.750395513,
          0.653598485,
          0.537919444,
          0.590435606,
          0.646306818,
          0.750162367,
          0.805909091,
          0.235795455,
          0.7005052629999999,
          0.80575,
          0.922839506,
          0.700398148,
          0.6283333329999999,
          0.3715625,
          0.8721,
          0.8002738290000001,
          0.30277037,
          0.8915555559999999,
          0.955791667,
          0.881575,
          0.667329545,
          0.800071839,
          0.268214286,
          0.750068049,
          0.8004019609999999,
          0.408960345,
          0.80035194,
          0.4925,
          0.800534483,
          0.311207464,
          0.809564394,
          0.327407407,
          0.3715625,
          0.6825,
          0.7006120690000001,
          0.500258046,
          0.507903226,
          0.500720126,
          0.700106061,
          0.578314394,
          0.773333333,
          0.7005185190000001,
          0.7507273259999999,
          0.6283333329999999,
          0.662270115,
          0.5375,
          0.940701058,
          0.750079323,
          0.650130952,
          0.8133712120000001,
          0.7002507840000001,
          0.361071429,
          0.800643806,
          0.976979167,
          0.670075758,
          0.850569492,
          0.436326389,
          0.499998888,
          0.999924242,
          0.845458333,
          0.930416667,
          0.8003863640000001,
          0.6000406779999999,
          0.971866667,
          0.650134,
          0.850502311,
          0.734645833,
          0.8002467529999999,
          0.6502434970000001,
          0.800594466,
          0.600143365,
          0.750027778,
          0.433263158,
          0.785864198,
          0.99485,
          0.7500318979999999,
          0.9003211059999999,
          0.650066445,
          0.650421429,
          0.463403955,
          0.6840277779999999,
          0.75053268,
          0.6003696860000001,
          0.8008,
          0.700623,
          0.5006109089999999,
          0.586041667,
          0.8008063059999999,
          0.750037968,
          0.683806818,
          0.7004241379999999,
          0.8842613640000001,
          0.75065101,
          0.2380416669999999,
          0.8007017540000001,
          0.763375,
          0.7503921570000001,
          0.804416667,
          0.409545455,
          0.8002460109999999,
          0.750517565,
          0.812625,
          0.800128721,
          0.600982906,
          0.411553571,
          1.000230409,
          0.800034503,
          0.675568182,
          0.800071839,
          0.850502311,
          0.971866667,
          0.85695,
          0.6000705129999999,
          0.7002464909999999,
          0.800594466,
          0.931645833,
          0.750473684,
          0.650223718,
          0.8004705129999999,
          0.8319375,
          0.8999840579999999,
          0.699984417,
          0.888686869,
          0.8001158190000001,
          1.050666667,
          0.791458333,
          0.75065101,
          0.329964879,
          0.800076522,
          0.912202112,
          0.8001158190000001,
          0.700251773,
          0.800128721,
          0.681060606,
          0.971866667,
          0.800598058,
          0.700632768,
          0.910378788,
          0.295307738,
          0.951420455,
          0.6824330359999999,
          0.557252451,
          0.8581439390000001,
          1.000018551,
          0.500117677,
          0.8208333329999999,
          0.8001171029999999,
          0.700236601,
          0.9025,
          0.500035345,
          0.899166667,
          0.5403125,
          0.905454545,
          0.8213541670000001,
          0.590617284,
          0.59114168,
          0.271875,
          0.800842424,
          0.81640625,
          0.977272727,
          0.800260821,
          0.800279693,
          0.800125,
          0.8004019609999999,
          0.800725314,
          0.586465465,
          0.750716981,
          0.6002397660000001,
          0.800137255,
          0.919954545,
          0.550403509,
          0.7953875,
          0.75024303,
          0.8004019609999999,
          0.700603448,
          0.8002467529999999,
          0.961059028,
          1.000402055,
          0.853666667,
          1.000230409,
          0.432122899,
          0.8003229359999999,
          0.804640152,
          0.950625,
          0.473134796,
          0.800020563,
          0.928680556,
          0.8606534090000001,
          0.712205247,
          0.750797009,
          0.971866667,
          0.850084211,
          0.7,
          0.6645833329999999,
          0.417916667,
          0.366053523,
          0.920236905,
          0.449964912,
          0.6503071429999999,
          0.8192708329999999,
          0.602,
          0.7502833329999999,
          0.795416667,
          0.823555556,
          0.7006052629999999,
          0.800137255,
          0.64025,
          0.8003186440000001,
          0.350066986,
          0.412119835,
          0.741,
          0.7332777779999999,
          0.8004019609999999,
          0.8003437659999999,
          0.4108333329999999,
          0.307501459,
          0.7000941559999999,
          0.758173077,
          0.700422,
          0.453125,
          0.233705476,
          0.800034503,
          0.8004019609999999,
          0.800980392,
          1.000344928,
          0.601278409,
          0.987880435,
          0.553333333,
          0.715766667,
          0.92,
          0.800034503,
          0.528125,
          0.378895152,
          0.850502311,
          0.8004019609999999,
          0.919905405,
          0.526810345,
          1.057962963,
          0.656666667,
          0.545657673,
          0.900144811,
          0.760833333,
          0.800259023,
          0.877552083,
          0.899111111,
          0.970816667,
          0.621971751,
          0.8581439390000001,
          0.6346666670000001,
          0.350416667,
          0.600291767,
          0.656666667,
          0.8004019609999999,
          0.963699495,
          0.98719697,
          0.660683293,
          0.7005052629999999,
          0.850446154,
          0.8003552079999999,
          0.64998056,
          0.259375,
          0.7005404409999999,
          0.902222222,
          0.955151515,
          0.605208333,
          0.994375,
          0.893066667,
          0.8995555559999999,
          0.8450694440000001,
          0.7004598890000001,
          0.3458333329999999,
          0.80003139,
          0.964106061,
          0.945555556,
          1.0006713040000002,
          0.753683478,
          0.650416734,
          0.8096401520000001,
          0.700019883,
          0.8581439390000001,
          0.880530303,
          0.664875,
          0.800434622,
          0.750344828,
          0.465757576,
          0.441041667,
          0.313852814,
          0.247316017,
          0.838666667,
          0.8136111109999999,
          0.651515152,
          0.610208333,
          0.850170115,
          0.700422,
          0.850136766,
          0.75885,
          0.7962083329999999,
          0.393548851,
          0.597348485,
          0.600447507,
          0.7999632179999999,
          1.000230409,
          0.58,
          0.8002738290000001,
          0.769292929,
          0.8,
          0.4999803339999999,
          0.870083333,
          0.8865,
          0.594871795,
          0.7999632179999999,
          0.3564583329999999,
          0.900135693,
          0.962016667,
          0.768847222,
          0.4676932689999999,
          0.925643939,
          0.8171022729999999,
          0.750648148,
          0.285333333,
          0.874027778,
          0.8504156279999999,
          0.908080808,
          0.911589744,
          0.850312684,
          0.921604938,
          0.8003863640000001,
          0.8002372879999999,
          0.8002738290000001,
          0.794566667,
          0.971866667,
          0.997792208,
          0.3555344829999999,
          0.700051852,
          0.7009035709999999,
          0.6283333329999999,
          0.850410511,
          0.800263218,
          0.950185965,
          0.7503921570000001,
          0.750347333,
          0.900129762,
          0.825444444,
          0.7018125,
          0.676666667,
          0.810111111,
          0.700623,
          0.261174242,
          0.910521886,
          0.639867424,
          0.8504268909999999,
          0.749188312,
          0.656763743,
          0.578314394,
          1.02,
          0.750371895,
          0.314166667,
          0.940725424,
          0.7715833329999999,
          0.942213805,
          0.800107143,
          0.700058333,
          0.582301029,
          0.8003437659999999,
          0.929183333,
          0.505888889,
          1.05028058,
          0.864583333,
          0.750356125,
          0.947689394,
          0.576460393,
          0.4078125,
          0.7503484570000001,
          0.7005416999999999,
          0.779791667,
          0.579511494,
          0.8113888890000001,
          0.80000295,
          0.7002507840000001,
          0.950185965,
          0.9008,
          0.8001171029999999,
          0.725625,
          0.8004019609999999,
          0.456875,
          0.7500578509999999,
          0.6265777779999999,
          1.000446018,
          0.895454545,
          0.75065101,
          1.0115625,
          0.850532143,
          0.8005110679999999,
          0.54175,
          0.567377778,
          0.885925926,
          0.673245283,
          0.36871875,
          0.8581439390000001,
          0.8007017540000001,
          0.700256795,
          0.520237649,
          0.841,
          0.700236601,
          0.7501769909999999,
          0.902962963,
          0.991388889,
          0.394722222,
          0.893663194,
          0.8471,
          0.8357575759999999,
          0.950185965,
          0.70009573,
          0.5156060610000001,
          0.385791667,
          0.850136766,
          0.700170388,
          0.5659722220000001,
          1.096633333,
          0.7999632179999999,
          0.90047076,
          0.800020563,
          0.497885057,
          0.7505931029999999,
          0.800137255,
          0.900129762,
          0.7226388890000001
         ],
         "xaxis": "x",
         "yaxis": "y"
        }
       ],
       "layout": {
        "barmode": "relative",
        "legend": {
         "tracegroupgap": 0
        },
        "template": {
         "data": {
          "bar": [
           {
            "error_x": {
             "color": "#2a3f5f"
            },
            "error_y": {
             "color": "#2a3f5f"
            },
            "marker": {
             "line": {
              "color": "#E5ECF6",
              "width": 0.5
             },
             "pattern": {
              "fillmode": "overlay",
              "size": 10,
              "solidity": 0.2
             }
            },
            "type": "bar"
           }
          ],
          "barpolar": [
           {
            "marker": {
             "line": {
              "color": "#E5ECF6",
              "width": 0.5
             },
             "pattern": {
              "fillmode": "overlay",
              "size": 10,
              "solidity": 0.2
             }
            },
            "type": "barpolar"
           }
          ],
          "carpet": [
           {
            "aaxis": {
             "endlinecolor": "#2a3f5f",
             "gridcolor": "white",
             "linecolor": "white",
             "minorgridcolor": "white",
             "startlinecolor": "#2a3f5f"
            },
            "baxis": {
             "endlinecolor": "#2a3f5f",
             "gridcolor": "white",
             "linecolor": "white",
             "minorgridcolor": "white",
             "startlinecolor": "#2a3f5f"
            },
            "type": "carpet"
           }
          ],
          "choropleth": [
           {
            "colorbar": {
             "outlinewidth": 0,
             "ticks": ""
            },
            "type": "choropleth"
           }
          ],
          "contour": [
           {
            "colorbar": {
             "outlinewidth": 0,
             "ticks": ""
            },
            "colorscale": [
             [
              0,
              "#0d0887"
             ],
             [
              0.1111111111111111,
              "#46039f"
             ],
             [
              0.2222222222222222,
              "#7201a8"
             ],
             [
              0.3333333333333333,
              "#9c179e"
             ],
             [
              0.4444444444444444,
              "#bd3786"
             ],
             [
              0.5555555555555556,
              "#d8576b"
             ],
             [
              0.6666666666666666,
              "#ed7953"
             ],
             [
              0.7777777777777778,
              "#fb9f3a"
             ],
             [
              0.8888888888888888,
              "#fdca26"
             ],
             [
              1,
              "#f0f921"
             ]
            ],
            "type": "contour"
           }
          ],
          "contourcarpet": [
           {
            "colorbar": {
             "outlinewidth": 0,
             "ticks": ""
            },
            "type": "contourcarpet"
           }
          ],
          "heatmap": [
           {
            "colorbar": {
             "outlinewidth": 0,
             "ticks": ""
            },
            "colorscale": [
             [
              0,
              "#0d0887"
             ],
             [
              0.1111111111111111,
              "#46039f"
             ],
             [
              0.2222222222222222,
              "#7201a8"
             ],
             [
              0.3333333333333333,
              "#9c179e"
             ],
             [
              0.4444444444444444,
              "#bd3786"
             ],
             [
              0.5555555555555556,
              "#d8576b"
             ],
             [
              0.6666666666666666,
              "#ed7953"
             ],
             [
              0.7777777777777778,
              "#fb9f3a"
             ],
             [
              0.8888888888888888,
              "#fdca26"
             ],
             [
              1,
              "#f0f921"
             ]
            ],
            "type": "heatmap"
           }
          ],
          "heatmapgl": [
           {
            "colorbar": {
             "outlinewidth": 0,
             "ticks": ""
            },
            "colorscale": [
             [
              0,
              "#0d0887"
             ],
             [
              0.1111111111111111,
              "#46039f"
             ],
             [
              0.2222222222222222,
              "#7201a8"
             ],
             [
              0.3333333333333333,
              "#9c179e"
             ],
             [
              0.4444444444444444,
              "#bd3786"
             ],
             [
              0.5555555555555556,
              "#d8576b"
             ],
             [
              0.6666666666666666,
              "#ed7953"
             ],
             [
              0.7777777777777778,
              "#fb9f3a"
             ],
             [
              0.8888888888888888,
              "#fdca26"
             ],
             [
              1,
              "#f0f921"
             ]
            ],
            "type": "heatmapgl"
           }
          ],
          "histogram": [
           {
            "marker": {
             "pattern": {
              "fillmode": "overlay",
              "size": 10,
              "solidity": 0.2
             }
            },
            "type": "histogram"
           }
          ],
          "histogram2d": [
           {
            "colorbar": {
             "outlinewidth": 0,
             "ticks": ""
            },
            "colorscale": [
             [
              0,
              "#0d0887"
             ],
             [
              0.1111111111111111,
              "#46039f"
             ],
             [
              0.2222222222222222,
              "#7201a8"
             ],
             [
              0.3333333333333333,
              "#9c179e"
             ],
             [
              0.4444444444444444,
              "#bd3786"
             ],
             [
              0.5555555555555556,
              "#d8576b"
             ],
             [
              0.6666666666666666,
              "#ed7953"
             ],
             [
              0.7777777777777778,
              "#fb9f3a"
             ],
             [
              0.8888888888888888,
              "#fdca26"
             ],
             [
              1,
              "#f0f921"
             ]
            ],
            "type": "histogram2d"
           }
          ],
          "histogram2dcontour": [
           {
            "colorbar": {
             "outlinewidth": 0,
             "ticks": ""
            },
            "colorscale": [
             [
              0,
              "#0d0887"
             ],
             [
              0.1111111111111111,
              "#46039f"
             ],
             [
              0.2222222222222222,
              "#7201a8"
             ],
             [
              0.3333333333333333,
              "#9c179e"
             ],
             [
              0.4444444444444444,
              "#bd3786"
             ],
             [
              0.5555555555555556,
              "#d8576b"
             ],
             [
              0.6666666666666666,
              "#ed7953"
             ],
             [
              0.7777777777777778,
              "#fb9f3a"
             ],
             [
              0.8888888888888888,
              "#fdca26"
             ],
             [
              1,
              "#f0f921"
             ]
            ],
            "type": "histogram2dcontour"
           }
          ],
          "mesh3d": [
           {
            "colorbar": {
             "outlinewidth": 0,
             "ticks": ""
            },
            "type": "mesh3d"
           }
          ],
          "parcoords": [
           {
            "line": {
             "colorbar": {
              "outlinewidth": 0,
              "ticks": ""
             }
            },
            "type": "parcoords"
           }
          ],
          "pie": [
           {
            "automargin": true,
            "type": "pie"
           }
          ],
          "scatter": [
           {
            "fillpattern": {
             "fillmode": "overlay",
             "size": 10,
             "solidity": 0.2
            },
            "type": "scatter"
           }
          ],
          "scatter3d": [
           {
            "line": {
             "colorbar": {
              "outlinewidth": 0,
              "ticks": ""
             }
            },
            "marker": {
             "colorbar": {
              "outlinewidth": 0,
              "ticks": ""
             }
            },
            "type": "scatter3d"
           }
          ],
          "scattercarpet": [
           {
            "marker": {
             "colorbar": {
              "outlinewidth": 0,
              "ticks": ""
             }
            },
            "type": "scattercarpet"
           }
          ],
          "scattergeo": [
           {
            "marker": {
             "colorbar": {
              "outlinewidth": 0,
              "ticks": ""
             }
            },
            "type": "scattergeo"
           }
          ],
          "scattergl": [
           {
            "marker": {
             "colorbar": {
              "outlinewidth": 0,
              "ticks": ""
             }
            },
            "type": "scattergl"
           }
          ],
          "scattermapbox": [
           {
            "marker": {
             "colorbar": {
              "outlinewidth": 0,
              "ticks": ""
             }
            },
            "type": "scattermapbox"
           }
          ],
          "scatterpolar": [
           {
            "marker": {
             "colorbar": {
              "outlinewidth": 0,
              "ticks": ""
             }
            },
            "type": "scatterpolar"
           }
          ],
          "scatterpolargl": [
           {
            "marker": {
             "colorbar": {
              "outlinewidth": 0,
              "ticks": ""
             }
            },
            "type": "scatterpolargl"
           }
          ],
          "scatterternary": [
           {
            "marker": {
             "colorbar": {
              "outlinewidth": 0,
              "ticks": ""
             }
            },
            "type": "scatterternary"
           }
          ],
          "surface": [
           {
            "colorbar": {
             "outlinewidth": 0,
             "ticks": ""
            },
            "colorscale": [
             [
              0,
              "#0d0887"
             ],
             [
              0.1111111111111111,
              "#46039f"
             ],
             [
              0.2222222222222222,
              "#7201a8"
             ],
             [
              0.3333333333333333,
              "#9c179e"
             ],
             [
              0.4444444444444444,
              "#bd3786"
             ],
             [
              0.5555555555555556,
              "#d8576b"
             ],
             [
              0.6666666666666666,
              "#ed7953"
             ],
             [
              0.7777777777777778,
              "#fb9f3a"
             ],
             [
              0.8888888888888888,
              "#fdca26"
             ],
             [
              1,
              "#f0f921"
             ]
            ],
            "type": "surface"
           }
          ],
          "table": [
           {
            "cells": {
             "fill": {
              "color": "#EBF0F8"
             },
             "line": {
              "color": "white"
             }
            },
            "header": {
             "fill": {
              "color": "#C8D4E3"
             },
             "line": {
              "color": "white"
             }
            },
            "type": "table"
           }
          ]
         },
         "layout": {
          "annotationdefaults": {
           "arrowcolor": "#2a3f5f",
           "arrowhead": 0,
           "arrowwidth": 1
          },
          "autotypenumbers": "strict",
          "coloraxis": {
           "colorbar": {
            "outlinewidth": 0,
            "ticks": ""
           }
          },
          "colorscale": {
           "diverging": [
            [
             0,
             "#8e0152"
            ],
            [
             0.1,
             "#c51b7d"
            ],
            [
             0.2,
             "#de77ae"
            ],
            [
             0.3,
             "#f1b6da"
            ],
            [
             0.4,
             "#fde0ef"
            ],
            [
             0.5,
             "#f7f7f7"
            ],
            [
             0.6,
             "#e6f5d0"
            ],
            [
             0.7,
             "#b8e186"
            ],
            [
             0.8,
             "#7fbc41"
            ],
            [
             0.9,
             "#4d9221"
            ],
            [
             1,
             "#276419"
            ]
           ],
           "sequential": [
            [
             0,
             "#0d0887"
            ],
            [
             0.1111111111111111,
             "#46039f"
            ],
            [
             0.2222222222222222,
             "#7201a8"
            ],
            [
             0.3333333333333333,
             "#9c179e"
            ],
            [
             0.4444444444444444,
             "#bd3786"
            ],
            [
             0.5555555555555556,
             "#d8576b"
            ],
            [
             0.6666666666666666,
             "#ed7953"
            ],
            [
             0.7777777777777778,
             "#fb9f3a"
            ],
            [
             0.8888888888888888,
             "#fdca26"
            ],
            [
             1,
             "#f0f921"
            ]
           ],
           "sequentialminus": [
            [
             0,
             "#0d0887"
            ],
            [
             0.1111111111111111,
             "#46039f"
            ],
            [
             0.2222222222222222,
             "#7201a8"
            ],
            [
             0.3333333333333333,
             "#9c179e"
            ],
            [
             0.4444444444444444,
             "#bd3786"
            ],
            [
             0.5555555555555556,
             "#d8576b"
            ],
            [
             0.6666666666666666,
             "#ed7953"
            ],
            [
             0.7777777777777778,
             "#fb9f3a"
            ],
            [
             0.8888888888888888,
             "#fdca26"
            ],
            [
             1,
             "#f0f921"
            ]
           ]
          },
          "colorway": [
           "#636efa",
           "#EF553B",
           "#00cc96",
           "#ab63fa",
           "#FFA15A",
           "#19d3f3",
           "#FF6692",
           "#B6E880",
           "#FF97FF",
           "#FECB52"
          ],
          "font": {
           "color": "#2a3f5f"
          },
          "geo": {
           "bgcolor": "white",
           "lakecolor": "white",
           "landcolor": "#E5ECF6",
           "showlakes": true,
           "showland": true,
           "subunitcolor": "white"
          },
          "hoverlabel": {
           "align": "left"
          },
          "hovermode": "closest",
          "mapbox": {
           "style": "light"
          },
          "paper_bgcolor": "white",
          "plot_bgcolor": "#E5ECF6",
          "polar": {
           "angularaxis": {
            "gridcolor": "white",
            "linecolor": "white",
            "ticks": ""
           },
           "bgcolor": "#E5ECF6",
           "radialaxis": {
            "gridcolor": "white",
            "linecolor": "white",
            "ticks": ""
           }
          },
          "scene": {
           "xaxis": {
            "backgroundcolor": "#E5ECF6",
            "gridcolor": "white",
            "gridwidth": 2,
            "linecolor": "white",
            "showbackground": true,
            "ticks": "",
            "zerolinecolor": "white"
           },
           "yaxis": {
            "backgroundcolor": "#E5ECF6",
            "gridcolor": "white",
            "gridwidth": 2,
            "linecolor": "white",
            "showbackground": true,
            "ticks": "",
            "zerolinecolor": "white"
           },
           "zaxis": {
            "backgroundcolor": "#E5ECF6",
            "gridcolor": "white",
            "gridwidth": 2,
            "linecolor": "white",
            "showbackground": true,
            "ticks": "",
            "zerolinecolor": "white"
           }
          },
          "shapedefaults": {
           "line": {
            "color": "#2a3f5f"
           }
          },
          "ternary": {
           "aaxis": {
            "gridcolor": "white",
            "linecolor": "white",
            "ticks": ""
           },
           "baxis": {
            "gridcolor": "white",
            "linecolor": "white",
            "ticks": ""
           },
           "bgcolor": "#E5ECF6",
           "caxis": {
            "gridcolor": "white",
            "linecolor": "white",
            "ticks": ""
           }
          },
          "title": {
           "x": 0.05
          },
          "xaxis": {
           "automargin": true,
           "gridcolor": "white",
           "linecolor": "white",
           "ticks": "",
           "title": {
            "standoff": 15
           },
           "zerolinecolor": "white",
           "zerolinewidth": 2
          },
          "yaxis": {
           "automargin": true,
           "gridcolor": "white",
           "linecolor": "white",
           "ticks": "",
           "title": {
            "standoff": 15
           },
           "zerolinecolor": "white",
           "zerolinewidth": 2
          }
         }
        },
        "title": {
         "text": "Distribution of target variable"
        },
        "xaxis": {
         "anchor": "y",
         "domain": [
          0,
          1
         ],
         "title": {
          "text": "actual_productivity"
         }
        },
        "yaxis": {
         "anchor": "x",
         "domain": [
          0,
          1
         ],
         "title": {
          "text": "count"
         }
        }
       }
      }
     },
     "metadata": {},
     "output_type": "display_data"
    },
    {
     "data": {
      "application/vnd.plotly.v1+json": {
       "config": {
        "plotlyServerURL": "https://plot.ly"
       },
       "data": [
        {
         "alignmentgroup": "True",
         "hovertemplate": "actual_productivity=%{y}<extra></extra>",
         "legendgroup": "",
         "marker": {
          "color": "#636efa"
         },
         "name": "",
         "notched": false,
         "offsetgroup": "",
         "orientation": "v",
         "showlegend": false,
         "type": "box",
         "x0": " ",
         "xaxis": "x",
         "y": [
          0.755166667,
          0.5356779660000001,
          0.8208333329999999,
          0.581130952,
          0.7900032359999999,
          0.875390625,
          0.8002738290000001,
          0.9425,
          0.7999632179999999,
          0.8004019609999999,
          0.921703704,
          0.750473684,
          0.400332792,
          0.8004019609999999,
          0.7999632179999999,
          0.397743056,
          0.8004019609999999,
          0.681060606,
          0.7005884059999999,
          0.65024031,
          0.8005704920000001,
          0.258,
          0.85011396,
          1.033570076,
          0.800537143,
          1.000065789,
          0.606912879,
          0.800578947,
          0.850532143,
          0.8002467529999999,
          0.902222222,
          0.662255892,
          0.750545455,
          0.8002460109999999,
          0.7866,
          0.471108491,
          0.650596491,
          0.8001171029999999,
          0.846950758,
          0.671875,
          0.800149813,
          0.4078125,
          0.664875,
          1.000230409,
          0.483333333,
          0.8581439390000001,
          0.8002467529999999,
          0.902962963,
          0.8865,
          1.108125,
          0.5005673079999999,
          0.8133090279999999,
          0.7003620690000001,
          0.901262626,
          0.531666667,
          0.8174242420000001,
          0.750356125,
          0.821666667,
          0.800128721,
          0.7004241379999999,
          0.8003437659999999,
          0.742901235,
          0.70061442,
          0.850502311,
          0.700386207,
          0.800128721,
          0.900477825,
          0.657083333,
          0.850136766,
          0.750050847,
          0.850136766,
          0.929277778,
          0.60128,
          0.406354167,
          0.618361111,
          0.8003186440000001,
          0.749987124,
          0.939513889,
          1.000230409,
          0.600291767,
          0.440375,
          0.8004019609999999,
          0.500801724,
          0.800746552,
          0.812625,
          0.755208333,
          0.800030199,
          0.90047076,
          0.755166667,
          0.8004019609999999,
          0.495416667,
          0.505128205,
          0.75065101,
          0.750062751,
          0.7504372690000001,
          0.966781346,
          0.7506079999999999,
          0.7555555559999999,
          0.600099145,
          0.6074166670000001,
          0.915229167,
          0.861875,
          0.735984848,
          0.700069811,
          0.8755555559999999,
          0.75065101,
          0.8005704920000001,
          0.90014152,
          0.899,
          0.70043672,
          0.750031447,
          0.8002467529999999,
          0.800516667,
          0.758229167,
          0.700135088,
          0.936355556,
          0.966759259,
          0.912766667,
          0.8503451329999999,
          0.86037037,
          0.700058333,
          0.700614035,
          0.906666667,
          0.786631944,
          0.778222222,
          0.650148148,
          0.5503497079999999,
          0.603432184,
          0.522844828,
          0.609583333,
          0.7005089290000001,
          0.971866667,
          0.8035416670000001,
          0.850136766,
          0.650962281,
          0.598627451,
          0.799975862,
          0.800346445,
          0.500025069,
          0.805555556,
          0.376597222,
          0.726933333,
          0.350301724,
          0.9005562770000001,
          0.7879999999999999,
          0.91375,
          0.750395513,
          0.800076522,
          0.4470833329999999,
          0.6508348079999999,
          0.7505931029999999,
          0.7070459020000001,
          0.77815,
          0.957638889,
          0.4108333329999999,
          0.753097531,
          0.949981609,
          0.598792339,
          0.7002788459999999,
          0.910378788,
          0.800980392,
          0.5907407410000001,
          0.927541667,
          0.681060606,
          0.800612676,
          0.8383838379999999,
          0.850520588,
          0.630402924,
          0.590617284,
          0.637711864,
          0.504596491,
          0.549791667,
          0.2494166669999999,
          0.350301724,
          0.850136766,
          0.328131579,
          0.9008,
          0.937242424,
          0.929074074,
          0.80003139,
          0.2513992539999999,
          0.651007071,
          0.850502311,
          0.9002157159999999,
          0.722568627,
          0.750254867,
          0.712626263,
          0.75065101,
          0.750395513,
          0.639867424,
          0.690182815,
          0.676666667,
          0.75024303,
          0.8,
          0.5920833329999999,
          0.850312684,
          0.7975,
          0.638614379,
          0.4879199999999999,
          0.9456,
          0.271875,
          0.612517157,
          0.626822917,
          0.6645833329999999,
          0.902962963,
          0.800513307,
          0.850136766,
          0.879714482,
          0.6002298460000001,
          0.700618234,
          0.773333333,
          1.000457471,
          0.700888203,
          0.415172414,
          0.2565,
          0.890604167,
          0.960625,
          0.80007657,
          0.934607438,
          0.8004019609999999,
          0.611140537,
          0.800779018,
          0.5619791670000001,
          0.600436426,
          0.800181818,
          0.8003186440000001,
          0.750206897,
          0.6181818179999999,
          0.7211269570000001,
          1.000230409,
          0.664875,
          0.9918,
          0.70043672,
          0.800594466,
          0.750473684,
          0.800980392,
          1.001416667,
          0.8002378379999999,
          0.463194444,
          0.668087121,
          0.681060606,
          0.827186544,
          0.750371895,
          0.8001409690000001,
          0.629416667,
          0.779791667,
          0.83375,
          0.850252525,
          0.850502311,
          0.8009096090000001,
          0.2830544869999999,
          0.750068049,
          0.850610526,
          1.000344928,
          0.500801724,
          0.60059761,
          0.850502311,
          1.033155556,
          0.912766667,
          0.35063299,
          0.4108333329999999,
          0.39875,
          0.8527935609999999,
          0.658541667,
          0.4108333329999999,
          0.649662222,
          1.000230409,
          0.699965217,
          0.950185965,
          0.7921041670000001,
          0.700184577,
          0.460578704,
          0.999995238,
          0.971866667,
          0.705576584,
          0.705916667,
          0.477291667,
          0.900129762,
          0.8003027909999999,
          0.7505931029999999,
          1.059621212,
          0.800333333,
          0.793844697,
          0.715333333,
          0.350706422,
          0.864583333,
          0.726933333,
          0.628882576,
          0.800436542,
          0.8,
          0.75065101,
          0.800161172,
          0.921703704,
          0.850045,
          0.900833333,
          0.750406233,
          0.900147246,
          0.7715833329999999,
          0.8005660920000001,
          0.353259649,
          0.800034503,
          0.35020649,
          0.828295455,
          0.750050847,
          0.974621212,
          0.989,
          0.66237931,
          1.100483918,
          0.26369382,
          0.956270833,
          0.541517857,
          0.8915555559999999,
          0.441392,
          0.850136766,
          0.921604938,
          0.700206125,
          0.470769231,
          0.536901754,
          0.8616790120000001,
          0.625625,
          0.7967555559999999,
          0.8004019609999999,
          0.85695,
          0.9003211059999999,
          0.600224189,
          0.7500412009999999,
          0.82680303,
          0.800808642,
          0.750503571,
          0.800128721,
          0.868888889,
          0.891723485,
          0.7999828529999999,
          0.750395513,
          0.750395513,
          0.585315789,
          0.7006596490000001,
          0.601037091,
          0.625625,
          0.7002464909999999,
          0.7000637959999999,
          0.750770115,
          0.648106061,
          0.955151515,
          0.850136766,
          0.8004019609999999,
          0.700354545,
          0.902916667,
          0.7002111109999999,
          0.8174242420000001,
          0.4041449279999999,
          0.714410494,
          0.87,
          0.85007069,
          0.700422,
          0.800594466,
          0.689299242,
          0.750450658,
          0.970075758,
          0.850502311,
          0.560625,
          0.800125,
          0.850364583,
          0.700556897,
          0.837594697,
          0.6895,
          0.951420455,
          0.699965217,
          0.5046875,
          0.750212553,
          0.979527778,
          0.988636364,
          0.800473729,
          0.337973485,
          0.8004019609999999,
          0.710125,
          0.800415742,
          0.6253125,
          0.966759259,
          0.700516224,
          0.329545455,
          0.8002614859999999,
          0.755486111,
          0.800594466,
          0.283958333,
          0.971866667,
          0.800250962,
          0.980909091,
          0.700170388,
          0.8008888890000001,
          0.800489676,
          0.700170388,
          0.673083333,
          0.845458333,
          0.6225,
          0.650416734,
          0.7071111109999999,
          0.930416667,
          0.800162602,
          0.7506079999999999,
          0.750068049,
          0.750057359,
          0.34998951,
          0.7504259259999999,
          0.332359307,
          0.8003819440000001,
          0.466821212,
          0.7003620690000001,
          0.980984848,
          0.8004972459999999,
          0.850136766,
          0.8004019609999999,
          0.800024932,
          0.700134038,
          1.000018551,
          0.805909091,
          1.000602279,
          0.971866667,
          1.000230409,
          0.936496212,
          0.800534979,
          0.700603448,
          0.475718391,
          0.8643425929999999,
          0.75065101,
          0.80037492,
          0.802243319,
          0.978525641,
          0.902916667,
          0.750027778,
          0.700170388,
          0.8001441440000001,
          0.75075,
          0.549969429,
          0.8002467529999999,
          0.750068049,
          0.670075758,
          0.800128721,
          0.827147436,
          0.940625,
          0.936861111,
          0.950185965,
          0.750651724,
          0.650040783,
          1.000018551,
          0.850502311,
          0.697708333,
          0.7999632179999999,
          0.8010282129999999,
          0.8092361109999999,
          0.653431373,
          0.92885,
          1.000230409,
          0.332146465,
          0.850223776,
          0.850136766,
          0.961784512,
          0.6500440679999999,
          0.768847222,
          0.600125217,
          0.800034024,
          0.840533333,
          0.845833333,
          0.661837121,
          0.8960227270000001,
          0.900129762,
          0.58,
          0.800358775,
          0.8,
          0.448722222,
          1.000230409,
          0.805909091,
          0.750050847,
          0.60041361,
          0.636049383,
          0.8006843659999999,
          0.303574468,
          0.692045455,
          0.35003125,
          0.915766667,
          0.8,
          0.912037037,
          0.985,
          0.750356125,
          0.500547544,
          0.325,
          0.8001171029999999,
          0.890604167,
          0.683550607,
          0.750646667,
          0.622828125,
          0.700060345,
          0.750797009,
          0.700029771,
          0.950438596,
          0.8503620690000001,
          0.800393224,
          0.403242161,
          0.452012539,
          0.800947475,
          0.7005730990000001,
          0.75065101,
          0.688017677,
          0.8705808079999999,
          0.800071839,
          0.700095563,
          0.600528571,
          0.9008,
          0.271875,
          0.900135693,
          0.604166667,
          0.676666667,
          0.952020202,
          0.7502939390000001,
          0.750646667,
          0.8000235109999999,
          0.8300625,
          0.72830303,
          0.7501407409999999,
          0.971866667,
          0.7500983509999999,
          0.52118,
          0.2640625,
          0.977555556,
          0.75024303,
          0.24625,
          0.750395513,
          0.672140805,
          0.688557555,
          0.8000150090000001,
          0.999533333,
          0.582045455,
          0.7504278259999999,
          0.7004808309999999,
          0.560625,
          0.393548851,
          0.999995238,
          0.700079032,
          0.973796791,
          0.8001171029999999,
          0.966666667,
          0.864583333,
          0.6000287360000001,
          0.700422,
          0.800313433,
          0.750648148,
          0.50012336,
          0.700618234,
          0.7001647059999999,
          0.8001171029999999,
          0.812625,
          0.994270833,
          0.309333333,
          0.884,
          0.750395513,
          0.7504,
          0.800020563,
          0.8842613640000001,
          0.600710606,
          0.260978788,
          0.800312375,
          0.4509375,
          0.87115,
          0.302117347,
          0.90063244,
          0.759228395,
          0.687555556,
          0.850502311,
          0.857916667,
          0.7005135659999999,
          0.8004019609999999,
          0.753525,
          0.7999828529999999,
          0.8213541670000001,
          0.8211125,
          0.8003437659999999,
          0.667604167,
          0.60017284,
          0.93532197,
          1.000018551,
          0.782447917,
          0.80007657,
          0.272,
          0.350301724,
          0.8001919890000001,
          0.700614035,
          0.8004019609999999,
          0.8501818179999999,
          0.800309211,
          0.850502311,
          0.750395513,
          0.653598485,
          0.537919444,
          0.590435606,
          0.646306818,
          0.750162367,
          0.805909091,
          0.235795455,
          0.7005052629999999,
          0.80575,
          0.922839506,
          0.700398148,
          0.6283333329999999,
          0.3715625,
          0.8721,
          0.8002738290000001,
          0.30277037,
          0.8915555559999999,
          0.955791667,
          0.881575,
          0.667329545,
          0.800071839,
          0.268214286,
          0.750068049,
          0.8004019609999999,
          0.408960345,
          0.80035194,
          0.4925,
          0.800534483,
          0.311207464,
          0.809564394,
          0.327407407,
          0.3715625,
          0.6825,
          0.7006120690000001,
          0.500258046,
          0.507903226,
          0.500720126,
          0.700106061,
          0.578314394,
          0.773333333,
          0.7005185190000001,
          0.7507273259999999,
          0.6283333329999999,
          0.662270115,
          0.5375,
          0.940701058,
          0.750079323,
          0.650130952,
          0.8133712120000001,
          0.7002507840000001,
          0.361071429,
          0.800643806,
          0.976979167,
          0.670075758,
          0.850569492,
          0.436326389,
          0.499998888,
          0.999924242,
          0.845458333,
          0.930416667,
          0.8003863640000001,
          0.6000406779999999,
          0.971866667,
          0.650134,
          0.850502311,
          0.734645833,
          0.8002467529999999,
          0.6502434970000001,
          0.800594466,
          0.600143365,
          0.750027778,
          0.433263158,
          0.785864198,
          0.99485,
          0.7500318979999999,
          0.9003211059999999,
          0.650066445,
          0.650421429,
          0.463403955,
          0.6840277779999999,
          0.75053268,
          0.6003696860000001,
          0.8008,
          0.700623,
          0.5006109089999999,
          0.586041667,
          0.8008063059999999,
          0.750037968,
          0.683806818,
          0.7004241379999999,
          0.8842613640000001,
          0.75065101,
          0.2380416669999999,
          0.8007017540000001,
          0.763375,
          0.7503921570000001,
          0.804416667,
          0.409545455,
          0.8002460109999999,
          0.750517565,
          0.812625,
          0.800128721,
          0.600982906,
          0.411553571,
          1.000230409,
          0.800034503,
          0.675568182,
          0.800071839,
          0.850502311,
          0.971866667,
          0.85695,
          0.6000705129999999,
          0.7002464909999999,
          0.800594466,
          0.931645833,
          0.750473684,
          0.650223718,
          0.8004705129999999,
          0.8319375,
          0.8999840579999999,
          0.699984417,
          0.888686869,
          0.8001158190000001,
          1.050666667,
          0.791458333,
          0.75065101,
          0.329964879,
          0.800076522,
          0.912202112,
          0.8001158190000001,
          0.700251773,
          0.800128721,
          0.681060606,
          0.971866667,
          0.800598058,
          0.700632768,
          0.910378788,
          0.295307738,
          0.951420455,
          0.6824330359999999,
          0.557252451,
          0.8581439390000001,
          1.000018551,
          0.500117677,
          0.8208333329999999,
          0.8001171029999999,
          0.700236601,
          0.9025,
          0.500035345,
          0.899166667,
          0.5403125,
          0.905454545,
          0.8213541670000001,
          0.590617284,
          0.59114168,
          0.271875,
          0.800842424,
          0.81640625,
          0.977272727,
          0.800260821,
          0.800279693,
          0.800125,
          0.8004019609999999,
          0.800725314,
          0.586465465,
          0.750716981,
          0.6002397660000001,
          0.800137255,
          0.919954545,
          0.550403509,
          0.7953875,
          0.75024303,
          0.8004019609999999,
          0.700603448,
          0.8002467529999999,
          0.961059028,
          1.000402055,
          0.853666667,
          1.000230409,
          0.432122899,
          0.8003229359999999,
          0.804640152,
          0.950625,
          0.473134796,
          0.800020563,
          0.928680556,
          0.8606534090000001,
          0.712205247,
          0.750797009,
          0.971866667,
          0.850084211,
          0.7,
          0.6645833329999999,
          0.417916667,
          0.366053523,
          0.920236905,
          0.449964912,
          0.6503071429999999,
          0.8192708329999999,
          0.602,
          0.7502833329999999,
          0.795416667,
          0.823555556,
          0.7006052629999999,
          0.800137255,
          0.64025,
          0.8003186440000001,
          0.350066986,
          0.412119835,
          0.741,
          0.7332777779999999,
          0.8004019609999999,
          0.8003437659999999,
          0.4108333329999999,
          0.307501459,
          0.7000941559999999,
          0.758173077,
          0.700422,
          0.453125,
          0.233705476,
          0.800034503,
          0.8004019609999999,
          0.800980392,
          1.000344928,
          0.601278409,
          0.987880435,
          0.553333333,
          0.715766667,
          0.92,
          0.800034503,
          0.528125,
          0.378895152,
          0.850502311,
          0.8004019609999999,
          0.919905405,
          0.526810345,
          1.057962963,
          0.656666667,
          0.545657673,
          0.900144811,
          0.760833333,
          0.800259023,
          0.877552083,
          0.899111111,
          0.970816667,
          0.621971751,
          0.8581439390000001,
          0.6346666670000001,
          0.350416667,
          0.600291767,
          0.656666667,
          0.8004019609999999,
          0.963699495,
          0.98719697,
          0.660683293,
          0.7005052629999999,
          0.850446154,
          0.8003552079999999,
          0.64998056,
          0.259375,
          0.7005404409999999,
          0.902222222,
          0.955151515,
          0.605208333,
          0.994375,
          0.893066667,
          0.8995555559999999,
          0.8450694440000001,
          0.7004598890000001,
          0.3458333329999999,
          0.80003139,
          0.964106061,
          0.945555556,
          1.0006713040000002,
          0.753683478,
          0.650416734,
          0.8096401520000001,
          0.700019883,
          0.8581439390000001,
          0.880530303,
          0.664875,
          0.800434622,
          0.750344828,
          0.465757576,
          0.441041667,
          0.313852814,
          0.247316017,
          0.838666667,
          0.8136111109999999,
          0.651515152,
          0.610208333,
          0.850170115,
          0.700422,
          0.850136766,
          0.75885,
          0.7962083329999999,
          0.393548851,
          0.597348485,
          0.600447507,
          0.7999632179999999,
          1.000230409,
          0.58,
          0.8002738290000001,
          0.769292929,
          0.8,
          0.4999803339999999,
          0.870083333,
          0.8865,
          0.594871795,
          0.7999632179999999,
          0.3564583329999999,
          0.900135693,
          0.962016667,
          0.768847222,
          0.4676932689999999,
          0.925643939,
          0.8171022729999999,
          0.750648148,
          0.285333333,
          0.874027778,
          0.8504156279999999,
          0.908080808,
          0.911589744,
          0.850312684,
          0.921604938,
          0.8003863640000001,
          0.8002372879999999,
          0.8002738290000001,
          0.794566667,
          0.971866667,
          0.997792208,
          0.3555344829999999,
          0.700051852,
          0.7009035709999999,
          0.6283333329999999,
          0.850410511,
          0.800263218,
          0.950185965,
          0.7503921570000001,
          0.750347333,
          0.900129762,
          0.825444444,
          0.7018125,
          0.676666667,
          0.810111111,
          0.700623,
          0.261174242,
          0.910521886,
          0.639867424,
          0.8504268909999999,
          0.749188312,
          0.656763743,
          0.578314394,
          1.02,
          0.750371895,
          0.314166667,
          0.940725424,
          0.7715833329999999,
          0.942213805,
          0.800107143,
          0.700058333,
          0.582301029,
          0.8003437659999999,
          0.929183333,
          0.505888889,
          1.05028058,
          0.864583333,
          0.750356125,
          0.947689394,
          0.576460393,
          0.4078125,
          0.7503484570000001,
          0.7005416999999999,
          0.779791667,
          0.579511494,
          0.8113888890000001,
          0.80000295,
          0.7002507840000001,
          0.950185965,
          0.9008,
          0.8001171029999999,
          0.725625,
          0.8004019609999999,
          0.456875,
          0.7500578509999999,
          0.6265777779999999,
          1.000446018,
          0.895454545,
          0.75065101,
          1.0115625,
          0.850532143,
          0.8005110679999999,
          0.54175,
          0.567377778,
          0.885925926,
          0.673245283,
          0.36871875,
          0.8581439390000001,
          0.8007017540000001,
          0.700256795,
          0.520237649,
          0.841,
          0.700236601,
          0.7501769909999999,
          0.902962963,
          0.991388889,
          0.394722222,
          0.893663194,
          0.8471,
          0.8357575759999999,
          0.950185965,
          0.70009573,
          0.5156060610000001,
          0.385791667,
          0.850136766,
          0.700170388,
          0.5659722220000001,
          1.096633333,
          0.7999632179999999,
          0.90047076,
          0.800020563,
          0.497885057,
          0.7505931029999999,
          0.800137255,
          0.900129762,
          0.7226388890000001
         ],
         "y0": " ",
         "yaxis": "y"
        }
       ],
       "layout": {
        "boxmode": "group",
        "legend": {
         "tracegroupgap": 0
        },
        "template": {
         "data": {
          "bar": [
           {
            "error_x": {
             "color": "#2a3f5f"
            },
            "error_y": {
             "color": "#2a3f5f"
            },
            "marker": {
             "line": {
              "color": "#E5ECF6",
              "width": 0.5
             },
             "pattern": {
              "fillmode": "overlay",
              "size": 10,
              "solidity": 0.2
             }
            },
            "type": "bar"
           }
          ],
          "barpolar": [
           {
            "marker": {
             "line": {
              "color": "#E5ECF6",
              "width": 0.5
             },
             "pattern": {
              "fillmode": "overlay",
              "size": 10,
              "solidity": 0.2
             }
            },
            "type": "barpolar"
           }
          ],
          "carpet": [
           {
            "aaxis": {
             "endlinecolor": "#2a3f5f",
             "gridcolor": "white",
             "linecolor": "white",
             "minorgridcolor": "white",
             "startlinecolor": "#2a3f5f"
            },
            "baxis": {
             "endlinecolor": "#2a3f5f",
             "gridcolor": "white",
             "linecolor": "white",
             "minorgridcolor": "white",
             "startlinecolor": "#2a3f5f"
            },
            "type": "carpet"
           }
          ],
          "choropleth": [
           {
            "colorbar": {
             "outlinewidth": 0,
             "ticks": ""
            },
            "type": "choropleth"
           }
          ],
          "contour": [
           {
            "colorbar": {
             "outlinewidth": 0,
             "ticks": ""
            },
            "colorscale": [
             [
              0,
              "#0d0887"
             ],
             [
              0.1111111111111111,
              "#46039f"
             ],
             [
              0.2222222222222222,
              "#7201a8"
             ],
             [
              0.3333333333333333,
              "#9c179e"
             ],
             [
              0.4444444444444444,
              "#bd3786"
             ],
             [
              0.5555555555555556,
              "#d8576b"
             ],
             [
              0.6666666666666666,
              "#ed7953"
             ],
             [
              0.7777777777777778,
              "#fb9f3a"
             ],
             [
              0.8888888888888888,
              "#fdca26"
             ],
             [
              1,
              "#f0f921"
             ]
            ],
            "type": "contour"
           }
          ],
          "contourcarpet": [
           {
            "colorbar": {
             "outlinewidth": 0,
             "ticks": ""
            },
            "type": "contourcarpet"
           }
          ],
          "heatmap": [
           {
            "colorbar": {
             "outlinewidth": 0,
             "ticks": ""
            },
            "colorscale": [
             [
              0,
              "#0d0887"
             ],
             [
              0.1111111111111111,
              "#46039f"
             ],
             [
              0.2222222222222222,
              "#7201a8"
             ],
             [
              0.3333333333333333,
              "#9c179e"
             ],
             [
              0.4444444444444444,
              "#bd3786"
             ],
             [
              0.5555555555555556,
              "#d8576b"
             ],
             [
              0.6666666666666666,
              "#ed7953"
             ],
             [
              0.7777777777777778,
              "#fb9f3a"
             ],
             [
              0.8888888888888888,
              "#fdca26"
             ],
             [
              1,
              "#f0f921"
             ]
            ],
            "type": "heatmap"
           }
          ],
          "heatmapgl": [
           {
            "colorbar": {
             "outlinewidth": 0,
             "ticks": ""
            },
            "colorscale": [
             [
              0,
              "#0d0887"
             ],
             [
              0.1111111111111111,
              "#46039f"
             ],
             [
              0.2222222222222222,
              "#7201a8"
             ],
             [
              0.3333333333333333,
              "#9c179e"
             ],
             [
              0.4444444444444444,
              "#bd3786"
             ],
             [
              0.5555555555555556,
              "#d8576b"
             ],
             [
              0.6666666666666666,
              "#ed7953"
             ],
             [
              0.7777777777777778,
              "#fb9f3a"
             ],
             [
              0.8888888888888888,
              "#fdca26"
             ],
             [
              1,
              "#f0f921"
             ]
            ],
            "type": "heatmapgl"
           }
          ],
          "histogram": [
           {
            "marker": {
             "pattern": {
              "fillmode": "overlay",
              "size": 10,
              "solidity": 0.2
             }
            },
            "type": "histogram"
           }
          ],
          "histogram2d": [
           {
            "colorbar": {
             "outlinewidth": 0,
             "ticks": ""
            },
            "colorscale": [
             [
              0,
              "#0d0887"
             ],
             [
              0.1111111111111111,
              "#46039f"
             ],
             [
              0.2222222222222222,
              "#7201a8"
             ],
             [
              0.3333333333333333,
              "#9c179e"
             ],
             [
              0.4444444444444444,
              "#bd3786"
             ],
             [
              0.5555555555555556,
              "#d8576b"
             ],
             [
              0.6666666666666666,
              "#ed7953"
             ],
             [
              0.7777777777777778,
              "#fb9f3a"
             ],
             [
              0.8888888888888888,
              "#fdca26"
             ],
             [
              1,
              "#f0f921"
             ]
            ],
            "type": "histogram2d"
           }
          ],
          "histogram2dcontour": [
           {
            "colorbar": {
             "outlinewidth": 0,
             "ticks": ""
            },
            "colorscale": [
             [
              0,
              "#0d0887"
             ],
             [
              0.1111111111111111,
              "#46039f"
             ],
             [
              0.2222222222222222,
              "#7201a8"
             ],
             [
              0.3333333333333333,
              "#9c179e"
             ],
             [
              0.4444444444444444,
              "#bd3786"
             ],
             [
              0.5555555555555556,
              "#d8576b"
             ],
             [
              0.6666666666666666,
              "#ed7953"
             ],
             [
              0.7777777777777778,
              "#fb9f3a"
             ],
             [
              0.8888888888888888,
              "#fdca26"
             ],
             [
              1,
              "#f0f921"
             ]
            ],
            "type": "histogram2dcontour"
           }
          ],
          "mesh3d": [
           {
            "colorbar": {
             "outlinewidth": 0,
             "ticks": ""
            },
            "type": "mesh3d"
           }
          ],
          "parcoords": [
           {
            "line": {
             "colorbar": {
              "outlinewidth": 0,
              "ticks": ""
             }
            },
            "type": "parcoords"
           }
          ],
          "pie": [
           {
            "automargin": true,
            "type": "pie"
           }
          ],
          "scatter": [
           {
            "fillpattern": {
             "fillmode": "overlay",
             "size": 10,
             "solidity": 0.2
            },
            "type": "scatter"
           }
          ],
          "scatter3d": [
           {
            "line": {
             "colorbar": {
              "outlinewidth": 0,
              "ticks": ""
             }
            },
            "marker": {
             "colorbar": {
              "outlinewidth": 0,
              "ticks": ""
             }
            },
            "type": "scatter3d"
           }
          ],
          "scattercarpet": [
           {
            "marker": {
             "colorbar": {
              "outlinewidth": 0,
              "ticks": ""
             }
            },
            "type": "scattercarpet"
           }
          ],
          "scattergeo": [
           {
            "marker": {
             "colorbar": {
              "outlinewidth": 0,
              "ticks": ""
             }
            },
            "type": "scattergeo"
           }
          ],
          "scattergl": [
           {
            "marker": {
             "colorbar": {
              "outlinewidth": 0,
              "ticks": ""
             }
            },
            "type": "scattergl"
           }
          ],
          "scattermapbox": [
           {
            "marker": {
             "colorbar": {
              "outlinewidth": 0,
              "ticks": ""
             }
            },
            "type": "scattermapbox"
           }
          ],
          "scatterpolar": [
           {
            "marker": {
             "colorbar": {
              "outlinewidth": 0,
              "ticks": ""
             }
            },
            "type": "scatterpolar"
           }
          ],
          "scatterpolargl": [
           {
            "marker": {
             "colorbar": {
              "outlinewidth": 0,
              "ticks": ""
             }
            },
            "type": "scatterpolargl"
           }
          ],
          "scatterternary": [
           {
            "marker": {
             "colorbar": {
              "outlinewidth": 0,
              "ticks": ""
             }
            },
            "type": "scatterternary"
           }
          ],
          "surface": [
           {
            "colorbar": {
             "outlinewidth": 0,
             "ticks": ""
            },
            "colorscale": [
             [
              0,
              "#0d0887"
             ],
             [
              0.1111111111111111,
              "#46039f"
             ],
             [
              0.2222222222222222,
              "#7201a8"
             ],
             [
              0.3333333333333333,
              "#9c179e"
             ],
             [
              0.4444444444444444,
              "#bd3786"
             ],
             [
              0.5555555555555556,
              "#d8576b"
             ],
             [
              0.6666666666666666,
              "#ed7953"
             ],
             [
              0.7777777777777778,
              "#fb9f3a"
             ],
             [
              0.8888888888888888,
              "#fdca26"
             ],
             [
              1,
              "#f0f921"
             ]
            ],
            "type": "surface"
           }
          ],
          "table": [
           {
            "cells": {
             "fill": {
              "color": "#EBF0F8"
             },
             "line": {
              "color": "white"
             }
            },
            "header": {
             "fill": {
              "color": "#C8D4E3"
             },
             "line": {
              "color": "white"
             }
            },
            "type": "table"
           }
          ]
         },
         "layout": {
          "annotationdefaults": {
           "arrowcolor": "#2a3f5f",
           "arrowhead": 0,
           "arrowwidth": 1
          },
          "autotypenumbers": "strict",
          "coloraxis": {
           "colorbar": {
            "outlinewidth": 0,
            "ticks": ""
           }
          },
          "colorscale": {
           "diverging": [
            [
             0,
             "#8e0152"
            ],
            [
             0.1,
             "#c51b7d"
            ],
            [
             0.2,
             "#de77ae"
            ],
            [
             0.3,
             "#f1b6da"
            ],
            [
             0.4,
             "#fde0ef"
            ],
            [
             0.5,
             "#f7f7f7"
            ],
            [
             0.6,
             "#e6f5d0"
            ],
            [
             0.7,
             "#b8e186"
            ],
            [
             0.8,
             "#7fbc41"
            ],
            [
             0.9,
             "#4d9221"
            ],
            [
             1,
             "#276419"
            ]
           ],
           "sequential": [
            [
             0,
             "#0d0887"
            ],
            [
             0.1111111111111111,
             "#46039f"
            ],
            [
             0.2222222222222222,
             "#7201a8"
            ],
            [
             0.3333333333333333,
             "#9c179e"
            ],
            [
             0.4444444444444444,
             "#bd3786"
            ],
            [
             0.5555555555555556,
             "#d8576b"
            ],
            [
             0.6666666666666666,
             "#ed7953"
            ],
            [
             0.7777777777777778,
             "#fb9f3a"
            ],
            [
             0.8888888888888888,
             "#fdca26"
            ],
            [
             1,
             "#f0f921"
            ]
           ],
           "sequentialminus": [
            [
             0,
             "#0d0887"
            ],
            [
             0.1111111111111111,
             "#46039f"
            ],
            [
             0.2222222222222222,
             "#7201a8"
            ],
            [
             0.3333333333333333,
             "#9c179e"
            ],
            [
             0.4444444444444444,
             "#bd3786"
            ],
            [
             0.5555555555555556,
             "#d8576b"
            ],
            [
             0.6666666666666666,
             "#ed7953"
            ],
            [
             0.7777777777777778,
             "#fb9f3a"
            ],
            [
             0.8888888888888888,
             "#fdca26"
            ],
            [
             1,
             "#f0f921"
            ]
           ]
          },
          "colorway": [
           "#636efa",
           "#EF553B",
           "#00cc96",
           "#ab63fa",
           "#FFA15A",
           "#19d3f3",
           "#FF6692",
           "#B6E880",
           "#FF97FF",
           "#FECB52"
          ],
          "font": {
           "color": "#2a3f5f"
          },
          "geo": {
           "bgcolor": "white",
           "lakecolor": "white",
           "landcolor": "#E5ECF6",
           "showlakes": true,
           "showland": true,
           "subunitcolor": "white"
          },
          "hoverlabel": {
           "align": "left"
          },
          "hovermode": "closest",
          "mapbox": {
           "style": "light"
          },
          "paper_bgcolor": "white",
          "plot_bgcolor": "#E5ECF6",
          "polar": {
           "angularaxis": {
            "gridcolor": "white",
            "linecolor": "white",
            "ticks": ""
           },
           "bgcolor": "#E5ECF6",
           "radialaxis": {
            "gridcolor": "white",
            "linecolor": "white",
            "ticks": ""
           }
          },
          "scene": {
           "xaxis": {
            "backgroundcolor": "#E5ECF6",
            "gridcolor": "white",
            "gridwidth": 2,
            "linecolor": "white",
            "showbackground": true,
            "ticks": "",
            "zerolinecolor": "white"
           },
           "yaxis": {
            "backgroundcolor": "#E5ECF6",
            "gridcolor": "white",
            "gridwidth": 2,
            "linecolor": "white",
            "showbackground": true,
            "ticks": "",
            "zerolinecolor": "white"
           },
           "zaxis": {
            "backgroundcolor": "#E5ECF6",
            "gridcolor": "white",
            "gridwidth": 2,
            "linecolor": "white",
            "showbackground": true,
            "ticks": "",
            "zerolinecolor": "white"
           }
          },
          "shapedefaults": {
           "line": {
            "color": "#2a3f5f"
           }
          },
          "ternary": {
           "aaxis": {
            "gridcolor": "white",
            "linecolor": "white",
            "ticks": ""
           },
           "baxis": {
            "gridcolor": "white",
            "linecolor": "white",
            "ticks": ""
           },
           "bgcolor": "#E5ECF6",
           "caxis": {
            "gridcolor": "white",
            "linecolor": "white",
            "ticks": ""
           }
          },
          "title": {
           "x": 0.05
          },
          "xaxis": {
           "automargin": true,
           "gridcolor": "white",
           "linecolor": "white",
           "ticks": "",
           "title": {
            "standoff": 15
           },
           "zerolinecolor": "white",
           "zerolinewidth": 2
          },
          "yaxis": {
           "automargin": true,
           "gridcolor": "white",
           "linecolor": "white",
           "ticks": "",
           "title": {
            "standoff": 15
           },
           "zerolinecolor": "white",
           "zerolinewidth": 2
          }
         }
        },
        "title": {
         "text": "Boxplot of target variable"
        },
        "xaxis": {
         "anchor": "y",
         "domain": [
          0,
          1
         ]
        },
        "yaxis": {
         "anchor": "x",
         "domain": [
          0,
          1
         ],
         "title": {
          "text": "actual_productivity"
         }
        }
       }
      }
     },
     "metadata": {},
     "output_type": "display_data"
    }
   ],
   "source": [
    "import plotly.express as px\n",
    "corr_cols = df_train.corrwith(df_train['actual_productivity'])\n",
    "fig = px.bar(x=corr_cols.index, y=corr_cols.values)\n",
    "fig.show()\n",
    "# plot the distribution of target variable\n",
    "fig = px.histogram(df_train, x='actual_productivity', nbins=100, title='Distribution of target variable')\n",
    "fig.show()\n",
    "\n",
    "# boxplot of target variable\n",
    "fig = px.box(df_train, y='actual_productivity', title='Boxplot of target variable')\n",
    "fig.show()\n",
    "\n",
    "# remove outliers\n",
    "outlier_threshold = 0.3507\n",
    "df_train = df_train[df_train['actual_productivity'] < outlier_threshold]\n"
   ]
  },
  {
   "attachments": {},
   "cell_type": "markdown",
   "metadata": {},
   "source": [
    "# pipeline for each models"
   ]
  },
  {
   "cell_type": "code",
   "execution_count": 88,
   "metadata": {},
   "outputs": [],
   "source": [
    "model1 = Pipeline([\n",
    "    ('imputer', SimpleImputer(strategy='median')),\n",
    "    ('scaler', MinMaxScaler()),\n",
    "    ('decomposition', PCA(n_components=3)),\n",
    "    ('poly', PolynomialFeatures(degree=2)),\n",
    "    ('model', LinearRegression())\n",
    "])\n",
    "\n",
    "model2 = Pipeline([\n",
    "    ('imputer', SimpleImputer(strategy='median')),\n",
    "    ('scaler', MinMaxScaler()),\n",
    "    ('poly', PolynomialFeatures(degree=2)),\n",
    "    ('model', Ridge())\n",
    "])\n",
    "\n",
    "model3 = Pipeline([\n",
    "    ('imputer', SimpleImputer(strategy='median')),\n",
    "    ('scaler', MinMaxScaler()),\n",
    "    ('poly', PolynomialFeatures(degree=2)),\n",
    "    ('model', Lasso())\n",
    "])\n",
    "\n",
    "model4 = Pipeline([\n",
    "    ('imputer', SimpleImputer(strategy='median')),\n",
    "    ('scaler', MinMaxScaler()),\n",
    "    ('features', SelectKBest(score_func=f_regression)),\n",
    "    ('model', ElasticNet())\n",
    "])\n",
    "\n",
    "model5 = Pipeline([\n",
    "    ('imputer', SimpleImputer(strategy='median')),\n",
    "    ('scaler', MinMaxScaler()),\n",
    "    ('features', SelectKBest(score_func=f_regression)),\n",
    "    ('model', DecisionTreeRegressor())\n",
    "])\n",
    "\n",
    "model6 = Pipeline([\n",
    "    ('imputer', SimpleImputer(strategy='median')),\n",
    "    ('scaler', MinMaxScaler()),\n",
    "    ('features', SelectKBest(score_func=f_regression)),\n",
    "    ('model', RandomForestRegressor())\n",
    "])\n",
    "\n",
    "model7 = Pipeline([\n",
    "    ('imputer', SimpleImputer(strategy='median')),\n",
    "    ('scaler', MinMaxScaler()),\n",
    "    ('features', SelectKBest(score_func=f_regression)),\n",
    "    ('model', GradientBoostingRegressor())\n",
    "])\n",
    "\n",
    "model8 = Pipeline([\n",
    "    ('imputer', SimpleImputer(strategy='median')),\n",
    "    ('scaler', MinMaxScaler()),\n",
    "    ('features', SelectKBest(score_func=f_regression)),\n",
    "    ('model', AdaBoostRegressor())\n",
    "])\n",
    "\n",
    "model9 = Pipeline([\n",
    "    ('imputer', SimpleImputer(strategy='median')),\n",
    "    ('scaler', MinMaxScaler()),\n",
    "    ('features', SelectKBest(score_func=f_regression)),\n",
    "    ('model', SVR())\n",
    "])\n",
    "\n",
    "model10 = Pipeline([\n",
    "    ('imputer', SimpleImputer(strategy='median')),\n",
    "    ('scaler', MinMaxScaler()),\n",
    "    ('features', SelectKBest(score_func=f_regression)),\n",
    "    ('model', KNeighborsRegressor())\n",
    "])\n",
    "\n",
    "models = [model1, model2, model3, model4, model5, model6, model7, model8, model9, model10]"
   ]
  },
  {
   "cell_type": "code",
   "execution_count": 89,
   "metadata": {},
   "outputs": [
    {
     "data": {
      "text/plain": [
       "[Pipeline(steps=[('imputer', SimpleImputer(strategy='median')),\n",
       "                 ('scaler', MinMaxScaler()),\n",
       "                 ('decomposition', PCA(n_components=3)),\n",
       "                 ('poly', PolynomialFeatures()), ('model', LinearRegression())]),\n",
       " Pipeline(steps=[('imputer', SimpleImputer(strategy='median')),\n",
       "                 ('scaler', MinMaxScaler()), ('poly', PolynomialFeatures()),\n",
       "                 ('model', Ridge())]),\n",
       " Pipeline(steps=[('imputer', SimpleImputer(strategy='median')),\n",
       "                 ('scaler', MinMaxScaler()), ('poly', PolynomialFeatures()),\n",
       "                 ('model', Lasso())]),\n",
       " Pipeline(steps=[('imputer', SimpleImputer(strategy='median')),\n",
       "                 ('scaler', MinMaxScaler()),\n",
       "                 ('features',\n",
       "                  SelectKBest(score_func=<function f_regression at 0x0000022E4FC86200>)),\n",
       "                 ('model', ElasticNet())]),\n",
       " Pipeline(steps=[('imputer', SimpleImputer(strategy='median')),\n",
       "                 ('scaler', MinMaxScaler()),\n",
       "                 ('features',\n",
       "                  SelectKBest(score_func=<function f_regression at 0x0000022E4FC86200>)),\n",
       "                 ('model', DecisionTreeRegressor())]),\n",
       " Pipeline(steps=[('imputer', SimpleImputer(strategy='median')),\n",
       "                 ('scaler', MinMaxScaler()),\n",
       "                 ('features',\n",
       "                  SelectKBest(score_func=<function f_regression at 0x0000022E4FC86200>)),\n",
       "                 ('model', RandomForestRegressor())]),\n",
       " Pipeline(steps=[('imputer', SimpleImputer(strategy='median')),\n",
       "                 ('scaler', MinMaxScaler()),\n",
       "                 ('features',\n",
       "                  SelectKBest(score_func=<function f_regression at 0x0000022E4FC86200>)),\n",
       "                 ('model', GradientBoostingRegressor())]),\n",
       " Pipeline(steps=[('imputer', SimpleImputer(strategy='median')),\n",
       "                 ('scaler', MinMaxScaler()),\n",
       "                 ('features',\n",
       "                  SelectKBest(score_func=<function f_regression at 0x0000022E4FC86200>)),\n",
       "                 ('model', AdaBoostRegressor())]),\n",
       " Pipeline(steps=[('imputer', SimpleImputer(strategy='median')),\n",
       "                 ('scaler', MinMaxScaler()),\n",
       "                 ('features',\n",
       "                  SelectKBest(score_func=<function f_regression at 0x0000022E4FC86200>)),\n",
       "                 ('model', SVR())]),\n",
       " Pipeline(steps=[('imputer', SimpleImputer(strategy='median')),\n",
       "                 ('scaler', MinMaxScaler()),\n",
       "                 ('features',\n",
       "                  SelectKBest(score_func=<function f_regression at 0x0000022E4FC86200>)),\n",
       "                 ('model', KNeighborsRegressor())])]"
      ]
     },
     "execution_count": 89,
     "metadata": {},
     "output_type": "execute_result"
    }
   ],
   "source": [
    "models"
   ]
  },
  {
   "attachments": {},
   "cell_type": "markdown",
   "metadata": {},
   "source": [
    "# fitting the models"
   ]
  },
  {
   "cell_type": "code",
   "execution_count": 90,
   "metadata": {},
   "outputs": [],
   "source": [
    "y = df_train['actual_productivity']\n",
    "X = df_train.drop('actual_productivity', axis=1)\n",
    "\n",
    "X_train, X_test, y_train, y_test = train_test_split(X, y, test_size=0.2, random_state=42)\n",
    "X_val = df_test.copy()\n"
   ]
  },
  {
   "cell_type": "code",
   "execution_count": 91,
   "metadata": {},
   "outputs": [],
   "source": [
    "results = []\n",
    "model_namses = ['Polynomial Regression', 'Ridge Regression', 'Lasso Regression', 'ElasticNet Regression', 'Decision Tree Regression', 'Random Forest Regression', 'Gradient Boosting Regression', 'AdaBoost Regression', 'Support Vector Regression', 'KNeighbors Regression']\n",
    "for model in models:\n",
    "    model.fit(X_train, y_train)\n",
    "    y_pred = model.predict(X_test)\n",
    "    mse = mean_squared_error(y_test, y_pred)\n",
    "    mae = mean_absolute_error(y_test, y_pred)\n",
    "    r2 = r2_score(y_test, y_pred)\n",
    "    results.append({\n",
    "        'model': model,\n",
    "        'mse': mse,\n",
    "        'mae': mae,\n",
    "        'r2': r2,\n",
    "        'name': model_namses[models.index(model)]\n",
    "    })"
   ]
  },
  {
   "attachments": {},
   "cell_type": "markdown",
   "metadata": {},
   "source": [
    "# visualize"
   ]
  },
  {
   "cell_type": "code",
   "execution_count": 92,
   "metadata": {},
   "outputs": [],
   "source": [
    "import plotly.express as px"
   ]
  },
  {
   "cell_type": "code",
   "execution_count": 93,
   "metadata": {},
   "outputs": [
    {
     "data": {
      "text/html": [
       "<div>\n",
       "<style scoped>\n",
       "    .dataframe tbody tr th:only-of-type {\n",
       "        vertical-align: middle;\n",
       "    }\n",
       "\n",
       "    .dataframe tbody tr th {\n",
       "        vertical-align: top;\n",
       "    }\n",
       "\n",
       "    .dataframe thead th {\n",
       "        text-align: right;\n",
       "    }\n",
       "</style>\n",
       "<table border=\"1\" class=\"dataframe\">\n",
       "  <thead>\n",
       "    <tr style=\"text-align: right;\">\n",
       "      <th></th>\n",
       "      <th>model</th>\n",
       "      <th>mse</th>\n",
       "      <th>mae</th>\n",
       "      <th>r2</th>\n",
       "      <th>name</th>\n",
       "    </tr>\n",
       "  </thead>\n",
       "  <tbody>\n",
       "    <tr>\n",
       "      <th>0</th>\n",
       "      <td>(SimpleImputer(strategy='median'), MinMaxScale...</td>\n",
       "      <td>0.001214</td>\n",
       "      <td>0.030443</td>\n",
       "      <td>-0.027920</td>\n",
       "      <td>Polynomial Regression</td>\n",
       "    </tr>\n",
       "    <tr>\n",
       "      <th>1</th>\n",
       "      <td>(SimpleImputer(strategy='median'), MinMaxScale...</td>\n",
       "      <td>0.002231</td>\n",
       "      <td>0.041524</td>\n",
       "      <td>-0.888329</td>\n",
       "      <td>Ridge Regression</td>\n",
       "    </tr>\n",
       "    <tr>\n",
       "      <th>2</th>\n",
       "      <td>(SimpleImputer(strategy='median'), MinMaxScale...</td>\n",
       "      <td>0.001220</td>\n",
       "      <td>0.031801</td>\n",
       "      <td>-0.032375</td>\n",
       "      <td>Lasso Regression</td>\n",
       "    </tr>\n",
       "    <tr>\n",
       "      <th>3</th>\n",
       "      <td>(SimpleImputer(strategy='median'), MinMaxScale...</td>\n",
       "      <td>0.001220</td>\n",
       "      <td>0.031801</td>\n",
       "      <td>-0.032375</td>\n",
       "      <td>ElasticNet Regression</td>\n",
       "    </tr>\n",
       "    <tr>\n",
       "      <th>4</th>\n",
       "      <td>(SimpleImputer(strategy='median'), MinMaxScale...</td>\n",
       "      <td>0.002746</td>\n",
       "      <td>0.045968</td>\n",
       "      <td>-1.324445</td>\n",
       "      <td>Decision Tree Regression</td>\n",
       "    </tr>\n",
       "    <tr>\n",
       "      <th>5</th>\n",
       "      <td>(SimpleImputer(strategy='median'), MinMaxScale...</td>\n",
       "      <td>0.001122</td>\n",
       "      <td>0.029024</td>\n",
       "      <td>0.049904</td>\n",
       "      <td>Random Forest Regression</td>\n",
       "    </tr>\n",
       "    <tr>\n",
       "      <th>6</th>\n",
       "      <td>(SimpleImputer(strategy='median'), MinMaxScale...</td>\n",
       "      <td>0.001857</td>\n",
       "      <td>0.033109</td>\n",
       "      <td>-0.571935</td>\n",
       "      <td>Gradient Boosting Regression</td>\n",
       "    </tr>\n",
       "    <tr>\n",
       "      <th>7</th>\n",
       "      <td>(SimpleImputer(strategy='median'), MinMaxScale...</td>\n",
       "      <td>0.000986</td>\n",
       "      <td>0.026275</td>\n",
       "      <td>0.165758</td>\n",
       "      <td>AdaBoost Regression</td>\n",
       "    </tr>\n",
       "    <tr>\n",
       "      <th>8</th>\n",
       "      <td>(SimpleImputer(strategy='median'), MinMaxScale...</td>\n",
       "      <td>0.001184</td>\n",
       "      <td>0.031801</td>\n",
       "      <td>-0.002082</td>\n",
       "      <td>Support Vector Regression</td>\n",
       "    </tr>\n",
       "    <tr>\n",
       "      <th>9</th>\n",
       "      <td>(SimpleImputer(strategy='median'), MinMaxScale...</td>\n",
       "      <td>0.001809</td>\n",
       "      <td>0.032464</td>\n",
       "      <td>-0.531119</td>\n",
       "      <td>KNeighbors Regression</td>\n",
       "    </tr>\n",
       "  </tbody>\n",
       "</table>\n",
       "</div>"
      ],
      "text/plain": [
       "                                               model       mse       mae  \\\n",
       "0  (SimpleImputer(strategy='median'), MinMaxScale...  0.001214  0.030443   \n",
       "1  (SimpleImputer(strategy='median'), MinMaxScale...  0.002231  0.041524   \n",
       "2  (SimpleImputer(strategy='median'), MinMaxScale...  0.001220  0.031801   \n",
       "3  (SimpleImputer(strategy='median'), MinMaxScale...  0.001220  0.031801   \n",
       "4  (SimpleImputer(strategy='median'), MinMaxScale...  0.002746  0.045968   \n",
       "5  (SimpleImputer(strategy='median'), MinMaxScale...  0.001122  0.029024   \n",
       "6  (SimpleImputer(strategy='median'), MinMaxScale...  0.001857  0.033109   \n",
       "7  (SimpleImputer(strategy='median'), MinMaxScale...  0.000986  0.026275   \n",
       "8  (SimpleImputer(strategy='median'), MinMaxScale...  0.001184  0.031801   \n",
       "9  (SimpleImputer(strategy='median'), MinMaxScale...  0.001809  0.032464   \n",
       "\n",
       "         r2                          name  \n",
       "0 -0.027920         Polynomial Regression  \n",
       "1 -0.888329              Ridge Regression  \n",
       "2 -0.032375              Lasso Regression  \n",
       "3 -0.032375         ElasticNet Regression  \n",
       "4 -1.324445      Decision Tree Regression  \n",
       "5  0.049904      Random Forest Regression  \n",
       "6 -0.571935  Gradient Boosting Regression  \n",
       "7  0.165758           AdaBoost Regression  \n",
       "8 -0.002082     Support Vector Regression  \n",
       "9 -0.531119         KNeighbors Regression  "
      ]
     },
     "execution_count": 93,
     "metadata": {},
     "output_type": "execute_result"
    }
   ],
   "source": [
    "pd.DataFrame(results)"
   ]
  },
  {
   "cell_type": "code",
   "execution_count": 94,
   "metadata": {},
   "outputs": [
    {
     "data": {
      "text/html": [
       "<div>\n",
       "<style scoped>\n",
       "    .dataframe tbody tr th:only-of-type {\n",
       "        vertical-align: middle;\n",
       "    }\n",
       "\n",
       "    .dataframe tbody tr th {\n",
       "        vertical-align: top;\n",
       "    }\n",
       "\n",
       "    .dataframe thead th {\n",
       "        text-align: right;\n",
       "    }\n",
       "</style>\n",
       "<table border=\"1\" class=\"dataframe\">\n",
       "  <thead>\n",
       "    <tr style=\"text-align: right;\">\n",
       "      <th></th>\n",
       "      <th>model</th>\n",
       "      <th>mse</th>\n",
       "      <th>mae</th>\n",
       "      <th>r2</th>\n",
       "      <th>name</th>\n",
       "    </tr>\n",
       "  </thead>\n",
       "  <tbody>\n",
       "    <tr>\n",
       "      <th>0</th>\n",
       "      <td>(SimpleImputer(strategy='median'), MinMaxScale...</td>\n",
       "      <td>0.001214</td>\n",
       "      <td>0.030443</td>\n",
       "      <td>-0.027920</td>\n",
       "      <td>Polynomial Regression</td>\n",
       "    </tr>\n",
       "    <tr>\n",
       "      <th>1</th>\n",
       "      <td>(SimpleImputer(strategy='median'), MinMaxScale...</td>\n",
       "      <td>0.002231</td>\n",
       "      <td>0.041524</td>\n",
       "      <td>-0.888329</td>\n",
       "      <td>Ridge Regression</td>\n",
       "    </tr>\n",
       "    <tr>\n",
       "      <th>2</th>\n",
       "      <td>(SimpleImputer(strategy='median'), MinMaxScale...</td>\n",
       "      <td>0.001220</td>\n",
       "      <td>0.031801</td>\n",
       "      <td>-0.032375</td>\n",
       "      <td>Lasso Regression</td>\n",
       "    </tr>\n",
       "    <tr>\n",
       "      <th>3</th>\n",
       "      <td>(SimpleImputer(strategy='median'), MinMaxScale...</td>\n",
       "      <td>0.001220</td>\n",
       "      <td>0.031801</td>\n",
       "      <td>-0.032375</td>\n",
       "      <td>ElasticNet Regression</td>\n",
       "    </tr>\n",
       "    <tr>\n",
       "      <th>4</th>\n",
       "      <td>(SimpleImputer(strategy='median'), MinMaxScale...</td>\n",
       "      <td>0.002746</td>\n",
       "      <td>0.045968</td>\n",
       "      <td>-1.324445</td>\n",
       "      <td>Decision Tree Regression</td>\n",
       "    </tr>\n",
       "    <tr>\n",
       "      <th>5</th>\n",
       "      <td>(SimpleImputer(strategy='median'), MinMaxScale...</td>\n",
       "      <td>0.001122</td>\n",
       "      <td>0.029024</td>\n",
       "      <td>0.049904</td>\n",
       "      <td>Random Forest Regression</td>\n",
       "    </tr>\n",
       "    <tr>\n",
       "      <th>6</th>\n",
       "      <td>(SimpleImputer(strategy='median'), MinMaxScale...</td>\n",
       "      <td>0.001857</td>\n",
       "      <td>0.033109</td>\n",
       "      <td>-0.571935</td>\n",
       "      <td>Gradient Boosting Regression</td>\n",
       "    </tr>\n",
       "    <tr>\n",
       "      <th>7</th>\n",
       "      <td>(SimpleImputer(strategy='median'), MinMaxScale...</td>\n",
       "      <td>0.000986</td>\n",
       "      <td>0.026275</td>\n",
       "      <td>0.165758</td>\n",
       "      <td>AdaBoost Regression</td>\n",
       "    </tr>\n",
       "    <tr>\n",
       "      <th>8</th>\n",
       "      <td>(SimpleImputer(strategy='median'), MinMaxScale...</td>\n",
       "      <td>0.001184</td>\n",
       "      <td>0.031801</td>\n",
       "      <td>-0.002082</td>\n",
       "      <td>Support Vector Regression</td>\n",
       "    </tr>\n",
       "    <tr>\n",
       "      <th>9</th>\n",
       "      <td>(SimpleImputer(strategy='median'), MinMaxScale...</td>\n",
       "      <td>0.001809</td>\n",
       "      <td>0.032464</td>\n",
       "      <td>-0.531119</td>\n",
       "      <td>KNeighbors Regression</td>\n",
       "    </tr>\n",
       "  </tbody>\n",
       "</table>\n",
       "</div>"
      ],
      "text/plain": [
       "                                               model       mse       mae  \\\n",
       "0  (SimpleImputer(strategy='median'), MinMaxScale...  0.001214  0.030443   \n",
       "1  (SimpleImputer(strategy='median'), MinMaxScale...  0.002231  0.041524   \n",
       "2  (SimpleImputer(strategy='median'), MinMaxScale...  0.001220  0.031801   \n",
       "3  (SimpleImputer(strategy='median'), MinMaxScale...  0.001220  0.031801   \n",
       "4  (SimpleImputer(strategy='median'), MinMaxScale...  0.002746  0.045968   \n",
       "5  (SimpleImputer(strategy='median'), MinMaxScale...  0.001122  0.029024   \n",
       "6  (SimpleImputer(strategy='median'), MinMaxScale...  0.001857  0.033109   \n",
       "7  (SimpleImputer(strategy='median'), MinMaxScale...  0.000986  0.026275   \n",
       "8  (SimpleImputer(strategy='median'), MinMaxScale...  0.001184  0.031801   \n",
       "9  (SimpleImputer(strategy='median'), MinMaxScale...  0.001809  0.032464   \n",
       "\n",
       "         r2                          name  \n",
       "0 -0.027920         Polynomial Regression  \n",
       "1 -0.888329              Ridge Regression  \n",
       "2 -0.032375              Lasso Regression  \n",
       "3 -0.032375         ElasticNet Regression  \n",
       "4 -1.324445      Decision Tree Regression  \n",
       "5  0.049904      Random Forest Regression  \n",
       "6 -0.571935  Gradient Boosting Regression  \n",
       "7  0.165758           AdaBoost Regression  \n",
       "8 -0.002082     Support Vector Regression  \n",
       "9 -0.531119         KNeighbors Regression  "
      ]
     },
     "execution_count": 94,
     "metadata": {},
     "output_type": "execute_result"
    }
   ],
   "source": [
    "df_results = pd.DataFrame(results)\n",
    "df_results"
   ]
  },
  {
   "cell_type": "code",
   "execution_count": 95,
   "metadata": {},
   "outputs": [
    {
     "data": {
      "application/vnd.plotly.v1+json": {
       "config": {
        "plotlyServerURL": "https://plot.ly"
       },
       "data": [
        {
         "alignmentgroup": "True",
         "hovertemplate": "name=%{x}<br>mse=%{y}<extra></extra>",
         "legendgroup": "Polynomial Regression",
         "marker": {
          "color": "#636efa",
          "pattern": {
           "shape": ""
          }
         },
         "name": "Polynomial Regression",
         "offsetgroup": "Polynomial Regression",
         "orientation": "v",
         "showlegend": true,
         "textposition": "auto",
         "type": "bar",
         "x": [
          "Polynomial Regression"
         ],
         "xaxis": "x",
         "y": [
          0.0012143540526919747
         ],
         "yaxis": "y"
        },
        {
         "alignmentgroup": "True",
         "hovertemplate": "name=%{x}<br>mse=%{y}<extra></extra>",
         "legendgroup": "Ridge Regression",
         "marker": {
          "color": "#EF553B",
          "pattern": {
           "shape": ""
          }
         },
         "name": "Ridge Regression",
         "offsetgroup": "Ridge Regression",
         "orientation": "v",
         "showlegend": true,
         "textposition": "auto",
         "type": "bar",
         "x": [
          "Ridge Regression"
         ],
         "xaxis": "x",
         "y": [
          0.0022308144279972386
         ],
         "yaxis": "y"
        },
        {
         "alignmentgroup": "True",
         "hovertemplate": "name=%{x}<br>mse=%{y}<extra></extra>",
         "legendgroup": "Lasso Regression",
         "marker": {
          "color": "#00cc96",
          "pattern": {
           "shape": ""
          }
         },
         "name": "Lasso Regression",
         "offsetgroup": "Lasso Regression",
         "orientation": "v",
         "showlegend": true,
         "textposition": "auto",
         "type": "bar",
         "x": [
          "Lasso Regression"
         ],
         "xaxis": "x",
         "y": [
          0.001219616574448539
         ],
         "yaxis": "y"
        },
        {
         "alignmentgroup": "True",
         "hovertemplate": "name=%{x}<br>mse=%{y}<extra></extra>",
         "legendgroup": "ElasticNet Regression",
         "marker": {
          "color": "#ab63fa",
          "pattern": {
           "shape": ""
          }
         },
         "name": "ElasticNet Regression",
         "offsetgroup": "ElasticNet Regression",
         "orientation": "v",
         "showlegend": true,
         "textposition": "auto",
         "type": "bar",
         "x": [
          "ElasticNet Regression"
         ],
         "xaxis": "x",
         "y": [
          0.001219616574448539
         ],
         "yaxis": "y"
        },
        {
         "alignmentgroup": "True",
         "hovertemplate": "name=%{x}<br>mse=%{y}<extra></extra>",
         "legendgroup": "Decision Tree Regression",
         "marker": {
          "color": "#FFA15A",
          "pattern": {
           "shape": ""
          }
         },
         "name": "Decision Tree Regression",
         "offsetgroup": "Decision Tree Regression",
         "orientation": "v",
         "showlegend": true,
         "textposition": "auto",
         "type": "bar",
         "x": [
          "Decision Tree Regression"
         ],
         "xaxis": "x",
         "y": [
          0.0027460295482360226
         ],
         "yaxis": "y"
        },
        {
         "alignmentgroup": "True",
         "hovertemplate": "name=%{x}<br>mse=%{y}<extra></extra>",
         "legendgroup": "Random Forest Regression",
         "marker": {
          "color": "#19d3f3",
          "pattern": {
           "shape": ""
          }
         },
         "name": "Random Forest Regression",
         "offsetgroup": "Random Forest Regression",
         "orientation": "v",
         "showlegend": true,
         "textposition": "auto",
         "type": "bar",
         "x": [
          "Random Forest Regression"
         ],
         "xaxis": "x",
         "y": [
          0.0011224150396870111
         ],
         "yaxis": "y"
        },
        {
         "alignmentgroup": "True",
         "hovertemplate": "name=%{x}<br>mse=%{y}<extra></extra>",
         "legendgroup": "Gradient Boosting Regression",
         "marker": {
          "color": "#FF6692",
          "pattern": {
           "shape": ""
          }
         },
         "name": "Gradient Boosting Regression",
         "offsetgroup": "Gradient Boosting Regression",
         "orientation": "v",
         "showlegend": true,
         "textposition": "auto",
         "type": "bar",
         "x": [
          "Gradient Boosting Regression"
         ],
         "xaxis": "x",
         "y": [
          0.0018570366810648008
         ],
         "yaxis": "y"
        },
        {
         "alignmentgroup": "True",
         "hovertemplate": "name=%{x}<br>mse=%{y}<extra></extra>",
         "legendgroup": "AdaBoost Regression",
         "marker": {
          "color": "#B6E880",
          "pattern": {
           "shape": ""
          }
         },
         "name": "AdaBoost Regression",
         "offsetgroup": "AdaBoost Regression",
         "orientation": "v",
         "showlegend": true,
         "textposition": "auto",
         "type": "bar",
         "x": [
          "AdaBoost Regression"
         ],
         "xaxis": "x",
         "y": [
          0.0009855489113769322
         ],
         "yaxis": "y"
        },
        {
         "alignmentgroup": "True",
         "hovertemplate": "name=%{x}<br>mse=%{y}<extra></extra>",
         "legendgroup": "Support Vector Regression",
         "marker": {
          "color": "#FF97FF",
          "pattern": {
           "shape": ""
          }
         },
         "name": "Support Vector Regression",
         "offsetgroup": "Support Vector Regression",
         "orientation": "v",
         "showlegend": true,
         "textposition": "auto",
         "type": "bar",
         "x": [
          "Support Vector Regression"
         ],
         "xaxis": "x",
         "y": [
          0.0011838298475335813
         ],
         "yaxis": "y"
        },
        {
         "alignmentgroup": "True",
         "hovertemplate": "name=%{x}<br>mse=%{y}<extra></extra>",
         "legendgroup": "KNeighbors Regression",
         "marker": {
          "color": "#FECB52",
          "pattern": {
           "shape": ""
          }
         },
         "name": "KNeighbors Regression",
         "offsetgroup": "KNeighbors Regression",
         "orientation": "v",
         "showlegend": true,
         "textposition": "auto",
         "type": "bar",
         "x": [
          "KNeighbors Regression"
         ],
         "xaxis": "x",
         "y": [
          0.0018088179006391495
         ],
         "yaxis": "y"
        }
       ],
       "layout": {
        "annotations": [
         {
          "showarrow": false,
          "text": "Lower the MSE, better the model",
          "x": 0.5,
          "xref": "paper",
          "y": 0.9,
          "yref": "paper"
         }
        ],
        "barmode": "relative",
        "legend": {
         "title": {
          "text": "name"
         },
         "tracegroupgap": 0
        },
        "template": {
         "data": {
          "bar": [
           {
            "error_x": {
             "color": "#2a3f5f"
            },
            "error_y": {
             "color": "#2a3f5f"
            },
            "marker": {
             "line": {
              "color": "#E5ECF6",
              "width": 0.5
             },
             "pattern": {
              "fillmode": "overlay",
              "size": 10,
              "solidity": 0.2
             }
            },
            "type": "bar"
           }
          ],
          "barpolar": [
           {
            "marker": {
             "line": {
              "color": "#E5ECF6",
              "width": 0.5
             },
             "pattern": {
              "fillmode": "overlay",
              "size": 10,
              "solidity": 0.2
             }
            },
            "type": "barpolar"
           }
          ],
          "carpet": [
           {
            "aaxis": {
             "endlinecolor": "#2a3f5f",
             "gridcolor": "white",
             "linecolor": "white",
             "minorgridcolor": "white",
             "startlinecolor": "#2a3f5f"
            },
            "baxis": {
             "endlinecolor": "#2a3f5f",
             "gridcolor": "white",
             "linecolor": "white",
             "minorgridcolor": "white",
             "startlinecolor": "#2a3f5f"
            },
            "type": "carpet"
           }
          ],
          "choropleth": [
           {
            "colorbar": {
             "outlinewidth": 0,
             "ticks": ""
            },
            "type": "choropleth"
           }
          ],
          "contour": [
           {
            "colorbar": {
             "outlinewidth": 0,
             "ticks": ""
            },
            "colorscale": [
             [
              0,
              "#0d0887"
             ],
             [
              0.1111111111111111,
              "#46039f"
             ],
             [
              0.2222222222222222,
              "#7201a8"
             ],
             [
              0.3333333333333333,
              "#9c179e"
             ],
             [
              0.4444444444444444,
              "#bd3786"
             ],
             [
              0.5555555555555556,
              "#d8576b"
             ],
             [
              0.6666666666666666,
              "#ed7953"
             ],
             [
              0.7777777777777778,
              "#fb9f3a"
             ],
             [
              0.8888888888888888,
              "#fdca26"
             ],
             [
              1,
              "#f0f921"
             ]
            ],
            "type": "contour"
           }
          ],
          "contourcarpet": [
           {
            "colorbar": {
             "outlinewidth": 0,
             "ticks": ""
            },
            "type": "contourcarpet"
           }
          ],
          "heatmap": [
           {
            "colorbar": {
             "outlinewidth": 0,
             "ticks": ""
            },
            "colorscale": [
             [
              0,
              "#0d0887"
             ],
             [
              0.1111111111111111,
              "#46039f"
             ],
             [
              0.2222222222222222,
              "#7201a8"
             ],
             [
              0.3333333333333333,
              "#9c179e"
             ],
             [
              0.4444444444444444,
              "#bd3786"
             ],
             [
              0.5555555555555556,
              "#d8576b"
             ],
             [
              0.6666666666666666,
              "#ed7953"
             ],
             [
              0.7777777777777778,
              "#fb9f3a"
             ],
             [
              0.8888888888888888,
              "#fdca26"
             ],
             [
              1,
              "#f0f921"
             ]
            ],
            "type": "heatmap"
           }
          ],
          "heatmapgl": [
           {
            "colorbar": {
             "outlinewidth": 0,
             "ticks": ""
            },
            "colorscale": [
             [
              0,
              "#0d0887"
             ],
             [
              0.1111111111111111,
              "#46039f"
             ],
             [
              0.2222222222222222,
              "#7201a8"
             ],
             [
              0.3333333333333333,
              "#9c179e"
             ],
             [
              0.4444444444444444,
              "#bd3786"
             ],
             [
              0.5555555555555556,
              "#d8576b"
             ],
             [
              0.6666666666666666,
              "#ed7953"
             ],
             [
              0.7777777777777778,
              "#fb9f3a"
             ],
             [
              0.8888888888888888,
              "#fdca26"
             ],
             [
              1,
              "#f0f921"
             ]
            ],
            "type": "heatmapgl"
           }
          ],
          "histogram": [
           {
            "marker": {
             "pattern": {
              "fillmode": "overlay",
              "size": 10,
              "solidity": 0.2
             }
            },
            "type": "histogram"
           }
          ],
          "histogram2d": [
           {
            "colorbar": {
             "outlinewidth": 0,
             "ticks": ""
            },
            "colorscale": [
             [
              0,
              "#0d0887"
             ],
             [
              0.1111111111111111,
              "#46039f"
             ],
             [
              0.2222222222222222,
              "#7201a8"
             ],
             [
              0.3333333333333333,
              "#9c179e"
             ],
             [
              0.4444444444444444,
              "#bd3786"
             ],
             [
              0.5555555555555556,
              "#d8576b"
             ],
             [
              0.6666666666666666,
              "#ed7953"
             ],
             [
              0.7777777777777778,
              "#fb9f3a"
             ],
             [
              0.8888888888888888,
              "#fdca26"
             ],
             [
              1,
              "#f0f921"
             ]
            ],
            "type": "histogram2d"
           }
          ],
          "histogram2dcontour": [
           {
            "colorbar": {
             "outlinewidth": 0,
             "ticks": ""
            },
            "colorscale": [
             [
              0,
              "#0d0887"
             ],
             [
              0.1111111111111111,
              "#46039f"
             ],
             [
              0.2222222222222222,
              "#7201a8"
             ],
             [
              0.3333333333333333,
              "#9c179e"
             ],
             [
              0.4444444444444444,
              "#bd3786"
             ],
             [
              0.5555555555555556,
              "#d8576b"
             ],
             [
              0.6666666666666666,
              "#ed7953"
             ],
             [
              0.7777777777777778,
              "#fb9f3a"
             ],
             [
              0.8888888888888888,
              "#fdca26"
             ],
             [
              1,
              "#f0f921"
             ]
            ],
            "type": "histogram2dcontour"
           }
          ],
          "mesh3d": [
           {
            "colorbar": {
             "outlinewidth": 0,
             "ticks": ""
            },
            "type": "mesh3d"
           }
          ],
          "parcoords": [
           {
            "line": {
             "colorbar": {
              "outlinewidth": 0,
              "ticks": ""
             }
            },
            "type": "parcoords"
           }
          ],
          "pie": [
           {
            "automargin": true,
            "type": "pie"
           }
          ],
          "scatter": [
           {
            "fillpattern": {
             "fillmode": "overlay",
             "size": 10,
             "solidity": 0.2
            },
            "type": "scatter"
           }
          ],
          "scatter3d": [
           {
            "line": {
             "colorbar": {
              "outlinewidth": 0,
              "ticks": ""
             }
            },
            "marker": {
             "colorbar": {
              "outlinewidth": 0,
              "ticks": ""
             }
            },
            "type": "scatter3d"
           }
          ],
          "scattercarpet": [
           {
            "marker": {
             "colorbar": {
              "outlinewidth": 0,
              "ticks": ""
             }
            },
            "type": "scattercarpet"
           }
          ],
          "scattergeo": [
           {
            "marker": {
             "colorbar": {
              "outlinewidth": 0,
              "ticks": ""
             }
            },
            "type": "scattergeo"
           }
          ],
          "scattergl": [
           {
            "marker": {
             "colorbar": {
              "outlinewidth": 0,
              "ticks": ""
             }
            },
            "type": "scattergl"
           }
          ],
          "scattermapbox": [
           {
            "marker": {
             "colorbar": {
              "outlinewidth": 0,
              "ticks": ""
             }
            },
            "type": "scattermapbox"
           }
          ],
          "scatterpolar": [
           {
            "marker": {
             "colorbar": {
              "outlinewidth": 0,
              "ticks": ""
             }
            },
            "type": "scatterpolar"
           }
          ],
          "scatterpolargl": [
           {
            "marker": {
             "colorbar": {
              "outlinewidth": 0,
              "ticks": ""
             }
            },
            "type": "scatterpolargl"
           }
          ],
          "scatterternary": [
           {
            "marker": {
             "colorbar": {
              "outlinewidth": 0,
              "ticks": ""
             }
            },
            "type": "scatterternary"
           }
          ],
          "surface": [
           {
            "colorbar": {
             "outlinewidth": 0,
             "ticks": ""
            },
            "colorscale": [
             [
              0,
              "#0d0887"
             ],
             [
              0.1111111111111111,
              "#46039f"
             ],
             [
              0.2222222222222222,
              "#7201a8"
             ],
             [
              0.3333333333333333,
              "#9c179e"
             ],
             [
              0.4444444444444444,
              "#bd3786"
             ],
             [
              0.5555555555555556,
              "#d8576b"
             ],
             [
              0.6666666666666666,
              "#ed7953"
             ],
             [
              0.7777777777777778,
              "#fb9f3a"
             ],
             [
              0.8888888888888888,
              "#fdca26"
             ],
             [
              1,
              "#f0f921"
             ]
            ],
            "type": "surface"
           }
          ],
          "table": [
           {
            "cells": {
             "fill": {
              "color": "#EBF0F8"
             },
             "line": {
              "color": "white"
             }
            },
            "header": {
             "fill": {
              "color": "#C8D4E3"
             },
             "line": {
              "color": "white"
             }
            },
            "type": "table"
           }
          ]
         },
         "layout": {
          "annotationdefaults": {
           "arrowcolor": "#2a3f5f",
           "arrowhead": 0,
           "arrowwidth": 1
          },
          "autotypenumbers": "strict",
          "coloraxis": {
           "colorbar": {
            "outlinewidth": 0,
            "ticks": ""
           }
          },
          "colorscale": {
           "diverging": [
            [
             0,
             "#8e0152"
            ],
            [
             0.1,
             "#c51b7d"
            ],
            [
             0.2,
             "#de77ae"
            ],
            [
             0.3,
             "#f1b6da"
            ],
            [
             0.4,
             "#fde0ef"
            ],
            [
             0.5,
             "#f7f7f7"
            ],
            [
             0.6,
             "#e6f5d0"
            ],
            [
             0.7,
             "#b8e186"
            ],
            [
             0.8,
             "#7fbc41"
            ],
            [
             0.9,
             "#4d9221"
            ],
            [
             1,
             "#276419"
            ]
           ],
           "sequential": [
            [
             0,
             "#0d0887"
            ],
            [
             0.1111111111111111,
             "#46039f"
            ],
            [
             0.2222222222222222,
             "#7201a8"
            ],
            [
             0.3333333333333333,
             "#9c179e"
            ],
            [
             0.4444444444444444,
             "#bd3786"
            ],
            [
             0.5555555555555556,
             "#d8576b"
            ],
            [
             0.6666666666666666,
             "#ed7953"
            ],
            [
             0.7777777777777778,
             "#fb9f3a"
            ],
            [
             0.8888888888888888,
             "#fdca26"
            ],
            [
             1,
             "#f0f921"
            ]
           ],
           "sequentialminus": [
            [
             0,
             "#0d0887"
            ],
            [
             0.1111111111111111,
             "#46039f"
            ],
            [
             0.2222222222222222,
             "#7201a8"
            ],
            [
             0.3333333333333333,
             "#9c179e"
            ],
            [
             0.4444444444444444,
             "#bd3786"
            ],
            [
             0.5555555555555556,
             "#d8576b"
            ],
            [
             0.6666666666666666,
             "#ed7953"
            ],
            [
             0.7777777777777778,
             "#fb9f3a"
            ],
            [
             0.8888888888888888,
             "#fdca26"
            ],
            [
             1,
             "#f0f921"
            ]
           ]
          },
          "colorway": [
           "#636efa",
           "#EF553B",
           "#00cc96",
           "#ab63fa",
           "#FFA15A",
           "#19d3f3",
           "#FF6692",
           "#B6E880",
           "#FF97FF",
           "#FECB52"
          ],
          "font": {
           "color": "#2a3f5f"
          },
          "geo": {
           "bgcolor": "white",
           "lakecolor": "white",
           "landcolor": "#E5ECF6",
           "showlakes": true,
           "showland": true,
           "subunitcolor": "white"
          },
          "hoverlabel": {
           "align": "left"
          },
          "hovermode": "closest",
          "mapbox": {
           "style": "light"
          },
          "paper_bgcolor": "white",
          "plot_bgcolor": "#E5ECF6",
          "polar": {
           "angularaxis": {
            "gridcolor": "white",
            "linecolor": "white",
            "ticks": ""
           },
           "bgcolor": "#E5ECF6",
           "radialaxis": {
            "gridcolor": "white",
            "linecolor": "white",
            "ticks": ""
           }
          },
          "scene": {
           "xaxis": {
            "backgroundcolor": "#E5ECF6",
            "gridcolor": "white",
            "gridwidth": 2,
            "linecolor": "white",
            "showbackground": true,
            "ticks": "",
            "zerolinecolor": "white"
           },
           "yaxis": {
            "backgroundcolor": "#E5ECF6",
            "gridcolor": "white",
            "gridwidth": 2,
            "linecolor": "white",
            "showbackground": true,
            "ticks": "",
            "zerolinecolor": "white"
           },
           "zaxis": {
            "backgroundcolor": "#E5ECF6",
            "gridcolor": "white",
            "gridwidth": 2,
            "linecolor": "white",
            "showbackground": true,
            "ticks": "",
            "zerolinecolor": "white"
           }
          },
          "shapedefaults": {
           "line": {
            "color": "#2a3f5f"
           }
          },
          "ternary": {
           "aaxis": {
            "gridcolor": "white",
            "linecolor": "white",
            "ticks": ""
           },
           "baxis": {
            "gridcolor": "white",
            "linecolor": "white",
            "ticks": ""
           },
           "bgcolor": "#E5ECF6",
           "caxis": {
            "gridcolor": "white",
            "linecolor": "white",
            "ticks": ""
           }
          },
          "title": {
           "x": 0.05
          },
          "xaxis": {
           "automargin": true,
           "gridcolor": "white",
           "linecolor": "white",
           "ticks": "",
           "title": {
            "standoff": 15
           },
           "zerolinecolor": "white",
           "zerolinewidth": 2
          },
          "yaxis": {
           "automargin": true,
           "gridcolor": "white",
           "linecolor": "white",
           "ticks": "",
           "title": {
            "standoff": 15
           },
           "zerolinecolor": "white",
           "zerolinewidth": 2
          }
         }
        },
        "title": {
         "text": "MSE Scores of Regression Models"
        },
        "xaxis": {
         "anchor": "y",
         "categoryarray": [
          "Polynomial Regression",
          "Ridge Regression",
          "Lasso Regression",
          "ElasticNet Regression",
          "Decision Tree Regression",
          "Random Forest Regression",
          "Gradient Boosting Regression",
          "AdaBoost Regression",
          "Support Vector Regression",
          "KNeighbors Regression"
         ],
         "categoryorder": "array",
         "domain": [
          0,
          1
         ],
         "title": {
          "text": "name"
         }
        },
        "yaxis": {
         "anchor": "x",
         "domain": [
          0,
          1
         ],
         "title": {
          "text": "mse"
         },
         "type": "log"
        }
       }
      }
     },
     "metadata": {},
     "output_type": "display_data"
    }
   ],
   "source": [
    "fig = px.bar(df_results, x='name', y='mse', color='name', log_y=True, title='MSE Scores of Regression Models')\n",
    "# lower the mse, better the model\n",
    "fig.add_annotation(xref='paper', yref='paper', x=0.5, y=0.9, text='Lower the MSE, better the model', showarrow=False)\n",
    "fig.show()"
   ]
  },
  {
   "cell_type": "code",
   "execution_count": 96,
   "metadata": {},
   "outputs": [
    {
     "data": {
      "application/vnd.plotly.v1+json": {
       "config": {
        "plotlyServerURL": "https://plot.ly"
       },
       "data": [
        {
         "alignmentgroup": "True",
         "hovertemplate": "name=%{x}<br>mae=%{y}<extra></extra>",
         "legendgroup": "Polynomial Regression",
         "marker": {
          "color": "#636efa",
          "pattern": {
           "shape": ""
          }
         },
         "name": "Polynomial Regression",
         "offsetgroup": "Polynomial Regression",
         "orientation": "v",
         "showlegend": true,
         "textposition": "auto",
         "type": "bar",
         "x": [
          "Polynomial Regression"
         ],
         "xaxis": "x",
         "y": [
          0.030443430648830965
         ],
         "yaxis": "y"
        },
        {
         "alignmentgroup": "True",
         "hovertemplate": "name=%{x}<br>mae=%{y}<extra></extra>",
         "legendgroup": "Ridge Regression",
         "marker": {
          "color": "#EF553B",
          "pattern": {
           "shape": ""
          }
         },
         "name": "Ridge Regression",
         "offsetgroup": "Ridge Regression",
         "orientation": "v",
         "showlegend": true,
         "textposition": "auto",
         "type": "bar",
         "x": [
          "Ridge Regression"
         ],
         "xaxis": "x",
         "y": [
          0.04152438260704837
         ],
         "yaxis": "y"
        },
        {
         "alignmentgroup": "True",
         "hovertemplate": "name=%{x}<br>mae=%{y}<extra></extra>",
         "legendgroup": "Lasso Regression",
         "marker": {
          "color": "#00cc96",
          "pattern": {
           "shape": ""
          }
         },
         "name": "Lasso Regression",
         "offsetgroup": "Lasso Regression",
         "orientation": "v",
         "showlegend": true,
         "textposition": "auto",
         "type": "bar",
         "x": [
          "Lasso Regression"
         ],
         "xaxis": "x",
         "y": [
          0.03180099979999999
         ],
         "yaxis": "y"
        },
        {
         "alignmentgroup": "True",
         "hovertemplate": "name=%{x}<br>mae=%{y}<extra></extra>",
         "legendgroup": "ElasticNet Regression",
         "marker": {
          "color": "#ab63fa",
          "pattern": {
           "shape": ""
          }
         },
         "name": "ElasticNet Regression",
         "offsetgroup": "ElasticNet Regression",
         "orientation": "v",
         "showlegend": true,
         "textposition": "auto",
         "type": "bar",
         "x": [
          "ElasticNet Regression"
         ],
         "xaxis": "x",
         "y": [
          0.03180099979999999
         ],
         "yaxis": "y"
        },
        {
         "alignmentgroup": "True",
         "hovertemplate": "name=%{x}<br>mae=%{y}<extra></extra>",
         "legendgroup": "Decision Tree Regression",
         "marker": {
          "color": "#FFA15A",
          "pattern": {
           "shape": ""
          }
         },
         "name": "Decision Tree Regression",
         "offsetgroup": "Decision Tree Regression",
         "orientation": "v",
         "showlegend": true,
         "textposition": "auto",
         "type": "bar",
         "x": [
          "Decision Tree Regression"
         ],
         "xaxis": "x",
         "y": [
          0.04596753829999997
         ],
         "yaxis": "y"
        },
        {
         "alignmentgroup": "True",
         "hovertemplate": "name=%{x}<br>mae=%{y}<extra></extra>",
         "legendgroup": "Random Forest Regression",
         "marker": {
          "color": "#19d3f3",
          "pattern": {
           "shape": ""
          }
         },
         "name": "Random Forest Regression",
         "offsetgroup": "Random Forest Regression",
         "orientation": "v",
         "showlegend": true,
         "textposition": "auto",
         "type": "bar",
         "x": [
          "Random Forest Regression"
         ],
         "xaxis": "x",
         "y": [
          0.029023914466000063
         ],
         "yaxis": "y"
        },
        {
         "alignmentgroup": "True",
         "hovertemplate": "name=%{x}<br>mae=%{y}<extra></extra>",
         "legendgroup": "Gradient Boosting Regression",
         "marker": {
          "color": "#FF6692",
          "pattern": {
           "shape": ""
          }
         },
         "name": "Gradient Boosting Regression",
         "offsetgroup": "Gradient Boosting Regression",
         "orientation": "v",
         "showlegend": true,
         "textposition": "auto",
         "type": "bar",
         "x": [
          "Gradient Boosting Regression"
         ],
         "xaxis": "x",
         "y": [
          0.03310898903364791
         ],
         "yaxis": "y"
        },
        {
         "alignmentgroup": "True",
         "hovertemplate": "name=%{x}<br>mae=%{y}<extra></extra>",
         "legendgroup": "AdaBoost Regression",
         "marker": {
          "color": "#B6E880",
          "pattern": {
           "shape": ""
          }
         },
         "name": "AdaBoost Regression",
         "offsetgroup": "AdaBoost Regression",
         "orientation": "v",
         "showlegend": true,
         "textposition": "auto",
         "type": "bar",
         "x": [
          "AdaBoost Regression"
         ],
         "xaxis": "x",
         "y": [
          0.02627484777182539
         ],
         "yaxis": "y"
        },
        {
         "alignmentgroup": "True",
         "hovertemplate": "name=%{x}<br>mae=%{y}<extra></extra>",
         "legendgroup": "Support Vector Regression",
         "marker": {
          "color": "#FF97FF",
          "pattern": {
           "shape": ""
          }
         },
         "name": "Support Vector Regression",
         "offsetgroup": "Support Vector Regression",
         "orientation": "v",
         "showlegend": true,
         "textposition": "auto",
         "type": "bar",
         "x": [
          "Support Vector Regression"
         ],
         "xaxis": "x",
         "y": [
          0.03180099979999999
         ],
         "yaxis": "y"
        },
        {
         "alignmentgroup": "True",
         "hovertemplate": "name=%{x}<br>mae=%{y}<extra></extra>",
         "legendgroup": "KNeighbors Regression",
         "marker": {
          "color": "#FECB52",
          "pattern": {
           "shape": ""
          }
         },
         "name": "KNeighbors Regression",
         "offsetgroup": "KNeighbors Regression",
         "orientation": "v",
         "showlegend": true,
         "textposition": "auto",
         "type": "bar",
         "x": [
          "KNeighbors Regression"
         ],
         "xaxis": "x",
         "y": [
          0.03246413413999999
         ],
         "yaxis": "y"
        }
       ],
       "layout": {
        "annotations": [
         {
          "showarrow": false,
          "text": "Lower the MAE, better the model",
          "x": 0.5,
          "xref": "paper",
          "y": 0.9,
          "yref": "paper"
         }
        ],
        "barmode": "relative",
        "legend": {
         "title": {
          "text": "name"
         },
         "tracegroupgap": 0
        },
        "template": {
         "data": {
          "bar": [
           {
            "error_x": {
             "color": "#2a3f5f"
            },
            "error_y": {
             "color": "#2a3f5f"
            },
            "marker": {
             "line": {
              "color": "#E5ECF6",
              "width": 0.5
             },
             "pattern": {
              "fillmode": "overlay",
              "size": 10,
              "solidity": 0.2
             }
            },
            "type": "bar"
           }
          ],
          "barpolar": [
           {
            "marker": {
             "line": {
              "color": "#E5ECF6",
              "width": 0.5
             },
             "pattern": {
              "fillmode": "overlay",
              "size": 10,
              "solidity": 0.2
             }
            },
            "type": "barpolar"
           }
          ],
          "carpet": [
           {
            "aaxis": {
             "endlinecolor": "#2a3f5f",
             "gridcolor": "white",
             "linecolor": "white",
             "minorgridcolor": "white",
             "startlinecolor": "#2a3f5f"
            },
            "baxis": {
             "endlinecolor": "#2a3f5f",
             "gridcolor": "white",
             "linecolor": "white",
             "minorgridcolor": "white",
             "startlinecolor": "#2a3f5f"
            },
            "type": "carpet"
           }
          ],
          "choropleth": [
           {
            "colorbar": {
             "outlinewidth": 0,
             "ticks": ""
            },
            "type": "choropleth"
           }
          ],
          "contour": [
           {
            "colorbar": {
             "outlinewidth": 0,
             "ticks": ""
            },
            "colorscale": [
             [
              0,
              "#0d0887"
             ],
             [
              0.1111111111111111,
              "#46039f"
             ],
             [
              0.2222222222222222,
              "#7201a8"
             ],
             [
              0.3333333333333333,
              "#9c179e"
             ],
             [
              0.4444444444444444,
              "#bd3786"
             ],
             [
              0.5555555555555556,
              "#d8576b"
             ],
             [
              0.6666666666666666,
              "#ed7953"
             ],
             [
              0.7777777777777778,
              "#fb9f3a"
             ],
             [
              0.8888888888888888,
              "#fdca26"
             ],
             [
              1,
              "#f0f921"
             ]
            ],
            "type": "contour"
           }
          ],
          "contourcarpet": [
           {
            "colorbar": {
             "outlinewidth": 0,
             "ticks": ""
            },
            "type": "contourcarpet"
           }
          ],
          "heatmap": [
           {
            "colorbar": {
             "outlinewidth": 0,
             "ticks": ""
            },
            "colorscale": [
             [
              0,
              "#0d0887"
             ],
             [
              0.1111111111111111,
              "#46039f"
             ],
             [
              0.2222222222222222,
              "#7201a8"
             ],
             [
              0.3333333333333333,
              "#9c179e"
             ],
             [
              0.4444444444444444,
              "#bd3786"
             ],
             [
              0.5555555555555556,
              "#d8576b"
             ],
             [
              0.6666666666666666,
              "#ed7953"
             ],
             [
              0.7777777777777778,
              "#fb9f3a"
             ],
             [
              0.8888888888888888,
              "#fdca26"
             ],
             [
              1,
              "#f0f921"
             ]
            ],
            "type": "heatmap"
           }
          ],
          "heatmapgl": [
           {
            "colorbar": {
             "outlinewidth": 0,
             "ticks": ""
            },
            "colorscale": [
             [
              0,
              "#0d0887"
             ],
             [
              0.1111111111111111,
              "#46039f"
             ],
             [
              0.2222222222222222,
              "#7201a8"
             ],
             [
              0.3333333333333333,
              "#9c179e"
             ],
             [
              0.4444444444444444,
              "#bd3786"
             ],
             [
              0.5555555555555556,
              "#d8576b"
             ],
             [
              0.6666666666666666,
              "#ed7953"
             ],
             [
              0.7777777777777778,
              "#fb9f3a"
             ],
             [
              0.8888888888888888,
              "#fdca26"
             ],
             [
              1,
              "#f0f921"
             ]
            ],
            "type": "heatmapgl"
           }
          ],
          "histogram": [
           {
            "marker": {
             "pattern": {
              "fillmode": "overlay",
              "size": 10,
              "solidity": 0.2
             }
            },
            "type": "histogram"
           }
          ],
          "histogram2d": [
           {
            "colorbar": {
             "outlinewidth": 0,
             "ticks": ""
            },
            "colorscale": [
             [
              0,
              "#0d0887"
             ],
             [
              0.1111111111111111,
              "#46039f"
             ],
             [
              0.2222222222222222,
              "#7201a8"
             ],
             [
              0.3333333333333333,
              "#9c179e"
             ],
             [
              0.4444444444444444,
              "#bd3786"
             ],
             [
              0.5555555555555556,
              "#d8576b"
             ],
             [
              0.6666666666666666,
              "#ed7953"
             ],
             [
              0.7777777777777778,
              "#fb9f3a"
             ],
             [
              0.8888888888888888,
              "#fdca26"
             ],
             [
              1,
              "#f0f921"
             ]
            ],
            "type": "histogram2d"
           }
          ],
          "histogram2dcontour": [
           {
            "colorbar": {
             "outlinewidth": 0,
             "ticks": ""
            },
            "colorscale": [
             [
              0,
              "#0d0887"
             ],
             [
              0.1111111111111111,
              "#46039f"
             ],
             [
              0.2222222222222222,
              "#7201a8"
             ],
             [
              0.3333333333333333,
              "#9c179e"
             ],
             [
              0.4444444444444444,
              "#bd3786"
             ],
             [
              0.5555555555555556,
              "#d8576b"
             ],
             [
              0.6666666666666666,
              "#ed7953"
             ],
             [
              0.7777777777777778,
              "#fb9f3a"
             ],
             [
              0.8888888888888888,
              "#fdca26"
             ],
             [
              1,
              "#f0f921"
             ]
            ],
            "type": "histogram2dcontour"
           }
          ],
          "mesh3d": [
           {
            "colorbar": {
             "outlinewidth": 0,
             "ticks": ""
            },
            "type": "mesh3d"
           }
          ],
          "parcoords": [
           {
            "line": {
             "colorbar": {
              "outlinewidth": 0,
              "ticks": ""
             }
            },
            "type": "parcoords"
           }
          ],
          "pie": [
           {
            "automargin": true,
            "type": "pie"
           }
          ],
          "scatter": [
           {
            "fillpattern": {
             "fillmode": "overlay",
             "size": 10,
             "solidity": 0.2
            },
            "type": "scatter"
           }
          ],
          "scatter3d": [
           {
            "line": {
             "colorbar": {
              "outlinewidth": 0,
              "ticks": ""
             }
            },
            "marker": {
             "colorbar": {
              "outlinewidth": 0,
              "ticks": ""
             }
            },
            "type": "scatter3d"
           }
          ],
          "scattercarpet": [
           {
            "marker": {
             "colorbar": {
              "outlinewidth": 0,
              "ticks": ""
             }
            },
            "type": "scattercarpet"
           }
          ],
          "scattergeo": [
           {
            "marker": {
             "colorbar": {
              "outlinewidth": 0,
              "ticks": ""
             }
            },
            "type": "scattergeo"
           }
          ],
          "scattergl": [
           {
            "marker": {
             "colorbar": {
              "outlinewidth": 0,
              "ticks": ""
             }
            },
            "type": "scattergl"
           }
          ],
          "scattermapbox": [
           {
            "marker": {
             "colorbar": {
              "outlinewidth": 0,
              "ticks": ""
             }
            },
            "type": "scattermapbox"
           }
          ],
          "scatterpolar": [
           {
            "marker": {
             "colorbar": {
              "outlinewidth": 0,
              "ticks": ""
             }
            },
            "type": "scatterpolar"
           }
          ],
          "scatterpolargl": [
           {
            "marker": {
             "colorbar": {
              "outlinewidth": 0,
              "ticks": ""
             }
            },
            "type": "scatterpolargl"
           }
          ],
          "scatterternary": [
           {
            "marker": {
             "colorbar": {
              "outlinewidth": 0,
              "ticks": ""
             }
            },
            "type": "scatterternary"
           }
          ],
          "surface": [
           {
            "colorbar": {
             "outlinewidth": 0,
             "ticks": ""
            },
            "colorscale": [
             [
              0,
              "#0d0887"
             ],
             [
              0.1111111111111111,
              "#46039f"
             ],
             [
              0.2222222222222222,
              "#7201a8"
             ],
             [
              0.3333333333333333,
              "#9c179e"
             ],
             [
              0.4444444444444444,
              "#bd3786"
             ],
             [
              0.5555555555555556,
              "#d8576b"
             ],
             [
              0.6666666666666666,
              "#ed7953"
             ],
             [
              0.7777777777777778,
              "#fb9f3a"
             ],
             [
              0.8888888888888888,
              "#fdca26"
             ],
             [
              1,
              "#f0f921"
             ]
            ],
            "type": "surface"
           }
          ],
          "table": [
           {
            "cells": {
             "fill": {
              "color": "#EBF0F8"
             },
             "line": {
              "color": "white"
             }
            },
            "header": {
             "fill": {
              "color": "#C8D4E3"
             },
             "line": {
              "color": "white"
             }
            },
            "type": "table"
           }
          ]
         },
         "layout": {
          "annotationdefaults": {
           "arrowcolor": "#2a3f5f",
           "arrowhead": 0,
           "arrowwidth": 1
          },
          "autotypenumbers": "strict",
          "coloraxis": {
           "colorbar": {
            "outlinewidth": 0,
            "ticks": ""
           }
          },
          "colorscale": {
           "diverging": [
            [
             0,
             "#8e0152"
            ],
            [
             0.1,
             "#c51b7d"
            ],
            [
             0.2,
             "#de77ae"
            ],
            [
             0.3,
             "#f1b6da"
            ],
            [
             0.4,
             "#fde0ef"
            ],
            [
             0.5,
             "#f7f7f7"
            ],
            [
             0.6,
             "#e6f5d0"
            ],
            [
             0.7,
             "#b8e186"
            ],
            [
             0.8,
             "#7fbc41"
            ],
            [
             0.9,
             "#4d9221"
            ],
            [
             1,
             "#276419"
            ]
           ],
           "sequential": [
            [
             0,
             "#0d0887"
            ],
            [
             0.1111111111111111,
             "#46039f"
            ],
            [
             0.2222222222222222,
             "#7201a8"
            ],
            [
             0.3333333333333333,
             "#9c179e"
            ],
            [
             0.4444444444444444,
             "#bd3786"
            ],
            [
             0.5555555555555556,
             "#d8576b"
            ],
            [
             0.6666666666666666,
             "#ed7953"
            ],
            [
             0.7777777777777778,
             "#fb9f3a"
            ],
            [
             0.8888888888888888,
             "#fdca26"
            ],
            [
             1,
             "#f0f921"
            ]
           ],
           "sequentialminus": [
            [
             0,
             "#0d0887"
            ],
            [
             0.1111111111111111,
             "#46039f"
            ],
            [
             0.2222222222222222,
             "#7201a8"
            ],
            [
             0.3333333333333333,
             "#9c179e"
            ],
            [
             0.4444444444444444,
             "#bd3786"
            ],
            [
             0.5555555555555556,
             "#d8576b"
            ],
            [
             0.6666666666666666,
             "#ed7953"
            ],
            [
             0.7777777777777778,
             "#fb9f3a"
            ],
            [
             0.8888888888888888,
             "#fdca26"
            ],
            [
             1,
             "#f0f921"
            ]
           ]
          },
          "colorway": [
           "#636efa",
           "#EF553B",
           "#00cc96",
           "#ab63fa",
           "#FFA15A",
           "#19d3f3",
           "#FF6692",
           "#B6E880",
           "#FF97FF",
           "#FECB52"
          ],
          "font": {
           "color": "#2a3f5f"
          },
          "geo": {
           "bgcolor": "white",
           "lakecolor": "white",
           "landcolor": "#E5ECF6",
           "showlakes": true,
           "showland": true,
           "subunitcolor": "white"
          },
          "hoverlabel": {
           "align": "left"
          },
          "hovermode": "closest",
          "mapbox": {
           "style": "light"
          },
          "paper_bgcolor": "white",
          "plot_bgcolor": "#E5ECF6",
          "polar": {
           "angularaxis": {
            "gridcolor": "white",
            "linecolor": "white",
            "ticks": ""
           },
           "bgcolor": "#E5ECF6",
           "radialaxis": {
            "gridcolor": "white",
            "linecolor": "white",
            "ticks": ""
           }
          },
          "scene": {
           "xaxis": {
            "backgroundcolor": "#E5ECF6",
            "gridcolor": "white",
            "gridwidth": 2,
            "linecolor": "white",
            "showbackground": true,
            "ticks": "",
            "zerolinecolor": "white"
           },
           "yaxis": {
            "backgroundcolor": "#E5ECF6",
            "gridcolor": "white",
            "gridwidth": 2,
            "linecolor": "white",
            "showbackground": true,
            "ticks": "",
            "zerolinecolor": "white"
           },
           "zaxis": {
            "backgroundcolor": "#E5ECF6",
            "gridcolor": "white",
            "gridwidth": 2,
            "linecolor": "white",
            "showbackground": true,
            "ticks": "",
            "zerolinecolor": "white"
           }
          },
          "shapedefaults": {
           "line": {
            "color": "#2a3f5f"
           }
          },
          "ternary": {
           "aaxis": {
            "gridcolor": "white",
            "linecolor": "white",
            "ticks": ""
           },
           "baxis": {
            "gridcolor": "white",
            "linecolor": "white",
            "ticks": ""
           },
           "bgcolor": "#E5ECF6",
           "caxis": {
            "gridcolor": "white",
            "linecolor": "white",
            "ticks": ""
           }
          },
          "title": {
           "x": 0.05
          },
          "xaxis": {
           "automargin": true,
           "gridcolor": "white",
           "linecolor": "white",
           "ticks": "",
           "title": {
            "standoff": 15
           },
           "zerolinecolor": "white",
           "zerolinewidth": 2
          },
          "yaxis": {
           "automargin": true,
           "gridcolor": "white",
           "linecolor": "white",
           "ticks": "",
           "title": {
            "standoff": 15
           },
           "zerolinecolor": "white",
           "zerolinewidth": 2
          }
         }
        },
        "title": {
         "text": "MAE Scores of Regression Models"
        },
        "xaxis": {
         "anchor": "y",
         "categoryarray": [
          "Polynomial Regression",
          "Ridge Regression",
          "Lasso Regression",
          "ElasticNet Regression",
          "Decision Tree Regression",
          "Random Forest Regression",
          "Gradient Boosting Regression",
          "AdaBoost Regression",
          "Support Vector Regression",
          "KNeighbors Regression"
         ],
         "categoryorder": "array",
         "domain": [
          0,
          1
         ],
         "title": {
          "text": "name"
         }
        },
        "yaxis": {
         "anchor": "x",
         "domain": [
          0,
          1
         ],
         "title": {
          "text": "mae"
         },
         "type": "log"
        }
       }
      }
     },
     "metadata": {},
     "output_type": "display_data"
    }
   ],
   "source": [
    "fig = px.bar(df_results, x='name', y='mae', color='name', log_y=True, title='MAE Scores of Regression Models')\n",
    "# lower the mae, better the model\n",
    "fig.add_annotation(xref='paper', yref='paper', x=0.5, y=0.9, text='Lower the MAE, better the model', showarrow=False)\n",
    "fig.show()"
   ]
  },
  {
   "cell_type": "code",
   "execution_count": 97,
   "metadata": {},
   "outputs": [
    {
     "data": {
      "application/vnd.plotly.v1+json": {
       "config": {
        "plotlyServerURL": "https://plot.ly"
       },
       "data": [
        {
         "alignmentgroup": "True",
         "hovertemplate": "name=%{x}<br>r2=%{y}<extra></extra>",
         "legendgroup": "Polynomial Regression",
         "marker": {
          "color": "#636efa",
          "pattern": {
           "shape": ""
          }
         },
         "name": "Polynomial Regression",
         "offsetgroup": "Polynomial Regression",
         "orientation": "v",
         "showlegend": true,
         "textposition": "auto",
         "type": "bar",
         "x": [
          "Polynomial Regression"
         ],
         "xaxis": "x",
         "y": [
          -0.027920289392917574
         ],
         "yaxis": "y"
        },
        {
         "alignmentgroup": "True",
         "hovertemplate": "name=%{x}<br>r2=%{y}<extra></extra>",
         "legendgroup": "Ridge Regression",
         "marker": {
          "color": "#EF553B",
          "pattern": {
           "shape": ""
          }
         },
         "name": "Ridge Regression",
         "offsetgroup": "Ridge Regression",
         "orientation": "v",
         "showlegend": true,
         "textposition": "auto",
         "type": "bar",
         "x": [
          "Ridge Regression"
         ],
         "xaxis": "x",
         "y": [
          -0.8883285375673471
         ],
         "yaxis": "y"
        },
        {
         "alignmentgroup": "True",
         "hovertemplate": "name=%{x}<br>r2=%{y}<extra></extra>",
         "legendgroup": "Lasso Regression",
         "marker": {
          "color": "#00cc96",
          "pattern": {
           "shape": ""
          }
         },
         "name": "Lasso Regression",
         "offsetgroup": "Lasso Regression",
         "orientation": "v",
         "showlegend": true,
         "textposition": "auto",
         "type": "bar",
         "x": [
          "Lasso Regression"
         ],
         "xaxis": "x",
         "y": [
          -0.03237488224823237
         ],
         "yaxis": "y"
        },
        {
         "alignmentgroup": "True",
         "hovertemplate": "name=%{x}<br>r2=%{y}<extra></extra>",
         "legendgroup": "ElasticNet Regression",
         "marker": {
          "color": "#ab63fa",
          "pattern": {
           "shape": ""
          }
         },
         "name": "ElasticNet Regression",
         "offsetgroup": "ElasticNet Regression",
         "orientation": "v",
         "showlegend": true,
         "textposition": "auto",
         "type": "bar",
         "x": [
          "ElasticNet Regression"
         ],
         "xaxis": "x",
         "y": [
          -0.03237488224823237
         ],
         "yaxis": "y"
        },
        {
         "alignmentgroup": "True",
         "hovertemplate": "name=%{x}<br>r2=%{y}<extra></extra>",
         "legendgroup": "Decision Tree Regression",
         "marker": {
          "color": "#FFA15A",
          "pattern": {
           "shape": ""
          }
         },
         "name": "Decision Tree Regression",
         "offsetgroup": "Decision Tree Regression",
         "orientation": "v",
         "showlegend": true,
         "textposition": "auto",
         "type": "bar",
         "x": [
          "Decision Tree Regression"
         ],
         "xaxis": "x",
         "y": [
          -1.3244452321354943
         ],
         "yaxis": "y"
        },
        {
         "alignmentgroup": "True",
         "hovertemplate": "name=%{x}<br>r2=%{y}<extra></extra>",
         "legendgroup": "Random Forest Regression",
         "marker": {
          "color": "#19d3f3",
          "pattern": {
           "shape": ""
          }
         },
         "name": "Random Forest Regression",
         "offsetgroup": "Random Forest Regression",
         "orientation": "v",
         "showlegend": true,
         "textposition": "auto",
         "type": "bar",
         "x": [
          "Random Forest Regression"
         ],
         "xaxis": "x",
         "y": [
          0.04990378229775683
         ],
         "yaxis": "y"
        },
        {
         "alignmentgroup": "True",
         "hovertemplate": "name=%{x}<br>r2=%{y}<extra></extra>",
         "legendgroup": "Gradient Boosting Regression",
         "marker": {
          "color": "#FF6692",
          "pattern": {
           "shape": ""
          }
         },
         "name": "Gradient Boosting Regression",
         "offsetgroup": "Gradient Boosting Regression",
         "orientation": "v",
         "showlegend": true,
         "textposition": "auto",
         "type": "bar",
         "x": [
          "Gradient Boosting Regression"
         ],
         "xaxis": "x",
         "y": [
          -0.5719350368879521
         ],
         "yaxis": "y"
        },
        {
         "alignmentgroup": "True",
         "hovertemplate": "name=%{x}<br>r2=%{y}<extra></extra>",
         "legendgroup": "AdaBoost Regression",
         "marker": {
          "color": "#B6E880",
          "pattern": {
           "shape": ""
          }
         },
         "name": "AdaBoost Regression",
         "offsetgroup": "AdaBoost Regression",
         "orientation": "v",
         "showlegend": true,
         "textposition": "auto",
         "type": "bar",
         "x": [
          "AdaBoost Regression"
         ],
         "xaxis": "x",
         "y": [
          0.16575753179421482
         ],
         "yaxis": "y"
        },
        {
         "alignmentgroup": "True",
         "hovertemplate": "name=%{x}<br>r2=%{y}<extra></extra>",
         "legendgroup": "Support Vector Regression",
         "marker": {
          "color": "#FF97FF",
          "pattern": {
           "shape": ""
          }
         },
         "name": "Support Vector Regression",
         "offsetgroup": "Support Vector Regression",
         "orientation": "v",
         "showlegend": true,
         "textposition": "auto",
         "type": "bar",
         "x": [
          "Support Vector Regression"
         ],
         "xaxis": "x",
         "y": [
          -0.0020823142732651068
         ],
         "yaxis": "y"
        },
        {
         "alignmentgroup": "True",
         "hovertemplate": "name=%{x}<br>r2=%{y}<extra></extra>",
         "legendgroup": "KNeighbors Regression",
         "marker": {
          "color": "#FECB52",
          "pattern": {
           "shape": ""
          }
         },
         "name": "KNeighbors Regression",
         "offsetgroup": "KNeighbors Regression",
         "orientation": "v",
         "showlegend": true,
         "textposition": "auto",
         "type": "bar",
         "x": [
          "KNeighbors Regression"
         ],
         "xaxis": "x",
         "y": [
          -0.5311190470047433
         ],
         "yaxis": "y"
        }
       ],
       "layout": {
        "annotations": [
         {
          "showarrow": false,
          "text": "Higher the R2, better the model",
          "x": 0.5,
          "xref": "paper",
          "y": 0.9,
          "yref": "paper"
         }
        ],
        "barmode": "relative",
        "legend": {
         "title": {
          "text": "name"
         },
         "tracegroupgap": 0
        },
        "template": {
         "data": {
          "bar": [
           {
            "error_x": {
             "color": "#2a3f5f"
            },
            "error_y": {
             "color": "#2a3f5f"
            },
            "marker": {
             "line": {
              "color": "#E5ECF6",
              "width": 0.5
             },
             "pattern": {
              "fillmode": "overlay",
              "size": 10,
              "solidity": 0.2
             }
            },
            "type": "bar"
           }
          ],
          "barpolar": [
           {
            "marker": {
             "line": {
              "color": "#E5ECF6",
              "width": 0.5
             },
             "pattern": {
              "fillmode": "overlay",
              "size": 10,
              "solidity": 0.2
             }
            },
            "type": "barpolar"
           }
          ],
          "carpet": [
           {
            "aaxis": {
             "endlinecolor": "#2a3f5f",
             "gridcolor": "white",
             "linecolor": "white",
             "minorgridcolor": "white",
             "startlinecolor": "#2a3f5f"
            },
            "baxis": {
             "endlinecolor": "#2a3f5f",
             "gridcolor": "white",
             "linecolor": "white",
             "minorgridcolor": "white",
             "startlinecolor": "#2a3f5f"
            },
            "type": "carpet"
           }
          ],
          "choropleth": [
           {
            "colorbar": {
             "outlinewidth": 0,
             "ticks": ""
            },
            "type": "choropleth"
           }
          ],
          "contour": [
           {
            "colorbar": {
             "outlinewidth": 0,
             "ticks": ""
            },
            "colorscale": [
             [
              0,
              "#0d0887"
             ],
             [
              0.1111111111111111,
              "#46039f"
             ],
             [
              0.2222222222222222,
              "#7201a8"
             ],
             [
              0.3333333333333333,
              "#9c179e"
             ],
             [
              0.4444444444444444,
              "#bd3786"
             ],
             [
              0.5555555555555556,
              "#d8576b"
             ],
             [
              0.6666666666666666,
              "#ed7953"
             ],
             [
              0.7777777777777778,
              "#fb9f3a"
             ],
             [
              0.8888888888888888,
              "#fdca26"
             ],
             [
              1,
              "#f0f921"
             ]
            ],
            "type": "contour"
           }
          ],
          "contourcarpet": [
           {
            "colorbar": {
             "outlinewidth": 0,
             "ticks": ""
            },
            "type": "contourcarpet"
           }
          ],
          "heatmap": [
           {
            "colorbar": {
             "outlinewidth": 0,
             "ticks": ""
            },
            "colorscale": [
             [
              0,
              "#0d0887"
             ],
             [
              0.1111111111111111,
              "#46039f"
             ],
             [
              0.2222222222222222,
              "#7201a8"
             ],
             [
              0.3333333333333333,
              "#9c179e"
             ],
             [
              0.4444444444444444,
              "#bd3786"
             ],
             [
              0.5555555555555556,
              "#d8576b"
             ],
             [
              0.6666666666666666,
              "#ed7953"
             ],
             [
              0.7777777777777778,
              "#fb9f3a"
             ],
             [
              0.8888888888888888,
              "#fdca26"
             ],
             [
              1,
              "#f0f921"
             ]
            ],
            "type": "heatmap"
           }
          ],
          "heatmapgl": [
           {
            "colorbar": {
             "outlinewidth": 0,
             "ticks": ""
            },
            "colorscale": [
             [
              0,
              "#0d0887"
             ],
             [
              0.1111111111111111,
              "#46039f"
             ],
             [
              0.2222222222222222,
              "#7201a8"
             ],
             [
              0.3333333333333333,
              "#9c179e"
             ],
             [
              0.4444444444444444,
              "#bd3786"
             ],
             [
              0.5555555555555556,
              "#d8576b"
             ],
             [
              0.6666666666666666,
              "#ed7953"
             ],
             [
              0.7777777777777778,
              "#fb9f3a"
             ],
             [
              0.8888888888888888,
              "#fdca26"
             ],
             [
              1,
              "#f0f921"
             ]
            ],
            "type": "heatmapgl"
           }
          ],
          "histogram": [
           {
            "marker": {
             "pattern": {
              "fillmode": "overlay",
              "size": 10,
              "solidity": 0.2
             }
            },
            "type": "histogram"
           }
          ],
          "histogram2d": [
           {
            "colorbar": {
             "outlinewidth": 0,
             "ticks": ""
            },
            "colorscale": [
             [
              0,
              "#0d0887"
             ],
             [
              0.1111111111111111,
              "#46039f"
             ],
             [
              0.2222222222222222,
              "#7201a8"
             ],
             [
              0.3333333333333333,
              "#9c179e"
             ],
             [
              0.4444444444444444,
              "#bd3786"
             ],
             [
              0.5555555555555556,
              "#d8576b"
             ],
             [
              0.6666666666666666,
              "#ed7953"
             ],
             [
              0.7777777777777778,
              "#fb9f3a"
             ],
             [
              0.8888888888888888,
              "#fdca26"
             ],
             [
              1,
              "#f0f921"
             ]
            ],
            "type": "histogram2d"
           }
          ],
          "histogram2dcontour": [
           {
            "colorbar": {
             "outlinewidth": 0,
             "ticks": ""
            },
            "colorscale": [
             [
              0,
              "#0d0887"
             ],
             [
              0.1111111111111111,
              "#46039f"
             ],
             [
              0.2222222222222222,
              "#7201a8"
             ],
             [
              0.3333333333333333,
              "#9c179e"
             ],
             [
              0.4444444444444444,
              "#bd3786"
             ],
             [
              0.5555555555555556,
              "#d8576b"
             ],
             [
              0.6666666666666666,
              "#ed7953"
             ],
             [
              0.7777777777777778,
              "#fb9f3a"
             ],
             [
              0.8888888888888888,
              "#fdca26"
             ],
             [
              1,
              "#f0f921"
             ]
            ],
            "type": "histogram2dcontour"
           }
          ],
          "mesh3d": [
           {
            "colorbar": {
             "outlinewidth": 0,
             "ticks": ""
            },
            "type": "mesh3d"
           }
          ],
          "parcoords": [
           {
            "line": {
             "colorbar": {
              "outlinewidth": 0,
              "ticks": ""
             }
            },
            "type": "parcoords"
           }
          ],
          "pie": [
           {
            "automargin": true,
            "type": "pie"
           }
          ],
          "scatter": [
           {
            "fillpattern": {
             "fillmode": "overlay",
             "size": 10,
             "solidity": 0.2
            },
            "type": "scatter"
           }
          ],
          "scatter3d": [
           {
            "line": {
             "colorbar": {
              "outlinewidth": 0,
              "ticks": ""
             }
            },
            "marker": {
             "colorbar": {
              "outlinewidth": 0,
              "ticks": ""
             }
            },
            "type": "scatter3d"
           }
          ],
          "scattercarpet": [
           {
            "marker": {
             "colorbar": {
              "outlinewidth": 0,
              "ticks": ""
             }
            },
            "type": "scattercarpet"
           }
          ],
          "scattergeo": [
           {
            "marker": {
             "colorbar": {
              "outlinewidth": 0,
              "ticks": ""
             }
            },
            "type": "scattergeo"
           }
          ],
          "scattergl": [
           {
            "marker": {
             "colorbar": {
              "outlinewidth": 0,
              "ticks": ""
             }
            },
            "type": "scattergl"
           }
          ],
          "scattermapbox": [
           {
            "marker": {
             "colorbar": {
              "outlinewidth": 0,
              "ticks": ""
             }
            },
            "type": "scattermapbox"
           }
          ],
          "scatterpolar": [
           {
            "marker": {
             "colorbar": {
              "outlinewidth": 0,
              "ticks": ""
             }
            },
            "type": "scatterpolar"
           }
          ],
          "scatterpolargl": [
           {
            "marker": {
             "colorbar": {
              "outlinewidth": 0,
              "ticks": ""
             }
            },
            "type": "scatterpolargl"
           }
          ],
          "scatterternary": [
           {
            "marker": {
             "colorbar": {
              "outlinewidth": 0,
              "ticks": ""
             }
            },
            "type": "scatterternary"
           }
          ],
          "surface": [
           {
            "colorbar": {
             "outlinewidth": 0,
             "ticks": ""
            },
            "colorscale": [
             [
              0,
              "#0d0887"
             ],
             [
              0.1111111111111111,
              "#46039f"
             ],
             [
              0.2222222222222222,
              "#7201a8"
             ],
             [
              0.3333333333333333,
              "#9c179e"
             ],
             [
              0.4444444444444444,
              "#bd3786"
             ],
             [
              0.5555555555555556,
              "#d8576b"
             ],
             [
              0.6666666666666666,
              "#ed7953"
             ],
             [
              0.7777777777777778,
              "#fb9f3a"
             ],
             [
              0.8888888888888888,
              "#fdca26"
             ],
             [
              1,
              "#f0f921"
             ]
            ],
            "type": "surface"
           }
          ],
          "table": [
           {
            "cells": {
             "fill": {
              "color": "#EBF0F8"
             },
             "line": {
              "color": "white"
             }
            },
            "header": {
             "fill": {
              "color": "#C8D4E3"
             },
             "line": {
              "color": "white"
             }
            },
            "type": "table"
           }
          ]
         },
         "layout": {
          "annotationdefaults": {
           "arrowcolor": "#2a3f5f",
           "arrowhead": 0,
           "arrowwidth": 1
          },
          "autotypenumbers": "strict",
          "coloraxis": {
           "colorbar": {
            "outlinewidth": 0,
            "ticks": ""
           }
          },
          "colorscale": {
           "diverging": [
            [
             0,
             "#8e0152"
            ],
            [
             0.1,
             "#c51b7d"
            ],
            [
             0.2,
             "#de77ae"
            ],
            [
             0.3,
             "#f1b6da"
            ],
            [
             0.4,
             "#fde0ef"
            ],
            [
             0.5,
             "#f7f7f7"
            ],
            [
             0.6,
             "#e6f5d0"
            ],
            [
             0.7,
             "#b8e186"
            ],
            [
             0.8,
             "#7fbc41"
            ],
            [
             0.9,
             "#4d9221"
            ],
            [
             1,
             "#276419"
            ]
           ],
           "sequential": [
            [
             0,
             "#0d0887"
            ],
            [
             0.1111111111111111,
             "#46039f"
            ],
            [
             0.2222222222222222,
             "#7201a8"
            ],
            [
             0.3333333333333333,
             "#9c179e"
            ],
            [
             0.4444444444444444,
             "#bd3786"
            ],
            [
             0.5555555555555556,
             "#d8576b"
            ],
            [
             0.6666666666666666,
             "#ed7953"
            ],
            [
             0.7777777777777778,
             "#fb9f3a"
            ],
            [
             0.8888888888888888,
             "#fdca26"
            ],
            [
             1,
             "#f0f921"
            ]
           ],
           "sequentialminus": [
            [
             0,
             "#0d0887"
            ],
            [
             0.1111111111111111,
             "#46039f"
            ],
            [
             0.2222222222222222,
             "#7201a8"
            ],
            [
             0.3333333333333333,
             "#9c179e"
            ],
            [
             0.4444444444444444,
             "#bd3786"
            ],
            [
             0.5555555555555556,
             "#d8576b"
            ],
            [
             0.6666666666666666,
             "#ed7953"
            ],
            [
             0.7777777777777778,
             "#fb9f3a"
            ],
            [
             0.8888888888888888,
             "#fdca26"
            ],
            [
             1,
             "#f0f921"
            ]
           ]
          },
          "colorway": [
           "#636efa",
           "#EF553B",
           "#00cc96",
           "#ab63fa",
           "#FFA15A",
           "#19d3f3",
           "#FF6692",
           "#B6E880",
           "#FF97FF",
           "#FECB52"
          ],
          "font": {
           "color": "#2a3f5f"
          },
          "geo": {
           "bgcolor": "white",
           "lakecolor": "white",
           "landcolor": "#E5ECF6",
           "showlakes": true,
           "showland": true,
           "subunitcolor": "white"
          },
          "hoverlabel": {
           "align": "left"
          },
          "hovermode": "closest",
          "mapbox": {
           "style": "light"
          },
          "paper_bgcolor": "white",
          "plot_bgcolor": "#E5ECF6",
          "polar": {
           "angularaxis": {
            "gridcolor": "white",
            "linecolor": "white",
            "ticks": ""
           },
           "bgcolor": "#E5ECF6",
           "radialaxis": {
            "gridcolor": "white",
            "linecolor": "white",
            "ticks": ""
           }
          },
          "scene": {
           "xaxis": {
            "backgroundcolor": "#E5ECF6",
            "gridcolor": "white",
            "gridwidth": 2,
            "linecolor": "white",
            "showbackground": true,
            "ticks": "",
            "zerolinecolor": "white"
           },
           "yaxis": {
            "backgroundcolor": "#E5ECF6",
            "gridcolor": "white",
            "gridwidth": 2,
            "linecolor": "white",
            "showbackground": true,
            "ticks": "",
            "zerolinecolor": "white"
           },
           "zaxis": {
            "backgroundcolor": "#E5ECF6",
            "gridcolor": "white",
            "gridwidth": 2,
            "linecolor": "white",
            "showbackground": true,
            "ticks": "",
            "zerolinecolor": "white"
           }
          },
          "shapedefaults": {
           "line": {
            "color": "#2a3f5f"
           }
          },
          "ternary": {
           "aaxis": {
            "gridcolor": "white",
            "linecolor": "white",
            "ticks": ""
           },
           "baxis": {
            "gridcolor": "white",
            "linecolor": "white",
            "ticks": ""
           },
           "bgcolor": "#E5ECF6",
           "caxis": {
            "gridcolor": "white",
            "linecolor": "white",
            "ticks": ""
           }
          },
          "title": {
           "x": 0.05
          },
          "xaxis": {
           "automargin": true,
           "gridcolor": "white",
           "linecolor": "white",
           "ticks": "",
           "title": {
            "standoff": 15
           },
           "zerolinecolor": "white",
           "zerolinewidth": 2
          },
          "yaxis": {
           "automargin": true,
           "gridcolor": "white",
           "linecolor": "white",
           "ticks": "",
           "title": {
            "standoff": 15
           },
           "zerolinecolor": "white",
           "zerolinewidth": 2
          }
         }
        },
        "title": {
         "text": "R2 Scores of Regression Models"
        },
        "xaxis": {
         "anchor": "y",
         "categoryarray": [
          "Polynomial Regression",
          "Ridge Regression",
          "Lasso Regression",
          "ElasticNet Regression",
          "Decision Tree Regression",
          "Random Forest Regression",
          "Gradient Boosting Regression",
          "AdaBoost Regression",
          "Support Vector Regression",
          "KNeighbors Regression"
         ],
         "categoryorder": "array",
         "domain": [
          0,
          1
         ],
         "title": {
          "text": "name"
         }
        },
        "yaxis": {
         "anchor": "x",
         "domain": [
          0,
          1
         ],
         "title": {
          "text": "r2"
         }
        }
       }
      }
     },
     "metadata": {},
     "output_type": "display_data"
    }
   ],
   "source": [
    "fig = px.bar(df_results, x='name', y='r2', color='name', title='R2 Scores of Regression Models')\n",
    "# higher the r2, better the model\n",
    "fig.add_annotation(xref='paper', yref='paper', x=0.5, y=0.9, text='Higher the R2, better the model', showarrow=False)\n",
    "fig.show()\n"
   ]
  },
  {
   "cell_type": "code",
   "execution_count": null,
   "metadata": {},
   "outputs": [],
   "source": []
  },
  {
   "cell_type": "code",
   "execution_count": null,
   "metadata": {},
   "outputs": [],
   "source": []
  }
 ],
 "metadata": {
  "kernelspec": {
   "display_name": "base",
   "language": "python",
   "name": "python3"
  },
  "language_info": {
   "codemirror_mode": {
    "name": "ipython",
    "version": 3
   },
   "file_extension": ".py",
   "mimetype": "text/x-python",
   "name": "python",
   "nbconvert_exporter": "python",
   "pygments_lexer": "ipython3",
   "version": "3.10.8"
  },
  "orig_nbformat": 4
 },
 "nbformat": 4,
 "nbformat_minor": 2
}
