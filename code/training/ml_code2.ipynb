{
 "cells": [
  {
   "cell_type": "code",
   "execution_count": 1,
   "id": "4ce88e80",
   "metadata": {
    "_cell_guid": "b1076dfc-b9ad-4769-8c92-a6c4dae69d19",
    "_uuid": "8f2839f25d086af736a60e9eeb907d3b93b6e0e5",
    "execution": {
     "iopub.execute_input": "2022-12-26T17:20:09.841666Z",
     "iopub.status.busy": "2022-12-26T17:20:09.841197Z",
     "iopub.status.idle": "2022-12-26T17:20:12.553698Z",
     "shell.execute_reply": "2022-12-26T17:20:12.552331Z"
    },
    "papermill": {
     "duration": 2.729807,
     "end_time": "2022-12-26T17:20:12.557069",
     "exception": false,
     "start_time": "2022-12-26T17:20:09.827262",
     "status": "completed"
    },
    "tags": []
   },
   "outputs": [],
   "source": [
    "import pandas as pd\n",
    "import numpy as np\n",
    "import matplotlib.pyplot as plt\n",
    "import plotly.express as px\n",
    "import plotly.graph_objects as go\n",
    "%matplotlib inline\n",
    "import seaborn as sns\n",
    "import warnings\n",
    "warnings.filterwarnings(\"ignore\")\n",
    "\n",
    "# Importing The Models in Sciket-Learn\n",
    "from sklearn.linear_model import LinearRegression\n",
    "from sklearn.tree import DecisionTreeRegressor\n",
    "from sklearn.neighbors import KNeighborsRegressor\n",
    "from sklearn.ensemble import RandomForestRegressor,GradientBoostingRegressor,HistGradientBoostingRegressor,AdaBoostRegressor\n",
    "from sklearn.svm import SVR\n",
    "\n",
    "\n",
    "\n",
    "# Importing Usefull Operators in Sciket-Learn\n",
    "from sklearn.metrics import r2_score\n",
    "from sklearn.metrics import mean_squared_error\n",
    "from sklearn.pipeline import Pipeline\n",
    "from sklearn.preprocessing import StandardScaler\n",
    "import xgboost as xgb\n",
    "import lightgbm as lgb"
   ]
  },
  {
   "cell_type": "code",
   "execution_count": 2,
   "id": "6d40d7a2",
   "metadata": {
    "execution": {
     "iopub.execute_input": "2022-12-26T17:20:12.584100Z",
     "iopub.status.busy": "2022-12-26T17:20:12.583416Z",
     "iopub.status.idle": "2022-12-26T17:20:12.612618Z",
     "shell.execute_reply": "2022-12-26T17:20:12.611324Z"
    },
    "papermill": {
     "duration": 0.047223,
     "end_time": "2022-12-26T17:20:12.615786",
     "exception": false,
     "start_time": "2022-12-26T17:20:12.568563",
     "status": "completed"
    },
    "tags": []
   },
   "outputs": [],
   "source": [
    "df_train = pd.read_csv(r'train_dataset.csv')\n",
    "df_test = pd.read_csv(r'test_dataset.csv')\n"
   ]
  },
  {
   "cell_type": "code",
   "execution_count": 3,
   "id": "8554c3fe",
   "metadata": {
    "execution": {
     "iopub.execute_input": "2022-12-26T17:20:12.638925Z",
     "iopub.status.busy": "2022-12-26T17:20:12.638507Z",
     "iopub.status.idle": "2022-12-26T17:20:12.645938Z",
     "shell.execute_reply": "2022-12-26T17:20:12.644553Z"
    },
    "papermill": {
     "duration": 0.022108,
     "end_time": "2022-12-26T17:20:12.648514",
     "exception": false,
     "start_time": "2022-12-26T17:20:12.626406",
     "status": "completed"
    },
    "tags": []
   },
   "outputs": [
    {
     "data": {
      "text/plain": [
       "(1017, 26)"
      ]
     },
     "execution_count": 3,
     "metadata": {},
     "output_type": "execute_result"
    }
   ],
   "source": [
    "df_train.shape"
   ]
  },
  {
   "cell_type": "code",
   "execution_count": 4,
   "id": "6d2e9060",
   "metadata": {
    "execution": {
     "iopub.execute_input": "2022-12-26T17:20:12.672505Z",
     "iopub.status.busy": "2022-12-26T17:20:12.672081Z",
     "iopub.status.idle": "2022-12-26T17:20:12.704423Z",
     "shell.execute_reply": "2022-12-26T17:20:12.703022Z"
    },
    "papermill": {
     "duration": 0.048067,
     "end_time": "2022-12-26T17:20:12.707458",
     "exception": false,
     "start_time": "2022-12-26T17:20:12.659391",
     "status": "completed"
    },
    "tags": []
   },
   "outputs": [
    {
     "name": "stdout",
     "output_type": "stream",
     "text": [
      "<class 'pandas.core.frame.DataFrame'>\n",
      "RangeIndex: 1017 entries, 0 to 1016\n",
      "Data columns (total 26 columns):\n",
      " #   Column                 Non-Null Count  Dtype  \n",
      "---  ------                 --------------  -----  \n",
      " 0   team                   1017 non-null   int64  \n",
      " 1   targeted_productivity  1017 non-null   float64\n",
      " 2   smv                    1017 non-null   float64\n",
      " 3   wip                    594 non-null    float64\n",
      " 4   over_time              1017 non-null   int64  \n",
      " 5   incentive              1017 non-null   int64  \n",
      " 6   idle_time              1017 non-null   float64\n",
      " 7   idle_men               1017 non-null   int64  \n",
      " 8   no_of_style_change     1017 non-null   int64  \n",
      " 9   no_of_workers          1017 non-null   float64\n",
      " 10  month                  1017 non-null   int64  \n",
      " 11  quarter_Quarter1       1017 non-null   int64  \n",
      " 12  quarter_Quarter2       1017 non-null   int64  \n",
      " 13  quarter_Quarter3       1017 non-null   int64  \n",
      " 14  quarter_Quarter4       1017 non-null   int64  \n",
      " 15  quarter_Quarter5       1017 non-null   int64  \n",
      " 16  department_finishing   1017 non-null   int64  \n",
      " 17  department_finishing   1017 non-null   int64  \n",
      " 18  department_sweing      1017 non-null   int64  \n",
      " 19  day_Monday             1017 non-null   int64  \n",
      " 20  day_Saturday           1017 non-null   int64  \n",
      " 21  day_Sunday             1017 non-null   int64  \n",
      " 22  day_Thursday           1017 non-null   int64  \n",
      " 23  day_Tuesday            1017 non-null   int64  \n",
      " 24  day_Wednesday          1017 non-null   int64  \n",
      " 25  actual_productivity    1017 non-null   float64\n",
      "dtypes: float64(6), int64(20)\n",
      "memory usage: 206.7 KB\n"
     ]
    }
   ],
   "source": [
    "df_train.info()"
   ]
  },
  {
   "cell_type": "code",
   "execution_count": 5,
   "id": "f0a973f9",
   "metadata": {
    "execution": {
     "iopub.execute_input": "2022-12-26T17:20:12.731318Z",
     "iopub.status.busy": "2022-12-26T17:20:12.730930Z",
     "iopub.status.idle": "2022-12-26T17:20:12.738029Z",
     "shell.execute_reply": "2022-12-26T17:20:12.737120Z"
    },
    "papermill": {
     "duration": 0.021416,
     "end_time": "2022-12-26T17:20:12.740100",
     "exception": false,
     "start_time": "2022-12-26T17:20:12.718684",
     "status": "completed"
    },
    "tags": []
   },
   "outputs": [
    {
     "data": {
      "text/plain": [
       "Index(['team', 'targeted_productivity', 'smv', 'wip', 'over_time', 'incentive',\n",
       "       'idle_time', 'idle_men', 'no_of_style_change', 'no_of_workers', 'month',\n",
       "       'quarter_Quarter1', 'quarter_Quarter2', 'quarter_Quarter3',\n",
       "       'quarter_Quarter4', 'quarter_Quarter5', 'department_finishing',\n",
       "       'department_finishing ', 'department_sweing', 'day_Monday',\n",
       "       'day_Saturday', 'day_Sunday', 'day_Thursday', 'day_Tuesday',\n",
       "       'day_Wednesday', 'actual_productivity'],\n",
       "      dtype='object')"
      ]
     },
     "execution_count": 5,
     "metadata": {},
     "output_type": "execute_result"
    }
   ],
   "source": [
    "df_train.columns"
   ]
  },
  {
   "cell_type": "code",
   "execution_count": 6,
   "id": "5b0ba840",
   "metadata": {
    "execution": {
     "iopub.execute_input": "2022-12-26T17:20:12.764100Z",
     "iopub.status.busy": "2022-12-26T17:20:12.763715Z",
     "iopub.status.idle": "2022-12-26T17:20:12.794061Z",
     "shell.execute_reply": "2022-12-26T17:20:12.792860Z"
    },
    "papermill": {
     "duration": 0.045737,
     "end_time": "2022-12-26T17:20:12.796960",
     "exception": false,
     "start_time": "2022-12-26T17:20:12.751223",
     "status": "completed"
    },
    "tags": []
   },
   "outputs": [
    {
     "data": {
      "text/html": [
       "<div>\n",
       "<style scoped>\n",
       "    .dataframe tbody tr th:only-of-type {\n",
       "        vertical-align: middle;\n",
       "    }\n",
       "\n",
       "    .dataframe tbody tr th {\n",
       "        vertical-align: top;\n",
       "    }\n",
       "\n",
       "    .dataframe thead th {\n",
       "        text-align: right;\n",
       "    }\n",
       "</style>\n",
       "<table border=\"1\" class=\"dataframe\">\n",
       "  <thead>\n",
       "    <tr style=\"text-align: right;\">\n",
       "      <th></th>\n",
       "      <th>team</th>\n",
       "      <th>targeted_productivity</th>\n",
       "      <th>smv</th>\n",
       "      <th>wip</th>\n",
       "      <th>over_time</th>\n",
       "      <th>incentive</th>\n",
       "      <th>idle_time</th>\n",
       "      <th>idle_men</th>\n",
       "      <th>no_of_style_change</th>\n",
       "      <th>no_of_workers</th>\n",
       "      <th>...</th>\n",
       "      <th>department_finishing</th>\n",
       "      <th>department_finishing</th>\n",
       "      <th>department_sweing</th>\n",
       "      <th>day_Monday</th>\n",
       "      <th>day_Saturday</th>\n",
       "      <th>day_Sunday</th>\n",
       "      <th>day_Thursday</th>\n",
       "      <th>day_Tuesday</th>\n",
       "      <th>day_Wednesday</th>\n",
       "      <th>actual_productivity</th>\n",
       "    </tr>\n",
       "  </thead>\n",
       "  <tbody>\n",
       "    <tr>\n",
       "      <th>0</th>\n",
       "      <td>9</td>\n",
       "      <td>0.75</td>\n",
       "      <td>3.94</td>\n",
       "      <td>NaN</td>\n",
       "      <td>960</td>\n",
       "      <td>0</td>\n",
       "      <td>0.0</td>\n",
       "      <td>0</td>\n",
       "      <td>0</td>\n",
       "      <td>8.0</td>\n",
       "      <td>...</td>\n",
       "      <td>1</td>\n",
       "      <td>0</td>\n",
       "      <td>0</td>\n",
       "      <td>0</td>\n",
       "      <td>0</td>\n",
       "      <td>0</td>\n",
       "      <td>0</td>\n",
       "      <td>0</td>\n",
       "      <td>1</td>\n",
       "      <td>0.755167</td>\n",
       "    </tr>\n",
       "    <tr>\n",
       "      <th>1</th>\n",
       "      <td>7</td>\n",
       "      <td>0.65</td>\n",
       "      <td>30.10</td>\n",
       "      <td>909.0</td>\n",
       "      <td>7080</td>\n",
       "      <td>0</td>\n",
       "      <td>0.0</td>\n",
       "      <td>0</td>\n",
       "      <td>1</td>\n",
       "      <td>59.0</td>\n",
       "      <td>...</td>\n",
       "      <td>0</td>\n",
       "      <td>0</td>\n",
       "      <td>1</td>\n",
       "      <td>0</td>\n",
       "      <td>0</td>\n",
       "      <td>0</td>\n",
       "      <td>1</td>\n",
       "      <td>0</td>\n",
       "      <td>0</td>\n",
       "      <td>0.535678</td>\n",
       "    </tr>\n",
       "    <tr>\n",
       "      <th>2</th>\n",
       "      <td>3</td>\n",
       "      <td>0.80</td>\n",
       "      <td>4.15</td>\n",
       "      <td>NaN</td>\n",
       "      <td>1440</td>\n",
       "      <td>0</td>\n",
       "      <td>0.0</td>\n",
       "      <td>0</td>\n",
       "      <td>0</td>\n",
       "      <td>7.0</td>\n",
       "      <td>...</td>\n",
       "      <td>0</td>\n",
       "      <td>1</td>\n",
       "      <td>0</td>\n",
       "      <td>0</td>\n",
       "      <td>0</td>\n",
       "      <td>0</td>\n",
       "      <td>0</td>\n",
       "      <td>0</td>\n",
       "      <td>1</td>\n",
       "      <td>0.820833</td>\n",
       "    </tr>\n",
       "    <tr>\n",
       "      <th>3</th>\n",
       "      <td>1</td>\n",
       "      <td>0.65</td>\n",
       "      <td>22.53</td>\n",
       "      <td>762.0</td>\n",
       "      <td>5040</td>\n",
       "      <td>0</td>\n",
       "      <td>0.0</td>\n",
       "      <td>0</td>\n",
       "      <td>1</td>\n",
       "      <td>42.0</td>\n",
       "      <td>...</td>\n",
       "      <td>0</td>\n",
       "      <td>0</td>\n",
       "      <td>1</td>\n",
       "      <td>0</td>\n",
       "      <td>0</td>\n",
       "      <td>0</td>\n",
       "      <td>0</td>\n",
       "      <td>0</td>\n",
       "      <td>1</td>\n",
       "      <td>0.581131</td>\n",
       "    </tr>\n",
       "    <tr>\n",
       "      <th>4</th>\n",
       "      <td>4</td>\n",
       "      <td>0.70</td>\n",
       "      <td>30.10</td>\n",
       "      <td>767.0</td>\n",
       "      <td>3300</td>\n",
       "      <td>50</td>\n",
       "      <td>0.0</td>\n",
       "      <td>0</td>\n",
       "      <td>1</td>\n",
       "      <td>57.0</td>\n",
       "      <td>...</td>\n",
       "      <td>0</td>\n",
       "      <td>0</td>\n",
       "      <td>1</td>\n",
       "      <td>1</td>\n",
       "      <td>0</td>\n",
       "      <td>0</td>\n",
       "      <td>0</td>\n",
       "      <td>0</td>\n",
       "      <td>0</td>\n",
       "      <td>0.790003</td>\n",
       "    </tr>\n",
       "  </tbody>\n",
       "</table>\n",
       "<p>5 rows × 26 columns</p>\n",
       "</div>"
      ],
      "text/plain": [
       "   team  targeted_productivity    smv    wip  over_time  incentive  idle_time  \\\n",
       "0     9                   0.75   3.94    NaN        960          0        0.0   \n",
       "1     7                   0.65  30.10  909.0       7080          0        0.0   \n",
       "2     3                   0.80   4.15    NaN       1440          0        0.0   \n",
       "3     1                   0.65  22.53  762.0       5040          0        0.0   \n",
       "4     4                   0.70  30.10  767.0       3300         50        0.0   \n",
       "\n",
       "   idle_men  no_of_style_change  no_of_workers  ...  department_finishing  \\\n",
       "0         0                   0            8.0  ...                     1   \n",
       "1         0                   1           59.0  ...                     0   \n",
       "2         0                   0            7.0  ...                     0   \n",
       "3         0                   1           42.0  ...                     0   \n",
       "4         0                   1           57.0  ...                     0   \n",
       "\n",
       "   department_finishing   department_sweing  day_Monday  day_Saturday  \\\n",
       "0                      0                  0           0             0   \n",
       "1                      0                  1           0             0   \n",
       "2                      1                  0           0             0   \n",
       "3                      0                  1           0             0   \n",
       "4                      0                  1           1             0   \n",
       "\n",
       "   day_Sunday  day_Thursday  day_Tuesday  day_Wednesday  actual_productivity  \n",
       "0           0             0            0              1             0.755167  \n",
       "1           0             1            0              0             0.535678  \n",
       "2           0             0            0              1             0.820833  \n",
       "3           0             0            0              1             0.581131  \n",
       "4           0             0            0              0             0.790003  \n",
       "\n",
       "[5 rows x 26 columns]"
      ]
     },
     "execution_count": 6,
     "metadata": {},
     "output_type": "execute_result"
    }
   ],
   "source": [
    "df_train.head()"
   ]
  },
  {
   "cell_type": "code",
   "execution_count": 7,
   "id": "66c6049e",
   "metadata": {
    "execution": {
     "iopub.execute_input": "2022-12-26T17:20:12.822585Z",
     "iopub.status.busy": "2022-12-26T17:20:12.822183Z",
     "iopub.status.idle": "2022-12-26T17:20:12.833188Z",
     "shell.execute_reply": "2022-12-26T17:20:12.831888Z"
    },
    "papermill": {
     "duration": 0.026798,
     "end_time": "2022-12-26T17:20:12.835795",
     "exception": false,
     "start_time": "2022-12-26T17:20:12.808997",
     "status": "completed"
    },
    "tags": []
   },
   "outputs": [
    {
     "data": {
      "text/plain": [
       "team                       0\n",
       "targeted_productivity      0\n",
       "smv                        0\n",
       "wip                      423\n",
       "over_time                  0\n",
       "incentive                  0\n",
       "idle_time                  0\n",
       "idle_men                   0\n",
       "no_of_style_change         0\n",
       "no_of_workers              0\n",
       "month                      0\n",
       "quarter_Quarter1           0\n",
       "quarter_Quarter2           0\n",
       "quarter_Quarter3           0\n",
       "quarter_Quarter4           0\n",
       "quarter_Quarter5           0\n",
       "department_finishing       0\n",
       "department_finishing       0\n",
       "department_sweing          0\n",
       "day_Monday                 0\n",
       "day_Saturday               0\n",
       "day_Sunday                 0\n",
       "day_Thursday               0\n",
       "day_Tuesday                0\n",
       "day_Wednesday              0\n",
       "actual_productivity        0\n",
       "dtype: int64"
      ]
     },
     "execution_count": 7,
     "metadata": {},
     "output_type": "execute_result"
    }
   ],
   "source": [
    "df_train.isnull().sum()"
   ]
  },
  {
   "cell_type": "code",
   "execution_count": 8,
   "id": "0f3efaa1",
   "metadata": {
    "execution": {
     "iopub.execute_input": "2022-12-26T17:20:12.861458Z",
     "iopub.status.busy": "2022-12-26T17:20:12.861052Z",
     "iopub.status.idle": "2022-12-26T17:20:12.946251Z",
     "shell.execute_reply": "2022-12-26T17:20:12.945220Z"
    },
    "papermill": {
     "duration": 0.102029,
     "end_time": "2022-12-26T17:20:12.949327",
     "exception": false,
     "start_time": "2022-12-26T17:20:12.847298",
     "status": "completed"
    },
    "tags": []
   },
   "outputs": [
    {
     "data": {
      "text/html": [
       "<div>\n",
       "<style scoped>\n",
       "    .dataframe tbody tr th:only-of-type {\n",
       "        vertical-align: middle;\n",
       "    }\n",
       "\n",
       "    .dataframe tbody tr th {\n",
       "        vertical-align: top;\n",
       "    }\n",
       "\n",
       "    .dataframe thead th {\n",
       "        text-align: right;\n",
       "    }\n",
       "</style>\n",
       "<table border=\"1\" class=\"dataframe\">\n",
       "  <thead>\n",
       "    <tr style=\"text-align: right;\">\n",
       "      <th></th>\n",
       "      <th>team</th>\n",
       "      <th>targeted_productivity</th>\n",
       "      <th>smv</th>\n",
       "      <th>wip</th>\n",
       "      <th>over_time</th>\n",
       "      <th>incentive</th>\n",
       "      <th>idle_time</th>\n",
       "      <th>idle_men</th>\n",
       "      <th>no_of_style_change</th>\n",
       "      <th>no_of_workers</th>\n",
       "      <th>...</th>\n",
       "      <th>department_finishing</th>\n",
       "      <th>department_finishing</th>\n",
       "      <th>department_sweing</th>\n",
       "      <th>day_Monday</th>\n",
       "      <th>day_Saturday</th>\n",
       "      <th>day_Sunday</th>\n",
       "      <th>day_Thursday</th>\n",
       "      <th>day_Tuesday</th>\n",
       "      <th>day_Wednesday</th>\n",
       "      <th>actual_productivity</th>\n",
       "    </tr>\n",
       "  </thead>\n",
       "  <tbody>\n",
       "    <tr>\n",
       "      <th>count</th>\n",
       "      <td>1017.000000</td>\n",
       "      <td>1017.000000</td>\n",
       "      <td>1017.000000</td>\n",
       "      <td>594.000000</td>\n",
       "      <td>1017.000000</td>\n",
       "      <td>1017.000000</td>\n",
       "      <td>1017.000000</td>\n",
       "      <td>1017.000000</td>\n",
       "      <td>1017.000000</td>\n",
       "      <td>1017.000000</td>\n",
       "      <td>...</td>\n",
       "      <td>1017.000000</td>\n",
       "      <td>1017.000000</td>\n",
       "      <td>1017.000000</td>\n",
       "      <td>1017.000000</td>\n",
       "      <td>1017.000000</td>\n",
       "      <td>1017.000000</td>\n",
       "      <td>1017.000000</td>\n",
       "      <td>1017.000000</td>\n",
       "      <td>1017.000000</td>\n",
       "      <td>1017.000000</td>\n",
       "    </tr>\n",
       "    <tr>\n",
       "      <th>mean</th>\n",
       "      <td>6.443461</td>\n",
       "      <td>0.730747</td>\n",
       "      <td>15.150492</td>\n",
       "      <td>1183.183502</td>\n",
       "      <td>4532.940020</td>\n",
       "      <td>40.689282</td>\n",
       "      <td>0.564405</td>\n",
       "      <td>0.398230</td>\n",
       "      <td>0.160275</td>\n",
       "      <td>34.846116</td>\n",
       "      <td>...</td>\n",
       "      <td>0.201573</td>\n",
       "      <td>0.214356</td>\n",
       "      <td>0.584071</td>\n",
       "      <td>0.161259</td>\n",
       "      <td>0.152409</td>\n",
       "      <td>0.164208</td>\n",
       "      <td>0.165192</td>\n",
       "      <td>0.171091</td>\n",
       "      <td>0.185841</td>\n",
       "      <td>0.736509</td>\n",
       "    </tr>\n",
       "    <tr>\n",
       "      <th>std</th>\n",
       "      <td>3.472473</td>\n",
       "      <td>0.097384</td>\n",
       "      <td>10.946096</td>\n",
       "      <td>1793.836719</td>\n",
       "      <td>3275.997333</td>\n",
       "      <td>173.240655</td>\n",
       "      <td>10.093731</td>\n",
       "      <td>3.351712</td>\n",
       "      <td>0.440199</td>\n",
       "      <td>22.185292</td>\n",
       "      <td>...</td>\n",
       "      <td>0.401373</td>\n",
       "      <td>0.410577</td>\n",
       "      <td>0.493124</td>\n",
       "      <td>0.367950</td>\n",
       "      <td>0.359594</td>\n",
       "      <td>0.370647</td>\n",
       "      <td>0.371536</td>\n",
       "      <td>0.376774</td>\n",
       "      <td>0.389169</td>\n",
       "      <td>0.174304</td>\n",
       "    </tr>\n",
       "    <tr>\n",
       "      <th>min</th>\n",
       "      <td>1.000000</td>\n",
       "      <td>0.070000</td>\n",
       "      <td>2.900000</td>\n",
       "      <td>7.000000</td>\n",
       "      <td>0.000000</td>\n",
       "      <td>0.000000</td>\n",
       "      <td>0.000000</td>\n",
       "      <td>0.000000</td>\n",
       "      <td>0.000000</td>\n",
       "      <td>2.000000</td>\n",
       "      <td>...</td>\n",
       "      <td>0.000000</td>\n",
       "      <td>0.000000</td>\n",
       "      <td>0.000000</td>\n",
       "      <td>0.000000</td>\n",
       "      <td>0.000000</td>\n",
       "      <td>0.000000</td>\n",
       "      <td>0.000000</td>\n",
       "      <td>0.000000</td>\n",
       "      <td>0.000000</td>\n",
       "      <td>0.233705</td>\n",
       "    </tr>\n",
       "    <tr>\n",
       "      <th>25%</th>\n",
       "      <td>3.000000</td>\n",
       "      <td>0.700000</td>\n",
       "      <td>3.940000</td>\n",
       "      <td>770.500000</td>\n",
       "      <td>1440.000000</td>\n",
       "      <td>0.000000</td>\n",
       "      <td>0.000000</td>\n",
       "      <td>0.000000</td>\n",
       "      <td>0.000000</td>\n",
       "      <td>9.000000</td>\n",
       "      <td>...</td>\n",
       "      <td>0.000000</td>\n",
       "      <td>0.000000</td>\n",
       "      <td>0.000000</td>\n",
       "      <td>0.000000</td>\n",
       "      <td>0.000000</td>\n",
       "      <td>0.000000</td>\n",
       "      <td>0.000000</td>\n",
       "      <td>0.000000</td>\n",
       "      <td>0.000000</td>\n",
       "      <td>0.651515</td>\n",
       "    </tr>\n",
       "    <tr>\n",
       "      <th>50%</th>\n",
       "      <td>7.000000</td>\n",
       "      <td>0.750000</td>\n",
       "      <td>15.260000</td>\n",
       "      <td>1039.000000</td>\n",
       "      <td>4080.000000</td>\n",
       "      <td>0.000000</td>\n",
       "      <td>0.000000</td>\n",
       "      <td>0.000000</td>\n",
       "      <td>0.000000</td>\n",
       "      <td>34.000000</td>\n",
       "      <td>...</td>\n",
       "      <td>0.000000</td>\n",
       "      <td>0.000000</td>\n",
       "      <td>1.000000</td>\n",
       "      <td>0.000000</td>\n",
       "      <td>0.000000</td>\n",
       "      <td>0.000000</td>\n",
       "      <td>0.000000</td>\n",
       "      <td>0.000000</td>\n",
       "      <td>0.000000</td>\n",
       "      <td>0.773333</td>\n",
       "    </tr>\n",
       "    <tr>\n",
       "      <th>75%</th>\n",
       "      <td>9.000000</td>\n",
       "      <td>0.800000</td>\n",
       "      <td>24.260000</td>\n",
       "      <td>1254.750000</td>\n",
       "      <td>6900.000000</td>\n",
       "      <td>50.000000</td>\n",
       "      <td>0.000000</td>\n",
       "      <td>0.000000</td>\n",
       "      <td>0.000000</td>\n",
       "      <td>57.000000</td>\n",
       "      <td>...</td>\n",
       "      <td>0.000000</td>\n",
       "      <td>0.000000</td>\n",
       "      <td>1.000000</td>\n",
       "      <td>0.000000</td>\n",
       "      <td>0.000000</td>\n",
       "      <td>0.000000</td>\n",
       "      <td>0.000000</td>\n",
       "      <td>0.000000</td>\n",
       "      <td>0.000000</td>\n",
       "      <td>0.850170</td>\n",
       "    </tr>\n",
       "    <tr>\n",
       "      <th>max</th>\n",
       "      <td>12.000000</td>\n",
       "      <td>0.800000</td>\n",
       "      <td>54.560000</td>\n",
       "      <td>23122.000000</td>\n",
       "      <td>15120.000000</td>\n",
       "      <td>3600.000000</td>\n",
       "      <td>270.000000</td>\n",
       "      <td>45.000000</td>\n",
       "      <td>2.000000</td>\n",
       "      <td>89.000000</td>\n",
       "      <td>...</td>\n",
       "      <td>1.000000</td>\n",
       "      <td>1.000000</td>\n",
       "      <td>1.000000</td>\n",
       "      <td>1.000000</td>\n",
       "      <td>1.000000</td>\n",
       "      <td>1.000000</td>\n",
       "      <td>1.000000</td>\n",
       "      <td>1.000000</td>\n",
       "      <td>1.000000</td>\n",
       "      <td>1.108125</td>\n",
       "    </tr>\n",
       "  </tbody>\n",
       "</table>\n",
       "<p>8 rows × 26 columns</p>\n",
       "</div>"
      ],
      "text/plain": [
       "              team  targeted_productivity          smv           wip  \\\n",
       "count  1017.000000            1017.000000  1017.000000    594.000000   \n",
       "mean      6.443461               0.730747    15.150492   1183.183502   \n",
       "std       3.472473               0.097384    10.946096   1793.836719   \n",
       "min       1.000000               0.070000     2.900000      7.000000   \n",
       "25%       3.000000               0.700000     3.940000    770.500000   \n",
       "50%       7.000000               0.750000    15.260000   1039.000000   \n",
       "75%       9.000000               0.800000    24.260000   1254.750000   \n",
       "max      12.000000               0.800000    54.560000  23122.000000   \n",
       "\n",
       "          over_time    incentive    idle_time     idle_men  \\\n",
       "count   1017.000000  1017.000000  1017.000000  1017.000000   \n",
       "mean    4532.940020    40.689282     0.564405     0.398230   \n",
       "std     3275.997333   173.240655    10.093731     3.351712   \n",
       "min        0.000000     0.000000     0.000000     0.000000   \n",
       "25%     1440.000000     0.000000     0.000000     0.000000   \n",
       "50%     4080.000000     0.000000     0.000000     0.000000   \n",
       "75%     6900.000000    50.000000     0.000000     0.000000   \n",
       "max    15120.000000  3600.000000   270.000000    45.000000   \n",
       "\n",
       "       no_of_style_change  no_of_workers  ...  department_finishing  \\\n",
       "count         1017.000000    1017.000000  ...           1017.000000   \n",
       "mean             0.160275      34.846116  ...              0.201573   \n",
       "std              0.440199      22.185292  ...              0.401373   \n",
       "min              0.000000       2.000000  ...              0.000000   \n",
       "25%              0.000000       9.000000  ...              0.000000   \n",
       "50%              0.000000      34.000000  ...              0.000000   \n",
       "75%              0.000000      57.000000  ...              0.000000   \n",
       "max              2.000000      89.000000  ...              1.000000   \n",
       "\n",
       "       department_finishing   department_sweing   day_Monday  day_Saturday  \\\n",
       "count            1017.000000        1017.000000  1017.000000   1017.000000   \n",
       "mean                0.214356           0.584071     0.161259      0.152409   \n",
       "std                 0.410577           0.493124     0.367950      0.359594   \n",
       "min                 0.000000           0.000000     0.000000      0.000000   \n",
       "25%                 0.000000           0.000000     0.000000      0.000000   \n",
       "50%                 0.000000           1.000000     0.000000      0.000000   \n",
       "75%                 0.000000           1.000000     0.000000      0.000000   \n",
       "max                 1.000000           1.000000     1.000000      1.000000   \n",
       "\n",
       "        day_Sunday  day_Thursday  day_Tuesday  day_Wednesday  \\\n",
       "count  1017.000000   1017.000000  1017.000000    1017.000000   \n",
       "mean      0.164208      0.165192     0.171091       0.185841   \n",
       "std       0.370647      0.371536     0.376774       0.389169   \n",
       "min       0.000000      0.000000     0.000000       0.000000   \n",
       "25%       0.000000      0.000000     0.000000       0.000000   \n",
       "50%       0.000000      0.000000     0.000000       0.000000   \n",
       "75%       0.000000      0.000000     0.000000       0.000000   \n",
       "max       1.000000      1.000000     1.000000       1.000000   \n",
       "\n",
       "       actual_productivity  \n",
       "count          1017.000000  \n",
       "mean              0.736509  \n",
       "std               0.174304  \n",
       "min               0.233705  \n",
       "25%               0.651515  \n",
       "50%               0.773333  \n",
       "75%               0.850170  \n",
       "max               1.108125  \n",
       "\n",
       "[8 rows x 26 columns]"
      ]
     },
     "execution_count": 8,
     "metadata": {},
     "output_type": "execute_result"
    }
   ],
   "source": [
    "df_train.describe()"
   ]
  },
  {
   "cell_type": "markdown",
   "id": "79ec1708",
   "metadata": {
    "papermill": {
     "duration": 0.011489,
     "end_time": "2022-12-26T17:20:12.972703",
     "exception": false,
     "start_time": "2022-12-26T17:20:12.961214",
     "status": "completed"
    },
    "tags": []
   },
   "source": [
    "# **Replacing the missing values with mean**"
   ]
  },
  {
   "cell_type": "code",
   "execution_count": 9,
   "id": "511b91f5",
   "metadata": {
    "execution": {
     "iopub.execute_input": "2022-12-26T17:20:12.998337Z",
     "iopub.status.busy": "2022-12-26T17:20:12.997618Z",
     "iopub.status.idle": "2022-12-26T17:20:13.003063Z",
     "shell.execute_reply": "2022-12-26T17:20:13.002182Z"
    },
    "papermill": {
     "duration": 0.021204,
     "end_time": "2022-12-26T17:20:13.005590",
     "exception": false,
     "start_time": "2022-12-26T17:20:12.984386",
     "status": "completed"
    },
    "tags": []
   },
   "outputs": [],
   "source": [
    "df_train[\"wip\"]=df_train[\"wip\"].fillna(df_train[\"wip\"].mean()) "
   ]
  },
  {
   "cell_type": "markdown",
   "id": "75c1ea41",
   "metadata": {
    "papermill": {
     "duration": 0.012235,
     "end_time": "2022-12-26T17:20:13.030033",
     "exception": false,
     "start_time": "2022-12-26T17:20:13.017798",
     "status": "completed"
    },
    "tags": []
   },
   "source": [
    "# Checking for the distribution of data"
   ]
  },
  {
   "cell_type": "code",
   "execution_count": 10,
   "id": "60254243",
   "metadata": {
    "execution": {
     "iopub.execute_input": "2022-12-26T17:20:13.056944Z",
     "iopub.status.busy": "2022-12-26T17:20:13.056168Z",
     "iopub.status.idle": "2022-12-26T17:20:13.388205Z",
     "shell.execute_reply": "2022-12-26T17:20:13.386950Z"
    },
    "papermill": {
     "duration": 0.348601,
     "end_time": "2022-12-26T17:20:13.390866",
     "exception": false,
     "start_time": "2022-12-26T17:20:13.042265",
     "status": "completed"
    },
    "tags": []
   },
   "outputs": [
    {
     "data": {
      "application/vnd.plotly.v1+json": {
       "config": {
        "plotlyServerURL": "https://plot.ly"
       },
       "data": [
        {
         "alignmentgroup": "True",
         "bingroup": "x",
         "hovertemplate": "variable=actual_productivity<br>value=%{x}<br>count=%{y}<extra></extra>",
         "legendgroup": "actual_productivity",
         "marker": {
          "color": "#636efa",
          "pattern": {
           "shape": ""
          }
         },
         "name": "actual_productivity",
         "nbinsx": 100,
         "offsetgroup": "actual_productivity",
         "orientation": "v",
         "showlegend": true,
         "type": "histogram",
         "x": [
          0.755166667,
          0.5356779660000001,
          0.8208333329999999,
          0.581130952,
          0.7900032359999999,
          0.875390625,
          0.8002738290000001,
          0.9425,
          0.7999632179999999,
          0.8004019609999999,
          0.921703704,
          0.750473684,
          0.400332792,
          0.8004019609999999,
          0.7999632179999999,
          0.397743056,
          0.8004019609999999,
          0.681060606,
          0.7005884059999999,
          0.65024031,
          0.8005704920000001,
          0.258,
          0.85011396,
          1.033570076,
          0.800537143,
          1.000065789,
          0.606912879,
          0.800578947,
          0.850532143,
          0.8002467529999999,
          0.902222222,
          0.662255892,
          0.750545455,
          0.8002460109999999,
          0.7866,
          0.471108491,
          0.650596491,
          0.8001171029999999,
          0.846950758,
          0.671875,
          0.800149813,
          0.4078125,
          0.664875,
          1.000230409,
          0.483333333,
          0.8581439390000001,
          0.8002467529999999,
          0.902962963,
          0.8865,
          1.108125,
          0.5005673079999999,
          0.8133090279999999,
          0.7003620690000001,
          0.901262626,
          0.531666667,
          0.8174242420000001,
          0.750356125,
          0.821666667,
          0.800128721,
          0.7004241379999999,
          0.8003437659999999,
          0.742901235,
          0.70061442,
          0.850502311,
          0.700386207,
          0.800128721,
          0.900477825,
          0.657083333,
          0.850136766,
          0.750050847,
          0.850136766,
          0.929277778,
          0.60128,
          0.406354167,
          0.618361111,
          0.8003186440000001,
          0.749987124,
          0.939513889,
          1.000230409,
          0.600291767,
          0.440375,
          0.8004019609999999,
          0.500801724,
          0.800746552,
          0.812625,
          0.755208333,
          0.800030199,
          0.90047076,
          0.755166667,
          0.8004019609999999,
          0.495416667,
          0.505128205,
          0.75065101,
          0.750062751,
          0.7504372690000001,
          0.966781346,
          0.7506079999999999,
          0.7555555559999999,
          0.600099145,
          0.6074166670000001,
          0.915229167,
          0.861875,
          0.735984848,
          0.700069811,
          0.8755555559999999,
          0.75065101,
          0.8005704920000001,
          0.90014152,
          0.899,
          0.70043672,
          0.750031447,
          0.8002467529999999,
          0.800516667,
          0.758229167,
          0.700135088,
          0.936355556,
          0.966759259,
          0.912766667,
          0.8503451329999999,
          0.86037037,
          0.700058333,
          0.700614035,
          0.906666667,
          0.786631944,
          0.778222222,
          0.650148148,
          0.5503497079999999,
          0.603432184,
          0.522844828,
          0.609583333,
          0.7005089290000001,
          0.971866667,
          0.8035416670000001,
          0.850136766,
          0.650962281,
          0.598627451,
          0.799975862,
          0.800346445,
          0.500025069,
          0.805555556,
          0.376597222,
          0.726933333,
          0.350301724,
          0.9005562770000001,
          0.7879999999999999,
          0.91375,
          0.750395513,
          0.800076522,
          0.4470833329999999,
          0.6508348079999999,
          0.7505931029999999,
          0.7070459020000001,
          0.77815,
          0.957638889,
          0.4108333329999999,
          0.753097531,
          0.949981609,
          0.598792339,
          0.7002788459999999,
          0.910378788,
          0.800980392,
          0.5907407410000001,
          0.927541667,
          0.681060606,
          0.800612676,
          0.8383838379999999,
          0.850520588,
          0.630402924,
          0.590617284,
          0.637711864,
          0.504596491,
          0.549791667,
          0.2494166669999999,
          0.350301724,
          0.850136766,
          0.328131579,
          0.9008,
          0.937242424,
          0.929074074,
          0.80003139,
          0.2513992539999999,
          0.651007071,
          0.850502311,
          0.9002157159999999,
          0.722568627,
          0.750254867,
          0.712626263,
          0.75065101,
          0.750395513,
          0.639867424,
          0.690182815,
          0.676666667,
          0.75024303,
          0.8,
          0.5920833329999999,
          0.850312684,
          0.7975,
          0.638614379,
          0.4879199999999999,
          0.9456,
          0.271875,
          0.612517157,
          0.626822917,
          0.6645833329999999,
          0.902962963,
          0.800513307,
          0.850136766,
          0.879714482,
          0.6002298460000001,
          0.700618234,
          0.773333333,
          1.000457471,
          0.700888203,
          0.415172414,
          0.2565,
          0.890604167,
          0.960625,
          0.80007657,
          0.934607438,
          0.8004019609999999,
          0.611140537,
          0.800779018,
          0.5619791670000001,
          0.600436426,
          0.800181818,
          0.8003186440000001,
          0.750206897,
          0.6181818179999999,
          0.7211269570000001,
          1.000230409,
          0.664875,
          0.9918,
          0.70043672,
          0.800594466,
          0.750473684,
          0.800980392,
          1.001416667,
          0.8002378379999999,
          0.463194444,
          0.668087121,
          0.681060606,
          0.827186544,
          0.750371895,
          0.8001409690000001,
          0.629416667,
          0.779791667,
          0.83375,
          0.850252525,
          0.850502311,
          0.8009096090000001,
          0.2830544869999999,
          0.750068049,
          0.850610526,
          1.000344928,
          0.500801724,
          0.60059761,
          0.850502311,
          1.033155556,
          0.912766667,
          0.35063299,
          0.4108333329999999,
          0.39875,
          0.8527935609999999,
          0.658541667,
          0.4108333329999999,
          0.649662222,
          1.000230409,
          0.699965217,
          0.950185965,
          0.7921041670000001,
          0.700184577,
          0.460578704,
          0.999995238,
          0.971866667,
          0.705576584,
          0.705916667,
          0.477291667,
          0.900129762,
          0.8003027909999999,
          0.7505931029999999,
          1.059621212,
          0.800333333,
          0.793844697,
          0.715333333,
          0.350706422,
          0.864583333,
          0.726933333,
          0.628882576,
          0.800436542,
          0.8,
          0.75065101,
          0.800161172,
          0.921703704,
          0.850045,
          0.900833333,
          0.750406233,
          0.900147246,
          0.7715833329999999,
          0.8005660920000001,
          0.353259649,
          0.800034503,
          0.35020649,
          0.828295455,
          0.750050847,
          0.974621212,
          0.989,
          0.66237931,
          1.100483918,
          0.26369382,
          0.956270833,
          0.541517857,
          0.8915555559999999,
          0.441392,
          0.850136766,
          0.921604938,
          0.700206125,
          0.470769231,
          0.536901754,
          0.8616790120000001,
          0.625625,
          0.7967555559999999,
          0.8004019609999999,
          0.85695,
          0.9003211059999999,
          0.600224189,
          0.7500412009999999,
          0.82680303,
          0.800808642,
          0.750503571,
          0.800128721,
          0.868888889,
          0.891723485,
          0.7999828529999999,
          0.750395513,
          0.750395513,
          0.585315789,
          0.7006596490000001,
          0.601037091,
          0.625625,
          0.7002464909999999,
          0.7000637959999999,
          0.750770115,
          0.648106061,
          0.955151515,
          0.850136766,
          0.8004019609999999,
          0.700354545,
          0.902916667,
          0.7002111109999999,
          0.8174242420000001,
          0.4041449279999999,
          0.714410494,
          0.87,
          0.85007069,
          0.700422,
          0.800594466,
          0.689299242,
          0.750450658,
          0.970075758,
          0.850502311,
          0.560625,
          0.800125,
          0.850364583,
          0.700556897,
          0.837594697,
          0.6895,
          0.951420455,
          0.699965217,
          0.5046875,
          0.750212553,
          0.979527778,
          0.988636364,
          0.800473729,
          0.337973485,
          0.8004019609999999,
          0.710125,
          0.800415742,
          0.6253125,
          0.966759259,
          0.700516224,
          0.329545455,
          0.8002614859999999,
          0.755486111,
          0.800594466,
          0.283958333,
          0.971866667,
          0.800250962,
          0.980909091,
          0.700170388,
          0.8008888890000001,
          0.800489676,
          0.700170388,
          0.673083333,
          0.845458333,
          0.6225,
          0.650416734,
          0.7071111109999999,
          0.930416667,
          0.800162602,
          0.7506079999999999,
          0.750068049,
          0.750057359,
          0.34998951,
          0.7504259259999999,
          0.332359307,
          0.8003819440000001,
          0.466821212,
          0.7003620690000001,
          0.980984848,
          0.8004972459999999,
          0.850136766,
          0.8004019609999999,
          0.800024932,
          0.700134038,
          1.000018551,
          0.805909091,
          1.000602279,
          0.971866667,
          1.000230409,
          0.936496212,
          0.800534979,
          0.700603448,
          0.475718391,
          0.8643425929999999,
          0.75065101,
          0.80037492,
          0.802243319,
          0.978525641,
          0.902916667,
          0.750027778,
          0.700170388,
          0.8001441440000001,
          0.75075,
          0.549969429,
          0.8002467529999999,
          0.750068049,
          0.670075758,
          0.800128721,
          0.827147436,
          0.940625,
          0.936861111,
          0.950185965,
          0.750651724,
          0.650040783,
          1.000018551,
          0.850502311,
          0.697708333,
          0.7999632179999999,
          0.8010282129999999,
          0.8092361109999999,
          0.653431373,
          0.92885,
          1.000230409,
          0.332146465,
          0.850223776,
          0.850136766,
          0.961784512,
          0.6500440679999999,
          0.768847222,
          0.600125217,
          0.800034024,
          0.840533333,
          0.845833333,
          0.661837121,
          0.8960227270000001,
          0.900129762,
          0.58,
          0.800358775,
          0.8,
          0.448722222,
          1.000230409,
          0.805909091,
          0.750050847,
          0.60041361,
          0.636049383,
          0.8006843659999999,
          0.303574468,
          0.692045455,
          0.35003125,
          0.915766667,
          0.8,
          0.912037037,
          0.985,
          0.750356125,
          0.500547544,
          0.325,
          0.8001171029999999,
          0.890604167,
          0.683550607,
          0.750646667,
          0.622828125,
          0.700060345,
          0.750797009,
          0.700029771,
          0.950438596,
          0.8503620690000001,
          0.800393224,
          0.403242161,
          0.452012539,
          0.800947475,
          0.7005730990000001,
          0.75065101,
          0.688017677,
          0.8705808079999999,
          0.800071839,
          0.700095563,
          0.600528571,
          0.9008,
          0.271875,
          0.900135693,
          0.604166667,
          0.676666667,
          0.952020202,
          0.7502939390000001,
          0.750646667,
          0.8000235109999999,
          0.8300625,
          0.72830303,
          0.7501407409999999,
          0.971866667,
          0.7500983509999999,
          0.52118,
          0.2640625,
          0.977555556,
          0.75024303,
          0.24625,
          0.750395513,
          0.672140805,
          0.688557555,
          0.8000150090000001,
          0.999533333,
          0.582045455,
          0.7504278259999999,
          0.7004808309999999,
          0.560625,
          0.393548851,
          0.999995238,
          0.700079032,
          0.973796791,
          0.8001171029999999,
          0.966666667,
          0.864583333,
          0.6000287360000001,
          0.700422,
          0.800313433,
          0.750648148,
          0.50012336,
          0.700618234,
          0.7001647059999999,
          0.8001171029999999,
          0.812625,
          0.994270833,
          0.309333333,
          0.884,
          0.750395513,
          0.7504,
          0.800020563,
          0.8842613640000001,
          0.600710606,
          0.260978788,
          0.800312375,
          0.4509375,
          0.87115,
          0.302117347,
          0.90063244,
          0.759228395,
          0.687555556,
          0.850502311,
          0.857916667,
          0.7005135659999999,
          0.8004019609999999,
          0.753525,
          0.7999828529999999,
          0.8213541670000001,
          0.8211125,
          0.8003437659999999,
          0.667604167,
          0.60017284,
          0.93532197,
          1.000018551,
          0.782447917,
          0.80007657,
          0.272,
          0.350301724,
          0.8001919890000001,
          0.700614035,
          0.8004019609999999,
          0.8501818179999999,
          0.800309211,
          0.850502311,
          0.750395513,
          0.653598485,
          0.537919444,
          0.590435606,
          0.646306818,
          0.750162367,
          0.805909091,
          0.235795455,
          0.7005052629999999,
          0.80575,
          0.922839506,
          0.700398148,
          0.6283333329999999,
          0.3715625,
          0.8721,
          0.8002738290000001,
          0.30277037,
          0.8915555559999999,
          0.955791667,
          0.881575,
          0.667329545,
          0.800071839,
          0.268214286,
          0.750068049,
          0.8004019609999999,
          0.408960345,
          0.80035194,
          0.4925,
          0.800534483,
          0.311207464,
          0.809564394,
          0.327407407,
          0.3715625,
          0.6825,
          0.7006120690000001,
          0.500258046,
          0.507903226,
          0.500720126,
          0.700106061,
          0.578314394,
          0.773333333,
          0.7005185190000001,
          0.7507273259999999,
          0.6283333329999999,
          0.662270115,
          0.5375,
          0.940701058,
          0.750079323,
          0.650130952,
          0.8133712120000001,
          0.7002507840000001,
          0.361071429,
          0.800643806,
          0.976979167,
          0.670075758,
          0.850569492,
          0.436326389,
          0.499998888,
          0.999924242,
          0.845458333,
          0.930416667,
          0.8003863640000001,
          0.6000406779999999,
          0.971866667,
          0.650134,
          0.850502311,
          0.734645833,
          0.8002467529999999,
          0.6502434970000001,
          0.800594466,
          0.600143365,
          0.750027778,
          0.433263158,
          0.785864198,
          0.99485,
          0.7500318979999999,
          0.9003211059999999,
          0.650066445,
          0.650421429,
          0.463403955,
          0.6840277779999999,
          0.75053268,
          0.6003696860000001,
          0.8008,
          0.700623,
          0.5006109089999999,
          0.586041667,
          0.8008063059999999,
          0.750037968,
          0.683806818,
          0.7004241379999999,
          0.8842613640000001,
          0.75065101,
          0.2380416669999999,
          0.8007017540000001,
          0.763375,
          0.7503921570000001,
          0.804416667,
          0.409545455,
          0.8002460109999999,
          0.750517565,
          0.812625,
          0.800128721,
          0.600982906,
          0.411553571,
          1.000230409,
          0.800034503,
          0.675568182,
          0.800071839,
          0.850502311,
          0.971866667,
          0.85695,
          0.6000705129999999,
          0.7002464909999999,
          0.800594466,
          0.931645833,
          0.750473684,
          0.650223718,
          0.8004705129999999,
          0.8319375,
          0.8999840579999999,
          0.699984417,
          0.888686869,
          0.8001158190000001,
          1.050666667,
          0.791458333,
          0.75065101,
          0.329964879,
          0.800076522,
          0.912202112,
          0.8001158190000001,
          0.700251773,
          0.800128721,
          0.681060606,
          0.971866667,
          0.800598058,
          0.700632768,
          0.910378788,
          0.295307738,
          0.951420455,
          0.6824330359999999,
          0.557252451,
          0.8581439390000001,
          1.000018551,
          0.500117677,
          0.8208333329999999,
          0.8001171029999999,
          0.700236601,
          0.9025,
          0.500035345,
          0.899166667,
          0.5403125,
          0.905454545,
          0.8213541670000001,
          0.590617284,
          0.59114168,
          0.271875,
          0.800842424,
          0.81640625,
          0.977272727,
          0.800260821,
          0.800279693,
          0.800125,
          0.8004019609999999,
          0.800725314,
          0.586465465,
          0.750716981,
          0.6002397660000001,
          0.800137255,
          0.919954545,
          0.550403509,
          0.7953875,
          0.75024303,
          0.8004019609999999,
          0.700603448,
          0.8002467529999999,
          0.961059028,
          1.000402055,
          0.853666667,
          1.000230409,
          0.432122899,
          0.8003229359999999,
          0.804640152,
          0.950625,
          0.473134796,
          0.800020563,
          0.928680556,
          0.8606534090000001,
          0.712205247,
          0.750797009,
          0.971866667,
          0.850084211,
          0.7,
          0.6645833329999999,
          0.417916667,
          0.366053523,
          0.920236905,
          0.449964912,
          0.6503071429999999,
          0.8192708329999999,
          0.602,
          0.7502833329999999,
          0.795416667,
          0.823555556,
          0.7006052629999999,
          0.800137255,
          0.64025,
          0.8003186440000001,
          0.350066986,
          0.412119835,
          0.741,
          0.7332777779999999,
          0.8004019609999999,
          0.8003437659999999,
          0.4108333329999999,
          0.307501459,
          0.7000941559999999,
          0.758173077,
          0.700422,
          0.453125,
          0.233705476,
          0.800034503,
          0.8004019609999999,
          0.800980392,
          1.000344928,
          0.601278409,
          0.987880435,
          0.553333333,
          0.715766667,
          0.92,
          0.800034503,
          0.528125,
          0.378895152,
          0.850502311,
          0.8004019609999999,
          0.919905405,
          0.526810345,
          1.057962963,
          0.656666667,
          0.545657673,
          0.900144811,
          0.760833333,
          0.800259023,
          0.877552083,
          0.899111111,
          0.970816667,
          0.621971751,
          0.8581439390000001,
          0.6346666670000001,
          0.350416667,
          0.600291767,
          0.656666667,
          0.8004019609999999,
          0.963699495,
          0.98719697,
          0.660683293,
          0.7005052629999999,
          0.850446154,
          0.8003552079999999,
          0.64998056,
          0.259375,
          0.7005404409999999,
          0.902222222,
          0.955151515,
          0.605208333,
          0.994375,
          0.893066667,
          0.8995555559999999,
          0.8450694440000001,
          0.7004598890000001,
          0.3458333329999999,
          0.80003139,
          0.964106061,
          0.945555556,
          1.0006713040000002,
          0.753683478,
          0.650416734,
          0.8096401520000001,
          0.700019883,
          0.8581439390000001,
          0.880530303,
          0.664875,
          0.800434622,
          0.750344828,
          0.465757576,
          0.441041667,
          0.313852814,
          0.247316017,
          0.838666667,
          0.8136111109999999,
          0.651515152,
          0.610208333,
          0.850170115,
          0.700422,
          0.850136766,
          0.75885,
          0.7962083329999999,
          0.393548851,
          0.597348485,
          0.600447507,
          0.7999632179999999,
          1.000230409,
          0.58,
          0.8002738290000001,
          0.769292929,
          0.8,
          0.4999803339999999,
          0.870083333,
          0.8865,
          0.594871795,
          0.7999632179999999,
          0.3564583329999999,
          0.900135693,
          0.962016667,
          0.768847222,
          0.4676932689999999,
          0.925643939,
          0.8171022729999999,
          0.750648148,
          0.285333333,
          0.874027778,
          0.8504156279999999,
          0.908080808,
          0.911589744,
          0.850312684,
          0.921604938,
          0.8003863640000001,
          0.8002372879999999,
          0.8002738290000001,
          0.794566667,
          0.971866667,
          0.997792208,
          0.3555344829999999,
          0.700051852,
          0.7009035709999999,
          0.6283333329999999,
          0.850410511,
          0.800263218,
          0.950185965,
          0.7503921570000001,
          0.750347333,
          0.900129762,
          0.825444444,
          0.7018125,
          0.676666667,
          0.810111111,
          0.700623,
          0.261174242,
          0.910521886,
          0.639867424,
          0.8504268909999999,
          0.749188312,
          0.656763743,
          0.578314394,
          1.02,
          0.750371895,
          0.314166667,
          0.940725424,
          0.7715833329999999,
          0.942213805,
          0.800107143,
          0.700058333,
          0.582301029,
          0.8003437659999999,
          0.929183333,
          0.505888889,
          1.05028058,
          0.864583333,
          0.750356125,
          0.947689394,
          0.576460393,
          0.4078125,
          0.7503484570000001,
          0.7005416999999999,
          0.779791667,
          0.579511494,
          0.8113888890000001,
          0.80000295,
          0.7002507840000001,
          0.950185965,
          0.9008,
          0.8001171029999999,
          0.725625,
          0.8004019609999999,
          0.456875,
          0.7500578509999999,
          0.6265777779999999,
          1.000446018,
          0.895454545,
          0.75065101,
          1.0115625,
          0.850532143,
          0.8005110679999999,
          0.54175,
          0.567377778,
          0.885925926,
          0.673245283,
          0.36871875,
          0.8581439390000001,
          0.8007017540000001,
          0.700256795,
          0.520237649,
          0.841,
          0.700236601,
          0.7501769909999999,
          0.902962963,
          0.991388889,
          0.394722222,
          0.893663194,
          0.8471,
          0.8357575759999999,
          0.950185965,
          0.70009573,
          0.5156060610000001,
          0.385791667,
          0.850136766,
          0.700170388,
          0.5659722220000001,
          1.096633333,
          0.7999632179999999,
          0.90047076,
          0.800020563,
          0.497885057,
          0.7505931029999999,
          0.800137255,
          0.900129762,
          0.7226388890000001
         ],
         "xaxis": "x",
         "yaxis": "y"
        }
       ],
       "layout": {
        "barmode": "relative",
        "height": 400,
        "legend": {
         "title": {
          "text": "variable"
         },
         "tracegroupgap": 0
        },
        "template": {
         "data": {
          "bar": [
           {
            "error_x": {
             "color": "#2a3f5f"
            },
            "error_y": {
             "color": "#2a3f5f"
            },
            "marker": {
             "line": {
              "color": "#E5ECF6",
              "width": 0.5
             },
             "pattern": {
              "fillmode": "overlay",
              "size": 10,
              "solidity": 0.2
             }
            },
            "type": "bar"
           }
          ],
          "barpolar": [
           {
            "marker": {
             "line": {
              "color": "#E5ECF6",
              "width": 0.5
             },
             "pattern": {
              "fillmode": "overlay",
              "size": 10,
              "solidity": 0.2
             }
            },
            "type": "barpolar"
           }
          ],
          "carpet": [
           {
            "aaxis": {
             "endlinecolor": "#2a3f5f",
             "gridcolor": "white",
             "linecolor": "white",
             "minorgridcolor": "white",
             "startlinecolor": "#2a3f5f"
            },
            "baxis": {
             "endlinecolor": "#2a3f5f",
             "gridcolor": "white",
             "linecolor": "white",
             "minorgridcolor": "white",
             "startlinecolor": "#2a3f5f"
            },
            "type": "carpet"
           }
          ],
          "choropleth": [
           {
            "colorbar": {
             "outlinewidth": 0,
             "ticks": ""
            },
            "type": "choropleth"
           }
          ],
          "contour": [
           {
            "colorbar": {
             "outlinewidth": 0,
             "ticks": ""
            },
            "colorscale": [
             [
              0,
              "#0d0887"
             ],
             [
              0.1111111111111111,
              "#46039f"
             ],
             [
              0.2222222222222222,
              "#7201a8"
             ],
             [
              0.3333333333333333,
              "#9c179e"
             ],
             [
              0.4444444444444444,
              "#bd3786"
             ],
             [
              0.5555555555555556,
              "#d8576b"
             ],
             [
              0.6666666666666666,
              "#ed7953"
             ],
             [
              0.7777777777777778,
              "#fb9f3a"
             ],
             [
              0.8888888888888888,
              "#fdca26"
             ],
             [
              1,
              "#f0f921"
             ]
            ],
            "type": "contour"
           }
          ],
          "contourcarpet": [
           {
            "colorbar": {
             "outlinewidth": 0,
             "ticks": ""
            },
            "type": "contourcarpet"
           }
          ],
          "heatmap": [
           {
            "colorbar": {
             "outlinewidth": 0,
             "ticks": ""
            },
            "colorscale": [
             [
              0,
              "#0d0887"
             ],
             [
              0.1111111111111111,
              "#46039f"
             ],
             [
              0.2222222222222222,
              "#7201a8"
             ],
             [
              0.3333333333333333,
              "#9c179e"
             ],
             [
              0.4444444444444444,
              "#bd3786"
             ],
             [
              0.5555555555555556,
              "#d8576b"
             ],
             [
              0.6666666666666666,
              "#ed7953"
             ],
             [
              0.7777777777777778,
              "#fb9f3a"
             ],
             [
              0.8888888888888888,
              "#fdca26"
             ],
             [
              1,
              "#f0f921"
             ]
            ],
            "type": "heatmap"
           }
          ],
          "heatmapgl": [
           {
            "colorbar": {
             "outlinewidth": 0,
             "ticks": ""
            },
            "colorscale": [
             [
              0,
              "#0d0887"
             ],
             [
              0.1111111111111111,
              "#46039f"
             ],
             [
              0.2222222222222222,
              "#7201a8"
             ],
             [
              0.3333333333333333,
              "#9c179e"
             ],
             [
              0.4444444444444444,
              "#bd3786"
             ],
             [
              0.5555555555555556,
              "#d8576b"
             ],
             [
              0.6666666666666666,
              "#ed7953"
             ],
             [
              0.7777777777777778,
              "#fb9f3a"
             ],
             [
              0.8888888888888888,
              "#fdca26"
             ],
             [
              1,
              "#f0f921"
             ]
            ],
            "type": "heatmapgl"
           }
          ],
          "histogram": [
           {
            "marker": {
             "pattern": {
              "fillmode": "overlay",
              "size": 10,
              "solidity": 0.2
             }
            },
            "type": "histogram"
           }
          ],
          "histogram2d": [
           {
            "colorbar": {
             "outlinewidth": 0,
             "ticks": ""
            },
            "colorscale": [
             [
              0,
              "#0d0887"
             ],
             [
              0.1111111111111111,
              "#46039f"
             ],
             [
              0.2222222222222222,
              "#7201a8"
             ],
             [
              0.3333333333333333,
              "#9c179e"
             ],
             [
              0.4444444444444444,
              "#bd3786"
             ],
             [
              0.5555555555555556,
              "#d8576b"
             ],
             [
              0.6666666666666666,
              "#ed7953"
             ],
             [
              0.7777777777777778,
              "#fb9f3a"
             ],
             [
              0.8888888888888888,
              "#fdca26"
             ],
             [
              1,
              "#f0f921"
             ]
            ],
            "type": "histogram2d"
           }
          ],
          "histogram2dcontour": [
           {
            "colorbar": {
             "outlinewidth": 0,
             "ticks": ""
            },
            "colorscale": [
             [
              0,
              "#0d0887"
             ],
             [
              0.1111111111111111,
              "#46039f"
             ],
             [
              0.2222222222222222,
              "#7201a8"
             ],
             [
              0.3333333333333333,
              "#9c179e"
             ],
             [
              0.4444444444444444,
              "#bd3786"
             ],
             [
              0.5555555555555556,
              "#d8576b"
             ],
             [
              0.6666666666666666,
              "#ed7953"
             ],
             [
              0.7777777777777778,
              "#fb9f3a"
             ],
             [
              0.8888888888888888,
              "#fdca26"
             ],
             [
              1,
              "#f0f921"
             ]
            ],
            "type": "histogram2dcontour"
           }
          ],
          "mesh3d": [
           {
            "colorbar": {
             "outlinewidth": 0,
             "ticks": ""
            },
            "type": "mesh3d"
           }
          ],
          "parcoords": [
           {
            "line": {
             "colorbar": {
              "outlinewidth": 0,
              "ticks": ""
             }
            },
            "type": "parcoords"
           }
          ],
          "pie": [
           {
            "automargin": true,
            "type": "pie"
           }
          ],
          "scatter": [
           {
            "fillpattern": {
             "fillmode": "overlay",
             "size": 10,
             "solidity": 0.2
            },
            "type": "scatter"
           }
          ],
          "scatter3d": [
           {
            "line": {
             "colorbar": {
              "outlinewidth": 0,
              "ticks": ""
             }
            },
            "marker": {
             "colorbar": {
              "outlinewidth": 0,
              "ticks": ""
             }
            },
            "type": "scatter3d"
           }
          ],
          "scattercarpet": [
           {
            "marker": {
             "colorbar": {
              "outlinewidth": 0,
              "ticks": ""
             }
            },
            "type": "scattercarpet"
           }
          ],
          "scattergeo": [
           {
            "marker": {
             "colorbar": {
              "outlinewidth": 0,
              "ticks": ""
             }
            },
            "type": "scattergeo"
           }
          ],
          "scattergl": [
           {
            "marker": {
             "colorbar": {
              "outlinewidth": 0,
              "ticks": ""
             }
            },
            "type": "scattergl"
           }
          ],
          "scattermapbox": [
           {
            "marker": {
             "colorbar": {
              "outlinewidth": 0,
              "ticks": ""
             }
            },
            "type": "scattermapbox"
           }
          ],
          "scatterpolar": [
           {
            "marker": {
             "colorbar": {
              "outlinewidth": 0,
              "ticks": ""
             }
            },
            "type": "scatterpolar"
           }
          ],
          "scatterpolargl": [
           {
            "marker": {
             "colorbar": {
              "outlinewidth": 0,
              "ticks": ""
             }
            },
            "type": "scatterpolargl"
           }
          ],
          "scatterternary": [
           {
            "marker": {
             "colorbar": {
              "outlinewidth": 0,
              "ticks": ""
             }
            },
            "type": "scatterternary"
           }
          ],
          "surface": [
           {
            "colorbar": {
             "outlinewidth": 0,
             "ticks": ""
            },
            "colorscale": [
             [
              0,
              "#0d0887"
             ],
             [
              0.1111111111111111,
              "#46039f"
             ],
             [
              0.2222222222222222,
              "#7201a8"
             ],
             [
              0.3333333333333333,
              "#9c179e"
             ],
             [
              0.4444444444444444,
              "#bd3786"
             ],
             [
              0.5555555555555556,
              "#d8576b"
             ],
             [
              0.6666666666666666,
              "#ed7953"
             ],
             [
              0.7777777777777778,
              "#fb9f3a"
             ],
             [
              0.8888888888888888,
              "#fdca26"
             ],
             [
              1,
              "#f0f921"
             ]
            ],
            "type": "surface"
           }
          ],
          "table": [
           {
            "cells": {
             "fill": {
              "color": "#EBF0F8"
             },
             "line": {
              "color": "white"
             }
            },
            "header": {
             "fill": {
              "color": "#C8D4E3"
             },
             "line": {
              "color": "white"
             }
            },
            "type": "table"
           }
          ]
         },
         "layout": {
          "annotationdefaults": {
           "arrowcolor": "#2a3f5f",
           "arrowhead": 0,
           "arrowwidth": 1
          },
          "autotypenumbers": "strict",
          "coloraxis": {
           "colorbar": {
            "outlinewidth": 0,
            "ticks": ""
           }
          },
          "colorscale": {
           "diverging": [
            [
             0,
             "#8e0152"
            ],
            [
             0.1,
             "#c51b7d"
            ],
            [
             0.2,
             "#de77ae"
            ],
            [
             0.3,
             "#f1b6da"
            ],
            [
             0.4,
             "#fde0ef"
            ],
            [
             0.5,
             "#f7f7f7"
            ],
            [
             0.6,
             "#e6f5d0"
            ],
            [
             0.7,
             "#b8e186"
            ],
            [
             0.8,
             "#7fbc41"
            ],
            [
             0.9,
             "#4d9221"
            ],
            [
             1,
             "#276419"
            ]
           ],
           "sequential": [
            [
             0,
             "#0d0887"
            ],
            [
             0.1111111111111111,
             "#46039f"
            ],
            [
             0.2222222222222222,
             "#7201a8"
            ],
            [
             0.3333333333333333,
             "#9c179e"
            ],
            [
             0.4444444444444444,
             "#bd3786"
            ],
            [
             0.5555555555555556,
             "#d8576b"
            ],
            [
             0.6666666666666666,
             "#ed7953"
            ],
            [
             0.7777777777777778,
             "#fb9f3a"
            ],
            [
             0.8888888888888888,
             "#fdca26"
            ],
            [
             1,
             "#f0f921"
            ]
           ],
           "sequentialminus": [
            [
             0,
             "#0d0887"
            ],
            [
             0.1111111111111111,
             "#46039f"
            ],
            [
             0.2222222222222222,
             "#7201a8"
            ],
            [
             0.3333333333333333,
             "#9c179e"
            ],
            [
             0.4444444444444444,
             "#bd3786"
            ],
            [
             0.5555555555555556,
             "#d8576b"
            ],
            [
             0.6666666666666666,
             "#ed7953"
            ],
            [
             0.7777777777777778,
             "#fb9f3a"
            ],
            [
             0.8888888888888888,
             "#fdca26"
            ],
            [
             1,
             "#f0f921"
            ]
           ]
          },
          "colorway": [
           "#636efa",
           "#EF553B",
           "#00cc96",
           "#ab63fa",
           "#FFA15A",
           "#19d3f3",
           "#FF6692",
           "#B6E880",
           "#FF97FF",
           "#FECB52"
          ],
          "font": {
           "color": "#2a3f5f"
          },
          "geo": {
           "bgcolor": "white",
           "lakecolor": "white",
           "landcolor": "#E5ECF6",
           "showlakes": true,
           "showland": true,
           "subunitcolor": "white"
          },
          "hoverlabel": {
           "align": "left"
          },
          "hovermode": "closest",
          "mapbox": {
           "style": "light"
          },
          "paper_bgcolor": "white",
          "plot_bgcolor": "#E5ECF6",
          "polar": {
           "angularaxis": {
            "gridcolor": "white",
            "linecolor": "white",
            "ticks": ""
           },
           "bgcolor": "#E5ECF6",
           "radialaxis": {
            "gridcolor": "white",
            "linecolor": "white",
            "ticks": ""
           }
          },
          "scene": {
           "xaxis": {
            "backgroundcolor": "#E5ECF6",
            "gridcolor": "white",
            "gridwidth": 2,
            "linecolor": "white",
            "showbackground": true,
            "ticks": "",
            "zerolinecolor": "white"
           },
           "yaxis": {
            "backgroundcolor": "#E5ECF6",
            "gridcolor": "white",
            "gridwidth": 2,
            "linecolor": "white",
            "showbackground": true,
            "ticks": "",
            "zerolinecolor": "white"
           },
           "zaxis": {
            "backgroundcolor": "#E5ECF6",
            "gridcolor": "white",
            "gridwidth": 2,
            "linecolor": "white",
            "showbackground": true,
            "ticks": "",
            "zerolinecolor": "white"
           }
          },
          "shapedefaults": {
           "line": {
            "color": "#2a3f5f"
           }
          },
          "ternary": {
           "aaxis": {
            "gridcolor": "white",
            "linecolor": "white",
            "ticks": ""
           },
           "baxis": {
            "gridcolor": "white",
            "linecolor": "white",
            "ticks": ""
           },
           "bgcolor": "#E5ECF6",
           "caxis": {
            "gridcolor": "white",
            "linecolor": "white",
            "ticks": ""
           }
          },
          "title": {
           "x": 0.05
          },
          "xaxis": {
           "automargin": true,
           "gridcolor": "white",
           "linecolor": "white",
           "ticks": "",
           "title": {
            "standoff": 15
           },
           "zerolinecolor": "white",
           "zerolinewidth": 2
          },
          "yaxis": {
           "automargin": true,
           "gridcolor": "white",
           "linecolor": "white",
           "ticks": "",
           "title": {
            "standoff": 15
           },
           "zerolinecolor": "white",
           "zerolinewidth": 2
          }
         }
        },
        "title": {
         "text": "Actual Productivity Gained In General"
        },
        "width": 800,
        "xaxis": {
         "anchor": "y",
         "domain": [
          0,
          1
         ],
         "title": {
          "text": "value"
         }
        },
        "yaxis": {
         "anchor": "x",
         "domain": [
          0,
          1
         ],
         "title": {
          "text": "count"
         }
        }
       }
      }
     },
     "metadata": {},
     "output_type": "display_data"
    }
   ],
   "source": [
    "# In order to guage maximum productivity in actual\n",
    "px.histogram(df_train['actual_productivity'],nbins=100,title='Actual Productivity Gained In General',width=800,height=400)"
   ]
  },
  {
   "cell_type": "markdown",
   "id": "f6588312",
   "metadata": {
    "papermill": {
     "duration": 0.011867,
     "end_time": "2022-12-26T17:20:13.415088",
     "exception": false,
     "start_time": "2022-12-26T17:20:13.403221",
     "status": "completed"
    },
    "tags": []
   },
   "source": [
    "# Checking for the correlation"
   ]
  },
  {
   "cell_type": "code",
   "execution_count": 11,
   "id": "10b4c635",
   "metadata": {
    "execution": {
     "iopub.execute_input": "2022-12-26T17:20:13.440949Z",
     "iopub.status.busy": "2022-12-26T17:20:13.440518Z",
     "iopub.status.idle": "2022-12-26T17:20:17.425756Z",
     "shell.execute_reply": "2022-12-26T17:20:17.424852Z"
    },
    "papermill": {
     "duration": 4.005239,
     "end_time": "2022-12-26T17:20:17.432397",
     "exception": false,
     "start_time": "2022-12-26T17:20:13.427158",
     "status": "completed"
    },
    "tags": []
   },
   "outputs": [
    {
     "data": {
      "application/vnd.plotly.v1+json": {
       "config": {
        "plotlyServerURL": "https://plot.ly"
       },
       "data": [
        {
         "coloraxis": "coloraxis",
         "hovertemplate": "index=%{x}<br>value=%{y}<br>count=%{z}<extra></extra>",
         "name": "",
         "type": "histogram2d",
         "x": [
          "team",
          "targeted_productivity",
          "smv",
          "wip",
          "over_time",
          "incentive",
          "idle_time",
          "idle_men",
          "no_of_style_change",
          "no_of_workers",
          "month",
          "quarter_Quarter1",
          "quarter_Quarter2",
          "quarter_Quarter3",
          "quarter_Quarter4",
          "quarter_Quarter5",
          "department_finishing",
          "department_finishing ",
          "department_sweing",
          "day_Monday",
          "day_Saturday",
          "day_Sunday",
          "day_Thursday",
          "day_Tuesday",
          "day_Wednesday",
          "actual_productivity",
          "team",
          "targeted_productivity",
          "smv",
          "wip",
          "over_time",
          "incentive",
          "idle_time",
          "idle_men",
          "no_of_style_change",
          "no_of_workers",
          "month",
          "quarter_Quarter1",
          "quarter_Quarter2",
          "quarter_Quarter3",
          "quarter_Quarter4",
          "quarter_Quarter5",
          "department_finishing",
          "department_finishing ",
          "department_sweing",
          "day_Monday",
          "day_Saturday",
          "day_Sunday",
          "day_Thursday",
          "day_Tuesday",
          "day_Wednesday",
          "actual_productivity",
          "team",
          "targeted_productivity",
          "smv",
          "wip",
          "over_time",
          "incentive",
          "idle_time",
          "idle_men",
          "no_of_style_change",
          "no_of_workers",
          "month",
          "quarter_Quarter1",
          "quarter_Quarter2",
          "quarter_Quarter3",
          "quarter_Quarter4",
          "quarter_Quarter5",
          "department_finishing",
          "department_finishing ",
          "department_sweing",
          "day_Monday",
          "day_Saturday",
          "day_Sunday",
          "day_Thursday",
          "day_Tuesday",
          "day_Wednesday",
          "actual_productivity",
          "team",
          "targeted_productivity",
          "smv",
          "wip",
          "over_time",
          "incentive",
          "idle_time",
          "idle_men",
          "no_of_style_change",
          "no_of_workers",
          "month",
          "quarter_Quarter1",
          "quarter_Quarter2",
          "quarter_Quarter3",
          "quarter_Quarter4",
          "quarter_Quarter5",
          "department_finishing",
          "department_finishing ",
          "department_sweing",
          "day_Monday",
          "day_Saturday",
          "day_Sunday",
          "day_Thursday",
          "day_Tuesday",
          "day_Wednesday",
          "actual_productivity",
          "team",
          "targeted_productivity",
          "smv",
          "wip",
          "over_time",
          "incentive",
          "idle_time",
          "idle_men",
          "no_of_style_change",
          "no_of_workers",
          "month",
          "quarter_Quarter1",
          "quarter_Quarter2",
          "quarter_Quarter3",
          "quarter_Quarter4",
          "quarter_Quarter5",
          "department_finishing",
          "department_finishing ",
          "department_sweing",
          "day_Monday",
          "day_Saturday",
          "day_Sunday",
          "day_Thursday",
          "day_Tuesday",
          "day_Wednesday",
          "actual_productivity",
          "team",
          "targeted_productivity",
          "smv",
          "wip",
          "over_time",
          "incentive",
          "idle_time",
          "idle_men",
          "no_of_style_change",
          "no_of_workers",
          "month",
          "quarter_Quarter1",
          "quarter_Quarter2",
          "quarter_Quarter3",
          "quarter_Quarter4",
          "quarter_Quarter5",
          "department_finishing",
          "department_finishing ",
          "department_sweing",
          "day_Monday",
          "day_Saturday",
          "day_Sunday",
          "day_Thursday",
          "day_Tuesday",
          "day_Wednesday",
          "actual_productivity",
          "team",
          "targeted_productivity",
          "smv",
          "wip",
          "over_time",
          "incentive",
          "idle_time",
          "idle_men",
          "no_of_style_change",
          "no_of_workers",
          "month",
          "quarter_Quarter1",
          "quarter_Quarter2",
          "quarter_Quarter3",
          "quarter_Quarter4",
          "quarter_Quarter5",
          "department_finishing",
          "department_finishing ",
          "department_sweing",
          "day_Monday",
          "day_Saturday",
          "day_Sunday",
          "day_Thursday",
          "day_Tuesday",
          "day_Wednesday",
          "actual_productivity",
          "team",
          "targeted_productivity",
          "smv",
          "wip",
          "over_time",
          "incentive",
          "idle_time",
          "idle_men",
          "no_of_style_change",
          "no_of_workers",
          "month",
          "quarter_Quarter1",
          "quarter_Quarter2",
          "quarter_Quarter3",
          "quarter_Quarter4",
          "quarter_Quarter5",
          "department_finishing",
          "department_finishing ",
          "department_sweing",
          "day_Monday",
          "day_Saturday",
          "day_Sunday",
          "day_Thursday",
          "day_Tuesday",
          "day_Wednesday",
          "actual_productivity",
          "team",
          "targeted_productivity",
          "smv",
          "wip",
          "over_time",
          "incentive",
          "idle_time",
          "idle_men",
          "no_of_style_change",
          "no_of_workers",
          "month",
          "quarter_Quarter1",
          "quarter_Quarter2",
          "quarter_Quarter3",
          "quarter_Quarter4",
          "quarter_Quarter5",
          "department_finishing",
          "department_finishing ",
          "department_sweing",
          "day_Monday",
          "day_Saturday",
          "day_Sunday",
          "day_Thursday",
          "day_Tuesday",
          "day_Wednesday",
          "actual_productivity",
          "team",
          "targeted_productivity",
          "smv",
          "wip",
          "over_time",
          "incentive",
          "idle_time",
          "idle_men",
          "no_of_style_change",
          "no_of_workers",
          "month",
          "quarter_Quarter1",
          "quarter_Quarter2",
          "quarter_Quarter3",
          "quarter_Quarter4",
          "quarter_Quarter5",
          "department_finishing",
          "department_finishing ",
          "department_sweing",
          "day_Monday",
          "day_Saturday",
          "day_Sunday",
          "day_Thursday",
          "day_Tuesday",
          "day_Wednesday",
          "actual_productivity",
          "team",
          "targeted_productivity",
          "smv",
          "wip",
          "over_time",
          "incentive",
          "idle_time",
          "idle_men",
          "no_of_style_change",
          "no_of_workers",
          "month",
          "quarter_Quarter1",
          "quarter_Quarter2",
          "quarter_Quarter3",
          "quarter_Quarter4",
          "quarter_Quarter5",
          "department_finishing",
          "department_finishing ",
          "department_sweing",
          "day_Monday",
          "day_Saturday",
          "day_Sunday",
          "day_Thursday",
          "day_Tuesday",
          "day_Wednesday",
          "actual_productivity",
          "team",
          "targeted_productivity",
          "smv",
          "wip",
          "over_time",
          "incentive",
          "idle_time",
          "idle_men",
          "no_of_style_change",
          "no_of_workers",
          "month",
          "quarter_Quarter1",
          "quarter_Quarter2",
          "quarter_Quarter3",
          "quarter_Quarter4",
          "quarter_Quarter5",
          "department_finishing",
          "department_finishing ",
          "department_sweing",
          "day_Monday",
          "day_Saturday",
          "day_Sunday",
          "day_Thursday",
          "day_Tuesday",
          "day_Wednesday",
          "actual_productivity",
          "team",
          "targeted_productivity",
          "smv",
          "wip",
          "over_time",
          "incentive",
          "idle_time",
          "idle_men",
          "no_of_style_change",
          "no_of_workers",
          "month",
          "quarter_Quarter1",
          "quarter_Quarter2",
          "quarter_Quarter3",
          "quarter_Quarter4",
          "quarter_Quarter5",
          "department_finishing",
          "department_finishing ",
          "department_sweing",
          "day_Monday",
          "day_Saturday",
          "day_Sunday",
          "day_Thursday",
          "day_Tuesday",
          "day_Wednesday",
          "actual_productivity",
          "team",
          "targeted_productivity",
          "smv",
          "wip",
          "over_time",
          "incentive",
          "idle_time",
          "idle_men",
          "no_of_style_change",
          "no_of_workers",
          "month",
          "quarter_Quarter1",
          "quarter_Quarter2",
          "quarter_Quarter3",
          "quarter_Quarter4",
          "quarter_Quarter5",
          "department_finishing",
          "department_finishing ",
          "department_sweing",
          "day_Monday",
          "day_Saturday",
          "day_Sunday",
          "day_Thursday",
          "day_Tuesday",
          "day_Wednesday",
          "actual_productivity",
          "team",
          "targeted_productivity",
          "smv",
          "wip",
          "over_time",
          "incentive",
          "idle_time",
          "idle_men",
          "no_of_style_change",
          "no_of_workers",
          "month",
          "quarter_Quarter1",
          "quarter_Quarter2",
          "quarter_Quarter3",
          "quarter_Quarter4",
          "quarter_Quarter5",
          "department_finishing",
          "department_finishing ",
          "department_sweing",
          "day_Monday",
          "day_Saturday",
          "day_Sunday",
          "day_Thursday",
          "day_Tuesday",
          "day_Wednesday",
          "actual_productivity",
          "team",
          "targeted_productivity",
          "smv",
          "wip",
          "over_time",
          "incentive",
          "idle_time",
          "idle_men",
          "no_of_style_change",
          "no_of_workers",
          "month",
          "quarter_Quarter1",
          "quarter_Quarter2",
          "quarter_Quarter3",
          "quarter_Quarter4",
          "quarter_Quarter5",
          "department_finishing",
          "department_finishing ",
          "department_sweing",
          "day_Monday",
          "day_Saturday",
          "day_Sunday",
          "day_Thursday",
          "day_Tuesday",
          "day_Wednesday",
          "actual_productivity",
          "team",
          "targeted_productivity",
          "smv",
          "wip",
          "over_time",
          "incentive",
          "idle_time",
          "idle_men",
          "no_of_style_change",
          "no_of_workers",
          "month",
          "quarter_Quarter1",
          "quarter_Quarter2",
          "quarter_Quarter3",
          "quarter_Quarter4",
          "quarter_Quarter5",
          "department_finishing",
          "department_finishing ",
          "department_sweing",
          "day_Monday",
          "day_Saturday",
          "day_Sunday",
          "day_Thursday",
          "day_Tuesday",
          "day_Wednesday",
          "actual_productivity",
          "team",
          "targeted_productivity",
          "smv",
          "wip",
          "over_time",
          "incentive",
          "idle_time",
          "idle_men",
          "no_of_style_change",
          "no_of_workers",
          "month",
          "quarter_Quarter1",
          "quarter_Quarter2",
          "quarter_Quarter3",
          "quarter_Quarter4",
          "quarter_Quarter5",
          "department_finishing",
          "department_finishing ",
          "department_sweing",
          "day_Monday",
          "day_Saturday",
          "day_Sunday",
          "day_Thursday",
          "day_Tuesday",
          "day_Wednesday",
          "actual_productivity",
          "team",
          "targeted_productivity",
          "smv",
          "wip",
          "over_time",
          "incentive",
          "idle_time",
          "idle_men",
          "no_of_style_change",
          "no_of_workers",
          "month",
          "quarter_Quarter1",
          "quarter_Quarter2",
          "quarter_Quarter3",
          "quarter_Quarter4",
          "quarter_Quarter5",
          "department_finishing",
          "department_finishing ",
          "department_sweing",
          "day_Monday",
          "day_Saturday",
          "day_Sunday",
          "day_Thursday",
          "day_Tuesday",
          "day_Wednesday",
          "actual_productivity",
          "team",
          "targeted_productivity",
          "smv",
          "wip",
          "over_time",
          "incentive",
          "idle_time",
          "idle_men",
          "no_of_style_change",
          "no_of_workers",
          "month",
          "quarter_Quarter1",
          "quarter_Quarter2",
          "quarter_Quarter3",
          "quarter_Quarter4",
          "quarter_Quarter5",
          "department_finishing",
          "department_finishing ",
          "department_sweing",
          "day_Monday",
          "day_Saturday",
          "day_Sunday",
          "day_Thursday",
          "day_Tuesday",
          "day_Wednesday",
          "actual_productivity",
          "team",
          "targeted_productivity",
          "smv",
          "wip",
          "over_time",
          "incentive",
          "idle_time",
          "idle_men",
          "no_of_style_change",
          "no_of_workers",
          "month",
          "quarter_Quarter1",
          "quarter_Quarter2",
          "quarter_Quarter3",
          "quarter_Quarter4",
          "quarter_Quarter5",
          "department_finishing",
          "department_finishing ",
          "department_sweing",
          "day_Monday",
          "day_Saturday",
          "day_Sunday",
          "day_Thursday",
          "day_Tuesday",
          "day_Wednesday",
          "actual_productivity",
          "team",
          "targeted_productivity",
          "smv",
          "wip",
          "over_time",
          "incentive",
          "idle_time",
          "idle_men",
          "no_of_style_change",
          "no_of_workers",
          "month",
          "quarter_Quarter1",
          "quarter_Quarter2",
          "quarter_Quarter3",
          "quarter_Quarter4",
          "quarter_Quarter5",
          "department_finishing",
          "department_finishing ",
          "department_sweing",
          "day_Monday",
          "day_Saturday",
          "day_Sunday",
          "day_Thursday",
          "day_Tuesday",
          "day_Wednesday",
          "actual_productivity",
          "team",
          "targeted_productivity",
          "smv",
          "wip",
          "over_time",
          "incentive",
          "idle_time",
          "idle_men",
          "no_of_style_change",
          "no_of_workers",
          "month",
          "quarter_Quarter1",
          "quarter_Quarter2",
          "quarter_Quarter3",
          "quarter_Quarter4",
          "quarter_Quarter5",
          "department_finishing",
          "department_finishing ",
          "department_sweing",
          "day_Monday",
          "day_Saturday",
          "day_Sunday",
          "day_Thursday",
          "day_Tuesday",
          "day_Wednesday",
          "actual_productivity",
          "team",
          "targeted_productivity",
          "smv",
          "wip",
          "over_time",
          "incentive",
          "idle_time",
          "idle_men",
          "no_of_style_change",
          "no_of_workers",
          "month",
          "quarter_Quarter1",
          "quarter_Quarter2",
          "quarter_Quarter3",
          "quarter_Quarter4",
          "quarter_Quarter5",
          "department_finishing",
          "department_finishing ",
          "department_sweing",
          "day_Monday",
          "day_Saturday",
          "day_Sunday",
          "day_Thursday",
          "day_Tuesday",
          "day_Wednesday",
          "actual_productivity",
          "team",
          "targeted_productivity",
          "smv",
          "wip",
          "over_time",
          "incentive",
          "idle_time",
          "idle_men",
          "no_of_style_change",
          "no_of_workers",
          "month",
          "quarter_Quarter1",
          "quarter_Quarter2",
          "quarter_Quarter3",
          "quarter_Quarter4",
          "quarter_Quarter5",
          "department_finishing",
          "department_finishing ",
          "department_sweing",
          "day_Monday",
          "day_Saturday",
          "day_Sunday",
          "day_Thursday",
          "day_Tuesday",
          "day_Wednesday",
          "actual_productivity",
          "team",
          "targeted_productivity",
          "smv",
          "wip",
          "over_time",
          "incentive",
          "idle_time",
          "idle_men",
          "no_of_style_change",
          "no_of_workers",
          "month",
          "quarter_Quarter1",
          "quarter_Quarter2",
          "quarter_Quarter3",
          "quarter_Quarter4",
          "quarter_Quarter5",
          "department_finishing",
          "department_finishing ",
          "department_sweing",
          "day_Monday",
          "day_Saturday",
          "day_Sunday",
          "day_Thursday",
          "day_Tuesday",
          "day_Wednesday",
          "actual_productivity"
         ],
         "xaxis": "x",
         "xbingroup": "x",
         "y": [
          1,
          0.04614124147089883,
          -0.11934459619671214,
          -0.009401603140355432,
          -0.11030240173282808,
          -0.007094037096121657,
          -0.007906169765213732,
          0.02540376405766626,
          -0.012417087972398969,
          -0.08357687372905605,
          0.008098380075363206,
          -0.02872680120586699,
          -0.00044110481106710594,
          0.021324486307478695,
          0.008359717585369018,
          0.009974103643615194,
          0.0028886315909477022,
          -0.03429311058068991,
          0.02620139558991015,
          -0.006723178238163256,
          -0.0021569868396847333,
          0.013720740311793002,
          -0.021743706283116733,
          0.014923782224799257,
          0.0015920150289665575,
          -0.15570045099213206,
          0.04614124147089883,
          1,
          -0.06318752157655207,
          0.04608323683939505,
          -0.068723930641325,
          0.030012878451791646,
          -0.07544718374507312,
          -0.060166056499157516,
          -0.22872161212956385,
          -0.07684417830452667,
          -0.07925814242727909,
          0.08672208380098362,
          0.02928284798515324,
          -0.03815920883603754,
          -0.08128263327690477,
          -0.029007519332616166,
          -0.012670881608782741,
          0.07131570047646875,
          -0.04906438443713721,
          -0.006662564509146397,
          0.022040179979065357,
          0.04949736053836834,
          -0.073326861459857,
          0.014752847883076244,
          -0.005485961871621648,
          0.4010687848624272,
          -0.11934459619671214,
          -0.06318752157655207,
          1,
          -0.019825004419448455,
          0.6823700628795368,
          0.01409146353137657,
          0.05923026541578197,
          0.11146429813811783,
          0.312937202276206,
          0.9103643782052336,
          0.015315944611060731,
          0.014377839827614909,
          -0.018598637840145503,
          0.04745595268906127,
          -0.028416414315791307,
          -0.02336549011662368,
          -0.5146159629087231,
          -0.5419475330883406,
          0.8700931051693576,
          0.014615953752321859,
          -0.03896756307653439,
          0.0034710625207861855,
          -0.003454210895965062,
          0.015258116199163212,
          0.007406827879913072,
          -0.12624307917870176,
          -0.009401603140355432,
          0.04608323683939505,
          -0.019825004419448455,
          1,
          0.019629213542164608,
          0.01988351115378169,
          -0.027859565495969397,
          -0.05179389526999903,
          -0.07113117796908175,
          0.007158348605869408,
          0.004454765237639935,
          0.10869929055964841,
          -0.0638871738047679,
          -0.03281889444065966,
          -0.019113362775511122,
          -0.0017616073217056397,
          -3.2361161742278273e-17,
          -3.555763866082479e-17,
          3.9015275585654413e-17,
          0.18411299014845958,
          -0.031124750416809916,
          -0.03249612232971202,
          -0.03881884241524045,
          -0.03547279214245076,
          -0.042962602414210384,
          0.087362342196742,
          -0.11030240173282808,
          -0.068723930641325,
          0.6823700628795368,
          0.019629213542164608,
          1,
          -0.023893594744030015,
          0.027325262064336997,
          -0.027307629131018342,
          0.059563886451482397,
          0.7349366531803517,
          -0.2318179900611408,
          0.010941667141398896,
          -0.056112084016195336,
          0.05186361628561306,
          0.027786803694153515,
          -0.054688376799248976,
          -0.4242222203959345,
          -0.4056735801038638,
          0.6830559971590179,
          -0.009212256507383857,
          -0.011066890566654126,
          -0.0006654825916205008,
          0.07407742553836992,
          -0.008828575263981597,
          -0.04260399084673393,
          -0.03371197713155499,
          -0.007094037096121657,
          0.030012878451791646,
          0.01409146353137657,
          0.01988351115378169,
          -0.023893594744030015,
          1,
          -0.010827367437938362,
          -0.021746430410005447,
          -0.03290318065659682,
          0.02976547569447339,
          0.1335882600724159,
          -0.0437350437465124,
          0.12796337521702492,
          -0.04501218250426233,
          -0.049601772009844974,
          -0.006505552251495617,
          0.09425363807717312,
          -0.12274355303677995,
          0.02548005589019237,
          0.19188109402935336,
          -0.03741075258217462,
          -0.04129632936209818,
          -0.03697222490034375,
          -0.032600033520739646,
          -0.04066171686458605,
          0.07492614651304155,
          -0.007906169765213732,
          -0.07544718374507312,
          0.05923026541578197,
          -0.027859565495969397,
          0.027325262064336997,
          -0.010827367437938362,
          1,
          0.48814830863424086,
          -0.007974157186453097,
          0.05597241476065864,
          0.023441190658500987,
          0.07704762895055105,
          -0.035930629807424855,
          -0.015471073633820963,
          -0.0267898250927662,
          -0.010870278663267011,
          -0.028109412531869066,
          -0.029221850225108037,
          0.04720954497302032,
          -0.024000129348795262,
          0.04949328126530546,
          -0.020193174173177866,
          -0.02160524029220236,
          -0.02036967245608287,
          0.03653886696908356,
          -0.058364530927939945,
          0.02540376405766626,
          -0.060166056499157516,
          0.11146429813811783,
          -0.05179389526999903,
          -0.027307629131018342,
          -0.021746430410005447,
          0.48814830863424086,
          1,
          0.150156567097475,
          0.11062203462682475,
          0.08658746216502398,
          0.036324054382426474,
          -0.07634717583510044,
          0.09070015862781039,
          -0.02848723670221105,
          -0.02309770468619751,
          -0.059728267294343586,
          -0.062092029817475275,
          0.10031317153270301,
          -0.0441420058704947,
          -0.013658745362256952,
          0.018615097421812735,
          0.006400016512977388,
          0.020036700736876453,
          0.011118255597504194,
          -0.186789011384709,
          -0.012417087972398969,
          -0.22872161212956385,
          0.312937202276206,
          -0.07113117796908175,
          0.059563886451482397,
          -0.03290318065659682,
          -0.007974157186453097,
          0.150156567097475,
          1,
          0.33461201551647407,
          0.22511360034506564,
          -0.1903264565489693,
          -0.02261754601765377,
          0.09084001753953716,
          0.18717779658349015,
          -0.07078146235776188,
          -0.1830335161274807,
          -0.19027711761632113,
          0.3074034009566614,
          -0.007809500380048893,
          0.0009782381665220364,
          -0.034783266611142324,
          0.00646187056782099,
          0.012534008012141214,
          0.021303676778985835,
          -0.21739612802000763,
          -0.08357687372905605,
          -0.07684417830452667,
          0.9103643782052336,
          0.007158348605869408,
          0.7349366531803517,
          0.02976547569447339,
          0.05597241476065864,
          0.11062203462682475,
          0.33461201551647407,
          1,
          0.012407463327779084,
          0.030724085076127554,
          -0.03713615252500285,
          0.04769431521854074,
          -0.020509510426079052,
          -0.03571527857256092,
          -0.5529382289268641,
          -0.5860339080058473,
          0.93799153901508,
          0.021189230013057114,
          -0.048134710323505386,
          -0.015716290874228368,
          0.013057761642196748,
          0.021580684525416876,
          0.006051550005772638,
          -0.05327318220786852,
          0.008098380075363206,
          -0.07925814242727909,
          0.015315944611060731,
          0.004454765237639935,
          -0.2318179900611408,
          0.1335882600724159,
          0.023441190658500987,
          0.08658746216502398,
          0.22511360034506564,
          0.012407463327779084,
          1,
          0.21008623754206462,
          0.13608495581275076,
          -0.15642890421840783,
          -0.15516179052292303,
          -0.19064338879265855,
          0.4420317034826528,
          -0.45068958088608846,
          0.015459142621023112,
          0.023502059728334943,
          -0.09292800780158121,
          0.05515486335189216,
          -0.0913618836381823,
          0.04695939405235032,
          0.05287395487353933,
          -0.11367481039729928,
          -0.02872680120586699,
          0.08672208380098362,
          0.014377839827614909,
          0.10869929055964841,
          0.010941667141398896,
          -0.0437350437465124,
          0.07704762895055105,
          0.036324054382426474,
          -0.1903264565489693,
          0.030724085076127554,
          0.21008623754206462,
          1,
          -0.41348110030082413,
          -0.29147111014805444,
          -0.3303799454456919,
          -0.12509256882926703,
          -0.021911038600616634,
          -0.020415625597499525,
          0.0348323569884029,
          -0.017946188967496363,
          0.033552650649665526,
          0.00621568513557851,
          -0.012956483405406312,
          0.02303129675787669,
          -0.029883223364835756,
          0.08260787438866048,
          -0.00044110481106710594,
          0.02928284798515324,
          -0.018598637840145503,
          -0.0638871738047679,
          -0.056112084016195336,
          0.12796337521702492,
          -0.035930629807424855,
          -0.07634717583510044,
          -0.02261754601765377,
          -0.03713615252500285,
          0.13608495581275076,
          -0.41348110030082413,
          1,
          -0.29077951289333187,
          -0.32959602602681826,
          -0.12479575149754399,
          0.08157164148601691,
          -0.0456540270610671,
          -0.02838258893388535,
          0.053544759435450735,
          -0.06778084179886877,
          0.03636662491588522,
          -0.07606343043773678,
          0.0068094874448448,
          0.043393087411867204,
          0.020185468323550074,
          0.021324486307478695,
          -0.03815920883603754,
          0.04745595268906127,
          -0.03281889444065966,
          0.05186361628561306,
          -0.04501218250426233,
          -0.015471073633820963,
          0.09070015862781039,
          0.09084001753953716,
          0.04769431521854074,
          -0.15642890421840783,
          -0.29147111014805444,
          -0.29077951289333187,
          1,
          -0.2323388409688631,
          -0.08797102504633493,
          -0.03178296713331111,
          -0.013287248134606626,
          0.036932386720167416,
          0.007843590252029096,
          -0.09004576748553367,
          0.011245658096347035,
          0.031161627134987276,
          0.0027879018288127382,
          0.03262741917974359,
          -0.08674828205600241,
          0.008359717585369018,
          -0.08128263327690477,
          -0.028416414315791307,
          -0.019113362775511122,
          0.027786803694153515,
          -0.049601772009844974,
          -0.0267898250927662,
          -0.02848723670221105,
          0.18717779658349015,
          -0.020509510426079052,
          -0.15516179052292303,
          -0.3303799454456919,
          -0.32959602602681826,
          -0.2323388409688631,
          1,
          -0.09971438486938372,
          0.007641789090789957,
          0.026877478451624706,
          -0.02859822812953721,
          -0.007811689271083916,
          0.03831713919609252,
          -0.018375216471661265,
          -0.013171567734927208,
          0.004683428839243452,
          -0.002478238400305605,
          -0.08989962798093244,
          0.009974103643615194,
          -0.029007519332616166,
          -0.02336549011662368,
          -0.0017616073217056397,
          -0.054688376799248976,
          -0.006505552251495617,
          -0.010870278663267011,
          -0.02309770468619751,
          -0.07078146235776188,
          -0.03571527857256092,
          -0.19064338879265855,
          -0.12509256882926703,
          -0.12479575149754399,
          -0.08797102504633493,
          -0.09971438486938372,
          1,
          -0.09763077574399172,
          0.12884999923271873,
          -0.02781552230863315,
          -0.08519914423870734,
          0.18060777589465016,
          -0.08612645996929595,
          0.18225561351424158,
          -0.08827722263922043,
          -0.0928332506290729,
          0.11928358820485929,
          0.0028886315909477022,
          -0.012670881608782741,
          -0.5146159629087231,
          -3.2361161742278273e-17,
          -0.4242222203959345,
          0.09425363807717312,
          -0.028109412531869066,
          -0.059728267294343586,
          -0.1830335161274807,
          -0.5529382289268641,
          0.4420317034826528,
          -0.021911038600616634,
          0.08157164148601691,
          -0.03178296713331111,
          0.007641789090789957,
          -0.09763077574399172,
          1,
          -0.26245434864450756,
          -0.5954179932878683,
          -0.013715695775903175,
          -0.008482348241170572,
          0.008847412267511514,
          -0.012304809710143501,
          -0.026513775624226455,
          0.04979582737264653,
          -0.04517336790334777,
          -0.03429311058068991,
          0.07131570047646875,
          -0.5419475330883406,
          -3.555763866082479e-17,
          -0.4056735801038638,
          -0.12274355303677995,
          -0.029221850225108037,
          -0.062092029817475275,
          -0.19027711761632113,
          -0.5860339080058473,
          -0.45068958088608846,
          -0.020415625597499525,
          -0.0456540270610671,
          -0.013287248134606626,
          0.026877478451624706,
          0.12884999923271873,
          -0.26245434864450756,
          1,
          -0.6189818233115358,
          -0.007520903578316677,
          0.0718307130545358,
          0.0013100802076381967,
          -0.012980622108442297,
          -0.0018956256675348468,
          -0.04628097426460824,
          0.1438845035235247,
          0.02620139558991015,
          -0.04906438443713721,
          0.8700931051693576,
          3.9015275585654413e-17,
          0.6830559971590179,
          0.02548005589019237,
          0.04720954497302032,
          0.10031317153270301,
          0.3074034009566614,
          0.93799153901508,
          0.015459142621023112,
          0.0348323569884029,
          -0.02838258893388535,
          0.036932386720167416,
          -0.02859822812953721,
          -0.02781552230863315,
          -0.5954179932878683,
          -0.6189818233115358,
          1,
          0.017425662111597354,
          -0.05290239386457307,
          -0.008292025960670163,
          0.020823068499609305,
          0.02315888471047606,
          -0.0019970351512557816,
          -0.08303040183673122,
          -0.006723178238163256,
          -0.006662564509146397,
          0.014615953752321859,
          0.18411299014845958,
          -0.009212256507383857,
          0.19188109402935336,
          -0.024000129348795262,
          -0.0441420058704947,
          -0.007809500380048893,
          0.021189230013057114,
          0.023502059728334943,
          -0.017946188967496363,
          0.053544759435450735,
          0.007843590252029096,
          -0.007811689271083916,
          -0.08519914423870734,
          -0.013715695775903175,
          -0.007520903578316677,
          0.017425662111597354,
          1,
          -0.18593434774205028,
          -0.19435520735079567,
          -0.19505101031123256,
          -0.19920867427402134,
          -0.2094899254130962,
          -0.004185603232587763,
          -0.0021569868396847333,
          0.022040179979065357,
          -0.03896756307653439,
          -0.031124750416809916,
          -0.011066890566654126,
          -0.03741075258217462,
          0.04949328126530546,
          -0.013658745362256952,
          0.0009782381665220364,
          -0.048134710323505386,
          -0.09292800780158121,
          0.033552650649665526,
          -0.06778084179886877,
          -0.09004576748553367,
          0.03831713919609252,
          0.18060777589465016,
          -0.008482348241170572,
          0.0718307130545358,
          -0.05290239386457307,
          -0.18593434774205028,
          1,
          -0.18795807517568325,
          -0.1886309760304015,
          -0.19265179197006677,
          -0.20259463940306813,
          0.04521160758544021,
          0.013720740311793002,
          0.04949736053836834,
          0.0034710625207861855,
          -0.03249612232971202,
          -0.0006654825916205008,
          -0.04129632936209818,
          -0.020193174173177866,
          0.018615097421812735,
          -0.034783266611142324,
          -0.015716290874228368,
          0.05515486335189216,
          0.00621568513557851,
          0.03636662491588522,
          0.011245658096347035,
          -0.018375216471661265,
          -0.08612645996929595,
          0.008847412267511514,
          0.0013100802076381967,
          -0.008292025960670163,
          -0.19435520735079567,
          -0.18795807517568325,
          1,
          -0.19717396438248486,
          -0.20137688076218066,
          -0.21177003403356667,
          -0.02424281501492181,
          -0.021743706283116733,
          -0.073326861459857,
          -0.003454210895965062,
          -0.03881884241524045,
          0.07407742553836992,
          -0.03697222490034375,
          -0.02160524029220236,
          0.006400016512977388,
          0.00646187056782099,
          0.013057761642196748,
          -0.0913618836381823,
          -0.012956483405406312,
          -0.07606343043773678,
          0.031161627134987276,
          -0.013171567734927208,
          0.18225561351424158,
          -0.012304809710143501,
          -0.012980622108442297,
          0.020823068499609305,
          -0.19505101031123256,
          -0.1886309760304015,
          -0.19717396438248486,
          1,
          -0.20209782172233215,
          -0.21252818308766674,
          -0.029730087732319443,
          0.014923782224799257,
          0.014752847883076244,
          0.015258116199163212,
          -0.03547279214245076,
          -0.008828575263981597,
          -0.032600033520739646,
          -0.02036967245608287,
          0.020036700736876453,
          0.012534008012141214,
          0.021580684525416876,
          0.04695939405235032,
          0.02303129675787669,
          0.0068094874448448,
          0.0027879018288127382,
          0.004683428839243452,
          -0.08827722263922043,
          -0.026513775624226455,
          -0.0018956256675348468,
          0.02315888471047606,
          -0.19920867427402134,
          -0.19265179197006677,
          -0.20137688076218066,
          -0.20209782172233215,
          1,
          -0.21705838657900256,
          0.03530071344143893,
          0.0015920150289665575,
          -0.005485961871621648,
          0.007406827879913072,
          -0.042962602414210384,
          -0.04260399084673393,
          -0.04066171686458605,
          0.03653886696908356,
          0.011118255597504194,
          0.021303676778985835,
          0.006051550005772638,
          0.05287395487353933,
          -0.029883223364835756,
          0.043393087411867204,
          0.03262741917974359,
          -0.002478238400305605,
          -0.0928332506290729,
          0.04979582737264653,
          -0.04628097426460824,
          -0.0019970351512557816,
          -0.2094899254130962,
          -0.20259463940306813,
          -0.21177003403356667,
          -0.21252818308766674,
          -0.21705838657900256,
          1,
          -0.020522642870686763,
          -0.15570045099213206,
          0.4010687848624272,
          -0.12624307917870176,
          0.087362342196742,
          -0.03371197713155499,
          0.07492614651304155,
          -0.058364530927939945,
          -0.186789011384709,
          -0.21739612802000763,
          -0.05327318220786852,
          -0.11367481039729928,
          0.08260787438866048,
          0.020185468323550074,
          -0.08674828205600241,
          -0.08989962798093244,
          0.11928358820485929,
          -0.04517336790334777,
          0.1438845035235247,
          -0.08303040183673122,
          -0.004185603232587763,
          0.04521160758544021,
          -0.02424281501492181,
          -0.029730087732319443,
          0.03530071344143893,
          -0.020522642870686763,
          1
         ],
         "yaxis": "y",
         "ybingroup": "y"
        }
       ],
       "layout": {
        "coloraxis": {
         "colorbar": {
          "title": {
           "text": "count"
          }
         },
         "colorscale": [
          [
           0,
           "#0d0887"
          ],
          [
           0.1111111111111111,
           "#46039f"
          ],
          [
           0.2222222222222222,
           "#7201a8"
          ],
          [
           0.3333333333333333,
           "#9c179e"
          ],
          [
           0.4444444444444444,
           "#bd3786"
          ],
          [
           0.5555555555555556,
           "#d8576b"
          ],
          [
           0.6666666666666666,
           "#ed7953"
          ],
          [
           0.7777777777777778,
           "#fb9f3a"
          ],
          [
           0.8888888888888888,
           "#fdca26"
          ],
          [
           1,
           "#f0f921"
          ]
         ]
        },
        "height": 400,
        "legend": {
         "tracegroupgap": 0
        },
        "template": {
         "data": {
          "bar": [
           {
            "error_x": {
             "color": "#2a3f5f"
            },
            "error_y": {
             "color": "#2a3f5f"
            },
            "marker": {
             "line": {
              "color": "#E5ECF6",
              "width": 0.5
             },
             "pattern": {
              "fillmode": "overlay",
              "size": 10,
              "solidity": 0.2
             }
            },
            "type": "bar"
           }
          ],
          "barpolar": [
           {
            "marker": {
             "line": {
              "color": "#E5ECF6",
              "width": 0.5
             },
             "pattern": {
              "fillmode": "overlay",
              "size": 10,
              "solidity": 0.2
             }
            },
            "type": "barpolar"
           }
          ],
          "carpet": [
           {
            "aaxis": {
             "endlinecolor": "#2a3f5f",
             "gridcolor": "white",
             "linecolor": "white",
             "minorgridcolor": "white",
             "startlinecolor": "#2a3f5f"
            },
            "baxis": {
             "endlinecolor": "#2a3f5f",
             "gridcolor": "white",
             "linecolor": "white",
             "minorgridcolor": "white",
             "startlinecolor": "#2a3f5f"
            },
            "type": "carpet"
           }
          ],
          "choropleth": [
           {
            "colorbar": {
             "outlinewidth": 0,
             "ticks": ""
            },
            "type": "choropleth"
           }
          ],
          "contour": [
           {
            "colorbar": {
             "outlinewidth": 0,
             "ticks": ""
            },
            "colorscale": [
             [
              0,
              "#0d0887"
             ],
             [
              0.1111111111111111,
              "#46039f"
             ],
             [
              0.2222222222222222,
              "#7201a8"
             ],
             [
              0.3333333333333333,
              "#9c179e"
             ],
             [
              0.4444444444444444,
              "#bd3786"
             ],
             [
              0.5555555555555556,
              "#d8576b"
             ],
             [
              0.6666666666666666,
              "#ed7953"
             ],
             [
              0.7777777777777778,
              "#fb9f3a"
             ],
             [
              0.8888888888888888,
              "#fdca26"
             ],
             [
              1,
              "#f0f921"
             ]
            ],
            "type": "contour"
           }
          ],
          "contourcarpet": [
           {
            "colorbar": {
             "outlinewidth": 0,
             "ticks": ""
            },
            "type": "contourcarpet"
           }
          ],
          "heatmap": [
           {
            "colorbar": {
             "outlinewidth": 0,
             "ticks": ""
            },
            "colorscale": [
             [
              0,
              "#0d0887"
             ],
             [
              0.1111111111111111,
              "#46039f"
             ],
             [
              0.2222222222222222,
              "#7201a8"
             ],
             [
              0.3333333333333333,
              "#9c179e"
             ],
             [
              0.4444444444444444,
              "#bd3786"
             ],
             [
              0.5555555555555556,
              "#d8576b"
             ],
             [
              0.6666666666666666,
              "#ed7953"
             ],
             [
              0.7777777777777778,
              "#fb9f3a"
             ],
             [
              0.8888888888888888,
              "#fdca26"
             ],
             [
              1,
              "#f0f921"
             ]
            ],
            "type": "heatmap"
           }
          ],
          "heatmapgl": [
           {
            "colorbar": {
             "outlinewidth": 0,
             "ticks": ""
            },
            "colorscale": [
             [
              0,
              "#0d0887"
             ],
             [
              0.1111111111111111,
              "#46039f"
             ],
             [
              0.2222222222222222,
              "#7201a8"
             ],
             [
              0.3333333333333333,
              "#9c179e"
             ],
             [
              0.4444444444444444,
              "#bd3786"
             ],
             [
              0.5555555555555556,
              "#d8576b"
             ],
             [
              0.6666666666666666,
              "#ed7953"
             ],
             [
              0.7777777777777778,
              "#fb9f3a"
             ],
             [
              0.8888888888888888,
              "#fdca26"
             ],
             [
              1,
              "#f0f921"
             ]
            ],
            "type": "heatmapgl"
           }
          ],
          "histogram": [
           {
            "marker": {
             "pattern": {
              "fillmode": "overlay",
              "size": 10,
              "solidity": 0.2
             }
            },
            "type": "histogram"
           }
          ],
          "histogram2d": [
           {
            "colorbar": {
             "outlinewidth": 0,
             "ticks": ""
            },
            "colorscale": [
             [
              0,
              "#0d0887"
             ],
             [
              0.1111111111111111,
              "#46039f"
             ],
             [
              0.2222222222222222,
              "#7201a8"
             ],
             [
              0.3333333333333333,
              "#9c179e"
             ],
             [
              0.4444444444444444,
              "#bd3786"
             ],
             [
              0.5555555555555556,
              "#d8576b"
             ],
             [
              0.6666666666666666,
              "#ed7953"
             ],
             [
              0.7777777777777778,
              "#fb9f3a"
             ],
             [
              0.8888888888888888,
              "#fdca26"
             ],
             [
              1,
              "#f0f921"
             ]
            ],
            "type": "histogram2d"
           }
          ],
          "histogram2dcontour": [
           {
            "colorbar": {
             "outlinewidth": 0,
             "ticks": ""
            },
            "colorscale": [
             [
              0,
              "#0d0887"
             ],
             [
              0.1111111111111111,
              "#46039f"
             ],
             [
              0.2222222222222222,
              "#7201a8"
             ],
             [
              0.3333333333333333,
              "#9c179e"
             ],
             [
              0.4444444444444444,
              "#bd3786"
             ],
             [
              0.5555555555555556,
              "#d8576b"
             ],
             [
              0.6666666666666666,
              "#ed7953"
             ],
             [
              0.7777777777777778,
              "#fb9f3a"
             ],
             [
              0.8888888888888888,
              "#fdca26"
             ],
             [
              1,
              "#f0f921"
             ]
            ],
            "type": "histogram2dcontour"
           }
          ],
          "mesh3d": [
           {
            "colorbar": {
             "outlinewidth": 0,
             "ticks": ""
            },
            "type": "mesh3d"
           }
          ],
          "parcoords": [
           {
            "line": {
             "colorbar": {
              "outlinewidth": 0,
              "ticks": ""
             }
            },
            "type": "parcoords"
           }
          ],
          "pie": [
           {
            "automargin": true,
            "type": "pie"
           }
          ],
          "scatter": [
           {
            "fillpattern": {
             "fillmode": "overlay",
             "size": 10,
             "solidity": 0.2
            },
            "type": "scatter"
           }
          ],
          "scatter3d": [
           {
            "line": {
             "colorbar": {
              "outlinewidth": 0,
              "ticks": ""
             }
            },
            "marker": {
             "colorbar": {
              "outlinewidth": 0,
              "ticks": ""
             }
            },
            "type": "scatter3d"
           }
          ],
          "scattercarpet": [
           {
            "marker": {
             "colorbar": {
              "outlinewidth": 0,
              "ticks": ""
             }
            },
            "type": "scattercarpet"
           }
          ],
          "scattergeo": [
           {
            "marker": {
             "colorbar": {
              "outlinewidth": 0,
              "ticks": ""
             }
            },
            "type": "scattergeo"
           }
          ],
          "scattergl": [
           {
            "marker": {
             "colorbar": {
              "outlinewidth": 0,
              "ticks": ""
             }
            },
            "type": "scattergl"
           }
          ],
          "scattermapbox": [
           {
            "marker": {
             "colorbar": {
              "outlinewidth": 0,
              "ticks": ""
             }
            },
            "type": "scattermapbox"
           }
          ],
          "scatterpolar": [
           {
            "marker": {
             "colorbar": {
              "outlinewidth": 0,
              "ticks": ""
             }
            },
            "type": "scatterpolar"
           }
          ],
          "scatterpolargl": [
           {
            "marker": {
             "colorbar": {
              "outlinewidth": 0,
              "ticks": ""
             }
            },
            "type": "scatterpolargl"
           }
          ],
          "scatterternary": [
           {
            "marker": {
             "colorbar": {
              "outlinewidth": 0,
              "ticks": ""
             }
            },
            "type": "scatterternary"
           }
          ],
          "surface": [
           {
            "colorbar": {
             "outlinewidth": 0,
             "ticks": ""
            },
            "colorscale": [
             [
              0,
              "#0d0887"
             ],
             [
              0.1111111111111111,
              "#46039f"
             ],
             [
              0.2222222222222222,
              "#7201a8"
             ],
             [
              0.3333333333333333,
              "#9c179e"
             ],
             [
              0.4444444444444444,
              "#bd3786"
             ],
             [
              0.5555555555555556,
              "#d8576b"
             ],
             [
              0.6666666666666666,
              "#ed7953"
             ],
             [
              0.7777777777777778,
              "#fb9f3a"
             ],
             [
              0.8888888888888888,
              "#fdca26"
             ],
             [
              1,
              "#f0f921"
             ]
            ],
            "type": "surface"
           }
          ],
          "table": [
           {
            "cells": {
             "fill": {
              "color": "#EBF0F8"
             },
             "line": {
              "color": "white"
             }
            },
            "header": {
             "fill": {
              "color": "#C8D4E3"
             },
             "line": {
              "color": "white"
             }
            },
            "type": "table"
           }
          ]
         },
         "layout": {
          "annotationdefaults": {
           "arrowcolor": "#2a3f5f",
           "arrowhead": 0,
           "arrowwidth": 1
          },
          "autotypenumbers": "strict",
          "coloraxis": {
           "colorbar": {
            "outlinewidth": 0,
            "ticks": ""
           }
          },
          "colorscale": {
           "diverging": [
            [
             0,
             "#8e0152"
            ],
            [
             0.1,
             "#c51b7d"
            ],
            [
             0.2,
             "#de77ae"
            ],
            [
             0.3,
             "#f1b6da"
            ],
            [
             0.4,
             "#fde0ef"
            ],
            [
             0.5,
             "#f7f7f7"
            ],
            [
             0.6,
             "#e6f5d0"
            ],
            [
             0.7,
             "#b8e186"
            ],
            [
             0.8,
             "#7fbc41"
            ],
            [
             0.9,
             "#4d9221"
            ],
            [
             1,
             "#276419"
            ]
           ],
           "sequential": [
            [
             0,
             "#0d0887"
            ],
            [
             0.1111111111111111,
             "#46039f"
            ],
            [
             0.2222222222222222,
             "#7201a8"
            ],
            [
             0.3333333333333333,
             "#9c179e"
            ],
            [
             0.4444444444444444,
             "#bd3786"
            ],
            [
             0.5555555555555556,
             "#d8576b"
            ],
            [
             0.6666666666666666,
             "#ed7953"
            ],
            [
             0.7777777777777778,
             "#fb9f3a"
            ],
            [
             0.8888888888888888,
             "#fdca26"
            ],
            [
             1,
             "#f0f921"
            ]
           ],
           "sequentialminus": [
            [
             0,
             "#0d0887"
            ],
            [
             0.1111111111111111,
             "#46039f"
            ],
            [
             0.2222222222222222,
             "#7201a8"
            ],
            [
             0.3333333333333333,
             "#9c179e"
            ],
            [
             0.4444444444444444,
             "#bd3786"
            ],
            [
             0.5555555555555556,
             "#d8576b"
            ],
            [
             0.6666666666666666,
             "#ed7953"
            ],
            [
             0.7777777777777778,
             "#fb9f3a"
            ],
            [
             0.8888888888888888,
             "#fdca26"
            ],
            [
             1,
             "#f0f921"
            ]
           ]
          },
          "colorway": [
           "#636efa",
           "#EF553B",
           "#00cc96",
           "#ab63fa",
           "#FFA15A",
           "#19d3f3",
           "#FF6692",
           "#B6E880",
           "#FF97FF",
           "#FECB52"
          ],
          "font": {
           "color": "#2a3f5f"
          },
          "geo": {
           "bgcolor": "white",
           "lakecolor": "white",
           "landcolor": "#E5ECF6",
           "showlakes": true,
           "showland": true,
           "subunitcolor": "white"
          },
          "hoverlabel": {
           "align": "left"
          },
          "hovermode": "closest",
          "mapbox": {
           "style": "light"
          },
          "paper_bgcolor": "white",
          "plot_bgcolor": "#E5ECF6",
          "polar": {
           "angularaxis": {
            "gridcolor": "white",
            "linecolor": "white",
            "ticks": ""
           },
           "bgcolor": "#E5ECF6",
           "radialaxis": {
            "gridcolor": "white",
            "linecolor": "white",
            "ticks": ""
           }
          },
          "scene": {
           "xaxis": {
            "backgroundcolor": "#E5ECF6",
            "gridcolor": "white",
            "gridwidth": 2,
            "linecolor": "white",
            "showbackground": true,
            "ticks": "",
            "zerolinecolor": "white"
           },
           "yaxis": {
            "backgroundcolor": "#E5ECF6",
            "gridcolor": "white",
            "gridwidth": 2,
            "linecolor": "white",
            "showbackground": true,
            "ticks": "",
            "zerolinecolor": "white"
           },
           "zaxis": {
            "backgroundcolor": "#E5ECF6",
            "gridcolor": "white",
            "gridwidth": 2,
            "linecolor": "white",
            "showbackground": true,
            "ticks": "",
            "zerolinecolor": "white"
           }
          },
          "shapedefaults": {
           "line": {
            "color": "#2a3f5f"
           }
          },
          "ternary": {
           "aaxis": {
            "gridcolor": "white",
            "linecolor": "white",
            "ticks": ""
           },
           "baxis": {
            "gridcolor": "white",
            "linecolor": "white",
            "ticks": ""
           },
           "bgcolor": "#E5ECF6",
           "caxis": {
            "gridcolor": "white",
            "linecolor": "white",
            "ticks": ""
           }
          },
          "title": {
           "x": 0.05
          },
          "xaxis": {
           "automargin": true,
           "gridcolor": "white",
           "linecolor": "white",
           "ticks": "",
           "title": {
            "standoff": 15
           },
           "zerolinecolor": "white",
           "zerolinewidth": 2
          },
          "yaxis": {
           "automargin": true,
           "gridcolor": "white",
           "linecolor": "white",
           "ticks": "",
           "title": {
            "standoff": 15
           },
           "zerolinecolor": "white",
           "zerolinewidth": 2
          }
         }
        },
        "title": {
         "text": "Correlation Matrix"
        },
        "width": 800,
        "xaxis": {
         "anchor": "y",
         "domain": [
          0,
          1
         ],
         "title": {
          "text": "index"
         }
        },
        "yaxis": {
         "anchor": "x",
         "domain": [
          0,
          1
         ],
         "title": {
          "text": "value"
         }
        }
       }
      }
     },
     "metadata": {},
     "output_type": "display_data"
    }
   ],
   "source": [
    "corrMatrix = df_train.corr()\n",
    "#fig, ax = plt.subplots(figsize=(20,20)) # Sample figsize in inches\n",
    "#sns.heatmap(corrMatrix, annot=True, linewidths=.5, ax=ax)\n",
    "px.density_heatmap(corrMatrix,title='Correlation Matrix',width=800,height=400)"
   ]
  },
  {
   "cell_type": "markdown",
   "id": "44c4aaba",
   "metadata": {
    "papermill": {
     "duration": 0.017281,
     "end_time": "2022-12-26T17:20:17.467337",
     "exception": false,
     "start_time": "2022-12-26T17:20:17.450056",
     "status": "completed"
    },
    "tags": []
   },
   "source": [
    "# Convert correlation matrix to 1-D Series and sort"
   ]
  },
  {
   "cell_type": "code",
   "execution_count": 12,
   "id": "b7076392",
   "metadata": {
    "execution": {
     "iopub.execute_input": "2022-12-26T17:20:17.505561Z",
     "iopub.status.busy": "2022-12-26T17:20:17.504747Z",
     "iopub.status.idle": "2022-12-26T17:20:17.518549Z",
     "shell.execute_reply": "2022-12-26T17:20:17.517428Z"
    },
    "papermill": {
     "duration": 0.036314,
     "end_time": "2022-12-26T17:20:17.521156",
     "exception": false,
     "start_time": "2022-12-26T17:20:17.484842",
     "status": "completed"
    },
    "tags": []
   },
   "outputs": [
    {
     "data": {
      "text/plain": [
       "actual_productivity    quarter_Quarter1         0.082608\n",
       "quarter_Quarter1       actual_productivity      0.082608\n",
       "month                  idle_men                 0.086587\n",
       "idle_men               month                    0.086587\n",
       "quarter_Quarter1       targeted_productivity    0.086722\n",
       "targeted_productivity  quarter_Quarter1         0.086722\n",
       "actual_productivity    wip                      0.087362\n",
       "wip                    actual_productivity      0.087362\n",
       "idle_men               quarter_Quarter3         0.090700\n",
       "quarter_Quarter3       idle_men                 0.090700\n",
       "no_of_style_change     quarter_Quarter3         0.090840\n",
       "quarter_Quarter3       no_of_style_change       0.090840\n",
       "department_finishing   incentive                0.094254\n",
       "incentive              department_finishing     0.094254\n",
       "idle_men               department_sweing        0.100313\n",
       "department_sweing      idle_men                 0.100313\n",
       "wip                    quarter_Quarter1         0.108699\n",
       "quarter_Quarter1       wip                      0.108699\n",
       "idle_men               no_of_workers            0.110622\n",
       "no_of_workers          idle_men                 0.110622\n",
       "smv                    idle_men                 0.111464\n",
       "idle_men               smv                      0.111464\n",
       "quarter_Quarter5       actual_productivity      0.119284\n",
       "actual_productivity    quarter_Quarter5         0.119284\n",
       "incentive              quarter_Quarter2         0.127963\n",
       "quarter_Quarter2       incentive                0.127963\n",
       "quarter_Quarter5       department_finishing     0.128850\n",
       "department_finishing   quarter_Quarter5         0.128850\n",
       "incentive              month                    0.133588\n",
       "month                  incentive                0.133588\n",
       "                       quarter_Quarter2         0.136085\n",
       "quarter_Quarter2       month                    0.136085\n",
       "department_finishing   actual_productivity      0.143885\n",
       "actual_productivity    department_finishing     0.143885\n",
       "no_of_style_change     idle_men                 0.150157\n",
       "idle_men               no_of_style_change       0.150157\n",
       "day_Saturday           quarter_Quarter5         0.180608\n",
       "quarter_Quarter5       day_Saturday             0.180608\n",
       "                       day_Thursday             0.182256\n",
       "day_Thursday           quarter_Quarter5         0.182256\n",
       "wip                    day_Monday               0.184113\n",
       "day_Monday             wip                      0.184113\n",
       "no_of_style_change     quarter_Quarter4         0.187178\n",
       "quarter_Quarter4       no_of_style_change       0.187178\n",
       "day_Monday             incentive                0.191881\n",
       "incentive              day_Monday               0.191881\n",
       "quarter_Quarter1       month                    0.210086\n",
       "month                  quarter_Quarter1         0.210086\n",
       "                       no_of_style_change       0.225114\n",
       "no_of_style_change     month                    0.225114\n",
       "department_sweing      no_of_style_change       0.307403\n",
       "no_of_style_change     department_sweing        0.307403\n",
       "                       smv                      0.312937\n",
       "smv                    no_of_style_change       0.312937\n",
       "no_of_workers          no_of_style_change       0.334612\n",
       "no_of_style_change     no_of_workers            0.334612\n",
       "actual_productivity    targeted_productivity    0.401069\n",
       "targeted_productivity  actual_productivity      0.401069\n",
       "department_finishing   month                    0.442032\n",
       "month                  department_finishing     0.442032\n",
       "idle_men               idle_time                0.488148\n",
       "idle_time              idle_men                 0.488148\n",
       "smv                    over_time                0.682370\n",
       "over_time              smv                      0.682370\n",
       "department_sweing      over_time                0.683056\n",
       "over_time              department_sweing        0.683056\n",
       "no_of_workers          over_time                0.734937\n",
       "over_time              no_of_workers            0.734937\n",
       "smv                    department_sweing        0.870093\n",
       "department_sweing      smv                      0.870093\n",
       "smv                    no_of_workers            0.910364\n",
       "no_of_workers          smv                      0.910364\n",
       "                       department_sweing        0.937992\n",
       "department_sweing      no_of_workers            0.937992\n",
       "team                   team                     1.000000\n",
       "day_Tuesday            day_Tuesday              1.000000\n",
       "targeted_productivity  targeted_productivity    1.000000\n",
       "smv                    smv                      1.000000\n",
       "wip                    wip                      1.000000\n",
       "over_time              over_time                1.000000\n",
       "incentive              incentive                1.000000\n",
       "idle_time              idle_time                1.000000\n",
       "idle_men               idle_men                 1.000000\n",
       "no_of_style_change     no_of_style_change       1.000000\n",
       "no_of_workers          no_of_workers            1.000000\n",
       "month                  month                    1.000000\n",
       "day_Wednesday          day_Wednesday            1.000000\n",
       "quarter_Quarter1       quarter_Quarter1         1.000000\n",
       "quarter_Quarter3       quarter_Quarter3         1.000000\n",
       "quarter_Quarter4       quarter_Quarter4         1.000000\n",
       "quarter_Quarter5       quarter_Quarter5         1.000000\n",
       "department_finishing   department_finishing     1.000000\n",
       "department_finishing   department_finishing     1.000000\n",
       "department_sweing      department_sweing        1.000000\n",
       "day_Monday             day_Monday               1.000000\n",
       "day_Saturday           day_Saturday             1.000000\n",
       "day_Sunday             day_Sunday               1.000000\n",
       "day_Thursday           day_Thursday             1.000000\n",
       "quarter_Quarter2       quarter_Quarter2         1.000000\n",
       "actual_productivity    actual_productivity      1.000000\n",
       "dtype: float64"
      ]
     },
     "execution_count": 12,
     "metadata": {},
     "output_type": "execute_result"
    }
   ],
   "source": [
    "# Convert correlation matrix to 1-D Series and sort\n",
    "sorted_mat = corrMatrix.unstack().sort_values()\n",
    "pd.set_option('display.max_rows', None) \n",
    "sorted_mat.tail(100)"
   ]
  },
  {
   "cell_type": "markdown",
   "id": "3a566be3",
   "metadata": {
    "papermill": {
     "duration": 0.017674,
     "end_time": "2022-12-26T17:20:17.556394",
     "exception": false,
     "start_time": "2022-12-26T17:20:17.538720",
     "status": "completed"
    },
    "tags": []
   },
   "source": [
    "# Box plot"
   ]
  },
  {
   "cell_type": "code",
   "execution_count": 13,
   "id": "6bfd8586",
   "metadata": {},
   "outputs": [
    {
     "data": {
      "image/png": "[encoded data removed]",
      "text/plain": [
       "<Figure size 2000x800 with 2 Axes>"
      ]
     },
     "metadata": {},
     "output_type": "display_data"
    }
   ],
   "source": [
    "plt.figure(figsize=(20,8))\n",
    "\n",
    "plt.subplot(1,2,1)\n",
    "plt.title('Actual Productivity')\n",
    "sns.distplot(df_train.actual_productivity)\n",
    "\n",
    "plt.subplot(1,2,2)\n",
    "plt.title('Actual Productivity')\n",
    "sns.boxplot(y=df_train.actual_productivity)\n",
    "\n",
    "\n",
    "plt.show()"
   ]
  },
  {
   "cell_type": "code",
   "execution_count": null,
   "id": "e9c2ce78",
   "metadata": {
    "execution": {
     "iopub.execute_input": "2022-12-26T17:20:17.594151Z",
     "iopub.status.busy": "2022-12-26T17:20:17.593367Z",
     "iopub.status.idle": "2022-12-26T17:20:17.977709Z",
     "shell.execute_reply": "2022-12-26T17:20:17.976513Z"
    },
    "papermill": {
     "duration": 0.4063,
     "end_time": "2022-12-26T17:20:17.980226",
     "exception": false,
     "start_time": "2022-12-26T17:20:17.573926",
     "status": "completed"
    },
    "tags": []
   },
   "outputs": [],
   "source": []
  },
  {
   "cell_type": "code",
   "execution_count": 14,
   "id": "d238b680",
   "metadata": {
    "execution": {
     "iopub.execute_input": "2022-12-26T17:20:18.019171Z",
     "iopub.status.busy": "2022-12-26T17:20:18.018349Z",
     "iopub.status.idle": "2022-12-26T17:20:18.024502Z",
     "shell.execute_reply": "2022-12-26T17:20:18.023378Z"
    },
    "papermill": {
     "duration": 0.028465,
     "end_time": "2022-12-26T17:20:18.026828",
     "exception": false,
     "start_time": "2022-12-26T17:20:17.998363",
     "status": "completed"
    },
    "tags": []
   },
   "outputs": [],
   "source": [
    "X= df_train.iloc[:,:-1]\n",
    "y = df_train[\"actual_productivity\"]"
   ]
  },
  {
   "cell_type": "code",
   "execution_count": 15,
   "id": "3ef50fb9",
   "metadata": {
    "execution": {
     "iopub.execute_input": "2022-12-26T17:20:18.065819Z",
     "iopub.status.busy": "2022-12-26T17:20:18.065183Z",
     "iopub.status.idle": "2022-12-26T17:20:18.085942Z",
     "shell.execute_reply": "2022-12-26T17:20:18.085134Z"
    },
    "papermill": {
     "duration": 0.04312,
     "end_time": "2022-12-26T17:20:18.088057",
     "exception": false,
     "start_time": "2022-12-26T17:20:18.044937",
     "status": "completed"
    },
    "tags": []
   },
   "outputs": [
    {
     "data": {
      "text/html": [
       "<div>\n",
       "<style scoped>\n",
       "    .dataframe tbody tr th:only-of-type {\n",
       "        vertical-align: middle;\n",
       "    }\n",
       "\n",
       "    .dataframe tbody tr th {\n",
       "        vertical-align: top;\n",
       "    }\n",
       "\n",
       "    .dataframe thead th {\n",
       "        text-align: right;\n",
       "    }\n",
       "</style>\n",
       "<table border=\"1\" class=\"dataframe\">\n",
       "  <thead>\n",
       "    <tr style=\"text-align: right;\">\n",
       "      <th></th>\n",
       "      <th>team</th>\n",
       "      <th>targeted_productivity</th>\n",
       "      <th>smv</th>\n",
       "      <th>wip</th>\n",
       "      <th>over_time</th>\n",
       "      <th>incentive</th>\n",
       "      <th>idle_time</th>\n",
       "      <th>idle_men</th>\n",
       "      <th>no_of_style_change</th>\n",
       "      <th>no_of_workers</th>\n",
       "      <th>...</th>\n",
       "      <th>quarter_Quarter5</th>\n",
       "      <th>department_finishing</th>\n",
       "      <th>department_finishing</th>\n",
       "      <th>department_sweing</th>\n",
       "      <th>day_Monday</th>\n",
       "      <th>day_Saturday</th>\n",
       "      <th>day_Sunday</th>\n",
       "      <th>day_Thursday</th>\n",
       "      <th>day_Tuesday</th>\n",
       "      <th>day_Wednesday</th>\n",
       "    </tr>\n",
       "  </thead>\n",
       "  <tbody>\n",
       "    <tr>\n",
       "      <th>0</th>\n",
       "      <td>9</td>\n",
       "      <td>0.75</td>\n",
       "      <td>3.94</td>\n",
       "      <td>1183.183502</td>\n",
       "      <td>960</td>\n",
       "      <td>0</td>\n",
       "      <td>0.0</td>\n",
       "      <td>0</td>\n",
       "      <td>0</td>\n",
       "      <td>8.0</td>\n",
       "      <td>...</td>\n",
       "      <td>0</td>\n",
       "      <td>1</td>\n",
       "      <td>0</td>\n",
       "      <td>0</td>\n",
       "      <td>0</td>\n",
       "      <td>0</td>\n",
       "      <td>0</td>\n",
       "      <td>0</td>\n",
       "      <td>0</td>\n",
       "      <td>1</td>\n",
       "    </tr>\n",
       "    <tr>\n",
       "      <th>1</th>\n",
       "      <td>7</td>\n",
       "      <td>0.65</td>\n",
       "      <td>30.10</td>\n",
       "      <td>909.000000</td>\n",
       "      <td>7080</td>\n",
       "      <td>0</td>\n",
       "      <td>0.0</td>\n",
       "      <td>0</td>\n",
       "      <td>1</td>\n",
       "      <td>59.0</td>\n",
       "      <td>...</td>\n",
       "      <td>0</td>\n",
       "      <td>0</td>\n",
       "      <td>0</td>\n",
       "      <td>1</td>\n",
       "      <td>0</td>\n",
       "      <td>0</td>\n",
       "      <td>0</td>\n",
       "      <td>1</td>\n",
       "      <td>0</td>\n",
       "      <td>0</td>\n",
       "    </tr>\n",
       "    <tr>\n",
       "      <th>2</th>\n",
       "      <td>3</td>\n",
       "      <td>0.80</td>\n",
       "      <td>4.15</td>\n",
       "      <td>1183.183502</td>\n",
       "      <td>1440</td>\n",
       "      <td>0</td>\n",
       "      <td>0.0</td>\n",
       "      <td>0</td>\n",
       "      <td>0</td>\n",
       "      <td>7.0</td>\n",
       "      <td>...</td>\n",
       "      <td>0</td>\n",
       "      <td>0</td>\n",
       "      <td>1</td>\n",
       "      <td>0</td>\n",
       "      <td>0</td>\n",
       "      <td>0</td>\n",
       "      <td>0</td>\n",
       "      <td>0</td>\n",
       "      <td>0</td>\n",
       "      <td>1</td>\n",
       "    </tr>\n",
       "    <tr>\n",
       "      <th>3</th>\n",
       "      <td>1</td>\n",
       "      <td>0.65</td>\n",
       "      <td>22.53</td>\n",
       "      <td>762.000000</td>\n",
       "      <td>5040</td>\n",
       "      <td>0</td>\n",
       "      <td>0.0</td>\n",
       "      <td>0</td>\n",
       "      <td>1</td>\n",
       "      <td>42.0</td>\n",
       "      <td>...</td>\n",
       "      <td>0</td>\n",
       "      <td>0</td>\n",
       "      <td>0</td>\n",
       "      <td>1</td>\n",
       "      <td>0</td>\n",
       "      <td>0</td>\n",
       "      <td>0</td>\n",
       "      <td>0</td>\n",
       "      <td>0</td>\n",
       "      <td>1</td>\n",
       "    </tr>\n",
       "    <tr>\n",
       "      <th>4</th>\n",
       "      <td>4</td>\n",
       "      <td>0.70</td>\n",
       "      <td>30.10</td>\n",
       "      <td>767.000000</td>\n",
       "      <td>3300</td>\n",
       "      <td>50</td>\n",
       "      <td>0.0</td>\n",
       "      <td>0</td>\n",
       "      <td>1</td>\n",
       "      <td>57.0</td>\n",
       "      <td>...</td>\n",
       "      <td>0</td>\n",
       "      <td>0</td>\n",
       "      <td>0</td>\n",
       "      <td>1</td>\n",
       "      <td>1</td>\n",
       "      <td>0</td>\n",
       "      <td>0</td>\n",
       "      <td>0</td>\n",
       "      <td>0</td>\n",
       "      <td>0</td>\n",
       "    </tr>\n",
       "  </tbody>\n",
       "</table>\n",
       "<p>5 rows × 25 columns</p>\n",
       "</div>"
      ],
      "text/plain": [
       "   team  targeted_productivity    smv          wip  over_time  incentive  \\\n",
       "0     9                   0.75   3.94  1183.183502        960          0   \n",
       "1     7                   0.65  30.10   909.000000       7080          0   \n",
       "2     3                   0.80   4.15  1183.183502       1440          0   \n",
       "3     1                   0.65  22.53   762.000000       5040          0   \n",
       "4     4                   0.70  30.10   767.000000       3300         50   \n",
       "\n",
       "   idle_time  idle_men  no_of_style_change  no_of_workers  ...  \\\n",
       "0        0.0         0                   0            8.0  ...   \n",
       "1        0.0         0                   1           59.0  ...   \n",
       "2        0.0         0                   0            7.0  ...   \n",
       "3        0.0         0                   1           42.0  ...   \n",
       "4        0.0         0                   1           57.0  ...   \n",
       "\n",
       "   quarter_Quarter5  department_finishing  department_finishing   \\\n",
       "0                 0                     1                      0   \n",
       "1                 0                     0                      0   \n",
       "2                 0                     0                      1   \n",
       "3                 0                     0                      0   \n",
       "4                 0                     0                      0   \n",
       "\n",
       "   department_sweing  day_Monday  day_Saturday  day_Sunday  day_Thursday  \\\n",
       "0                  0           0             0           0             0   \n",
       "1                  1           0             0           0             1   \n",
       "2                  0           0             0           0             0   \n",
       "3                  1           0             0           0             0   \n",
       "4                  1           1             0           0             0   \n",
       "\n",
       "   day_Tuesday  day_Wednesday  \n",
       "0            0              1  \n",
       "1            0              0  \n",
       "2            0              1  \n",
       "3            0              1  \n",
       "4            0              0  \n",
       "\n",
       "[5 rows x 25 columns]"
      ]
     },
     "execution_count": 15,
     "metadata": {},
     "output_type": "execute_result"
    }
   ],
   "source": [
    "X.head()"
   ]
  },
  {
   "cell_type": "code",
   "execution_count": 16,
   "id": "838c88c5",
   "metadata": {
    "execution": {
     "iopub.execute_input": "2022-12-26T17:20:18.128155Z",
     "iopub.status.busy": "2022-12-26T17:20:18.127547Z",
     "iopub.status.idle": "2022-12-26T17:20:18.133993Z",
     "shell.execute_reply": "2022-12-26T17:20:18.133114Z"
    },
    "papermill": {
     "duration": 0.028865,
     "end_time": "2022-12-26T17:20:18.136115",
     "exception": false,
     "start_time": "2022-12-26T17:20:18.107250",
     "status": "completed"
    },
    "tags": []
   },
   "outputs": [
    {
     "data": {
      "text/plain": [
       "0    0.755167\n",
       "1    0.535678\n",
       "2    0.820833\n",
       "3    0.581131\n",
       "4    0.790003\n",
       "Name: actual_productivity, dtype: float64"
      ]
     },
     "execution_count": 16,
     "metadata": {},
     "output_type": "execute_result"
    }
   ],
   "source": [
    "y.head()"
   ]
  },
  {
   "cell_type": "code",
   "execution_count": 17,
   "id": "395141ee",
   "metadata": {
    "execution": {
     "iopub.execute_input": "2022-12-26T17:20:18.176837Z",
     "iopub.status.busy": "2022-12-26T17:20:18.175736Z",
     "iopub.status.idle": "2022-12-26T17:20:18.182013Z",
     "shell.execute_reply": "2022-12-26T17:20:18.181210Z"
    },
    "papermill": {
     "duration": 0.028724,
     "end_time": "2022-12-26T17:20:18.184139",
     "exception": false,
     "start_time": "2022-12-26T17:20:18.155415",
     "status": "completed"
    },
    "tags": []
   },
   "outputs": [
    {
     "data": {
      "text/plain": [
       "(1017, 25)"
      ]
     },
     "execution_count": 17,
     "metadata": {},
     "output_type": "execute_result"
    }
   ],
   "source": [
    "X.shape"
   ]
  },
  {
   "cell_type": "code",
   "execution_count": 18,
   "id": "c1bb49ac",
   "metadata": {
    "execution": {
     "iopub.execute_input": "2022-12-26T17:20:18.223538Z",
     "iopub.status.busy": "2022-12-26T17:20:18.222670Z",
     "iopub.status.idle": "2022-12-26T17:20:18.230403Z",
     "shell.execute_reply": "2022-12-26T17:20:18.229237Z"
    },
    "papermill": {
     "duration": 0.02996,
     "end_time": "2022-12-26T17:20:18.232770",
     "exception": false,
     "start_time": "2022-12-26T17:20:18.202810",
     "status": "completed"
    },
    "tags": []
   },
   "outputs": [
    {
     "data": {
      "text/plain": [
       "(1017,)"
      ]
     },
     "execution_count": 18,
     "metadata": {},
     "output_type": "execute_result"
    }
   ],
   "source": [
    "y.shape"
   ]
  },
  {
   "cell_type": "code",
   "execution_count": 19,
   "id": "12fb7c10",
   "metadata": {
    "execution": {
     "iopub.execute_input": "2022-12-26T17:20:18.273748Z",
     "iopub.status.busy": "2022-12-26T17:20:18.272512Z",
     "iopub.status.idle": "2022-12-26T17:20:18.282079Z",
     "shell.execute_reply": "2022-12-26T17:20:18.281009Z"
    },
    "papermill": {
     "duration": 0.032575,
     "end_time": "2022-12-26T17:20:18.284548",
     "exception": false,
     "start_time": "2022-12-26T17:20:18.251973",
     "status": "completed"
    },
    "tags": []
   },
   "outputs": [
    {
     "data": {
      "text/plain": [
       "team                     0\n",
       "targeted_productivity    0\n",
       "smv                      0\n",
       "wip                      0\n",
       "over_time                0\n",
       "incentive                0\n",
       "idle_time                0\n",
       "idle_men                 0\n",
       "no_of_style_change       0\n",
       "no_of_workers            0\n",
       "month                    0\n",
       "quarter_Quarter1         0\n",
       "quarter_Quarter2         0\n",
       "quarter_Quarter3         0\n",
       "quarter_Quarter4         0\n",
       "quarter_Quarter5         0\n",
       "department_finishing     0\n",
       "department_finishing     0\n",
       "department_sweing        0\n",
       "day_Monday               0\n",
       "day_Saturday             0\n",
       "day_Sunday               0\n",
       "day_Thursday             0\n",
       "day_Tuesday              0\n",
       "day_Wednesday            0\n",
       "dtype: int64"
      ]
     },
     "execution_count": 19,
     "metadata": {},
     "output_type": "execute_result"
    }
   ],
   "source": [
    "X.isnull().sum()"
   ]
  },
  {
   "cell_type": "markdown",
   "id": "7b79b3e8",
   "metadata": {
    "papermill": {
     "duration": 0.018832,
     "end_time": "2022-12-26T17:20:18.322292",
     "exception": false,
     "start_time": "2022-12-26T17:20:18.303460",
     "status": "completed"
    },
    "tags": []
   },
   "source": [
    "# ***Algorithms***"
   ]
  },
  {
   "cell_type": "code",
   "execution_count": 20,
   "id": "18fe99a3",
   "metadata": {
    "execution": {
     "iopub.execute_input": "2022-12-26T17:20:18.363934Z",
     "iopub.status.busy": "2022-12-26T17:20:18.363179Z",
     "iopub.status.idle": "2022-12-26T17:20:18.368371Z",
     "shell.execute_reply": "2022-12-26T17:20:18.367209Z"
    },
    "papermill": {
     "duration": 0.029216,
     "end_time": "2022-12-26T17:20:18.370897",
     "exception": false,
     "start_time": "2022-12-26T17:20:18.341681",
     "status": "completed"
    },
    "tags": []
   },
   "outputs": [],
   "source": [
    "lr = LinearRegression()\n",
    "dtr = DecisionTreeRegressor()\n",
    "knr = KNeighborsRegressor()\n",
    "rfr = RandomForestRegressor()\n",
    "svr = SVR()"
   ]
  },
  {
   "cell_type": "code",
   "execution_count": 21,
   "id": "ebc45f3f",
   "metadata": {
    "execution": {
     "iopub.execute_input": "2022-12-26T17:20:18.413107Z",
     "iopub.status.busy": "2022-12-26T17:20:18.412678Z",
     "iopub.status.idle": "2022-12-26T17:20:19.263411Z",
     "shell.execute_reply": "2022-12-26T17:20:19.261742Z"
    },
    "papermill": {
     "duration": 0.875295,
     "end_time": "2022-12-26T17:20:19.266204",
     "exception": false,
     "start_time": "2022-12-26T17:20:18.390909",
     "status": "completed"
    },
    "tags": []
   },
   "outputs": [
    {
     "name": "stdout",
     "output_type": "stream",
     "text": [
      "R2 Scored of  LinearRegression -1.2265606807967804\n",
      "R2 Scored of  KNeighborsRegressor -0.33338838704006135\n",
      "R2 Scored of  DecisionTreeRegressor 1.0\n",
      "R2 Scored of  RandomForestRegressor 0.9023981671900302\n",
      "R2 Scored of  SVR -14.86104077007237\n"
     ]
    }
   ],
   "source": [
    "for clf in (lr,knr, dtr,rfr,svr ):\n",
    "    clf.fit(X, y)\n",
    "    y_pred = clf.predict(X)\n",
    "    print(\"R2 Scored of \", clf.__class__.__name__, r2_score(y_pred, y))"
   ]
  },
  {
   "cell_type": "markdown",
   "id": "468faba5",
   "metadata": {
    "papermill": {
     "duration": 0.019203,
     "end_time": "2022-12-26T17:20:19.305075",
     "exception": false,
     "start_time": "2022-12-26T17:20:19.285872",
     "status": "completed"
    },
    "tags": []
   },
   "source": [
    "> R2 score showed the following order of models as per their effectiveness.\n",
    "\n",
    "> DecisionTreeRegressor (1.0) > RandomForestRegressor 0.90 >KNeighborsRegressor -0.34 > KNeighborsRegressor -0.34"
   ]
  },
  {
   "cell_type": "markdown",
   "id": "24516a00",
   "metadata": {
    "papermill": {
     "duration": 0.019214,
     "end_time": "2022-12-26T17:20:19.344000",
     "exception": false,
     "start_time": "2022-12-26T17:20:19.324786",
     "status": "completed"
    },
    "tags": []
   },
   "source": [
    "**Mean Squared Error of the algorithms**"
   ]
  },
  {
   "cell_type": "code",
   "execution_count": 22,
   "id": "da870892",
   "metadata": {
    "execution": {
     "iopub.execute_input": "2022-12-26T17:20:19.385594Z",
     "iopub.status.busy": "2022-12-26T17:20:19.385212Z",
     "iopub.status.idle": "2022-12-26T17:20:20.187841Z",
     "shell.execute_reply": "2022-12-26T17:20:20.186462Z"
    },
    "papermill": {
     "duration": 0.82695,
     "end_time": "2022-12-26T17:20:20.190533",
     "exception": false,
     "start_time": "2022-12-26T17:20:19.363583",
     "status": "completed"
    },
    "tags": []
   },
   "outputs": [
    {
     "name": "stdout",
     "output_type": "stream",
     "text": [
      "Mean Square Error of  LinearRegression 0.02094504591376525\n",
      "Mean Square Error of  KNeighborsRegressor 0.016849722870148895\n",
      "Mean Square Error of  DecisionTreeRegressor 3.0057384540131965e-33\n",
      "Mean Square Error of  RandomForestRegressor 0.0022475081623665625\n",
      "Mean Square Error of  SVR 0.028574282530029742\n"
     ]
    }
   ],
   "source": [
    "from sklearn.metrics import mean_squared_error  ,r2_score\n",
    "for clf in (lr,knr, dtr,rfr,svr ):\n",
    "    clf.fit(X, y)\n",
    "    y_pred = clf.predict(X)\n",
    "    print(\"Mean Square Error of \", clf.__class__.__name__, mean_squared_error(y_pred, y))"
   ]
  },
  {
   "cell_type": "markdown",
   "id": "edef2bbd",
   "metadata": {
    "papermill": {
     "duration": 0.019839,
     "end_time": "2022-12-26T17:20:20.230795",
     "exception": false,
     "start_time": "2022-12-26T17:20:20.210956",
     "status": "completed"
    },
    "tags": []
   },
   "source": [
    "From the above code\n",
    "- It can be seen that the Random forest Regressor is the most suitable with the least MSE value of 0.0021. "
   ]
  },
  {
   "cell_type": "markdown",
   "id": "ea7b735d",
   "metadata": {
    "papermill": {
     "duration": 0.019896,
     "end_time": "2022-12-26T17:20:20.270359",
     "exception": false,
     "start_time": "2022-12-26T17:20:20.250463",
     "status": "completed"
    },
    "tags": []
   },
   "source": [
    "# Lazy Predictor"
   ]
  },
  {
   "cell_type": "code",
   "execution_count": 23,
   "id": "4f049ff3",
   "metadata": {
    "execution": {
     "iopub.execute_input": "2022-12-26T17:20:33.590059Z",
     "iopub.status.busy": "2022-12-26T17:20:33.589371Z",
     "iopub.status.idle": "2022-12-26T17:20:34.318068Z",
     "shell.execute_reply": "2022-12-26T17:20:34.316737Z"
    },
    "papermill": {
     "duration": 0.753102,
     "end_time": "2022-12-26T17:20:34.321088",
     "exception": false,
     "start_time": "2022-12-26T17:20:33.567986",
     "status": "completed"
    },
    "tags": []
   },
   "outputs": [],
   "source": [
    "from lazypredict.Supervised import LazyRegressor"
   ]
  },
  {
   "cell_type": "code",
   "execution_count": 24,
   "id": "ee67f49f",
   "metadata": {
    "execution": {
     "iopub.execute_input": "2022-12-26T17:20:34.365383Z",
     "iopub.status.busy": "2022-12-26T17:20:34.364826Z",
     "iopub.status.idle": "2022-12-26T17:20:34.373468Z",
     "shell.execute_reply": "2022-12-26T17:20:34.372606Z"
    },
    "papermill": {
     "duration": 0.03392,
     "end_time": "2022-12-26T17:20:34.376244",
     "exception": false,
     "start_time": "2022-12-26T17:20:34.342324",
     "status": "completed"
    },
    "tags": []
   },
   "outputs": [],
   "source": [
    "from sklearn.model_selection import train_test_split\n",
    "X_train, X_test, y_train, y_test = train_test_split( X, y, test_size=0.2, random_state=42)"
   ]
  },
  {
   "cell_type": "code",
   "execution_count": 25,
   "id": "64746202",
   "metadata": {
    "execution": {
     "iopub.execute_input": "2022-12-26T17:20:34.420784Z",
     "iopub.status.busy": "2022-12-26T17:20:34.420264Z",
     "iopub.status.idle": "2022-12-26T17:20:55.000823Z",
     "shell.execute_reply": "2022-12-26T17:20:54.999363Z"
    },
    "papermill": {
     "duration": 20.605322,
     "end_time": "2022-12-26T17:20:55.003342",
     "exception": false,
     "start_time": "2022-12-26T17:20:34.398020",
     "status": "completed"
    },
    "tags": []
   },
   "outputs": [
    {
     "name": "stderr",
     "output_type": "stream",
     "text": [
      "100%|██████████| 42/42 [00:46<00:00,  1.11s/it]\n"
     ]
    },
    {
     "data": {
      "text/html": [
       "<div>\n",
       "<style scoped>\n",
       "    .dataframe tbody tr th:only-of-type {\n",
       "        vertical-align: middle;\n",
       "    }\n",
       "\n",
       "    .dataframe tbody tr th {\n",
       "        vertical-align: top;\n",
       "    }\n",
       "\n",
       "    .dataframe thead th {\n",
       "        text-align: right;\n",
       "    }\n",
       "</style>\n",
       "<table border=\"1\" class=\"dataframe\">\n",
       "  <thead>\n",
       "    <tr style=\"text-align: right;\">\n",
       "      <th></th>\n",
       "      <th>Adjusted R-Squared</th>\n",
       "      <th>R-Squared</th>\n",
       "      <th>RMSE</th>\n",
       "      <th>Time Taken</th>\n",
       "    </tr>\n",
       "    <tr>\n",
       "      <th>Model</th>\n",
       "      <th></th>\n",
       "      <th></th>\n",
       "      <th></th>\n",
       "      <th></th>\n",
       "    </tr>\n",
       "  </thead>\n",
       "  <tbody>\n",
       "    <tr>\n",
       "      <th>GradientBoostingRegressor</th>\n",
       "      <td>0.28</td>\n",
       "      <td>0.37</td>\n",
       "      <td>0.14</td>\n",
       "      <td>0.15</td>\n",
       "    </tr>\n",
       "    <tr>\n",
       "      <th>HistGradientBoostingRegressor</th>\n",
       "      <td>0.23</td>\n",
       "      <td>0.33</td>\n",
       "      <td>0.15</td>\n",
       "      <td>0.90</td>\n",
       "    </tr>\n",
       "    <tr>\n",
       "      <th>LGBMRegressor</th>\n",
       "      <td>0.22</td>\n",
       "      <td>0.31</td>\n",
       "      <td>0.15</td>\n",
       "      <td>0.15</td>\n",
       "    </tr>\n",
       "    <tr>\n",
       "      <th>RandomForestRegressor</th>\n",
       "      <td>0.20</td>\n",
       "      <td>0.30</td>\n",
       "      <td>0.15</td>\n",
       "      <td>0.58</td>\n",
       "    </tr>\n",
       "    <tr>\n",
       "      <th>AdaBoostRegressor</th>\n",
       "      <td>0.16</td>\n",
       "      <td>0.27</td>\n",
       "      <td>0.16</td>\n",
       "      <td>0.08</td>\n",
       "    </tr>\n",
       "    <tr>\n",
       "      <th>ExtraTreesRegressor</th>\n",
       "      <td>0.15</td>\n",
       "      <td>0.25</td>\n",
       "      <td>0.16</td>\n",
       "      <td>0.48</td>\n",
       "    </tr>\n",
       "    <tr>\n",
       "      <th>BaggingRegressor</th>\n",
       "      <td>0.14</td>\n",
       "      <td>0.24</td>\n",
       "      <td>0.16</td>\n",
       "      <td>0.07</td>\n",
       "    </tr>\n",
       "    <tr>\n",
       "      <th>XGBRegressor</th>\n",
       "      <td>0.06</td>\n",
       "      <td>0.17</td>\n",
       "      <td>0.17</td>\n",
       "      <td>0.71</td>\n",
       "    </tr>\n",
       "    <tr>\n",
       "      <th>NuSVR</th>\n",
       "      <td>0.06</td>\n",
       "      <td>0.17</td>\n",
       "      <td>0.17</td>\n",
       "      <td>0.09</td>\n",
       "    </tr>\n",
       "    <tr>\n",
       "      <th>LinearRegression</th>\n",
       "      <td>0.03</td>\n",
       "      <td>0.15</td>\n",
       "      <td>0.17</td>\n",
       "      <td>0.02</td>\n",
       "    </tr>\n",
       "    <tr>\n",
       "      <th>TransformedTargetRegressor</th>\n",
       "      <td>0.03</td>\n",
       "      <td>0.15</td>\n",
       "      <td>0.17</td>\n",
       "      <td>0.02</td>\n",
       "    </tr>\n",
       "    <tr>\n",
       "      <th>LassoCV</th>\n",
       "      <td>0.03</td>\n",
       "      <td>0.15</td>\n",
       "      <td>0.17</td>\n",
       "      <td>0.08</td>\n",
       "    </tr>\n",
       "    <tr>\n",
       "      <th>ElasticNetCV</th>\n",
       "      <td>0.03</td>\n",
       "      <td>0.15</td>\n",
       "      <td>0.17</td>\n",
       "      <td>0.08</td>\n",
       "    </tr>\n",
       "    <tr>\n",
       "      <th>LassoLarsIC</th>\n",
       "      <td>0.03</td>\n",
       "      <td>0.15</td>\n",
       "      <td>0.17</td>\n",
       "      <td>0.02</td>\n",
       "    </tr>\n",
       "    <tr>\n",
       "      <th>LassoLarsCV</th>\n",
       "      <td>0.03</td>\n",
       "      <td>0.15</td>\n",
       "      <td>0.17</td>\n",
       "      <td>0.05</td>\n",
       "    </tr>\n",
       "    <tr>\n",
       "      <th>RidgeCV</th>\n",
       "      <td>0.03</td>\n",
       "      <td>0.15</td>\n",
       "      <td>0.17</td>\n",
       "      <td>0.03</td>\n",
       "    </tr>\n",
       "    <tr>\n",
       "      <th>Ridge</th>\n",
       "      <td>0.03</td>\n",
       "      <td>0.15</td>\n",
       "      <td>0.17</td>\n",
       "      <td>0.01</td>\n",
       "    </tr>\n",
       "    <tr>\n",
       "      <th>HuberRegressor</th>\n",
       "      <td>0.02</td>\n",
       "      <td>0.14</td>\n",
       "      <td>0.17</td>\n",
       "      <td>0.04</td>\n",
       "    </tr>\n",
       "    <tr>\n",
       "      <th>BayesianRidge</th>\n",
       "      <td>0.02</td>\n",
       "      <td>0.14</td>\n",
       "      <td>0.17</td>\n",
       "      <td>0.03</td>\n",
       "    </tr>\n",
       "    <tr>\n",
       "      <th>SGDRegressor</th>\n",
       "      <td>0.02</td>\n",
       "      <td>0.14</td>\n",
       "      <td>0.17</td>\n",
       "      <td>0.02</td>\n",
       "    </tr>\n",
       "    <tr>\n",
       "      <th>LarsCV</th>\n",
       "      <td>0.01</td>\n",
       "      <td>0.13</td>\n",
       "      <td>0.17</td>\n",
       "      <td>0.03</td>\n",
       "    </tr>\n",
       "    <tr>\n",
       "      <th>OrthogonalMatchingPursuitCV</th>\n",
       "      <td>0.01</td>\n",
       "      <td>0.13</td>\n",
       "      <td>0.17</td>\n",
       "      <td>0.02</td>\n",
       "    </tr>\n",
       "    <tr>\n",
       "      <th>LinearSVR</th>\n",
       "      <td>-0.01</td>\n",
       "      <td>0.11</td>\n",
       "      <td>0.17</td>\n",
       "      <td>0.04</td>\n",
       "    </tr>\n",
       "    <tr>\n",
       "      <th>TweedieRegressor</th>\n",
       "      <td>-0.01</td>\n",
       "      <td>0.11</td>\n",
       "      <td>0.17</td>\n",
       "      <td>0.02</td>\n",
       "    </tr>\n",
       "    <tr>\n",
       "      <th>SVR</th>\n",
       "      <td>-0.02</td>\n",
       "      <td>0.11</td>\n",
       "      <td>0.17</td>\n",
       "      <td>0.04</td>\n",
       "    </tr>\n",
       "    <tr>\n",
       "      <th>GammaRegressor</th>\n",
       "      <td>-0.02</td>\n",
       "      <td>0.11</td>\n",
       "      <td>0.17</td>\n",
       "      <td>0.03</td>\n",
       "    </tr>\n",
       "    <tr>\n",
       "      <th>PoissonRegressor</th>\n",
       "      <td>-0.02</td>\n",
       "      <td>0.10</td>\n",
       "      <td>0.17</td>\n",
       "      <td>0.02</td>\n",
       "    </tr>\n",
       "    <tr>\n",
       "      <th>OrthogonalMatchingPursuit</th>\n",
       "      <td>-0.03</td>\n",
       "      <td>0.10</td>\n",
       "      <td>0.17</td>\n",
       "      <td>0.02</td>\n",
       "    </tr>\n",
       "    <tr>\n",
       "      <th>DecisionTreeRegressor</th>\n",
       "      <td>-0.06</td>\n",
       "      <td>0.07</td>\n",
       "      <td>0.18</td>\n",
       "      <td>0.02</td>\n",
       "    </tr>\n",
       "    <tr>\n",
       "      <th>QuantileRegressor</th>\n",
       "      <td>-0.14</td>\n",
       "      <td>-0.00</td>\n",
       "      <td>0.18</td>\n",
       "      <td>41.31</td>\n",
       "    </tr>\n",
       "    <tr>\n",
       "      <th>ElasticNet</th>\n",
       "      <td>-0.15</td>\n",
       "      <td>-0.01</td>\n",
       "      <td>0.18</td>\n",
       "      <td>0.01</td>\n",
       "    </tr>\n",
       "    <tr>\n",
       "      <th>DummyRegressor</th>\n",
       "      <td>-0.15</td>\n",
       "      <td>-0.01</td>\n",
       "      <td>0.18</td>\n",
       "      <td>0.01</td>\n",
       "    </tr>\n",
       "    <tr>\n",
       "      <th>LassoLars</th>\n",
       "      <td>-0.15</td>\n",
       "      <td>-0.01</td>\n",
       "      <td>0.18</td>\n",
       "      <td>0.01</td>\n",
       "    </tr>\n",
       "    <tr>\n",
       "      <th>Lasso</th>\n",
       "      <td>-0.15</td>\n",
       "      <td>-0.01</td>\n",
       "      <td>0.18</td>\n",
       "      <td>0.01</td>\n",
       "    </tr>\n",
       "    <tr>\n",
       "      <th>ExtraTreeRegressor</th>\n",
       "      <td>-0.24</td>\n",
       "      <td>-0.09</td>\n",
       "      <td>0.19</td>\n",
       "      <td>0.02</td>\n",
       "    </tr>\n",
       "    <tr>\n",
       "      <th>KNeighborsRegressor</th>\n",
       "      <td>-0.31</td>\n",
       "      <td>-0.15</td>\n",
       "      <td>0.20</td>\n",
       "      <td>0.03</td>\n",
       "    </tr>\n",
       "    <tr>\n",
       "      <th>MLPRegressor</th>\n",
       "      <td>-0.45</td>\n",
       "      <td>-0.27</td>\n",
       "      <td>0.21</td>\n",
       "      <td>0.81</td>\n",
       "    </tr>\n",
       "    <tr>\n",
       "      <th>PassiveAggressiveRegressor</th>\n",
       "      <td>-0.54</td>\n",
       "      <td>-0.35</td>\n",
       "      <td>0.21</td>\n",
       "      <td>0.01</td>\n",
       "    </tr>\n",
       "    <tr>\n",
       "      <th>GaussianProcessRegressor</th>\n",
       "      <td>-4.62</td>\n",
       "      <td>-3.92</td>\n",
       "      <td>0.40</td>\n",
       "      <td>0.12</td>\n",
       "    </tr>\n",
       "    <tr>\n",
       "      <th>KernelRidge</th>\n",
       "      <td>-18.42</td>\n",
       "      <td>-16.03</td>\n",
       "      <td>0.75</td>\n",
       "      <td>0.05</td>\n",
       "    </tr>\n",
       "    <tr>\n",
       "      <th>RANSACRegressor</th>\n",
       "      <td>-22.55</td>\n",
       "      <td>-19.65</td>\n",
       "      <td>0.83</td>\n",
       "      <td>0.23</td>\n",
       "    </tr>\n",
       "    <tr>\n",
       "      <th>Lars</th>\n",
       "      <td>-297415.98</td>\n",
       "      <td>-260788.28</td>\n",
       "      <td>93.06</td>\n",
       "      <td>0.02</td>\n",
       "    </tr>\n",
       "  </tbody>\n",
       "</table>\n",
       "</div>"
      ],
      "text/plain": [
       "                               Adjusted R-Squared  R-Squared  RMSE  Time Taken\n",
       "Model                                                                         \n",
       "GradientBoostingRegressor                    0.28       0.37  0.14        0.15\n",
       "HistGradientBoostingRegressor                0.23       0.33  0.15        0.90\n",
       "LGBMRegressor                                0.22       0.31  0.15        0.15\n",
       "RandomForestRegressor                        0.20       0.30  0.15        0.58\n",
       "AdaBoostRegressor                            0.16       0.27  0.16        0.08\n",
       "ExtraTreesRegressor                          0.15       0.25  0.16        0.48\n",
       "BaggingRegressor                             0.14       0.24  0.16        0.07\n",
       "XGBRegressor                                 0.06       0.17  0.17        0.71\n",
       "NuSVR                                        0.06       0.17  0.17        0.09\n",
       "LinearRegression                             0.03       0.15  0.17        0.02\n",
       "TransformedTargetRegressor                   0.03       0.15  0.17        0.02\n",
       "LassoCV                                      0.03       0.15  0.17        0.08\n",
       "ElasticNetCV                                 0.03       0.15  0.17        0.08\n",
       "LassoLarsIC                                  0.03       0.15  0.17        0.02\n",
       "LassoLarsCV                                  0.03       0.15  0.17        0.05\n",
       "RidgeCV                                      0.03       0.15  0.17        0.03\n",
       "Ridge                                        0.03       0.15  0.17        0.01\n",
       "HuberRegressor                               0.02       0.14  0.17        0.04\n",
       "BayesianRidge                                0.02       0.14  0.17        0.03\n",
       "SGDRegressor                                 0.02       0.14  0.17        0.02\n",
       "LarsCV                                       0.01       0.13  0.17        0.03\n",
       "OrthogonalMatchingPursuitCV                  0.01       0.13  0.17        0.02\n",
       "LinearSVR                                   -0.01       0.11  0.17        0.04\n",
       "TweedieRegressor                            -0.01       0.11  0.17        0.02\n",
       "SVR                                         -0.02       0.11  0.17        0.04\n",
       "GammaRegressor                              -0.02       0.11  0.17        0.03\n",
       "PoissonRegressor                            -0.02       0.10  0.17        0.02\n",
       "OrthogonalMatchingPursuit                   -0.03       0.10  0.17        0.02\n",
       "DecisionTreeRegressor                       -0.06       0.07  0.18        0.02\n",
       "QuantileRegressor                           -0.14      -0.00  0.18       41.31\n",
       "ElasticNet                                  -0.15      -0.01  0.18        0.01\n",
       "DummyRegressor                              -0.15      -0.01  0.18        0.01\n",
       "LassoLars                                   -0.15      -0.01  0.18        0.01\n",
       "Lasso                                       -0.15      -0.01  0.18        0.01\n",
       "ExtraTreeRegressor                          -0.24      -0.09  0.19        0.02\n",
       "KNeighborsRegressor                         -0.31      -0.15  0.20        0.03\n",
       "MLPRegressor                                -0.45      -0.27  0.21        0.81\n",
       "PassiveAggressiveRegressor                  -0.54      -0.35  0.21        0.01\n",
       "GaussianProcessRegressor                    -4.62      -3.92  0.40        0.12\n",
       "KernelRidge                                -18.42     -16.03  0.75        0.05\n",
       "RANSACRegressor                            -22.55     -19.65  0.83        0.23\n",
       "Lars                                   -297415.98 -260788.28 93.06        0.02"
      ]
     },
     "execution_count": 25,
     "metadata": {},
     "output_type": "execute_result"
    }
   ],
   "source": [
    "clf = LazyRegressor(verbose=0)\n",
    "models,predictions = clf.fit(X_train, X_test, y_train, y_test)\n",
    "models"
   ]
  },
  {
   "cell_type": "markdown",
   "id": "f19c6663",
   "metadata": {
    "papermill": {
     "duration": 0.022635,
     "end_time": "2022-12-26T17:20:55.050212",
     "exception": false,
     "start_time": "2022-12-26T17:20:55.027577",
     "status": "completed"
    },
    "tags": []
   },
   "source": [
    "Lazy regressor shows the result of 42 different regressors."
   ]
  },
  {
   "cell_type": "markdown",
   "id": "7ae2e6fb",
   "metadata": {
    "papermill": {
     "duration": 0.024593,
     "end_time": "2022-12-26T17:20:55.098966",
     "exception": false,
     "start_time": "2022-12-26T17:20:55.074373",
     "status": "completed"
    },
    "tags": []
   },
   "source": [
    "#  Apply to Top algorithms"
   ]
  },
  {
   "cell_type": "code",
   "execution_count": 26,
   "id": "72550d57",
   "metadata": {
    "execution": {
     "iopub.execute_input": "2022-12-26T17:20:55.148465Z",
     "iopub.status.busy": "2022-12-26T17:20:55.147601Z",
     "iopub.status.idle": "2022-12-26T17:20:55.154329Z",
     "shell.execute_reply": "2022-12-26T17:20:55.153120Z"
    },
    "papermill": {
     "duration": 0.034064,
     "end_time": "2022-12-26T17:20:55.156836",
     "exception": false,
     "start_time": "2022-12-26T17:20:55.122772",
     "status": "completed"
    },
    "tags": []
   },
   "outputs": [],
   "source": [
    "Gr = GradientBoostingRegressor()\n",
    "Hgr = HistGradientBoostingRegressor()\n",
    "Ada = AdaBoostRegressor()\n",
    "knr = KNeighborsRegressor()\n",
    "xbgi = xgb.XGBRegressor\n",
    "Lgbmr = lgb.LGBMRegressor"
   ]
  },
  {
   "cell_type": "code",
   "execution_count": 27,
   "id": "403426ee",
   "metadata": {
    "execution": {
     "iopub.execute_input": "2022-12-26T17:20:55.207502Z",
     "iopub.status.busy": "2022-12-26T17:20:55.207108Z",
     "iopub.status.idle": "2022-12-26T17:20:56.092985Z",
     "shell.execute_reply": "2022-12-26T17:20:56.091717Z"
    },
    "papermill": {
     "duration": 0.916518,
     "end_time": "2022-12-26T17:20:56.097513",
     "exception": false,
     "start_time": "2022-12-26T17:20:55.180995",
     "status": "completed"
    },
    "tags": []
   },
   "outputs": [
    {
     "name": "stdout",
     "output_type": "stream",
     "text": [
      "GradientBoostingRegressor\n",
      "MSE for GradientBoostingRegressor\t:  0.009968464773837726\n",
      "R2 for GradientBoostingRegressor\t:  0.40081288774684987\n",
      " HistGradientBoostingRegressor\n",
      "MSE HistGradientBoostingRegressor\t:  0.005142214241329054\n",
      "R2 for HistGradientBoostingRegressor\t:  0.7550591906283303\n",
      "AdaBoostRegressor\n",
      "MSE for AdaBoostRegressor\t:  0.017702745336277317\n",
      "R2 for AdaBoostRegressor\t:  -0.9013303124771135\n",
      "KNeighborsRegressor\n",
      "MSE for KNeighborsRegressor:  0.016849722870148895\n",
      "R2 for KNeighborsRegressor:  -0.33338838704006135\n"
     ]
    }
   ],
   "source": [
    "print(\"GradientBoostingRegressor\")\n",
    "Gr.fit(X, y)\n",
    "y_pred = Gr.predict(X)\n",
    "MSEGr=mean_squared_error(y_pred, y)\n",
    "print('MSE for GradientBoostingRegressor\t: ', MSEGr)\n",
    "R2Gr=r2_score(y_pred, y)\n",
    "print('R2 for GradientBoostingRegressor\t: ', R2Gr)\n",
    "\n",
    "\n",
    "print(\" HistGradientBoostingRegressor\")\n",
    "Hgr.fit(X, y)\n",
    "y_pred = Hgr.predict(X)\n",
    "MSEHGr=mean_squared_error(y_pred, y)\n",
    "print('MSE HistGradientBoostingRegressor\t: ', MSEHGr)\n",
    "R2HGr=r2_score(y_pred, y)\n",
    "print('R2 for HistGradientBoostingRegressor\t: ', R2HGr)\n",
    "\n",
    "print('AdaBoostRegressor')\n",
    "Ada.fit(X, y)\n",
    "y_pred = Ada.predict(X)\n",
    "MSEada=mean_squared_error(y_pred, y)\n",
    "print('MSE for AdaBoostRegressor\t: ', MSEada)\n",
    "R2ada=r2_score(y_pred, y)\n",
    "print('R2 for AdaBoostRegressor\t: ', R2ada)\n",
    "\n",
    "print('KNeighborsRegressor')\n",
    "knr.fit(X, y)\n",
    "y_pred = knr.predict(X)\n",
    "MSEknr=mean_squared_error(y_pred, y)\n",
    "print('MSE for KNeighborsRegressor: ', MSEknr)\n",
    "R2knr=r2_score(y_pred, y)\n",
    "print('R2 for KNeighborsRegressor: ', R2knr)"
   ]
  },
  {
   "cell_type": "markdown",
   "id": "1fea8e01",
   "metadata": {
    "papermill": {
     "duration": 0.035954,
     "end_time": "2022-12-26T17:20:56.189862",
     "exception": false,
     "start_time": "2022-12-26T17:20:56.153908",
     "status": "completed"
    },
    "tags": []
   },
   "source": [
    "# XGBRegressor"
   ]
  },
  {
   "cell_type": "code",
   "execution_count": 28,
   "id": "abefa29b",
   "metadata": {
    "execution": {
     "iopub.execute_input": "2022-12-26T17:20:56.238105Z",
     "iopub.status.busy": "2022-12-26T17:20:56.237703Z",
     "iopub.status.idle": "2022-12-26T17:20:56.306102Z",
     "shell.execute_reply": "2022-12-26T17:20:56.304975Z"
    },
    "papermill": {
     "duration": 0.095414,
     "end_time": "2022-12-26T17:20:56.308699",
     "exception": false,
     "start_time": "2022-12-26T17:20:56.213285",
     "status": "completed"
    },
    "tags": []
   },
   "outputs": [
    {
     "name": "stdout",
     "output_type": "stream",
     "text": [
      "[09:51:25] WARNING: C:\\buildkite-agent\\builds\\buildkite-windows-cpu-autoscaling-group-i-07593ffd91cd9da33-1\\xgboost\\xgboost-ci-windows\\src\\objective\\regression_obj.cu:213: reg:linear is now deprecated in favor of reg:squarederror.\n",
      "MSE through XGB :  0.006668\n",
      "r-squre through XGB : 0.7803255374455028\n"
     ]
    }
   ],
   "source": [
    "xgb_r = xgb.XGBRegressor(objective ='reg:linear',\n",
    "                  n_estimators = 10, seed = 123)\n",
    " \n",
    "# Fitting the model\n",
    "xgb_r.fit(X, y)\n",
    " \n",
    "# Predict the model\n",
    "pred = xgb_r.predict(X)\n",
    " \n",
    "#MSE Computation\n",
    "xgbmse = mean_squared_error(y, pred)\n",
    "xgbrsqure = r2_score(y, pred)\n",
    "print(\"MSE through XGB : % f\" %(xgbmse))\n",
    "print(\"r-squre through XGB :\" ,(xgbrsqure))"
   ]
  },
  {
   "cell_type": "markdown",
   "id": "eeb8b4e3",
   "metadata": {
    "papermill": {
     "duration": 0.023085,
     "end_time": "2022-12-26T17:20:56.356807",
     "exception": false,
     "start_time": "2022-12-26T17:20:56.333722",
     "status": "completed"
    },
    "tags": []
   },
   "source": [
    "# LGBM Regressor"
   ]
  },
  {
   "cell_type": "code",
   "execution_count": 29,
   "id": "61abbe69",
   "metadata": {
    "execution": {
     "iopub.execute_input": "2022-12-26T17:20:56.405877Z",
     "iopub.status.busy": "2022-12-26T17:20:56.405464Z",
     "iopub.status.idle": "2022-12-26T17:20:56.485082Z",
     "shell.execute_reply": "2022-12-26T17:20:56.482958Z"
    },
    "papermill": {
     "duration": 0.108336,
     "end_time": "2022-12-26T17:20:56.488465",
     "exception": false,
     "start_time": "2022-12-26T17:20:56.380129",
     "status": "completed"
    },
    "tags": []
   },
   "outputs": [
    {
     "name": "stdout",
     "output_type": "stream",
     "text": [
      "[LightGBM] [Warning] Unknown parameter: learnnig_rage\n",
      "[1]\tvalid_0's l1: 0.127922\tvalid_0's l2: 0.0282535\n",
      "Training until validation scores don't improve for 30 rounds\n",
      "[2]\tvalid_0's l1: 0.122034\tvalid_0's l2: 0.0263989\n",
      "[3]\tvalid_0's l1: 0.117153\tvalid_0's l2: 0.024942\n",
      "[4]\tvalid_0's l1: 0.112736\tvalid_0's l2: 0.0235107\n",
      "[5]\tvalid_0's l1: 0.108789\tvalid_0's l2: 0.0222592\n",
      "[6]\tvalid_0's l1: 0.105522\tvalid_0's l2: 0.0212824\n",
      "[7]\tvalid_0's l1: 0.102278\tvalid_0's l2: 0.0204109\n",
      "[8]\tvalid_0's l1: 0.0984187\tvalid_0's l2: 0.0192975\n",
      "[9]\tvalid_0's l1: 0.0963369\tvalid_0's l2: 0.0186523\n",
      "[10]\tvalid_0's l1: 0.0934049\tvalid_0's l2: 0.0178066\n",
      "[11]\tvalid_0's l1: 0.0917797\tvalid_0's l2: 0.0173144\n",
      "[12]\tvalid_0's l1: 0.0893338\tvalid_0's l2: 0.016696\n",
      "[13]\tvalid_0's l1: 0.0871029\tvalid_0's l2: 0.0161097\n",
      "[14]\tvalid_0's l1: 0.0852937\tvalid_0's l2: 0.0156372\n",
      "[15]\tvalid_0's l1: 0.0838521\tvalid_0's l2: 0.0152506\n",
      "[16]\tvalid_0's l1: 0.0826386\tvalid_0's l2: 0.0149532\n",
      "[17]\tvalid_0's l1: 0.0817139\tvalid_0's l2: 0.0146534\n",
      "[18]\tvalid_0's l1: 0.0804483\tvalid_0's l2: 0.0143344\n",
      "[19]\tvalid_0's l1: 0.0794334\tvalid_0's l2: 0.0140905\n",
      "[20]\tvalid_0's l1: 0.0786399\tvalid_0's l2: 0.0139086\n",
      "[21]\tvalid_0's l1: 0.0779225\tvalid_0's l2: 0.0136676\n",
      "[22]\tvalid_0's l1: 0.0769792\tvalid_0's l2: 0.0134489\n",
      "[23]\tvalid_0's l1: 0.0764284\tvalid_0's l2: 0.0133068\n",
      "[24]\tvalid_0's l1: 0.0758219\tvalid_0's l2: 0.0131507\n",
      "[25]\tvalid_0's l1: 0.0752273\tvalid_0's l2: 0.0129856\n",
      "[26]\tvalid_0's l1: 0.0747708\tvalid_0's l2: 0.0128209\n",
      "[27]\tvalid_0's l1: 0.0741312\tvalid_0's l2: 0.0126419\n",
      "[28]\tvalid_0's l1: 0.0738352\tvalid_0's l2: 0.0125336\n",
      "[29]\tvalid_0's l1: 0.0733668\tvalid_0's l2: 0.012417\n",
      "[30]\tvalid_0's l1: 0.0729924\tvalid_0's l2: 0.0122762\n",
      "[31]\tvalid_0's l1: 0.0726668\tvalid_0's l2: 0.0121538\n",
      "[32]\tvalid_0's l1: 0.0723738\tvalid_0's l2: 0.0120562\n",
      "[33]\tvalid_0's l1: 0.0719216\tvalid_0's l2: 0.0119546\n",
      "[34]\tvalid_0's l1: 0.0716618\tvalid_0's l2: 0.0118727\n",
      "[35]\tvalid_0's l1: 0.0713963\tvalid_0's l2: 0.0117974\n",
      "[36]\tvalid_0's l1: 0.0710706\tvalid_0's l2: 0.0117122\n",
      "[37]\tvalid_0's l1: 0.0708339\tvalid_0's l2: 0.0116444\n",
      "[38]\tvalid_0's l1: 0.0705379\tvalid_0's l2: 0.0115715\n",
      "[39]\tvalid_0's l1: 0.0703262\tvalid_0's l2: 0.0114964\n",
      "[40]\tvalid_0's l1: 0.07008\tvalid_0's l2: 0.0114428\n",
      "[41]\tvalid_0's l1: 0.0699385\tvalid_0's l2: 0.0113995\n",
      "[42]\tvalid_0's l1: 0.0697425\tvalid_0's l2: 0.0113245\n",
      "[43]\tvalid_0's l1: 0.0694083\tvalid_0's l2: 0.011257\n",
      "[44]\tvalid_0's l1: 0.069251\tvalid_0's l2: 0.0111967\n",
      "[45]\tvalid_0's l1: 0.0690256\tvalid_0's l2: 0.0111148\n",
      "[46]\tvalid_0's l1: 0.068878\tvalid_0's l2: 0.0110649\n",
      "[47]\tvalid_0's l1: 0.068629\tvalid_0's l2: 0.0110105\n",
      "[48]\tvalid_0's l1: 0.0684576\tvalid_0's l2: 0.0109605\n",
      "[49]\tvalid_0's l1: 0.068248\tvalid_0's l2: 0.0109078\n",
      "[50]\tvalid_0's l1: 0.0680024\tvalid_0's l2: 0.0108614\n",
      "[51]\tvalid_0's l1: 0.067712\tvalid_0's l2: 0.0107994\n",
      "[52]\tvalid_0's l1: 0.0676769\tvalid_0's l2: 0.0107582\n",
      "[53]\tvalid_0's l1: 0.0675214\tvalid_0's l2: 0.0107141\n",
      "[54]\tvalid_0's l1: 0.0673318\tvalid_0's l2: 0.0106693\n",
      "[55]\tvalid_0's l1: 0.0671858\tvalid_0's l2: 0.0106222\n",
      "[56]\tvalid_0's l1: 0.0669861\tvalid_0's l2: 0.0105766\n",
      "[57]\tvalid_0's l1: 0.0668614\tvalid_0's l2: 0.0105403\n",
      "[58]\tvalid_0's l1: 0.0667285\tvalid_0's l2: 0.0105071\n",
      "[59]\tvalid_0's l1: 0.0664183\tvalid_0's l2: 0.0104184\n",
      "[60]\tvalid_0's l1: 0.0662793\tvalid_0's l2: 0.0103788\n",
      "[61]\tvalid_0's l1: 0.0660846\tvalid_0's l2: 0.0103333\n",
      "[62]\tvalid_0's l1: 0.065893\tvalid_0's l2: 0.01028\n",
      "[63]\tvalid_0's l1: 0.0657202\tvalid_0's l2: 0.0102092\n",
      "[64]\tvalid_0's l1: 0.065631\tvalid_0's l2: 0.0101672\n",
      "[65]\tvalid_0's l1: 0.0654922\tvalid_0's l2: 0.010139\n",
      "[66]\tvalid_0's l1: 0.0653181\tvalid_0's l2: 0.0101007\n",
      "[67]\tvalid_0's l1: 0.0651873\tvalid_0's l2: 0.0100674\n",
      "[68]\tvalid_0's l1: 0.0651026\tvalid_0's l2: 0.0100445\n",
      "[69]\tvalid_0's l1: 0.0649754\tvalid_0's l2: 0.00999362\n",
      "[70]\tvalid_0's l1: 0.0648611\tvalid_0's l2: 0.00995702\n",
      "[71]\tvalid_0's l1: 0.0647331\tvalid_0's l2: 0.00992882\n",
      "[72]\tvalid_0's l1: 0.0645718\tvalid_0's l2: 0.00988832\n",
      "[73]\tvalid_0's l1: 0.0643641\tvalid_0's l2: 0.00984264\n",
      "[74]\tvalid_0's l1: 0.0642207\tvalid_0's l2: 0.00982355\n",
      "[75]\tvalid_0's l1: 0.0640232\tvalid_0's l2: 0.00975637\n",
      "[76]\tvalid_0's l1: 0.0639335\tvalid_0's l2: 0.00972585\n",
      "[77]\tvalid_0's l1: 0.0637073\tvalid_0's l2: 0.00967353\n",
      "[78]\tvalid_0's l1: 0.0636248\tvalid_0's l2: 0.00965101\n",
      "[79]\tvalid_0's l1: 0.0634844\tvalid_0's l2: 0.00961413\n",
      "[80]\tvalid_0's l1: 0.0633548\tvalid_0's l2: 0.00956998\n",
      "[81]\tvalid_0's l1: 0.0631729\tvalid_0's l2: 0.00950656\n",
      "[82]\tvalid_0's l1: 0.0630723\tvalid_0's l2: 0.00946087\n",
      "[83]\tvalid_0's l1: 0.0629359\tvalid_0's l2: 0.00942057\n",
      "[84]\tvalid_0's l1: 0.0628351\tvalid_0's l2: 0.00939159\n",
      "[85]\tvalid_0's l1: 0.062665\tvalid_0's l2: 0.00937074\n",
      "[86]\tvalid_0's l1: 0.0625893\tvalid_0's l2: 0.00933539\n",
      "[87]\tvalid_0's l1: 0.0624909\tvalid_0's l2: 0.00930989\n",
      "[88]\tvalid_0's l1: 0.0623823\tvalid_0's l2: 0.009274\n",
      "[89]\tvalid_0's l1: 0.0622296\tvalid_0's l2: 0.00924687\n",
      "[90]\tvalid_0's l1: 0.0620912\tvalid_0's l2: 0.00920505\n",
      "[91]\tvalid_0's l1: 0.061998\tvalid_0's l2: 0.0091842\n",
      "[92]\tvalid_0's l1: 0.0619285\tvalid_0's l2: 0.00916711\n",
      "[93]\tvalid_0's l1: 0.0618625\tvalid_0's l2: 0.00913154\n",
      "[94]\tvalid_0's l1: 0.0617745\tvalid_0's l2: 0.00910153\n",
      "[95]\tvalid_0's l1: 0.0617235\tvalid_0's l2: 0.0090744\n",
      "[96]\tvalid_0's l1: 0.0615711\tvalid_0's l2: 0.00905585\n",
      "[97]\tvalid_0's l1: 0.0614181\tvalid_0's l2: 0.00902208\n",
      "[98]\tvalid_0's l1: 0.0613345\tvalid_0's l2: 0.00899853\n",
      "[99]\tvalid_0's l1: 0.0612714\tvalid_0's l2: 0.0089744\n",
      "[100]\tvalid_0's l1: 0.0611613\tvalid_0's l2: 0.00894486\n",
      "Did not meet early stopping. Best iteration is:\n",
      "[100]\tvalid_0's l1: 0.0611613\tvalid_0's l2: 0.00894486\n"
     ]
    }
   ],
   "source": [
    "# laoding data\n",
    "lgb_train = lgb.Dataset(X, y)\n",
    "lgb_eval = lgb.Dataset(X, y, reference=lgb_train) \n",
    "params = {\n",
    "    'task': 'train', \n",
    "    'boosting': 'gbdt',\n",
    "    'objective': 'regression',\n",
    "    'num_leaves': 10,\n",
    "    'learnnig_rage': 0.05,\n",
    "    'metric': {'l2','l1'},\n",
    "    'verbose': -1\n",
    "} \n",
    "model = lgb.train(params,\n",
    "                 train_set=lgb_train,\n",
    "                 valid_sets=lgb_eval,\n",
    "                 early_stopping_rounds=30)"
   ]
  },
  {
   "cell_type": "code",
   "execution_count": 30,
   "id": "4e044964",
   "metadata": {
    "execution": {
     "iopub.execute_input": "2022-12-26T17:20:56.541951Z",
     "iopub.status.busy": "2022-12-26T17:20:56.541418Z",
     "iopub.status.idle": "2022-12-26T17:20:56.557192Z",
     "shell.execute_reply": "2022-12-26T17:20:56.556223Z"
    },
    "papermill": {
     "duration": 0.045564,
     "end_time": "2022-12-26T17:20:56.559801",
     "exception": false,
     "start_time": "2022-12-26T17:20:56.514237",
     "status": "completed"
    },
    "tags": []
   },
   "outputs": [
    {
     "name": "stdout",
     "output_type": "stream",
     "text": [
      "MSE: 0.01\n",
      "RMSE: 0.09\n",
      "R Square: 0.7052952709945355\n"
     ]
    }
   ],
   "source": [
    "# prediction\n",
    "y_pred = model.predict(X)\n",
    "\n",
    "# accuracy check\n",
    "LGBmse = mean_squared_error(y, y_pred)\n",
    "LGBrmse =LGBmse**(0.5)\n",
    "LGBrsquare = r2_score(y, y_pred)\n",
    "print(\"MSE: %.2f\" % LGBmse)\n",
    "print(\"RMSE: %.2f\" % LGBrmse) \n",
    "print(\"R Square:\" , LGBrsquare)"
   ]
  },
  {
   "cell_type": "markdown",
   "id": "041bca24",
   "metadata": {
    "papermill": {
     "duration": 0.022958,
     "end_time": "2022-12-26T17:20:56.610077",
     "exception": false,
     "start_time": "2022-12-26T17:20:56.587119",
     "status": "completed"
    },
    "tags": []
   },
   "source": [
    "# Comparing models using Mean Squared Error and R Squared Error"
   ]
  },
  {
   "cell_type": "code",
   "execution_count": 31,
   "id": "381adced",
   "metadata": {
    "execution": {
     "iopub.execute_input": "2022-12-26T17:20:56.658776Z",
     "iopub.status.busy": "2022-12-26T17:20:56.658306Z",
     "iopub.status.idle": "2022-12-26T17:20:56.674529Z",
     "shell.execute_reply": "2022-12-26T17:20:56.673312Z"
    },
    "papermill": {
     "duration": 0.044013,
     "end_time": "2022-12-26T17:20:56.677396",
     "exception": false,
     "start_time": "2022-12-26T17:20:56.633383",
     "status": "completed"
    },
    "tags": []
   },
   "outputs": [
    {
     "data": {
      "text/html": [
       "<div>\n",
       "<style scoped>\n",
       "    .dataframe tbody tr th:only-of-type {\n",
       "        vertical-align: middle;\n",
       "    }\n",
       "\n",
       "    .dataframe tbody tr th {\n",
       "        vertical-align: top;\n",
       "    }\n",
       "\n",
       "    .dataframe thead th {\n",
       "        text-align: right;\n",
       "    }\n",
       "</style>\n",
       "<table border=\"1\" class=\"dataframe\">\n",
       "  <thead>\n",
       "    <tr style=\"text-align: right;\">\n",
       "      <th></th>\n",
       "      <th>Model</th>\n",
       "      <th>R2Score</th>\n",
       "      <th>Mean Square Error</th>\n",
       "    </tr>\n",
       "  </thead>\n",
       "  <tbody>\n",
       "    <tr>\n",
       "      <th>4</th>\n",
       "      <td>XgBoost</td>\n",
       "      <td>0.78</td>\n",
       "      <td>0.01</td>\n",
       "    </tr>\n",
       "    <tr>\n",
       "      <th>3</th>\n",
       "      <td>hist gradient Boosting Regressor</td>\n",
       "      <td>0.76</td>\n",
       "      <td>0.01</td>\n",
       "    </tr>\n",
       "    <tr>\n",
       "      <th>5</th>\n",
       "      <td>LGBM</td>\n",
       "      <td>0.71</td>\n",
       "      <td>0.01</td>\n",
       "    </tr>\n",
       "    <tr>\n",
       "      <th>2</th>\n",
       "      <td>Gradient Boosting Regressor</td>\n",
       "      <td>0.40</td>\n",
       "      <td>0.01</td>\n",
       "    </tr>\n",
       "    <tr>\n",
       "      <th>0</th>\n",
       "      <td>Random Forest Regressor</td>\n",
       "      <td>-0.33</td>\n",
       "      <td>0.02</td>\n",
       "    </tr>\n",
       "    <tr>\n",
       "      <th>1</th>\n",
       "      <td>Ada Boost Regressor</td>\n",
       "      <td>-0.90</td>\n",
       "      <td>0.02</td>\n",
       "    </tr>\n",
       "  </tbody>\n",
       "</table>\n",
       "</div>"
      ],
      "text/plain": [
       "                              Model  R2Score  Mean Square Error\n",
       "4                           XgBoost     0.78               0.01\n",
       "3  hist gradient Boosting Regressor     0.76               0.01\n",
       "5                              LGBM     0.71               0.01\n",
       "2       Gradient Boosting Regressor     0.40               0.01\n",
       "0           Random Forest Regressor    -0.33               0.02\n",
       "1               Ada Boost Regressor    -0.90               0.02"
      ]
     },
     "execution_count": 31,
     "metadata": {},
     "output_type": "execute_result"
    }
   ],
   "source": [
    "models = pd.DataFrame({\n",
    "    'Model' : [ 'Random Forest Regressor','Ada Boost Regressor','Gradient Boosting Regressor','hist gradient Boosting Regressor', 'XgBoost','LGBM'],\n",
    "    'R2Score' : [R2knr, R2ada, R2Gr, R2HGr, xgbrsqure, LGBrsquare],\n",
    "    \"Mean Square Error\":[MSEknr,MSEada,MSEGr,MSEHGr,xgbmse,LGBmse]\n",
    "})\n",
    "\n",
    "\n",
    "models.sort_values(by = 'R2Score', ascending = False)"
   ]
  },
  {
   "cell_type": "code",
   "execution_count": 32,
   "id": "baa8d6f6",
   "metadata": {
    "execution": {
     "iopub.execute_input": "2022-12-26T17:20:56.731013Z",
     "iopub.status.busy": "2022-12-26T17:20:56.730198Z",
     "iopub.status.idle": "2022-12-26T17:20:58.647693Z",
     "shell.execute_reply": "2022-12-26T17:20:58.646415Z"
    },
    "papermill": {
     "duration": 1.947356,
     "end_time": "2022-12-26T17:20:58.650298",
     "exception": false,
     "start_time": "2022-12-26T17:20:56.702942",
     "status": "completed"
    },
    "tags": []
   },
   "outputs": [
    {
     "data": {
      "application/vnd.plotly.v1+json": {
       "config": {
        "plotlyServerURL": "https://plot.ly"
       },
       "data": [
        {
         "alignmentgroup": "True",
         "hovertemplate": "R2Score=%{x}<br>Model=%{y}<br>Mean Square Error=%{marker.color}<extra></extra>",
         "legendgroup": "",
         "marker": {
          "color": [
           0.016849722870148895,
           0.017702745336277317,
           0.009968464773837726,
           0.005142214241329054,
           0.00666754861424312,
           0.008944863616105624
          ],
          "coloraxis": "coloraxis",
          "pattern": {
           "shape": ""
          }
         },
         "name": "",
         "offsetgroup": "",
         "orientation": "h",
         "showlegend": false,
         "textposition": "auto",
         "type": "bar",
         "x": [
          -0.33338838704006135,
          -0.9013303124771135,
          0.40081288774684987,
          0.7550591906283303,
          0.7803255374455028,
          0.7052952709945355
         ],
         "xaxis": "x",
         "y": [
          "Random Forest Regressor",
          "Ada Boost Regressor",
          "Gradient Boosting Regressor",
          "hist gradient Boosting Regressor",
          "XgBoost",
          "LGBM"
         ],
         "yaxis": "y"
        }
       ],
       "layout": {
        "barmode": "relative",
        "coloraxis": {
         "colorbar": {
          "title": {
           "text": "Mean Square Error"
          }
         },
         "colorscale": [
          [
           0,
           "#0d0887"
          ],
          [
           0.1111111111111111,
           "#46039f"
          ],
          [
           0.2222222222222222,
           "#7201a8"
          ],
          [
           0.3333333333333333,
           "#9c179e"
          ],
          [
           0.4444444444444444,
           "#bd3786"
          ],
          [
           0.5555555555555556,
           "#d8576b"
          ],
          [
           0.6666666666666666,
           "#ed7953"
          ],
          [
           0.7777777777777778,
           "#fb9f3a"
          ],
          [
           0.8888888888888888,
           "#fdca26"
          ],
          [
           1,
           "#f0f921"
          ]
         ]
        },
        "legend": {
         "tracegroupgap": 0
        },
        "template": {
         "data": {
          "bar": [
           {
            "error_x": {
             "color": "#f2f5fa"
            },
            "error_y": {
             "color": "#f2f5fa"
            },
            "marker": {
             "line": {
              "color": "rgb(17,17,17)",
              "width": 0.5
             },
             "pattern": {
              "fillmode": "overlay",
              "size": 10,
              "solidity": 0.2
             }
            },
            "type": "bar"
           }
          ],
          "barpolar": [
           {
            "marker": {
             "line": {
              "color": "rgb(17,17,17)",
              "width": 0.5
             },
             "pattern": {
              "fillmode": "overlay",
              "size": 10,
              "solidity": 0.2
             }
            },
            "type": "barpolar"
           }
          ],
          "carpet": [
           {
            "aaxis": {
             "endlinecolor": "#A2B1C6",
             "gridcolor": "#506784",
             "linecolor": "#506784",
             "minorgridcolor": "#506784",
             "startlinecolor": "#A2B1C6"
            },
            "baxis": {
             "endlinecolor": "#A2B1C6",
             "gridcolor": "#506784",
             "linecolor": "#506784",
             "minorgridcolor": "#506784",
             "startlinecolor": "#A2B1C6"
            },
            "type": "carpet"
           }
          ],
          "choropleth": [
           {
            "colorbar": {
             "outlinewidth": 0,
             "ticks": ""
            },
            "type": "choropleth"
           }
          ],
          "contour": [
           {
            "colorbar": {
             "outlinewidth": 0,
             "ticks": ""
            },
            "colorscale": [
             [
              0,
              "#0d0887"
             ],
             [
              0.1111111111111111,
              "#46039f"
             ],
             [
              0.2222222222222222,
              "#7201a8"
             ],
             [
              0.3333333333333333,
              "#9c179e"
             ],
             [
              0.4444444444444444,
              "#bd3786"
             ],
             [
              0.5555555555555556,
              "#d8576b"
             ],
             [
              0.6666666666666666,
              "#ed7953"
             ],
             [
              0.7777777777777778,
              "#fb9f3a"
             ],
             [
              0.8888888888888888,
              "#fdca26"
             ],
             [
              1,
              "#f0f921"
             ]
            ],
            "type": "contour"
           }
          ],
          "contourcarpet": [
           {
            "colorbar": {
             "outlinewidth": 0,
             "ticks": ""
            },
            "type": "contourcarpet"
           }
          ],
          "heatmap": [
           {
            "colorbar": {
             "outlinewidth": 0,
             "ticks": ""
            },
            "colorscale": [
             [
              0,
              "#0d0887"
             ],
             [
              0.1111111111111111,
              "#46039f"
             ],
             [
              0.2222222222222222,
              "#7201a8"
             ],
             [
              0.3333333333333333,
              "#9c179e"
             ],
             [
              0.4444444444444444,
              "#bd3786"
             ],
             [
              0.5555555555555556,
              "#d8576b"
             ],
             [
              0.6666666666666666,
              "#ed7953"
             ],
             [
              0.7777777777777778,
              "#fb9f3a"
             ],
             [
              0.8888888888888888,
              "#fdca26"
             ],
             [
              1,
              "#f0f921"
             ]
            ],
            "type": "heatmap"
           }
          ],
          "heatmapgl": [
           {
            "colorbar": {
             "outlinewidth": 0,
             "ticks": ""
            },
            "colorscale": [
             [
              0,
              "#0d0887"
             ],
             [
              0.1111111111111111,
              "#46039f"
             ],
             [
              0.2222222222222222,
              "#7201a8"
             ],
             [
              0.3333333333333333,
              "#9c179e"
             ],
             [
              0.4444444444444444,
              "#bd3786"
             ],
             [
              0.5555555555555556,
              "#d8576b"
             ],
             [
              0.6666666666666666,
              "#ed7953"
             ],
             [
              0.7777777777777778,
              "#fb9f3a"
             ],
             [
              0.8888888888888888,
              "#fdca26"
             ],
             [
              1,
              "#f0f921"
             ]
            ],
            "type": "heatmapgl"
           }
          ],
          "histogram": [
           {
            "marker": {
             "pattern": {
              "fillmode": "overlay",
              "size": 10,
              "solidity": 0.2
             }
            },
            "type": "histogram"
           }
          ],
          "histogram2d": [
           {
            "colorbar": {
             "outlinewidth": 0,
             "ticks": ""
            },
            "colorscale": [
             [
              0,
              "#0d0887"
             ],
             [
              0.1111111111111111,
              "#46039f"
             ],
             [
              0.2222222222222222,
              "#7201a8"
             ],
             [
              0.3333333333333333,
              "#9c179e"
             ],
             [
              0.4444444444444444,
              "#bd3786"
             ],
             [
              0.5555555555555556,
              "#d8576b"
             ],
             [
              0.6666666666666666,
              "#ed7953"
             ],
             [
              0.7777777777777778,
              "#fb9f3a"
             ],
             [
              0.8888888888888888,
              "#fdca26"
             ],
             [
              1,
              "#f0f921"
             ]
            ],
            "type": "histogram2d"
           }
          ],
          "histogram2dcontour": [
           {
            "colorbar": {
             "outlinewidth": 0,
             "ticks": ""
            },
            "colorscale": [
             [
              0,
              "#0d0887"
             ],
             [
              0.1111111111111111,
              "#46039f"
             ],
             [
              0.2222222222222222,
              "#7201a8"
             ],
             [
              0.3333333333333333,
              "#9c179e"
             ],
             [
              0.4444444444444444,
              "#bd3786"
             ],
             [
              0.5555555555555556,
              "#d8576b"
             ],
             [
              0.6666666666666666,
              "#ed7953"
             ],
             [
              0.7777777777777778,
              "#fb9f3a"
             ],
             [
              0.8888888888888888,
              "#fdca26"
             ],
             [
              1,
              "#f0f921"
             ]
            ],
            "type": "histogram2dcontour"
           }
          ],
          "mesh3d": [
           {
            "colorbar": {
             "outlinewidth": 0,
             "ticks": ""
            },
            "type": "mesh3d"
           }
          ],
          "parcoords": [
           {
            "line": {
             "colorbar": {
              "outlinewidth": 0,
              "ticks": ""
             }
            },
            "type": "parcoords"
           }
          ],
          "pie": [
           {
            "automargin": true,
            "type": "pie"
           }
          ],
          "scatter": [
           {
            "marker": {
             "line": {
              "color": "#283442"
             }
            },
            "type": "scatter"
           }
          ],
          "scatter3d": [
           {
            "line": {
             "colorbar": {
              "outlinewidth": 0,
              "ticks": ""
             }
            },
            "marker": {
             "colorbar": {
              "outlinewidth": 0,
              "ticks": ""
             }
            },
            "type": "scatter3d"
           }
          ],
          "scattercarpet": [
           {
            "marker": {
             "colorbar": {
              "outlinewidth": 0,
              "ticks": ""
             }
            },
            "type": "scattercarpet"
           }
          ],
          "scattergeo": [
           {
            "marker": {
             "colorbar": {
              "outlinewidth": 0,
              "ticks": ""
             }
            },
            "type": "scattergeo"
           }
          ],
          "scattergl": [
           {
            "marker": {
             "line": {
              "color": "#283442"
             }
            },
            "type": "scattergl"
           }
          ],
          "scattermapbox": [
           {
            "marker": {
             "colorbar": {
              "outlinewidth": 0,
              "ticks": ""
             }
            },
            "type": "scattermapbox"
           }
          ],
          "scatterpolar": [
           {
            "marker": {
             "colorbar": {
              "outlinewidth": 0,
              "ticks": ""
             }
            },
            "type": "scatterpolar"
           }
          ],
          "scatterpolargl": [
           {
            "marker": {
             "colorbar": {
              "outlinewidth": 0,
              "ticks": ""
             }
            },
            "type": "scatterpolargl"
           }
          ],
          "scatterternary": [
           {
            "marker": {
             "colorbar": {
              "outlinewidth": 0,
              "ticks": ""
             }
            },
            "type": "scatterternary"
           }
          ],
          "surface": [
           {
            "colorbar": {
             "outlinewidth": 0,
             "ticks": ""
            },
            "colorscale": [
             [
              0,
              "#0d0887"
             ],
             [
              0.1111111111111111,
              "#46039f"
             ],
             [
              0.2222222222222222,
              "#7201a8"
             ],
             [
              0.3333333333333333,
              "#9c179e"
             ],
             [
              0.4444444444444444,
              "#bd3786"
             ],
             [
              0.5555555555555556,
              "#d8576b"
             ],
             [
              0.6666666666666666,
              "#ed7953"
             ],
             [
              0.7777777777777778,
              "#fb9f3a"
             ],
             [
              0.8888888888888888,
              "#fdca26"
             ],
             [
              1,
              "#f0f921"
             ]
            ],
            "type": "surface"
           }
          ],
          "table": [
           {
            "cells": {
             "fill": {
              "color": "#506784"
             },
             "line": {
              "color": "rgb(17,17,17)"
             }
            },
            "header": {
             "fill": {
              "color": "#2a3f5f"
             },
             "line": {
              "color": "rgb(17,17,17)"
             }
            },
            "type": "table"
           }
          ]
         },
         "layout": {
          "annotationdefaults": {
           "arrowcolor": "#f2f5fa",
           "arrowhead": 0,
           "arrowwidth": 1
          },
          "autotypenumbers": "strict",
          "coloraxis": {
           "colorbar": {
            "outlinewidth": 0,
            "ticks": ""
           }
          },
          "colorscale": {
           "diverging": [
            [
             0,
             "#8e0152"
            ],
            [
             0.1,
             "#c51b7d"
            ],
            [
             0.2,
             "#de77ae"
            ],
            [
             0.3,
             "#f1b6da"
            ],
            [
             0.4,
             "#fde0ef"
            ],
            [
             0.5,
             "#f7f7f7"
            ],
            [
             0.6,
             "#e6f5d0"
            ],
            [
             0.7,
             "#b8e186"
            ],
            [
             0.8,
             "#7fbc41"
            ],
            [
             0.9,
             "#4d9221"
            ],
            [
             1,
             "#276419"
            ]
           ],
           "sequential": [
            [
             0,
             "#0d0887"
            ],
            [
             0.1111111111111111,
             "#46039f"
            ],
            [
             0.2222222222222222,
             "#7201a8"
            ],
            [
             0.3333333333333333,
             "#9c179e"
            ],
            [
             0.4444444444444444,
             "#bd3786"
            ],
            [
             0.5555555555555556,
             "#d8576b"
            ],
            [
             0.6666666666666666,
             "#ed7953"
            ],
            [
             0.7777777777777778,
             "#fb9f3a"
            ],
            [
             0.8888888888888888,
             "#fdca26"
            ],
            [
             1,
             "#f0f921"
            ]
           ],
           "sequentialminus": [
            [
             0,
             "#0d0887"
            ],
            [
             0.1111111111111111,
             "#46039f"
            ],
            [
             0.2222222222222222,
             "#7201a8"
            ],
            [
             0.3333333333333333,
             "#9c179e"
            ],
            [
             0.4444444444444444,
             "#bd3786"
            ],
            [
             0.5555555555555556,
             "#d8576b"
            ],
            [
             0.6666666666666666,
             "#ed7953"
            ],
            [
             0.7777777777777778,
             "#fb9f3a"
            ],
            [
             0.8888888888888888,
             "#fdca26"
            ],
            [
             1,
             "#f0f921"
            ]
           ]
          },
          "colorway": [
           "#636efa",
           "#EF553B",
           "#00cc96",
           "#ab63fa",
           "#FFA15A",
           "#19d3f3",
           "#FF6692",
           "#B6E880",
           "#FF97FF",
           "#FECB52"
          ],
          "font": {
           "color": "#f2f5fa"
          },
          "geo": {
           "bgcolor": "rgb(17,17,17)",
           "lakecolor": "rgb(17,17,17)",
           "landcolor": "rgb(17,17,17)",
           "showlakes": true,
           "showland": true,
           "subunitcolor": "#506784"
          },
          "hoverlabel": {
           "align": "left"
          },
          "hovermode": "closest",
          "mapbox": {
           "style": "dark"
          },
          "paper_bgcolor": "rgb(17,17,17)",
          "plot_bgcolor": "rgb(17,17,17)",
          "polar": {
           "angularaxis": {
            "gridcolor": "#506784",
            "linecolor": "#506784",
            "ticks": ""
           },
           "bgcolor": "rgb(17,17,17)",
           "radialaxis": {
            "gridcolor": "#506784",
            "linecolor": "#506784",
            "ticks": ""
           }
          },
          "scene": {
           "xaxis": {
            "backgroundcolor": "rgb(17,17,17)",
            "gridcolor": "#506784",
            "gridwidth": 2,
            "linecolor": "#506784",
            "showbackground": true,
            "ticks": "",
            "zerolinecolor": "#C8D4E3"
           },
           "yaxis": {
            "backgroundcolor": "rgb(17,17,17)",
            "gridcolor": "#506784",
            "gridwidth": 2,
            "linecolor": "#506784",
            "showbackground": true,
            "ticks": "",
            "zerolinecolor": "#C8D4E3"
           },
           "zaxis": {
            "backgroundcolor": "rgb(17,17,17)",
            "gridcolor": "#506784",
            "gridwidth": 2,
            "linecolor": "#506784",
            "showbackground": true,
            "ticks": "",
            "zerolinecolor": "#C8D4E3"
           }
          },
          "shapedefaults": {
           "line": {
            "color": "#f2f5fa"
           }
          },
          "sliderdefaults": {
           "bgcolor": "#C8D4E3",
           "bordercolor": "rgb(17,17,17)",
           "borderwidth": 1,
           "tickwidth": 0
          },
          "ternary": {
           "aaxis": {
            "gridcolor": "#506784",
            "linecolor": "#506784",
            "ticks": ""
           },
           "baxis": {
            "gridcolor": "#506784",
            "linecolor": "#506784",
            "ticks": ""
           },
           "bgcolor": "rgb(17,17,17)",
           "caxis": {
            "gridcolor": "#506784",
            "linecolor": "#506784",
            "ticks": ""
           }
          },
          "title": {
           "x": 0.05
          },
          "updatemenudefaults": {
           "bgcolor": "#506784",
           "borderwidth": 0
          },
          "xaxis": {
           "automargin": true,
           "gridcolor": "#283442",
           "linecolor": "#506784",
           "ticks": "",
           "title": {
            "standoff": 15
           },
           "zerolinecolor": "#283442",
           "zerolinewidth": 2
          },
          "yaxis": {
           "automargin": true,
           "gridcolor": "#283442",
           "linecolor": "#506784",
           "ticks": "",
           "title": {
            "standoff": 15
           },
           "zerolinecolor": "#283442",
           "zerolinewidth": 2
          }
         }
        },
        "title": {
         "text": "Models Comparison"
        },
        "xaxis": {
         "anchor": "y",
         "domain": [
          0,
          1
         ],
         "title": {
          "text": "R2Score"
         }
        },
        "yaxis": {
         "anchor": "x",
         "domain": [
          0,
          1
         ],
         "title": {
          "text": "Model"
         }
        }
       }
      }
     },
     "metadata": {},
     "output_type": "display_data"
    }
   ],
   "source": [
    "import plotly.express as px\n",
    "px.bar(data_frame= models, x = 'R2Score', y = 'Model', color = 'Mean Square Error', template = 'plotly_dark', title = 'Models Comparison')"
   ]
  },
  {
   "cell_type": "markdown",
   "id": "d8b36751",
   "metadata": {
    "papermill": {
     "duration": 0.023135,
     "end_time": "2022-12-26T17:20:58.697928",
     "exception": false,
     "start_time": "2022-12-26T17:20:58.674793",
     "status": "completed"
    },
    "tags": []
   },
   "source": [
    "XGBoost was found to be the most efficient of all the other models we explored so far. Hist gradient boosting regressor > LGBM > Gradient boosting model."
   ]
  },
  {
   "cell_type": "code",
   "execution_count": 33,
   "id": "449eca37",
   "metadata": {},
   "outputs": [
    {
     "data": {
      "text/plain": [
       "['xgb_r.pkl']"
      ]
     },
     "execution_count": 33,
     "metadata": {},
     "output_type": "execute_result"
    }
   ],
   "source": [
    "import joblib\n",
    "\n",
    "joblib.dump(Gr, 'Gr.pkl')\n",
    "joblib.dump(Hgr, 'Hgr.pkl')\n",
    "joblib.dump(Ada, 'Ada.pkl')\n",
    "joblib.dump(knr, 'knr.pkl')\n",
    "joblib.dump(xgb_r, 'xgb_r.pkl')\n"
   ]
  },
  {
   "cell_type": "code",
   "execution_count": 34,
   "id": "40c4dded",
   "metadata": {},
   "outputs": [],
   "source": [
    "def load_xgb_model():\n",
    "    xgb_r = joblib.load('xgb_r.pkl')\n",
    "    return xgb_r"
   ]
  },
  {
   "cell_type": "code",
   "execution_count": 35,
   "id": "428b2422",
   "metadata": {},
   "outputs": [
    {
     "data": {
      "text/plain": [
       "array([0.72515154, 0.5832543 , 0.80184925, ..., 0.75324637, 0.8814321 ,\n",
       "       0.8224587 ], dtype=float32)"
      ]
     },
     "execution_count": 35,
     "metadata": {},
     "output_type": "execute_result"
    }
   ],
   "source": [
    "model = load_xgb_model()\n",
    "model.predict(X)"
   ]
  },
  {
   "cell_type": "code",
   "execution_count": 38,
   "id": "1c4e43a3",
   "metadata": {},
   "outputs": [
    {
     "name": "stdout",
     "output_type": "stream",
     "text": [
      "['team', 'targeted_productivity', 'smv', 'wip', 'over_time', 'incentive', 'idle_time', 'idle_men', 'no_of_style_change', 'no_of_workers', 'month', 'quarter_Quarter1', 'quarter_Quarter2', 'quarter_Quarter3', 'quarter_Quarter4', 'quarter_Quarter5', 'department_finishing', 'department_finishing ', 'department_sweing', 'day_Monday', 'day_Saturday', 'day_Sunday', 'day_Thursday', 'day_Tuesday', 'day_Wednesday']\n"
     ]
    }
   ],
   "source": [
    "print(X_test.columns.to_list())"
   ]
  },
  {
   "cell_type": "code",
   "execution_count": 39,
   "id": "91529073",
   "metadata": {},
   "outputs": [
    {
     "data": {
      "text/plain": [
       "(204, 25)"
      ]
     },
     "execution_count": 39,
     "metadata": {},
     "output_type": "execute_result"
    }
   ],
   "source": [
    "X_test.shape"
   ]
  },
  {
   "cell_type": "code",
   "execution_count": 44,
   "id": "71a88145",
   "metadata": {},
   "outputs": [
    {
     "name": "stdout",
     "output_type": "stream",
     "text": [
      "team 1 - 12\n",
      "targeted_productivity 0.35 - 0.8\n",
      "smv 2.9 - 50.48\n",
      "wip 10.0 - 21266.0\n",
      "over_time 0 - 15120\n",
      "incentive 0 - 3600\n",
      "idle_time 0.0 - 3.5\n",
      "idle_men 0 - 15\n",
      "no_of_style_change 0 - 2\n",
      "no_of_workers 2.0 - 59.5\n",
      "month 1 - 3\n",
      "quarter_Quarter1 0 - 1\n",
      "quarter_Quarter2 0 - 1\n",
      "quarter_Quarter3 0 - 1\n",
      "quarter_Quarter4 0 - 1\n",
      "quarter_Quarter5 0 - 1\n",
      "department_finishing 0 - 1\n",
      "department_finishing  0 - 1\n",
      "department_sweing 0 - 1\n",
      "day_Monday 0 - 1\n",
      "day_Saturday 0 - 1\n",
      "day_Sunday 0 - 1\n",
      "day_Thursday 0 - 1\n",
      "day_Tuesday 0 - 1\n",
      "day_Wednesday 0 - 1\n"
     ]
    }
   ],
   "source": [
    "import numpy as np\n",
    "for i in X_test.select_dtypes(include = np.number).columns.to_list():\n",
    "    print(i, f'{X_test[i].min()} - {X_test[i].max()}')"
   ]
  },
  {
   "cell_type": "code",
   "execution_count": 45,
   "id": "008adf98",
   "metadata": {},
   "outputs": [],
   "source": [
    "for i in X_test.select_dtypes(include = 'object').columns.to_list():\n",
    "    print(i, f'{X_test[i].unique()}')"
   ]
  },
  {
   "cell_type": "code",
   "execution_count": null,
   "id": "ac9fda3d",
   "metadata": {},
   "outputs": [],
   "source": []
  }
 ],
 "metadata": {
  "kernelspec": {
   "display_name": "Python 3",
   "language": "python",
   "name": "python3"
  },
  "language_info": {
   "codemirror_mode": {
    "name": "ipython",
    "version": 3
   },
   "file_extension": ".py",
   "mimetype": "text/x-python",
   "name": "python",
   "nbconvert_exporter": "python",
   "pygments_lexer": "ipython3",
   "version": "3.10.8"
  },
  "papermill": {
   "default_parameters": {},
   "duration": 59.014167,
   "end_time": "2022-12-26T17:20:59.847627",
   "environment_variables": {},
   "exception": null,
   "input_path": "__notebook__.ipynb",
   "output_path": "__notebook__.ipynb",
   "parameters": {},
   "start_time": "2022-12-26T17:20:00.833460",
   "version": "2.3.4"
  }
 },
 "nbformat": 4,
 "nbformat_minor": 5
}
